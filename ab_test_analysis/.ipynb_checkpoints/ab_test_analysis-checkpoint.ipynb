{
 "cells": [
  {
   "cell_type": "markdown",
   "id": "74faebbb",
   "metadata": {},
   "source": [
    "# Проверка гипотез по увеличению выручки в интернет-магазине: оценка результатов A/B-теста"
   ]
  },
  {
   "cell_type": "markdown",
   "id": "30669727",
   "metadata": {},
   "source": [
    "# Импорт библиотек"
   ]
  },
  {
   "cell_type": "code",
   "execution_count": 1,
   "id": "306cdd29",
   "metadata": {},
   "outputs": [],
   "source": [
    "# импортируем библиотеки, которые понадобятся для обеих частей проекта\n",
    "import pandas as pd\n",
    "from scipy import stats as st\n",
    "import numpy as np\n",
    "from matplotlib import pyplot as plt\n",
    "import datetime as dt"
   ]
  },
  {
   "cell_type": "markdown",
   "id": "b940329a",
   "metadata": {},
   "source": [
    "# Приоретизация гипотез"
   ]
  },
  {
   "cell_type": "code",
   "execution_count": 2,
   "id": "56145178",
   "metadata": {},
   "outputs": [],
   "source": [
    "# получаем датафрейм из csv-файла\n",
    "hypothesis = pd.read_csv('/datasets/hypothesis.csv')"
   ]
  },
  {
   "cell_type": "code",
   "execution_count": 3,
   "id": "4bf995b7",
   "metadata": {
    "scrolled": true
   },
   "outputs": [],
   "source": [
    "# приводим названия колонок к нижнему регистру\n",
    "hypothesis.columns = hypothesis.columns.str.lower()"
   ]
  },
  {
   "cell_type": "code",
   "execution_count": 4,
   "id": "4a896793",
   "metadata": {
    "scrolled": true
   },
   "outputs": [
    {
     "name": "stdout",
     "output_type": "stream",
     "text": [
      "<class 'pandas.core.frame.DataFrame'>\n",
      "RangeIndex: 9 entries, 0 to 8\n",
      "Data columns (total 5 columns):\n",
      " #   Column      Non-Null Count  Dtype \n",
      "---  ------      --------------  ----- \n",
      " 0   hypothesis  9 non-null      object\n",
      " 1   reach       9 non-null      int64 \n",
      " 2   impact      9 non-null      int64 \n",
      " 3   confidence  9 non-null      int64 \n",
      " 4   efforts     9 non-null      int64 \n",
      "dtypes: int64(4), object(1)\n",
      "memory usage: 488.0+ bytes\n"
     ]
    }
   ],
   "source": [
    "hypothesis.info()"
   ]
  },
  {
   "cell_type": "code",
   "execution_count": 5,
   "id": "29090023",
   "metadata": {},
   "outputs": [],
   "source": [
    "# проводим приоретизацию гипотез по ICE и RICE\n",
    "hypothesis['ice'] = hypothesis['impact'] * hypothesis['confidence'] / hypothesis['efforts']\n",
    "hypothesis['rice'] = hypothesis['reach'] * hypothesis['impact'] * hypothesis['confidence'] / hypothesis['efforts']\n",
    "# сортируем гипотезы по убыванию приоритетности по оценке ICE и RICE\n",
    "hypothesis_ice = hypothesis[['hypothesis', 'ice']].sort_values(by='ice', ascending=False)\n",
    "hypothesis_rice = hypothesis[['hypothesis', 'rice']].sort_values(by='rice', ascending=False)\n",
    "pd.options.display.max_colwidth = 210"
   ]
  },
  {
   "cell_type": "code",
   "execution_count": 6,
   "id": "eec3bb65",
   "metadata": {
    "scrolled": true
   },
   "outputs": [
    {
     "data": {
      "text/html": [
       "<div>\n",
       "<style scoped>\n",
       "    .dataframe tbody tr th:only-of-type {\n",
       "        vertical-align: middle;\n",
       "    }\n",
       "\n",
       "    .dataframe tbody tr th {\n",
       "        vertical-align: top;\n",
       "    }\n",
       "\n",
       "    .dataframe thead th {\n",
       "        text-align: right;\n",
       "    }\n",
       "</style>\n",
       "<table border=\"1\" class=\"dataframe\">\n",
       "  <thead>\n",
       "    <tr style=\"text-align: right;\">\n",
       "      <th></th>\n",
       "      <th>hypothesis</th>\n",
       "      <th>ice</th>\n",
       "    </tr>\n",
       "  </thead>\n",
       "  <tbody>\n",
       "    <tr>\n",
       "      <th>8</th>\n",
       "      <td>Запустить акцию, дающую скидку на товар в день рождения</td>\n",
       "      <td>16.200000</td>\n",
       "    </tr>\n",
       "    <tr>\n",
       "      <th>0</th>\n",
       "      <td>Добавить два новых канала привлечения трафика, что позволит привлекать на 30% больше пользователей</td>\n",
       "      <td>13.333333</td>\n",
       "    </tr>\n",
       "    <tr>\n",
       "      <th>7</th>\n",
       "      <td>Добавить форму подписки на все основные страницы, чтобы собрать базу клиентов для email-рассылок</td>\n",
       "      <td>11.200000</td>\n",
       "    </tr>\n",
       "    <tr>\n",
       "      <th>6</th>\n",
       "      <td>Показать на главной странице баннеры с актуальными акциями и распродажами, чтобы увеличить конверсию</td>\n",
       "      <td>8.000000</td>\n",
       "    </tr>\n",
       "    <tr>\n",
       "      <th>2</th>\n",
       "      <td>Добавить блоки рекомендаций товаров на сайт интернет магазина, чтобы повысить конверсию и средний чек заказа</td>\n",
       "      <td>7.000000</td>\n",
       "    </tr>\n",
       "    <tr>\n",
       "      <th>1</th>\n",
       "      <td>Запустить собственную службу доставки, что сократит срок доставки заказов</td>\n",
       "      <td>2.000000</td>\n",
       "    </tr>\n",
       "    <tr>\n",
       "      <th>5</th>\n",
       "      <td>Добавить страницу отзывов клиентов о магазине, что позволит увеличить количество заказов</td>\n",
       "      <td>1.333333</td>\n",
       "    </tr>\n",
       "    <tr>\n",
       "      <th>3</th>\n",
       "      <td>Изменить структура категорий, что увеличит конверсию, т.к. пользователи быстрее найдут нужный товар</td>\n",
       "      <td>1.125000</td>\n",
       "    </tr>\n",
       "    <tr>\n",
       "      <th>4</th>\n",
       "      <td>Изменить цвет фона главной страницы, чтобы увеличить вовлеченность пользователей</td>\n",
       "      <td>1.000000</td>\n",
       "    </tr>\n",
       "  </tbody>\n",
       "</table>\n",
       "</div>"
      ],
      "text/plain": [
       "                                                                                                     hypothesis  \\\n",
       "8                                                       Запустить акцию, дающую скидку на товар в день рождения   \n",
       "0            Добавить два новых канала привлечения трафика, что позволит привлекать на 30% больше пользователей   \n",
       "7              Добавить форму подписки на все основные страницы, чтобы собрать базу клиентов для email-рассылок   \n",
       "6          Показать на главной странице баннеры с актуальными акциями и распродажами, чтобы увеличить конверсию   \n",
       "2  Добавить блоки рекомендаций товаров на сайт интернет магазина, чтобы повысить конверсию и средний чек заказа   \n",
       "1                                     Запустить собственную службу доставки, что сократит срок доставки заказов   \n",
       "5                      Добавить страницу отзывов клиентов о магазине, что позволит увеличить количество заказов   \n",
       "3           Изменить структура категорий, что увеличит конверсию, т.к. пользователи быстрее найдут нужный товар   \n",
       "4                              Изменить цвет фона главной страницы, чтобы увеличить вовлеченность пользователей   \n",
       "\n",
       "         ice  \n",
       "8  16.200000  \n",
       "0  13.333333  \n",
       "7  11.200000  \n",
       "6   8.000000  \n",
       "2   7.000000  \n",
       "1   2.000000  \n",
       "5   1.333333  \n",
       "3   1.125000  \n",
       "4   1.000000  "
      ]
     },
     "execution_count": 6,
     "metadata": {},
     "output_type": "execute_result"
    }
   ],
   "source": [
    "hypothesis_ice"
   ]
  },
  {
   "cell_type": "code",
   "execution_count": 7,
   "id": "a4a9ecc7",
   "metadata": {
    "scrolled": true
   },
   "outputs": [
    {
     "data": {
      "text/html": [
       "<div>\n",
       "<style scoped>\n",
       "    .dataframe tbody tr th:only-of-type {\n",
       "        vertical-align: middle;\n",
       "    }\n",
       "\n",
       "    .dataframe tbody tr th {\n",
       "        vertical-align: top;\n",
       "    }\n",
       "\n",
       "    .dataframe thead th {\n",
       "        text-align: right;\n",
       "    }\n",
       "</style>\n",
       "<table border=\"1\" class=\"dataframe\">\n",
       "  <thead>\n",
       "    <tr style=\"text-align: right;\">\n",
       "      <th></th>\n",
       "      <th>hypothesis</th>\n",
       "      <th>rice</th>\n",
       "    </tr>\n",
       "  </thead>\n",
       "  <tbody>\n",
       "    <tr>\n",
       "      <th>7</th>\n",
       "      <td>Добавить форму подписки на все основные страницы, чтобы собрать базу клиентов для email-рассылок</td>\n",
       "      <td>112.0</td>\n",
       "    </tr>\n",
       "    <tr>\n",
       "      <th>2</th>\n",
       "      <td>Добавить блоки рекомендаций товаров на сайт интернет магазина, чтобы повысить конверсию и средний чек заказа</td>\n",
       "      <td>56.0</td>\n",
       "    </tr>\n",
       "    <tr>\n",
       "      <th>0</th>\n",
       "      <td>Добавить два новых канала привлечения трафика, что позволит привлекать на 30% больше пользователей</td>\n",
       "      <td>40.0</td>\n",
       "    </tr>\n",
       "    <tr>\n",
       "      <th>6</th>\n",
       "      <td>Показать на главной странице баннеры с актуальными акциями и распродажами, чтобы увеличить конверсию</td>\n",
       "      <td>40.0</td>\n",
       "    </tr>\n",
       "    <tr>\n",
       "      <th>8</th>\n",
       "      <td>Запустить акцию, дающую скидку на товар в день рождения</td>\n",
       "      <td>16.2</td>\n",
       "    </tr>\n",
       "    <tr>\n",
       "      <th>3</th>\n",
       "      <td>Изменить структура категорий, что увеличит конверсию, т.к. пользователи быстрее найдут нужный товар</td>\n",
       "      <td>9.0</td>\n",
       "    </tr>\n",
       "    <tr>\n",
       "      <th>1</th>\n",
       "      <td>Запустить собственную службу доставки, что сократит срок доставки заказов</td>\n",
       "      <td>4.0</td>\n",
       "    </tr>\n",
       "    <tr>\n",
       "      <th>5</th>\n",
       "      <td>Добавить страницу отзывов клиентов о магазине, что позволит увеличить количество заказов</td>\n",
       "      <td>4.0</td>\n",
       "    </tr>\n",
       "    <tr>\n",
       "      <th>4</th>\n",
       "      <td>Изменить цвет фона главной страницы, чтобы увеличить вовлеченность пользователей</td>\n",
       "      <td>3.0</td>\n",
       "    </tr>\n",
       "  </tbody>\n",
       "</table>\n",
       "</div>"
      ],
      "text/plain": [
       "                                                                                                     hypothesis  \\\n",
       "7              Добавить форму подписки на все основные страницы, чтобы собрать базу клиентов для email-рассылок   \n",
       "2  Добавить блоки рекомендаций товаров на сайт интернет магазина, чтобы повысить конверсию и средний чек заказа   \n",
       "0            Добавить два новых канала привлечения трафика, что позволит привлекать на 30% больше пользователей   \n",
       "6          Показать на главной странице баннеры с актуальными акциями и распродажами, чтобы увеличить конверсию   \n",
       "8                                                       Запустить акцию, дающую скидку на товар в день рождения   \n",
       "3           Изменить структура категорий, что увеличит конверсию, т.к. пользователи быстрее найдут нужный товар   \n",
       "1                                     Запустить собственную службу доставки, что сократит срок доставки заказов   \n",
       "5                      Добавить страницу отзывов клиентов о магазине, что позволит увеличить количество заказов   \n",
       "4                              Изменить цвет фона главной страницы, чтобы увеличить вовлеченность пользователей   \n",
       "\n",
       "    rice  \n",
       "7  112.0  \n",
       "2   56.0  \n",
       "0   40.0  \n",
       "6   40.0  \n",
       "8   16.2  \n",
       "3    9.0  \n",
       "1    4.0  \n",
       "5    4.0  \n",
       "4    3.0  "
      ]
     },
     "execution_count": 7,
     "metadata": {},
     "output_type": "execute_result"
    }
   ],
   "source": [
    "hypothesis_rice"
   ]
  },
  {
   "cell_type": "code",
   "execution_count": 8,
   "id": "c2d3de8c",
   "metadata": {
    "scrolled": true
   },
   "outputs": [
    {
     "data": {
      "text/html": [
       "<div>\n",
       "<style scoped>\n",
       "    .dataframe tbody tr th:only-of-type {\n",
       "        vertical-align: middle;\n",
       "    }\n",
       "\n",
       "    .dataframe tbody tr th {\n",
       "        vertical-align: top;\n",
       "    }\n",
       "\n",
       "    .dataframe thead th {\n",
       "        text-align: right;\n",
       "    }\n",
       "</style>\n",
       "<table border=\"1\" class=\"dataframe\">\n",
       "  <thead>\n",
       "    <tr style=\"text-align: right;\">\n",
       "      <th></th>\n",
       "      <th>hypothesis</th>\n",
       "      <th>reach</th>\n",
       "      <th>impact</th>\n",
       "      <th>confidence</th>\n",
       "      <th>efforts</th>\n",
       "      <th>ice</th>\n",
       "      <th>rice</th>\n",
       "    </tr>\n",
       "  </thead>\n",
       "  <tbody>\n",
       "    <tr>\n",
       "      <th>0</th>\n",
       "      <td>Добавить два новых канала привлечения трафика, что позволит привлекать на 30% больше пользователей</td>\n",
       "      <td>3</td>\n",
       "      <td>10</td>\n",
       "      <td>8</td>\n",
       "      <td>6</td>\n",
       "      <td>13.333333</td>\n",
       "      <td>40.0</td>\n",
       "    </tr>\n",
       "    <tr>\n",
       "      <th>1</th>\n",
       "      <td>Запустить собственную службу доставки, что сократит срок доставки заказов</td>\n",
       "      <td>2</td>\n",
       "      <td>5</td>\n",
       "      <td>4</td>\n",
       "      <td>10</td>\n",
       "      <td>2.000000</td>\n",
       "      <td>4.0</td>\n",
       "    </tr>\n",
       "    <tr>\n",
       "      <th>2</th>\n",
       "      <td>Добавить блоки рекомендаций товаров на сайт интернет магазина, чтобы повысить конверсию и средний чек заказа</td>\n",
       "      <td>8</td>\n",
       "      <td>3</td>\n",
       "      <td>7</td>\n",
       "      <td>3</td>\n",
       "      <td>7.000000</td>\n",
       "      <td>56.0</td>\n",
       "    </tr>\n",
       "    <tr>\n",
       "      <th>3</th>\n",
       "      <td>Изменить структура категорий, что увеличит конверсию, т.к. пользователи быстрее найдут нужный товар</td>\n",
       "      <td>8</td>\n",
       "      <td>3</td>\n",
       "      <td>3</td>\n",
       "      <td>8</td>\n",
       "      <td>1.125000</td>\n",
       "      <td>9.0</td>\n",
       "    </tr>\n",
       "    <tr>\n",
       "      <th>4</th>\n",
       "      <td>Изменить цвет фона главной страницы, чтобы увеличить вовлеченность пользователей</td>\n",
       "      <td>3</td>\n",
       "      <td>1</td>\n",
       "      <td>1</td>\n",
       "      <td>1</td>\n",
       "      <td>1.000000</td>\n",
       "      <td>3.0</td>\n",
       "    </tr>\n",
       "    <tr>\n",
       "      <th>5</th>\n",
       "      <td>Добавить страницу отзывов клиентов о магазине, что позволит увеличить количество заказов</td>\n",
       "      <td>3</td>\n",
       "      <td>2</td>\n",
       "      <td>2</td>\n",
       "      <td>3</td>\n",
       "      <td>1.333333</td>\n",
       "      <td>4.0</td>\n",
       "    </tr>\n",
       "    <tr>\n",
       "      <th>6</th>\n",
       "      <td>Показать на главной странице баннеры с актуальными акциями и распродажами, чтобы увеличить конверсию</td>\n",
       "      <td>5</td>\n",
       "      <td>3</td>\n",
       "      <td>8</td>\n",
       "      <td>3</td>\n",
       "      <td>8.000000</td>\n",
       "      <td>40.0</td>\n",
       "    </tr>\n",
       "    <tr>\n",
       "      <th>7</th>\n",
       "      <td>Добавить форму подписки на все основные страницы, чтобы собрать базу клиентов для email-рассылок</td>\n",
       "      <td>10</td>\n",
       "      <td>7</td>\n",
       "      <td>8</td>\n",
       "      <td>5</td>\n",
       "      <td>11.200000</td>\n",
       "      <td>112.0</td>\n",
       "    </tr>\n",
       "    <tr>\n",
       "      <th>8</th>\n",
       "      <td>Запустить акцию, дающую скидку на товар в день рождения</td>\n",
       "      <td>1</td>\n",
       "      <td>9</td>\n",
       "      <td>9</td>\n",
       "      <td>5</td>\n",
       "      <td>16.200000</td>\n",
       "      <td>16.2</td>\n",
       "    </tr>\n",
       "  </tbody>\n",
       "</table>\n",
       "</div>"
      ],
      "text/plain": [
       "                                                                                                     hypothesis  \\\n",
       "0            Добавить два новых канала привлечения трафика, что позволит привлекать на 30% больше пользователей   \n",
       "1                                     Запустить собственную службу доставки, что сократит срок доставки заказов   \n",
       "2  Добавить блоки рекомендаций товаров на сайт интернет магазина, чтобы повысить конверсию и средний чек заказа   \n",
       "3           Изменить структура категорий, что увеличит конверсию, т.к. пользователи быстрее найдут нужный товар   \n",
       "4                              Изменить цвет фона главной страницы, чтобы увеличить вовлеченность пользователей   \n",
       "5                      Добавить страницу отзывов клиентов о магазине, что позволит увеличить количество заказов   \n",
       "6          Показать на главной странице баннеры с актуальными акциями и распродажами, чтобы увеличить конверсию   \n",
       "7              Добавить форму подписки на все основные страницы, чтобы собрать базу клиентов для email-рассылок   \n",
       "8                                                       Запустить акцию, дающую скидку на товар в день рождения   \n",
       "\n",
       "   reach  impact  confidence  efforts        ice   rice  \n",
       "0      3      10           8        6  13.333333   40.0  \n",
       "1      2       5           4       10   2.000000    4.0  \n",
       "2      8       3           7        3   7.000000   56.0  \n",
       "3      8       3           3        8   1.125000    9.0  \n",
       "4      3       1           1        1   1.000000    3.0  \n",
       "5      3       2           2        3   1.333333    4.0  \n",
       "6      5       3           8        3   8.000000   40.0  \n",
       "7     10       7           8        5  11.200000  112.0  \n",
       "8      1       9           9        5  16.200000   16.2  "
      ]
     },
     "execution_count": 8,
     "metadata": {},
     "output_type": "execute_result"
    }
   ],
   "source": [
    "hypothesis"
   ]
  },
  {
   "cell_type": "markdown",
   "id": "81a7034d",
   "metadata": {},
   "source": [
    "**Вывод:** Видим, что от выбранного метода приоретизации зависит, какой приоритет будет у гипотезы. Ниболее приоритетные гипотезы по оценкам ICE и RICE отличаются. Это связано с тем, что в методе RICE появляется параметр *reach*, который повышает приоритет гипотез, связанных с большим охватом пользователей, и снижает приоритет гипотез, касающихся небольшого охвата."
   ]
  },
  {
   "cell_type": "markdown",
   "id": "97f26515",
   "metadata": {},
   "source": [
    "# Анализ A/B-тестирования"
   ]
  },
  {
   "cell_type": "code",
   "execution_count": 9,
   "id": "867fea28",
   "metadata": {
    "scrolled": false
   },
   "outputs": [
    {
     "name": "stdout",
     "output_type": "stream",
     "text": [
      "<class 'pandas.core.frame.DataFrame'>\n",
      "RangeIndex: 1197 entries, 0 to 1196\n",
      "Data columns (total 5 columns):\n",
      " #   Column         Non-Null Count  Dtype \n",
      "---  ------         --------------  ----- \n",
      " 0   transactionId  1197 non-null   int64 \n",
      " 1   visitorId      1197 non-null   int64 \n",
      " 2   date           1197 non-null   object\n",
      " 3   revenue        1197 non-null   int64 \n",
      " 4   group          1197 non-null   object\n",
      "dtypes: int64(3), object(2)\n",
      "memory usage: 46.9+ KB\n"
     ]
    }
   ],
   "source": [
    "# получаем датафрейм из csv-файла\n",
    "orders = pd.read_csv('/datasets/orders.csv')\n",
    "orders.info()"
   ]
  },
  {
   "cell_type": "code",
   "execution_count": 10,
   "id": "28323a0e",
   "metadata": {},
   "outputs": [
    {
     "name": "stdout",
     "output_type": "stream",
     "text": [
      "transactionId    0\n",
      "visitorId        0\n",
      "date             0\n",
      "revenue          0\n",
      "group            0\n",
      "dtype: int64\n"
     ]
    }
   ],
   "source": [
    "# проверяем наличие пропусков\n",
    "print(orders.isnull().sum())"
   ]
  },
  {
   "cell_type": "code",
   "execution_count": 11,
   "id": "b4e084a1",
   "metadata": {},
   "outputs": [
    {
     "name": "stdout",
     "output_type": "stream",
     "text": [
      "0\n"
     ]
    }
   ],
   "source": [
    "# проверяем наличие дубликатов\n",
    "print(orders.duplicated().sum())"
   ]
  },
  {
   "cell_type": "markdown",
   "id": "ec2014e8",
   "metadata": {},
   "source": [
    "Пропуски и дубликаты в таблице orders отсутствуют. "
   ]
  },
  {
   "cell_type": "code",
   "execution_count": 12,
   "id": "0d877d32",
   "metadata": {},
   "outputs": [],
   "source": [
    "# приводим дату к нужному формату\n",
    "orders['date'] = orders['date'].map(lambda x: dt.datetime.strptime(x, '%Y-%m-%d'))"
   ]
  },
  {
   "cell_type": "code",
   "execution_count": 13,
   "id": "c93ef4c6",
   "metadata": {},
   "outputs": [
    {
     "name": "stdout",
     "output_type": "stream",
     "text": [
      "2019-08-01 00:00:00\n",
      "2019-08-31 00:00:00\n"
     ]
    }
   ],
   "source": [
    "# смотрим, за какие даты у нас есть данные\n",
    "print(orders['date'].min())\n",
    "print(orders['date'].max())"
   ]
  },
  {
   "cell_type": "markdown",
   "id": "c8252d77",
   "metadata": {},
   "source": [
    "В таблице orders нам доступны данные за период **с 1 по 31 августа 2019 года**. "
   ]
  },
  {
   "cell_type": "code",
   "execution_count": 14,
   "id": "f7a6f0e1",
   "metadata": {},
   "outputs": [
    {
     "name": "stdout",
     "output_type": "stream",
     "text": [
      "<class 'pandas.core.frame.DataFrame'>\n",
      "RangeIndex: 62 entries, 0 to 61\n",
      "Data columns (total 3 columns):\n",
      " #   Column    Non-Null Count  Dtype \n",
      "---  ------    --------------  ----- \n",
      " 0   date      62 non-null     object\n",
      " 1   group     62 non-null     object\n",
      " 2   visitors  62 non-null     int64 \n",
      "dtypes: int64(1), object(2)\n",
      "memory usage: 1.6+ KB\n"
     ]
    }
   ],
   "source": [
    "# получаем датафрейм из csv-файла\n",
    "visitors = pd.read_csv('/datasets/visitors.csv')\n",
    "visitors.info()"
   ]
  },
  {
   "cell_type": "code",
   "execution_count": 15,
   "id": "0eb4f955",
   "metadata": {},
   "outputs": [
    {
     "name": "stdout",
     "output_type": "stream",
     "text": [
      "date        0\n",
      "group       0\n",
      "visitors    0\n",
      "dtype: int64\n"
     ]
    }
   ],
   "source": [
    "# проверяем наличие пропусков\n",
    "print(visitors.isnull().sum())"
   ]
  },
  {
   "cell_type": "code",
   "execution_count": 16,
   "id": "7891497b",
   "metadata": {},
   "outputs": [
    {
     "name": "stdout",
     "output_type": "stream",
     "text": [
      "0\n"
     ]
    }
   ],
   "source": [
    "# проверяем наличие дубликатов\n",
    "print(visitors.duplicated().sum())"
   ]
  },
  {
   "cell_type": "markdown",
   "id": "5aa22646",
   "metadata": {},
   "source": [
    "Пропуски и дубликаты в таблице visitors отсуствуют. "
   ]
  },
  {
   "cell_type": "code",
   "execution_count": 17,
   "id": "36e43c79",
   "metadata": {},
   "outputs": [],
   "source": [
    "# приводим дату к нужному формату\n",
    "visitors['date'] = visitors['date'].map(lambda x: dt.datetime.strptime(x, '%Y-%m-%d'))"
   ]
  },
  {
   "cell_type": "code",
   "execution_count": 18,
   "id": "0cb68e0b",
   "metadata": {},
   "outputs": [
    {
     "name": "stdout",
     "output_type": "stream",
     "text": [
      "2019-08-01 00:00:00\n",
      "2019-08-31 00:00:00\n"
     ]
    }
   ],
   "source": [
    "# смотрим, за какие даты у нас есть данные\n",
    "print(visitors['date'].min())\n",
    "print(visitors['date'].max())"
   ]
  },
  {
   "cell_type": "markdown",
   "id": "b4c590cf",
   "metadata": {},
   "source": [
    "В таблице visitors нам доступны данные за период **с 1 по 31 августа 2019 года**. Это совпадает с таблицей orders."
   ]
  },
  {
   "cell_type": "markdown",
   "id": "4c3ec758",
   "metadata": {},
   "source": [
    "Подтвердим количество групп в тесте, проверим, как распределено количество по каждой из групп и нет ли пользователей, которые попали в две группы сразу. "
   ]
  },
  {
   "cell_type": "code",
   "execution_count": 19,
   "id": "368191a3",
   "metadata": {},
   "outputs": [
    {
     "name": "stdout",
     "output_type": "stream",
     "text": [
      "['B' 'A']\n"
     ]
    }
   ],
   "source": [
    "print(orders['group'].unique())"
   ]
  },
  {
   "cell_type": "code",
   "execution_count": 20,
   "id": "fff9e6ff",
   "metadata": {},
   "outputs": [
    {
     "name": "stdout",
     "output_type": "stream",
     "text": [
      "['A' 'B']\n"
     ]
    }
   ],
   "source": [
    "print(visitors['group'].unique())"
   ]
  },
  {
   "cell_type": "markdown",
   "id": "d53ab0d5",
   "metadata": {},
   "source": [
    "В тесте - две группы. Это верно для данных в обеих таблицах. "
   ]
  },
  {
   "cell_type": "code",
   "execution_count": 21,
   "id": "05ba5e41",
   "metadata": {},
   "outputs": [
    {
     "data": {
      "text/html": [
       "<div>\n",
       "<style scoped>\n",
       "    .dataframe tbody tr th:only-of-type {\n",
       "        vertical-align: middle;\n",
       "    }\n",
       "\n",
       "    .dataframe tbody tr th {\n",
       "        vertical-align: top;\n",
       "    }\n",
       "\n",
       "    .dataframe thead th {\n",
       "        text-align: right;\n",
       "    }\n",
       "</style>\n",
       "<table border=\"1\" class=\"dataframe\">\n",
       "  <thead>\n",
       "    <tr style=\"text-align: right;\">\n",
       "      <th></th>\n",
       "      <th>visitorId</th>\n",
       "    </tr>\n",
       "    <tr>\n",
       "      <th>group</th>\n",
       "      <th></th>\n",
       "    </tr>\n",
       "  </thead>\n",
       "  <tbody>\n",
       "    <tr>\n",
       "      <th>A</th>\n",
       "      <td>503</td>\n",
       "    </tr>\n",
       "    <tr>\n",
       "      <th>B</th>\n",
       "      <td>586</td>\n",
       "    </tr>\n",
       "  </tbody>\n",
       "</table>\n",
       "</div>"
      ],
      "text/plain": [
       "       visitorId\n",
       "group           \n",
       "A            503\n",
       "B            586"
      ]
     },
     "execution_count": 21,
     "metadata": {},
     "output_type": "execute_result"
    }
   ],
   "source": [
    "groups = orders.groupby('group').agg({'visitorId':'nunique'})\n",
    "groups"
   ]
  },
  {
   "cell_type": "markdown",
   "id": "04ac6f30",
   "metadata": {},
   "source": [
    "В группе А 503 пользователя, в группе В - 586. Группа B примерно на 16% больше группы A."
   ]
  },
  {
   "cell_type": "code",
   "execution_count": 22,
   "id": "3473e07b",
   "metadata": {},
   "outputs": [
    {
     "name": "stdout",
     "output_type": "stream",
     "text": [
      "<class 'pandas.core.frame.DataFrame'>\n",
      "Int64Index: 58 entries, 2 to 1026\n",
      "Data columns (total 2 columns):\n",
      " #   Column     Non-Null Count  Dtype\n",
      "---  ------     --------------  -----\n",
      " 0   visitorId  58 non-null     int64\n",
      " 1   group      58 non-null     int64\n",
      "dtypes: int64(2)\n",
      "memory usage: 1.4 KB\n"
     ]
    }
   ],
   "source": [
    "# считаем количество групп на пользователя, чтобы проверить\n",
    "groups_per_visitor = orders.groupby('visitorId', as_index=False).agg({'group':'nunique'})\n",
    "two_groups = groups_per_visitor.query('group == 2')\n",
    "two_groups.info()"
   ]
  },
  {
   "cell_type": "markdown",
   "id": "463dcdf3",
   "metadata": {},
   "source": [
    "У 58 пользователей были задублированы группы. Удалим этих пользотвателей из таблицы orders."
   ]
  },
  {
   "cell_type": "code",
   "execution_count": 23,
   "id": "245ea75e",
   "metadata": {},
   "outputs": [],
   "source": [
    "two_groups_visitors = two_groups['visitorId']"
   ]
  },
  {
   "cell_type": "code",
   "execution_count": 24,
   "id": "638df100",
   "metadata": {
    "scrolled": true
   },
   "outputs": [
    {
     "name": "stdout",
     "output_type": "stream",
     "text": [
      "<class 'pandas.core.frame.DataFrame'>\n",
      "Int64Index: 1016 entries, 0 to 1196\n",
      "Data columns (total 5 columns):\n",
      " #   Column         Non-Null Count  Dtype         \n",
      "---  ------         --------------  -----         \n",
      " 0   transactionId  1016 non-null   int64         \n",
      " 1   visitorId      1016 non-null   int64         \n",
      " 2   date           1016 non-null   datetime64[ns]\n",
      " 3   revenue        1016 non-null   int64         \n",
      " 4   group          1016 non-null   object        \n",
      "dtypes: datetime64[ns](1), int64(3), object(1)\n",
      "memory usage: 47.6+ KB\n"
     ]
    }
   ],
   "source": [
    "orders = orders[np.logical_not(orders['visitorId'].isin(two_groups_visitors))]\n",
    "orders.info()"
   ]
  },
  {
   "cell_type": "code",
   "execution_count": 25,
   "id": "bbde4f76",
   "metadata": {
    "scrolled": true
   },
   "outputs": [
    {
     "data": {
      "text/html": [
       "<div>\n",
       "<style scoped>\n",
       "    .dataframe tbody tr th:only-of-type {\n",
       "        vertical-align: middle;\n",
       "    }\n",
       "\n",
       "    .dataframe tbody tr th {\n",
       "        vertical-align: top;\n",
       "    }\n",
       "\n",
       "    .dataframe thead th {\n",
       "        text-align: right;\n",
       "    }\n",
       "</style>\n",
       "<table border=\"1\" class=\"dataframe\">\n",
       "  <thead>\n",
       "    <tr style=\"text-align: right;\">\n",
       "      <th></th>\n",
       "      <th>visitorId</th>\n",
       "    </tr>\n",
       "    <tr>\n",
       "      <th>group</th>\n",
       "      <th></th>\n",
       "    </tr>\n",
       "  </thead>\n",
       "  <tbody>\n",
       "    <tr>\n",
       "      <th>A</th>\n",
       "      <td>445</td>\n",
       "    </tr>\n",
       "    <tr>\n",
       "      <th>B</th>\n",
       "      <td>528</td>\n",
       "    </tr>\n",
       "  </tbody>\n",
       "</table>\n",
       "</div>"
      ],
      "text/plain": [
       "       visitorId\n",
       "group           \n",
       "A            445\n",
       "B            528"
      ]
     },
     "execution_count": 25,
     "metadata": {},
     "output_type": "execute_result"
    }
   ],
   "source": [
    "groups = orders.groupby('group').agg({'visitorId':'nunique'})\n",
    "groups"
   ]
  },
  {
   "cell_type": "markdown",
   "id": "6224575a",
   "metadata": {},
   "source": [
    "После удаления задублированных пользователей в группе А осталось 445 пользователей, в группе В - 528. Разница между группами около 18% кажется большой. Кроме того, обнаруженная выше проблема в определении группы у пользователя и нахождении одного и того же пользователя в двух группах может свидетельствовать об ошибках в проведении теста и повлиять на точность результата. "
   ]
  },
  {
   "cell_type": "code",
   "execution_count": 26,
   "id": "429d6fae",
   "metadata": {},
   "outputs": [
    {
     "name": "stdout",
     "output_type": "stream",
     "text": [
      "        date  ordersPerDateA  revenuePerDateA  ordersPerDateB  \\\n",
      "0 2019-08-01              23           142779              17   \n",
      "1 2019-08-02              19            91602              23   \n",
      "2 2019-08-03              24           112473              14   \n",
      "3 2019-08-04              11            41176              14   \n",
      "4 2019-08-05              22            86383              21   \n",
      "\n",
      "   revenuePerDateB  ordersCumulativeA  revenueCumulativeA  ordersCumulativeB  \\\n",
      "0            59758                 23              142779                 17   \n",
      "1           162043                 42              234381                 40   \n",
      "2            67049                 66              346854                 54   \n",
      "3            96890                 77              388030                 68   \n",
      "4            89908                 99              474413                 89   \n",
      "\n",
      "   revenueCumulativeB  visitorsPerDateA  visitorsPerDateB  \\\n",
      "0               59758               719               713   \n",
      "1              221801               619               581   \n",
      "2              288850               507               509   \n",
      "3              385740               717               770   \n",
      "4              475648               756               707   \n",
      "\n",
      "   visitorsCumulativeA  visitorsCumulativeB  \n",
      "0                  719                  713  \n",
      "1                 1338                 1294  \n",
      "2                 1845                 1803  \n",
      "3                 2562                 2573  \n",
      "4                 3318                 3280  \n"
     ]
    }
   ],
   "source": [
    "# получаем данные с количеством пользователей на каждую дату в группе А\n",
    "visitorsADaily = visitors[visitors['group'] == 'A'][['date', 'visitors']]\n",
    "visitorsADaily.columns = ['date', 'visitorsPerDateA']\n",
    "\n",
    "# получаем кумулятивные данные по количеству пользователей в группе А\n",
    "visitorsACumulative = visitorsADaily.apply(\n",
    "    lambda x: visitorsADaily[visitorsADaily['date'] <= x['date']].agg(\n",
    "        {'date': 'max', 'visitorsPerDateA': 'sum'}\n",
    "    ),\n",
    "    axis=1,\n",
    ")\n",
    "visitorsACumulative.columns = ['date', 'visitorsCumulativeA']\n",
    "\n",
    "# получаем данные с количеством пользователей на каждую дату в группе В\n",
    "visitorsBDaily = visitors[visitors['group'] == 'B'][['date', 'visitors']]\n",
    "visitorsBDaily.columns = ['date', 'visitorsPerDateB']\n",
    "\n",
    "# получаем кумулятивные данные по количеству пользователей в группе В\n",
    "visitorsBCumulative = visitorsBDaily.apply(\n",
    "    lambda x: visitorsBDaily[visitorsBDaily['date'] <= x['date']].agg(\n",
    "        {'date': 'max', 'visitorsPerDateB': 'sum'}\n",
    "    ),\n",
    "    axis=1,\n",
    ")\n",
    "visitorsBCumulative.columns = ['date', 'visitorsCumulativeB']\n",
    "\n",
    "# получаем данные с количеством транзакций на каждую дату в группе А\n",
    "ordersADaily = (\n",
    "    orders[orders['group'] == 'A'][['date', 'transactionId', 'visitorId', 'revenue']]\n",
    "    .groupby('date', as_index=False)\n",
    "    .agg({'transactionId': pd.Series.nunique, 'revenue': 'sum'})\n",
    ")\n",
    "ordersADaily.columns = ['date', 'ordersPerDateA', 'revenuePerDateA']\n",
    "\n",
    "# получаем кумулятивные данные по количеству транзакций в группе А\n",
    "ordersACumulative = ordersADaily.apply(\n",
    "    lambda x: ordersADaily[ordersADaily['date'] <= x['date']].agg(\n",
    "        {'date': 'max', 'ordersPerDateA': 'sum', 'revenuePerDateA': 'sum'}\n",
    "    ),\n",
    "    axis=1,\n",
    ").sort_values(by=['date'])\n",
    "ordersACumulative.columns = [\n",
    "    'date',\n",
    "    'ordersCumulativeA',\n",
    "    'revenueCumulativeA',\n",
    "]\n",
    "\n",
    "# получаем данные с количеством транзакций на каждую дату в группе В\n",
    "ordersBDaily = (\n",
    "    orders[orders['group'] == 'B'][['date', 'transactionId', 'visitorId', 'revenue']]\n",
    "    .groupby('date', as_index=False)\n",
    "    .agg({'transactionId': pd.Series.nunique, 'revenue': 'sum'})\n",
    ")\n",
    "ordersBDaily.columns = ['date', 'ordersPerDateB', 'revenuePerDateB']\n",
    "\n",
    "# получаем кумулятивные данные по количеству транзакций в группе А\n",
    "ordersBCumulative = ordersBDaily.apply(\n",
    "    lambda x: ordersBDaily[ordersBDaily['date'] <= x['date']].agg(\n",
    "        {'date': 'max', 'ordersPerDateB': 'sum', 'revenuePerDateB': 'sum'}\n",
    "    ),\n",
    "    axis=1,\n",
    ").sort_values(by=['date'])\n",
    "ordersBCumulative.columns = [\n",
    "    'date',\n",
    "    'ordersCumulativeB',\n",
    "    'revenueCumulativeB',\n",
    "]\n",
    "\n",
    "# объединяем полученные таблицы друг с другом по дате\n",
    "# так получим таблицу, в которой на каждую дату мы увидим \n",
    "# количество транзакций и пользователей, кумулятивное и нет, на каждую группу\n",
    "data = (\n",
    "    ordersADaily.merge(\n",
    "        ordersBDaily, left_on='date', right_on='date', how='left'\n",
    "    )\n",
    "    .merge(ordersACumulative, left_on='date', right_on='date', how='left')\n",
    "    .merge(ordersBCumulative, left_on='date', right_on='date', how='left')\n",
    "    .merge(visitorsADaily, left_on='date', right_on='date', how='left')\n",
    "    .merge(visitorsBDaily, left_on='date', right_on='date', how='left')\n",
    "    .merge(visitorsACumulative, left_on='date', right_on='date', how='left')\n",
    "    .merge(visitorsBCumulative, left_on='date', right_on='date', how='left')\n",
    ")\n",
    "\n",
    "print(data.head(5)) "
   ]
  },
  {
   "cell_type": "markdown",
   "id": "7eb06052",
   "metadata": {},
   "source": [
    "**1. Оценка кумулятивной выручки по группам**"
   ]
  },
  {
   "cell_type": "code",
   "execution_count": 27,
   "id": "1dbea79c",
   "metadata": {
    "scrolled": true
   },
   "outputs": [
    {
     "data": {
      "image/png": "[encoded data removed]",
      "text/plain": [
       "<Figure size 432x288 with 1 Axes>"
      ]
     },
     "metadata": {
      "needs_background": "light"
     },
     "output_type": "display_data"
    }
   ],
   "source": [
    "plt.plot(data['date'], data['revenueCumulativeA'], label='A')\n",
    "plt.plot(data['date'], data['revenueCumulativeB'], label='B')\n",
    "plt.rcParams[\"figure.figsize\"] = (12,9)\n",
    "plt.title('Кумулятивная выручка по группам')\n",
    "plt.ylabel('Кумулятивная выручка, млн')\n",
    "plt.xlabel('Дата')\n",
    "plt.legend()\n",
    "plt.show()"
   ]
  },
  {
   "cell_type": "markdown",
   "id": "7c7c5836",
   "metadata": {},
   "source": [
    "Кажется, что в начале теста показатели кумулятивной выручки у группы А и у группы В близки друг к другу, однако во второй половине августа, что соответствует второй половине теста, происходит резкий скачок кумулятивной выручки в группе В. Возможно, в этот момент были совершены крупные покупки. "
   ]
  },
  {
   "cell_type": "markdown",
   "id": "f1195e72",
   "metadata": {},
   "source": [
    "**2. Оценка кумулятивного среднего чека по группам**"
   ]
  },
  {
   "cell_type": "code",
   "execution_count": 28,
   "id": "b5ad208e",
   "metadata": {
    "scrolled": false
   },
   "outputs": [
    {
     "data": {
      "image/png": "[encoded data removed]",
      "text/plain": [
       "<Figure size 864x648 with 1 Axes>"
      ]
     },
     "metadata": {
      "needs_background": "light"
     },
     "output_type": "display_data"
    }
   ],
   "source": [
    "plt.plot(data['date'], data['revenueCumulativeA']/data['ordersCumulativeA'], label='A')\n",
    "plt.plot(data['date'], data['revenueCumulativeB']/data['ordersCumulativeB'], label='B')\n",
    "plt.rcParams[\"figure.figsize\"] = (12,9)\n",
    "plt.title('Кумулятивный средний чек по группам')\n",
    "plt.ylabel('Кумулятивный средний чек')\n",
    "plt.xlabel('Дата')\n",
    "plt.legend()\n",
    "plt.show()"
   ]
  },
  {
   "cell_type": "markdown",
   "id": "b3518120",
   "metadata": {},
   "source": [
    "График кумулятивного среднего чека отличается большим количеством перепадов и скачков. В первые дни теста происходит падение кумулятивного среднего чека в группе А, что сопровождается ростом кумулятивного среднего чека в группе В (однако также с небольшим падением. Далее к 13 августа кумулятивный средний чек группы А сильно возрастает и превышает результат группы В и далее стабилизируется. Через несколько дней значение кумулятивного среднего чека группы В возрастает на 3 тысячи и далее начинает постепенно снижаться. Дата этого скачка совпадает с датой, когда резко возрасла кумулятивная выручка. Кажется, что здесь могут сильно повлиять выбросы."
   ]
  },
  {
   "cell_type": "markdown",
   "id": "6fe7366e",
   "metadata": {},
   "source": [
    "**3. Оценка относительного изменения кумулятивного среднего чека группы B к группе A**"
   ]
  },
  {
   "cell_type": "code",
   "execution_count": 29,
   "id": "f2ecead6",
   "metadata": {},
   "outputs": [
    {
     "data": {
      "image/png": "[encoded data removed]",
      "text/plain": [
       "<Figure size 864x648 with 1 Axes>"
      ]
     },
     "metadata": {
      "needs_background": "light"
     },
     "output_type": "display_data"
    }
   ],
   "source": [
    "plt.plot(data['date'], (data['revenueCumulativeB']/data['ordersCumulativeB'])/(data['revenueCumulativeA']/data['ordersCumulativeA'])-1)\n",
    "plt.rcParams[\"figure.figsize\"] = (12,9)\n",
    "plt.title('Относительное изменение кумулятивного среднего чека группы B к группе A')\n",
    "plt.xlabel('Дата')\n",
    "plt.ylabel('Размер относительного изменения')\n",
    "plt.axhline(y=0, color='black', linestyle='--')\n",
    "plt.axhline(y=-0.1, color='grey', linestyle='--')\n",
    "plt.show()"
   ]
  },
  {
   "cell_type": "markdown",
   "id": "2afc059c",
   "metadata": {},
   "source": [
    "Видим, что в самом начале теста группа В показывает результаты по кумулятивному среднему чеку лучше, чем группа А. В середние августа происходит ухудшение результатов, 12-14 августа результаты группы В становятся хуже, но далее происходит резкий скачок вверх значения кумулятивного среднего чека, после которого оно снова начинает снижаться. "
   ]
  },
  {
   "cell_type": "markdown",
   "id": "7894378d",
   "metadata": {},
   "source": [
    "**4. Оценка кумулятивной конверсии по группам**"
   ]
  },
  {
   "cell_type": "code",
   "execution_count": 30,
   "id": "6e5b845b",
   "metadata": {},
   "outputs": [
    {
     "data": {
      "image/png": "[encoded data removed]",
      "text/plain": [
       "<Figure size 864x648 with 1 Axes>"
      ]
     },
     "metadata": {
      "needs_background": "light"
     },
     "output_type": "display_data"
    }
   ],
   "source": [
    "data['conversionCumulativeA'] = data['ordersCumulativeA'] / data['visitorsCumulativeA']\n",
    "data['conversionCumulativeB'] = data['ordersCumulativeB'] / data['visitorsCumulativeB']\n",
    "plt.plot(data['date'], data['conversionCumulativeA'], label='A')\n",
    "plt.plot(data['date'], data['conversionCumulativeB'], label='B')\n",
    "plt.xlabel('Дата')\n",
    "plt.ylabel('Кумулятивная конверсия')\n",
    "plt.title('Кумулятивная конверсия по группам')\n",
    "plt.rcParams[\"figure.figsize\"] = (12,9)\n",
    "plt.legend()\n",
    "plt.show()"
   ]
  },
  {
   "cell_type": "markdown",
   "id": "317956f8",
   "metadata": {},
   "source": [
    "В начале теста и группа А, и группа В показывают резкий скачок кумулятивной конверсии, а далее ее резкое падение. После этого группа В снова быстро наращивает этот показатель (далее он остается на высоком уровне), а в группе А показатель конверсии так и остается ниже. Стоит отметить, тем не менее, что все эти колебания не превышают 1%. "
   ]
  },
  {
   "cell_type": "markdown",
   "id": "8cfbc3ac",
   "metadata": {},
   "source": [
    "**5. Оценка относительного изменения кумулятивной конверсии группы B к группе A**"
   ]
  },
  {
   "cell_type": "code",
   "execution_count": 31,
   "id": "d8f9824f",
   "metadata": {},
   "outputs": [
    {
     "data": {
      "image/png": "[encoded data removed]",
      "text/plain": [
       "<Figure size 864x648 with 1 Axes>"
      ]
     },
     "metadata": {
      "needs_background": "light"
     },
     "output_type": "display_data"
    }
   ],
   "source": [
    "plt.plot(data['date'], data['conversionCumulativeB']/data['conversionCumulativeA']-1)\n",
    "plt.title('Относительное изменение кумулятивной конверсии группы B к группе A')\n",
    "plt.ylabel('Размер относительного изменения')\n",
    "plt.xlabel('Дата')\n",
    "plt.axhline(y=0, color='black', linestyle='--')\n",
    "plt.axhline(y=-0.1, color='grey', linestyle='--')\n",
    "plt.xticks(rotation=45)\n",
    "plt.show()"
   ]
  },
  {
   "cell_type": "markdown",
   "id": "af761c94",
   "metadata": {},
   "source": [
    "Относительное изменение кумулятивной конверсии группы В к группе А дает положительный результат, за исключением падения в первые дни теста. "
   ]
  },
  {
   "cell_type": "markdown",
   "id": "e1d00835",
   "metadata": {},
   "source": [
    "**6. Точечный график количества заказов по пользователям**"
   ]
  },
  {
   "cell_type": "code",
   "execution_count": 32,
   "id": "31361932",
   "metadata": {},
   "outputs": [
    {
     "data": {
      "image/png": "[encoded data removed]",
      "text/plain": [
       "<Figure size 864x648 with 1 Axes>"
      ]
     },
     "metadata": {
      "needs_background": "light"
     },
     "output_type": "display_data"
    }
   ],
   "source": [
    "ordersByUsers = orders.groupby('visitorId', as_index=False).agg({'transactionId': 'nunique'})\n",
    "ordersByUsers.columns = ['visitorId', 'orders']\n",
    "\n",
    "x_values = pd.Series(range(0,len(ordersByUsers)))\n",
    "\n",
    "plt.scatter(x_values, ordersByUsers['orders'])\n",
    "plt.title('Точечный график количества заказов на одного пользователя')\n",
    "plt.xlabel('Пользователи')\n",
    "plt.ylabel('Количество заказов')\n",
    "plt.yticks(range(0, 12))\n",
    "plt.show()"
   ]
  },
  {
   "cell_type": "markdown",
   "id": "3b8d75e3",
   "metadata": {},
   "source": [
    "Видим, что большинство пользователей совершило 1 заказ. В меньшинстве пользователи, которые совершили 2-3 заказа. Пока непонятно, какие из этих значений следует считать выбросами. Определим это с помощью перцентилей. "
   ]
  },
  {
   "cell_type": "markdown",
   "id": "8a57d311",
   "metadata": {},
   "source": [
    "**7. 95-й и 99-й перцентили количества заказов на пользователя. Граница для определения аномальных пользователей**"
   ]
  },
  {
   "cell_type": "code",
   "execution_count": 33,
   "id": "ad2cd7db",
   "metadata": {},
   "outputs": [
    {
     "name": "stdout",
     "output_type": "stream",
     "text": [
      "[1. 1. 2.]\n"
     ]
    }
   ],
   "source": [
    "print(np.percentile(ordersByUsers['orders'], [90, 95, 99])) "
   ]
  },
  {
   "cell_type": "markdown",
   "id": "e2a97868",
   "metadata": {},
   "source": [
    "Итак, расчет перцентилей показывает, что не более 5% пользователей совершали более двух заказов, и не более 1% пользователей - более четырех заказов. Кажется, что наиболее уместно будет **установить границу в 2 заказа как границу аномальных пользователей**."
   ]
  },
  {
   "cell_type": "code",
   "execution_count": 34,
   "id": "ec6450ce",
   "metadata": {},
   "outputs": [],
   "source": [
    "# создадим переменную abnormal_orders, обозначающую границу аномальных пользователей по количеству заказов\n",
    "# в качестве границы - значение 99-го перцентиля\n",
    "abnormal_orders = np.percentile(ordersByUsers['orders'], 99)"
   ]
  },
  {
   "cell_type": "markdown",
   "id": "49499aa8",
   "metadata": {},
   "source": [
    "**8. Точечный график стоимостей заказов**"
   ]
  },
  {
   "cell_type": "code",
   "execution_count": 35,
   "id": "fb4e3da9",
   "metadata": {},
   "outputs": [
    {
     "name": "stdout",
     "output_type": "stream",
     "text": [
      "1294500\n",
      "50\n"
     ]
    }
   ],
   "source": [
    "print(orders['revenue'].max())\n",
    "print(orders['revenue'].min())"
   ]
  },
  {
   "cell_type": "code",
   "execution_count": 36,
   "id": "4c2d8d74",
   "metadata": {
    "scrolled": true
   },
   "outputs": [
    {
     "data": {
      "image/png": "[encoded data removed]",
      "text/plain": [
       "<Figure size 864x648 with 1 Axes>"
      ]
     },
     "metadata": {
      "needs_background": "light"
     },
     "output_type": "display_data"
    }
   ],
   "source": [
    "x_values = pd.Series(range(0,len(orders['revenue'])))\n",
    "plt.scatter(x_values, orders['revenue'])\n",
    "plt.title('Точечный график стоимостей заказов')\n",
    "plt.xlabel('Пользователи')\n",
    "plt.ylabel('Стоиомость заказа')\n",
    "plt.yticks(np.arange(0, 1400000, step=100000))\n",
    "plt.show()"
   ]
  },
  {
   "cell_type": "markdown",
   "id": "05225a97",
   "metadata": {},
   "source": [
    "График показывает, что стоимость большинства заказов не превышает 0.1 млн. Есть заказы-выбросы, стоимость которых - 0.2 млн и почти 1.3 млн. Посмотрим, какую информацию дадут перцентили. "
   ]
  },
  {
   "cell_type": "markdown",
   "id": "22d1b998",
   "metadata": {},
   "source": [
    "**9.  95-й и 99-й перцентили стоимости заказов. Граница для определения аномальных заказов**"
   ]
  },
  {
   "cell_type": "code",
   "execution_count": 37,
   "id": "500ec9db",
   "metadata": {
    "scrolled": false
   },
   "outputs": [
    {
     "name": "stdout",
     "output_type": "stream",
     "text": [
      "[17990. 26785. 53904.]\n"
     ]
    }
   ],
   "source": [
    "print(np.percentile(orders['revenue'], [90, 95, 99])) "
   ]
  },
  {
   "cell_type": "markdown",
   "id": "cc766110",
   "metadata": {},
   "source": [
    "Видим, что не более 5% заказов дороже 0.028 млн. **Зададим границу в 0.027 млн как границу определения аномальных заказов.**"
   ]
  },
  {
   "cell_type": "code",
   "execution_count": 38,
   "id": "0fff3588",
   "metadata": {},
   "outputs": [
    {
     "name": "stdout",
     "output_type": "stream",
     "text": [
      "26785.0\n"
     ]
    }
   ],
   "source": [
    "# создадим переменную abnormal_revenue, обозначающую границу аномальных заказов\n",
    "# в качестве границы - значение 95-го перцентиля\n",
    "abnormal_revenue = np.percentile(orders['revenue'], 95)\n",
    "print(abnormal_revenue)"
   ]
  },
  {
   "cell_type": "markdown",
   "id": "3eccff59",
   "metadata": {},
   "source": [
    "**10. Статистическая значимость различий в конверсии между группами по «сырым» данным**"
   ]
  },
  {
   "cell_type": "markdown",
   "id": "18850838",
   "metadata": {},
   "source": [
    "Прежде, чем выполнять расчеты, сформулируем гипотезы. \n",
    "\n",
    "**Нулевая гипотеза:** статистической значимости в конверсии между группами по сырым данным нет. **Альтернативная гипотеза:** статистическая значимость в конверсии между группами по сырым данным есть.\n",
    "\n",
    "В качестве *alpha* установим значение *0.05*."
   ]
  },
  {
   "cell_type": "code",
   "execution_count": 39,
   "id": "adc49bf3",
   "metadata": {},
   "outputs": [],
   "source": [
    "# считаем количество заказов на пользователя в группе А и группе В\n",
    "orders_by_users_a = orders[orders['group'] == 'A'].groupby('visitorId', as_index=False).agg({'transactionId': pd.Series.nunique})\n",
    "orders_by_users_b = orders[orders['group'] == 'B'].groupby('visitorId', as_index=False).agg({'transactionId': pd.Series.nunique})"
   ]
  },
  {
   "cell_type": "code",
   "execution_count": 40,
   "id": "962f0e3b",
   "metadata": {},
   "outputs": [],
   "source": [
    "# формируем выборки для проверки статистической значимости\n",
    "# для этого к данным о количестве заказов на пользователя добавляем нули\n",
    "# количество нулей = количеству пользователей в группе, которые не сделали заказ\n",
    "raw_a = pd.concat([orders_by_users_a['transactionId'], \n",
    "                   pd.Series(0, index=np.arange(\n",
    "                       visitors[visitors['group']=='A']['visitors'].sum() - len(orders_by_users_a['transactionId'])))],axis=0)\n",
    "raw_b = pd.concat([orders_by_users_b['transactionId'], \n",
    "                   pd.Series(0, index=np.arange(\n",
    "                       visitors[visitors['group']=='B']['visitors'].sum() - len(orders_by_users_b['transactionId'])))],axis=0)"
   ]
  },
  {
   "cell_type": "code",
   "execution_count": 41,
   "id": "c0cefcb7",
   "metadata": {},
   "outputs": [
    {
     "name": "stdout",
     "output_type": "stream",
     "text": [
      "18736\n",
      "18916\n"
     ]
    }
   ],
   "source": [
    "print(len(raw_a))\n",
    "print(len(raw_b))"
   ]
  },
  {
   "cell_type": "code",
   "execution_count": 42,
   "id": "e6ec3d06",
   "metadata": {
    "scrolled": false
   },
   "outputs": [
    {
     "name": "stdout",
     "output_type": "stream",
     "text": [
      "0.011\n"
     ]
    }
   ],
   "source": [
    "# проверяем статистическую значимость\n",
    "print(\"{0:.3f}\".format(st.mannwhitneyu(raw_a, raw_b)[1]))"
   ]
  },
  {
   "cell_type": "code",
   "execution_count": 43,
   "id": "b13e1052",
   "metadata": {},
   "outputs": [
    {
     "name": "stdout",
     "output_type": "stream",
     "text": [
      "-0.138\n"
     ]
    }
   ],
   "source": [
    "# проверяем относительное различие\n",
    "print(\"{0:.3f}\".format(raw_a.mean() / raw_b.mean() - 1))"
   ]
  },
  {
   "cell_type": "markdown",
   "id": "b6c3e5d7",
   "metadata": {},
   "source": [
    "Полученное значение меньше, чем 0.05, следовательно, исходя из расчета по сырым данным, можно отвергнуть нулевую гипотезу. При этом относительно группы А показатель группы В выше на 13,8%."
   ]
  },
  {
   "cell_type": "markdown",
   "id": "78b410fa",
   "metadata": {},
   "source": [
    "**11. Статистическая значимость различий в среднем чеке заказа между группами по «сырым» данным**"
   ]
  },
  {
   "cell_type": "markdown",
   "id": "fd2ff90f",
   "metadata": {},
   "source": [
    "**Нулевая гипотеза:** статистической значимости различий в среднем чеке заказа по сырым данным нет.\n",
    "**Альтернативная гипотеза:** статистическая значимость различий в среднем чеке заказа по сырым данным есть.\n",
    "\n",
    "В качестве *alpha* установим значение *0.05*."
   ]
  },
  {
   "cell_type": "code",
   "execution_count": 44,
   "id": "a7969180",
   "metadata": {},
   "outputs": [
    {
     "name": "stdout",
     "output_type": "stream",
     "text": [
      "0.829\n",
      "0.287\n"
     ]
    }
   ],
   "source": [
    "# проверяем статистическую значимость\n",
    "print('{0:.3f}'.format(st.mannwhitneyu(orders[orders['group']=='A']['revenue'], orders[orders['group']=='B']['revenue'])[1]))\n",
    "# проверяем относительное различие\n",
    "print('{0:.3f}'.format(orders[orders['group']=='B']['revenue'].mean()/orders[orders['group']=='A']['revenue'].mean()-1)) "
   ]
  },
  {
   "cell_type": "markdown",
   "id": "d71c1ea9",
   "metadata": {},
   "source": [
    "Видим, что нулевую гипотезу нельзя отвергнуть, несмотря на относительное различие в 28,7%. Возможно, мы получим больше информации, если посмотрим на очищенные от выбросов данные."
   ]
  },
  {
   "cell_type": "markdown",
   "id": "eaa5c64e",
   "metadata": {},
   "source": [
    "**12. Статистическая значимость различий в конверсии между группами по «очищенным» данным**"
   ]
  },
  {
   "cell_type": "markdown",
   "id": "58306c4f",
   "metadata": {},
   "source": [
    "Чтобы оценить статистическую значимость различий в конверсии между групами по очищенным данным и понять, влияют ли выбросы на полученные в 10 пункте результаты (и если влияют, то как), нужно получить список \"аномальных пользователей\". Этот же список поможет нам на этапе, когда мы будем проверять статистическую значимость различий в среднем чеке заказа между группами по «очищенным» данным. \n",
    "\n",
    "Выше мы определили критерии, которым эти пользователи удовлетворяют: \n",
    "- количество заказов более четырех;\n",
    "- заказы дороже 0.028 млн;\n",
    "\n",
    "Чтобы быть аномальным, пользователю достаточно удовлетворять одному из этих критериев. "
   ]
  },
  {
   "cell_type": "code",
   "execution_count": 45,
   "id": "650bff6b",
   "metadata": {},
   "outputs": [
    {
     "name": "stdout",
     "output_type": "stream",
     "text": [
      "58\n"
     ]
    }
   ],
   "source": [
    "# получаем список пользователей, с аномальным количеством заказов либо их аномальной стоимостью\n",
    "\n",
    "tooManyOrders = ordersByUsers.query('orders > @abnormal_orders')['visitorId']\n",
    "tooExpensive = orders.query('revenue > @abnormal_revenue')['visitorId']\n",
    "abnormalUsers = pd.concat([tooManyOrders, tooExpensive], axis=0).drop_duplicates()\n",
    "print(len(abnormalUsers))"
   ]
  },
  {
   "cell_type": "markdown",
   "id": "f216a162",
   "metadata": {},
   "source": [
    "Всего у нас 58 аномальных пользователей."
   ]
  },
  {
   "cell_type": "code",
   "execution_count": 46,
   "id": "5a332056",
   "metadata": {},
   "outputs": [],
   "source": [
    "# получаем таблицу с данными по заказам, исключающими заказы аномальных пользователей\n",
    "# используем список аномальных пользователей для фильтрации\n",
    "filtered_orders = orders[np.logical_not(orders['visitorId'].isin(abnormalUsers))]"
   ]
  },
  {
   "cell_type": "code",
   "execution_count": 47,
   "id": "f3093508",
   "metadata": {},
   "outputs": [],
   "source": [
    "filt_orders_a = filtered_orders[filtered_orders['group'] == 'A'].groupby('visitorId', as_index=False).agg({'transactionId': pd.Series.nunique})\n",
    "filt_orders_b = filtered_orders[filtered_orders['group'] == 'B'].groupby('visitorId', as_index=False).agg({'transactionId': pd.Series.nunique})"
   ]
  },
  {
   "cell_type": "code",
   "execution_count": 48,
   "id": "7be73a27",
   "metadata": {},
   "outputs": [],
   "source": [
    "# получаем массивы с данными о конверсии в группах А и В для оценки стат. значимости\n",
    "filtered_a = pd.concat([filt_orders_a['transactionId'], \n",
    "                   pd.Series(0, index=np.arange(\n",
    "                       visitors[visitors['group']=='A']['visitors'].sum() - len(filt_orders_a['transactionId'])))],axis=0)\n",
    "filtered_b = pd.concat([filt_orders_b['transactionId'], \n",
    "                   pd.Series(0, index=np.arange(\n",
    "                       visitors[visitors['group']=='B']['visitors'].sum() - len(filt_orders_b['transactionId'])))],axis=0)"
   ]
  },
  {
   "cell_type": "code",
   "execution_count": 49,
   "id": "d322bd0f",
   "metadata": {},
   "outputs": [
    {
     "name": "stdout",
     "output_type": "stream",
     "text": [
      "18736\n",
      "18916\n"
     ]
    }
   ],
   "source": [
    "print(len(filtered_a))\n",
    "print(len(filtered_b))"
   ]
  },
  {
   "cell_type": "markdown",
   "id": "9f49cd57",
   "metadata": {},
   "source": [
    "Сформулируем гипотезы, которые теперь можем проверить. \n",
    "\n",
    "**Нулевая гипотеза:** статистической значимости в конверсии между группами по очищенным данным нет.\n",
    "**Альтернативная гипотеза:** статистическая значимость в конверсии между группами по очищенным данным есть.\n",
    "\n",
    "В качестве *alpha* установим значение *0.05*."
   ]
  },
  {
   "cell_type": "code",
   "execution_count": 50,
   "id": "2c55de31",
   "metadata": {
    "scrolled": true
   },
   "outputs": [
    {
     "name": "stdout",
     "output_type": "stream",
     "text": [
      "0.012\n"
     ]
    }
   ],
   "source": [
    "# проверяем статистическую значимость\n",
    "print(\"{0:.3f}\".format(st.mannwhitneyu(filtered_a, filtered_b)[1]))"
   ]
  },
  {
   "cell_type": "code",
   "execution_count": 51,
   "id": "817d12fc",
   "metadata": {},
   "outputs": [
    {
     "name": "stdout",
     "output_type": "stream",
     "text": [
      "-0.154\n"
     ]
    }
   ],
   "source": [
    "# проверяем относительное различие\n",
    "print(\"{0:.3f}\".format(filtered_a.mean() / filtered_b.mean() - 1))"
   ]
  },
  {
   "cell_type": "markdown",
   "id": "ef989df0",
   "metadata": {},
   "source": [
    "Показатель конверсии по отфильтрованным данным лучше у группы В на 15,4%. Полученное значение p-value меньше порогового значения alpha, поэтому нулевую гипотезу можно отвергнуть."
   ]
  },
  {
   "cell_type": "markdown",
   "id": "d45318a8",
   "metadata": {},
   "source": [
    "**13. Статистическая значимость различий в среднем чеке заказа между группами по «очищенным» данным**"
   ]
  },
  {
   "cell_type": "markdown",
   "id": "a7eb6648",
   "metadata": {},
   "source": [
    "**Нулевая гипотеза:** статистическая значимость различий в среднем чеке заказа между группами по «очищенным» данным отсутствует.\n",
    "**Альтернативная гипотеза:** есть статистическая значимость различий в среднем чеке заказа между группами по «очищенным» данным.\n",
    "\n",
    "В качестве *alpha* установим значение *0.05*."
   ]
  },
  {
   "cell_type": "code",
   "execution_count": 52,
   "id": "e81dedbd",
   "metadata": {},
   "outputs": [
    {
     "name": "stdout",
     "output_type": "stream",
     "text": [
      "0.646\n",
      "-0.048\n"
     ]
    }
   ],
   "source": [
    "# проверяем статистическую значимость\n",
    "print('{0:.3f}'.format(st.mannwhitneyu(filtered_orders[filtered_orders['group']=='A']['revenue'], filtered_orders[filtered_orders['group']=='B']['revenue'])[1]))\n",
    "# проверяем относительное различие\n",
    "print('{0:.3f}'.format(filtered_orders[filtered_orders['group']=='B']['revenue'].mean() / filtered_orders[filtered_orders['group']=='A']['revenue'].mean()-1)) "
   ]
  },
  {
   "cell_type": "markdown",
   "id": "176d48a3",
   "metadata": {},
   "source": [
    "Полученное на очищенных данных значение p-value сильно превышает пороговое значение alpha, при том что относительное различие между группами - 4,8%. Нулевую гипотезу нельзя отвергнуть. "
   ]
  },
  {
   "cell_type": "markdown",
   "id": "26adf81f",
   "metadata": {},
   "source": [
    "# Решение по результатам теста"
   ]
  },
  {
   "cell_type": "markdown",
   "id": "5579b053",
   "metadata": {},
   "source": [
    "Прежде, чем принять решение по результатам теста, подыдожим все, что нам удалось оценить. \n",
    "\n",
    "1. Все *графики кумулятивных метрик*, которые мы строили, демонстрировали, что *результаты группы В лучше, чем результаты группы А, однако при этом все графики также показывали серьезные колебания*.\n",
    "\n",
    "2. *Графики относительного различия* также показывали в целом *лучшие результаты у группы В*, однако также были участки графиков, на которых группа В показывала результаты хуже, чем группа А. \n",
    "\n",
    "3. График кумулятивного среднего чека и его относительного изменения показывает, что, несмотря на в целом хорошие результаты, *у группы В к концу теста показатели стали ухудшаться*.\n",
    "\n",
    "4. Мы оценили **статистическую значимость различий в конверсии по группам по сырым и по очищенным данным**. Нулевую гиптезу о том, что статистическая значимость различий в конверсии по группам отсутствует, нам удалось отвергнуть в обоих случаях. Отночительное различие в среднем чеке по сырым данным - 13,8% в пользу группы В, а по очищенным - 15,4% в пользу группы В.\n",
    "\n",
    "5. Мы оценили **статистическую значимость различий в среднем чеке по группам по сырым и по очищенным данным**. Статистическая значимость различий этого показателя по группам не была обнаружена. В случае с очищенными данными мы также получили маленькое значение относительного различия - всего 4,8%, что значительно меньше этого показателя по сырым данным, который равен 28,7%.\n",
    "\n",
    "По графикам кажется, что результаты группы В в целом лучше, чем результаты группы А. За время теста нам удалось подтвердить статистически значимое разилчие в конверсии по группам как по сырым, так и по очищенным данным, и в обоих случаях группа В показывала результат лучше, чем группа А. При этом мы не получили статистически значимого разичия в среднем чеке ни по сырым, ни по очищенным данным. Таким образом, показатели конверсии и группы В действительно лучше, чем у группы А, однако средний чек пользователей этих групп приблизительно одинаковый. Кажется, что **тест следует остановить и зафиксировать победу группы В**.  "
   ]
  }
 ],
 "metadata": {
  "ExecuteTimeLog": [
   {
    "duration": 1322,
    "start_time": "2022-07-16T13:46:58.903Z"
   },
   {
    "duration": 144,
    "start_time": "2022-07-16T13:47:52.691Z"
   },
   {
    "duration": 15,
    "start_time": "2022-07-16T13:49:00.064Z"
   },
   {
    "duration": 93,
    "start_time": "2022-07-16T14:12:43.208Z"
   },
   {
    "duration": 9,
    "start_time": "2022-07-16T14:12:57.908Z"
   },
   {
    "duration": 12,
    "start_time": "2022-07-16T14:14:45.412Z"
   },
   {
    "duration": 1058,
    "start_time": "2022-07-16T14:15:10.314Z"
   },
   {
    "duration": 132,
    "start_time": "2022-07-16T14:15:11.374Z"
   },
   {
    "duration": 110,
    "start_time": "2022-07-16T14:15:11.508Z"
   },
   {
    "duration": 0,
    "start_time": "2022-07-16T14:15:11.620Z"
   },
   {
    "duration": 14,
    "start_time": "2022-07-16T14:20:54.907Z"
   },
   {
    "duration": 33,
    "start_time": "2022-07-16T14:22:20.298Z"
   },
   {
    "duration": 11,
    "start_time": "2022-07-16T14:22:21.441Z"
   },
   {
    "duration": 9,
    "start_time": "2022-07-16T14:22:24.821Z"
   },
   {
    "duration": 33,
    "start_time": "2022-07-16T14:22:32.643Z"
   },
   {
    "duration": 9,
    "start_time": "2022-07-16T14:22:35.221Z"
   },
   {
    "duration": 9,
    "start_time": "2022-07-16T14:23:19.641Z"
   },
   {
    "duration": 9,
    "start_time": "2022-07-16T14:24:25.059Z"
   },
   {
    "duration": 9,
    "start_time": "2022-07-16T14:24:25.841Z"
   },
   {
    "duration": 9,
    "start_time": "2022-07-16T14:24:29.383Z"
   },
   {
    "duration": 39,
    "start_time": "2022-07-16T14:24:39.081Z"
   },
   {
    "duration": 10,
    "start_time": "2022-07-16T14:24:40.087Z"
   },
   {
    "duration": 12,
    "start_time": "2022-07-16T14:24:50.551Z"
   },
   {
    "duration": 9,
    "start_time": "2022-07-16T14:24:51.267Z"
   },
   {
    "duration": 4,
    "start_time": "2022-07-16T14:25:05.366Z"
   },
   {
    "duration": 4,
    "start_time": "2022-07-16T14:25:33.141Z"
   },
   {
    "duration": 3,
    "start_time": "2022-07-16T14:25:36.752Z"
   },
   {
    "duration": 11,
    "start_time": "2022-07-16T14:25:37.694Z"
   },
   {
    "duration": 6,
    "start_time": "2022-07-16T14:33:24.745Z"
   },
   {
    "duration": 12,
    "start_time": "2022-07-16T14:33:50.357Z"
   },
   {
    "duration": 11,
    "start_time": "2022-07-16T14:41:44.843Z"
   },
   {
    "duration": 52,
    "start_time": "2022-07-16T14:41:51.765Z"
   },
   {
    "duration": 12,
    "start_time": "2022-07-16T14:42:01.596Z"
   },
   {
    "duration": 10,
    "start_time": "2022-07-16T14:42:03.120Z"
   },
   {
    "duration": 8,
    "start_time": "2022-07-16T14:42:19.904Z"
   },
   {
    "duration": 9,
    "start_time": "2022-07-16T14:42:40.679Z"
   },
   {
    "duration": 128,
    "start_time": "2022-07-16T21:56:25.046Z"
   },
   {
    "duration": 53,
    "start_time": "2022-07-16T21:58:19.659Z"
   },
   {
    "duration": 3,
    "start_time": "2022-07-16T21:59:22.841Z"
   },
   {
    "duration": 59,
    "start_time": "2022-07-16T21:59:53.035Z"
   },
   {
    "duration": 12,
    "start_time": "2022-07-16T22:00:02.712Z"
   },
   {
    "duration": 83,
    "start_time": "2022-07-16T22:01:07.811Z"
   },
   {
    "duration": 90,
    "start_time": "2022-07-16T22:01:15.512Z"
   },
   {
    "duration": 38,
    "start_time": "2022-07-16T22:01:22.429Z"
   },
   {
    "duration": 245,
    "start_time": "2022-07-16T22:01:42.970Z"
   },
   {
    "duration": 43,
    "start_time": "2022-07-16T22:02:15.224Z"
   },
   {
    "duration": 278,
    "start_time": "2022-07-16T22:02:23.193Z"
   },
   {
    "duration": 250,
    "start_time": "2022-07-16T22:02:57.669Z"
   },
   {
    "duration": 5,
    "start_time": "2022-07-16T22:03:21.548Z"
   },
   {
    "duration": 1171,
    "start_time": "2022-07-19T21:36:05.477Z"
   },
   {
    "duration": 124,
    "start_time": "2022-07-19T21:36:06.651Z"
   },
   {
    "duration": 4,
    "start_time": "2022-07-19T21:36:06.776Z"
   },
   {
    "duration": 38,
    "start_time": "2022-07-19T21:36:06.781Z"
   },
   {
    "duration": 9,
    "start_time": "2022-07-19T21:36:06.821Z"
   },
   {
    "duration": 11,
    "start_time": "2022-07-19T21:36:06.831Z"
   },
   {
    "duration": 8,
    "start_time": "2022-07-19T21:36:06.843Z"
   },
   {
    "duration": 10,
    "start_time": "2022-07-19T21:36:06.852Z"
   },
   {
    "duration": 94,
    "start_time": "2022-07-19T21:36:06.863Z"
   },
   {
    "duration": 12,
    "start_time": "2022-07-19T21:36:06.959Z"
   },
   {
    "duration": 67,
    "start_time": "2022-07-19T21:36:06.972Z"
   },
   {
    "duration": 4,
    "start_time": "2022-07-19T21:36:07.040Z"
   },
   {
    "duration": 188,
    "start_time": "2022-07-19T21:36:07.046Z"
   },
   {
    "duration": 150,
    "start_time": "2022-07-19T21:38:04.455Z"
   },
   {
    "duration": 214,
    "start_time": "2022-07-19T21:38:24.990Z"
   },
   {
    "duration": 218,
    "start_time": "2022-07-19T21:43:22.305Z"
   },
   {
    "duration": 1237,
    "start_time": "2022-07-20T00:24:51.420Z"
   },
   {
    "duration": 130,
    "start_time": "2022-07-20T00:24:52.660Z"
   },
   {
    "duration": 4,
    "start_time": "2022-07-20T00:24:52.792Z"
   },
   {
    "duration": 15,
    "start_time": "2022-07-20T00:24:52.798Z"
   },
   {
    "duration": 30,
    "start_time": "2022-07-20T00:24:52.815Z"
   },
   {
    "duration": 24,
    "start_time": "2022-07-20T00:24:52.847Z"
   },
   {
    "duration": 23,
    "start_time": "2022-07-20T00:24:52.873Z"
   },
   {
    "duration": 20,
    "start_time": "2022-07-20T00:24:52.898Z"
   },
   {
    "duration": 125,
    "start_time": "2022-07-20T00:24:52.920Z"
   },
   {
    "duration": 14,
    "start_time": "2022-07-20T00:24:53.047Z"
   },
   {
    "duration": 86,
    "start_time": "2022-07-20T00:24:53.063Z"
   },
   {
    "duration": 4,
    "start_time": "2022-07-20T00:24:53.151Z"
   },
   {
    "duration": 254,
    "start_time": "2022-07-20T00:24:53.156Z"
   },
   {
    "duration": 1322,
    "start_time": "2022-07-20T00:24:53.412Z"
   },
   {
    "duration": 282,
    "start_time": "2022-07-20T00:25:15.823Z"
   },
   {
    "duration": 310,
    "start_time": "2022-07-20T00:25:41.743Z"
   },
   {
    "duration": 186,
    "start_time": "2022-07-20T00:25:55.891Z"
   },
   {
    "duration": 189,
    "start_time": "2022-07-20T00:26:28.810Z"
   },
   {
    "duration": 189,
    "start_time": "2022-07-20T00:30:19.497Z"
   },
   {
    "duration": 172,
    "start_time": "2022-07-20T00:35:24.539Z"
   },
   {
    "duration": 325,
    "start_time": "2022-07-20T00:35:40.746Z"
   },
   {
    "duration": 1319,
    "start_time": "2022-07-26T18:04:41.940Z"
   },
   {
    "duration": 134,
    "start_time": "2022-07-26T18:04:43.261Z"
   },
   {
    "duration": 3,
    "start_time": "2022-07-26T18:04:43.397Z"
   },
   {
    "duration": 16,
    "start_time": "2022-07-26T18:04:43.402Z"
   },
   {
    "duration": 15,
    "start_time": "2022-07-26T18:04:43.419Z"
   },
   {
    "duration": 12,
    "start_time": "2022-07-26T18:04:43.435Z"
   },
   {
    "duration": 9,
    "start_time": "2022-07-26T18:04:43.449Z"
   },
   {
    "duration": 15,
    "start_time": "2022-07-26T18:04:43.459Z"
   },
   {
    "duration": 82,
    "start_time": "2022-07-26T18:04:43.476Z"
   },
   {
    "duration": 14,
    "start_time": "2022-07-26T18:04:43.562Z"
   },
   {
    "duration": 67,
    "start_time": "2022-07-26T18:04:43.578Z"
   },
   {
    "duration": 4,
    "start_time": "2022-07-26T18:04:43.647Z"
   },
   {
    "duration": 235,
    "start_time": "2022-07-26T18:04:43.654Z"
   },
   {
    "duration": 298,
    "start_time": "2022-07-26T18:04:43.890Z"
   },
   {
    "duration": 220,
    "start_time": "2022-07-26T18:04:44.190Z"
   },
   {
    "duration": 330,
    "start_time": "2022-07-26T18:04:44.412Z"
   },
   {
    "duration": 222,
    "start_time": "2022-07-26T18:05:34.714Z"
   },
   {
    "duration": 204,
    "start_time": "2022-07-26T18:05:40.545Z"
   },
   {
    "duration": 326,
    "start_time": "2022-07-26T18:07:11.212Z"
   },
   {
    "duration": 328,
    "start_time": "2022-07-26T18:07:18.501Z"
   },
   {
    "duration": 346,
    "start_time": "2022-07-26T18:08:40.014Z"
   },
   {
    "duration": 9,
    "start_time": "2022-07-26T18:16:15.900Z"
   },
   {
    "duration": 1224,
    "start_time": "2022-07-26T18:23:51.177Z"
   },
   {
    "duration": 142,
    "start_time": "2022-07-26T18:23:52.404Z"
   },
   {
    "duration": 4,
    "start_time": "2022-07-26T18:23:52.548Z"
   },
   {
    "duration": 20,
    "start_time": "2022-07-26T18:23:52.555Z"
   },
   {
    "duration": 14,
    "start_time": "2022-07-26T18:23:52.577Z"
   },
   {
    "duration": 17,
    "start_time": "2022-07-26T18:23:52.594Z"
   },
   {
    "duration": 12,
    "start_time": "2022-07-26T18:23:52.613Z"
   },
   {
    "duration": 23,
    "start_time": "2022-07-26T18:23:52.627Z"
   },
   {
    "duration": 84,
    "start_time": "2022-07-26T18:23:52.652Z"
   },
   {
    "duration": 16,
    "start_time": "2022-07-26T18:23:52.740Z"
   },
   {
    "duration": 70,
    "start_time": "2022-07-26T18:23:52.758Z"
   },
   {
    "duration": 4,
    "start_time": "2022-07-26T18:23:52.830Z"
   },
   {
    "duration": 248,
    "start_time": "2022-07-26T18:23:52.836Z"
   },
   {
    "duration": 1237,
    "start_time": "2022-07-26T18:23:53.086Z"
   },
   {
    "duration": 0,
    "start_time": "2022-07-26T18:23:54.325Z"
   },
   {
    "duration": 0,
    "start_time": "2022-07-26T18:23:54.328Z"
   },
   {
    "duration": 289,
    "start_time": "2022-07-26T18:25:58.229Z"
   },
   {
    "duration": 201,
    "start_time": "2022-07-26T18:26:01.373Z"
   },
   {
    "duration": 277,
    "start_time": "2022-07-26T18:26:03.347Z"
   },
   {
    "duration": 225,
    "start_time": "2022-07-26T18:45:58.642Z"
   },
   {
    "duration": 302,
    "start_time": "2022-07-26T18:46:50.278Z"
   },
   {
    "duration": 259,
    "start_time": "2022-07-26T18:47:17.357Z"
   },
   {
    "duration": 269,
    "start_time": "2022-07-26T18:47:36.903Z"
   },
   {
    "duration": 219,
    "start_time": "2022-07-26T18:56:10.352Z"
   },
   {
    "duration": 322,
    "start_time": "2022-07-26T18:57:03.057Z"
   },
   {
    "duration": 442,
    "start_time": "2022-07-26T18:57:25.475Z"
   },
   {
    "duration": 94,
    "start_time": "2022-07-26T21:12:53.731Z"
   },
   {
    "duration": 32,
    "start_time": "2022-07-26T21:13:02.097Z"
   },
   {
    "duration": 132,
    "start_time": "2022-07-26T21:13:35.931Z"
   },
   {
    "duration": 200,
    "start_time": "2022-07-26T21:17:08.817Z"
   },
   {
    "duration": 165,
    "start_time": "2022-07-26T21:17:24.127Z"
   },
   {
    "duration": 189,
    "start_time": "2022-07-26T21:17:40.234Z"
   },
   {
    "duration": 6,
    "start_time": "2022-07-26T21:22:54.854Z"
   },
   {
    "duration": 1418,
    "start_time": "2022-07-27T15:20:16.313Z"
   },
   {
    "duration": 169,
    "start_time": "2022-07-27T15:20:17.734Z"
   },
   {
    "duration": 6,
    "start_time": "2022-07-27T15:20:17.905Z"
   },
   {
    "duration": 17,
    "start_time": "2022-07-27T15:20:17.913Z"
   },
   {
    "duration": 11,
    "start_time": "2022-07-27T15:20:17.931Z"
   },
   {
    "duration": 10,
    "start_time": "2022-07-27T15:20:17.943Z"
   },
   {
    "duration": 6,
    "start_time": "2022-07-27T15:20:17.954Z"
   },
   {
    "duration": 9,
    "start_time": "2022-07-27T15:20:17.962Z"
   },
   {
    "duration": 79,
    "start_time": "2022-07-27T15:20:17.973Z"
   },
   {
    "duration": 10,
    "start_time": "2022-07-27T15:20:18.055Z"
   },
   {
    "duration": 66,
    "start_time": "2022-07-27T15:20:18.066Z"
   },
   {
    "duration": 4,
    "start_time": "2022-07-27T15:20:18.133Z"
   },
   {
    "duration": 201,
    "start_time": "2022-07-27T15:20:18.139Z"
   },
   {
    "duration": 249,
    "start_time": "2022-07-27T15:20:18.342Z"
   },
   {
    "duration": 181,
    "start_time": "2022-07-27T15:20:18.593Z"
   },
   {
    "duration": 336,
    "start_time": "2022-07-27T15:20:18.776Z"
   },
   {
    "duration": 188,
    "start_time": "2022-07-27T15:20:19.114Z"
   },
   {
    "duration": 286,
    "start_time": "2022-07-27T15:20:19.304Z"
   },
   {
    "duration": 149,
    "start_time": "2022-07-27T15:20:19.601Z"
   },
   {
    "duration": 4,
    "start_time": "2022-07-27T15:20:19.752Z"
   },
   {
    "duration": 200,
    "start_time": "2022-07-27T15:20:20.089Z"
   },
   {
    "duration": 121,
    "start_time": "2022-07-27T15:22:30.205Z"
   },
   {
    "duration": 126,
    "start_time": "2022-07-27T15:22:57.084Z"
   },
   {
    "duration": 192,
    "start_time": "2022-07-27T15:23:06.802Z"
   },
   {
    "duration": 115,
    "start_time": "2022-07-27T15:23:25.759Z"
   },
   {
    "duration": 123,
    "start_time": "2022-07-27T15:24:04.351Z"
   },
   {
    "duration": 127,
    "start_time": "2022-07-27T15:24:50.329Z"
   },
   {
    "duration": 118,
    "start_time": "2022-07-27T15:25:01.324Z"
   },
   {
    "duration": 122,
    "start_time": "2022-07-27T15:26:34.524Z"
   },
   {
    "duration": 148,
    "start_time": "2022-07-27T15:26:44.435Z"
   },
   {
    "duration": 114,
    "start_time": "2022-07-27T15:27:31.318Z"
   },
   {
    "duration": 120,
    "start_time": "2022-07-27T15:27:42.118Z"
   },
   {
    "duration": 4,
    "start_time": "2022-07-27T15:30:23.115Z"
   },
   {
    "duration": 12,
    "start_time": "2022-07-27T15:35:18.453Z"
   },
   {
    "duration": 4,
    "start_time": "2022-07-27T15:35:52.286Z"
   },
   {
    "duration": 4,
    "start_time": "2022-07-27T15:36:58.188Z"
   },
   {
    "duration": 1376,
    "start_time": "2022-07-27T15:49:47.595Z"
   },
   {
    "duration": 143,
    "start_time": "2022-07-27T16:11:23.934Z"
   },
   {
    "duration": 154,
    "start_time": "2022-07-27T18:37:16.126Z"
   },
   {
    "duration": 15,
    "start_time": "2022-07-27T19:17:34.256Z"
   },
   {
    "duration": 11,
    "start_time": "2022-07-27T19:17:43.724Z"
   },
   {
    "duration": 9,
    "start_time": "2022-07-27T19:22:42.342Z"
   },
   {
    "duration": 11,
    "start_time": "2022-07-27T19:22:54.076Z"
   },
   {
    "duration": 119,
    "start_time": "2022-07-27T19:26:35.998Z"
   },
   {
    "duration": 130,
    "start_time": "2022-07-27T19:26:54.087Z"
   },
   {
    "duration": 7,
    "start_time": "2022-07-27T19:26:56.372Z"
   },
   {
    "duration": 5,
    "start_time": "2022-07-27T19:46:24.839Z"
   },
   {
    "duration": 12,
    "start_time": "2022-07-27T19:46:38.440Z"
   },
   {
    "duration": 4,
    "start_time": "2022-07-27T19:47:11.178Z"
   },
   {
    "duration": 15,
    "start_time": "2022-07-27T19:47:11.892Z"
   },
   {
    "duration": 3,
    "start_time": "2022-07-27T19:53:56.512Z"
   },
   {
    "duration": 6,
    "start_time": "2022-07-27T19:54:03.625Z"
   },
   {
    "duration": 11,
    "start_time": "2022-07-27T19:54:57.257Z"
   },
   {
    "duration": 8,
    "start_time": "2022-07-27T19:59:20.373Z"
   },
   {
    "duration": 4,
    "start_time": "2022-07-27T19:59:43.030Z"
   },
   {
    "duration": 3,
    "start_time": "2022-07-27T20:09:39.011Z"
   },
   {
    "duration": 4,
    "start_time": "2022-07-27T20:09:52.928Z"
   },
   {
    "duration": 4,
    "start_time": "2022-07-27T20:10:04.462Z"
   },
   {
    "duration": 4,
    "start_time": "2022-07-27T20:10:32.149Z"
   },
   {
    "duration": 4,
    "start_time": "2022-07-27T20:10:45.683Z"
   },
   {
    "duration": 5,
    "start_time": "2022-07-27T20:15:35.197Z"
   },
   {
    "duration": 10,
    "start_time": "2022-07-27T21:19:00.665Z"
   },
   {
    "duration": 9,
    "start_time": "2022-07-27T21:19:10.095Z"
   },
   {
    "duration": 7,
    "start_time": "2022-07-27T21:32:28.048Z"
   },
   {
    "duration": 6,
    "start_time": "2022-07-27T21:34:34.137Z"
   },
   {
    "duration": 6,
    "start_time": "2022-07-27T21:37:22.801Z"
   },
   {
    "duration": 9,
    "start_time": "2022-07-27T21:38:50.387Z"
   },
   {
    "duration": 193,
    "start_time": "2022-07-27T21:48:47.731Z"
   },
   {
    "duration": 1145,
    "start_time": "2022-07-28T19:56:37.992Z"
   },
   {
    "duration": 111,
    "start_time": "2022-07-28T19:56:39.139Z"
   },
   {
    "duration": 3,
    "start_time": "2022-07-28T19:56:39.251Z"
   },
   {
    "duration": 18,
    "start_time": "2022-07-28T19:56:39.256Z"
   },
   {
    "duration": 10,
    "start_time": "2022-07-28T19:56:39.276Z"
   },
   {
    "duration": 10,
    "start_time": "2022-07-28T19:56:39.287Z"
   },
   {
    "duration": 6,
    "start_time": "2022-07-28T19:56:39.299Z"
   },
   {
    "duration": 10,
    "start_time": "2022-07-28T19:56:39.306Z"
   },
   {
    "duration": 102,
    "start_time": "2022-07-28T19:56:39.317Z"
   },
   {
    "duration": 11,
    "start_time": "2022-07-28T19:56:39.421Z"
   },
   {
    "duration": 61,
    "start_time": "2022-07-28T19:56:39.434Z"
   },
   {
    "duration": 4,
    "start_time": "2022-07-28T19:56:39.496Z"
   },
   {
    "duration": 199,
    "start_time": "2022-07-28T19:56:39.502Z"
   },
   {
    "duration": 256,
    "start_time": "2022-07-28T19:56:39.702Z"
   },
   {
    "duration": 181,
    "start_time": "2022-07-28T19:56:39.960Z"
   },
   {
    "duration": 338,
    "start_time": "2022-07-28T19:56:40.142Z"
   },
   {
    "duration": 186,
    "start_time": "2022-07-28T19:56:40.481Z"
   },
   {
    "duration": 289,
    "start_time": "2022-07-28T19:56:40.669Z"
   },
   {
    "duration": 144,
    "start_time": "2022-07-28T19:56:40.959Z"
   },
   {
    "duration": 4,
    "start_time": "2022-07-28T19:56:41.104Z"
   },
   {
    "duration": 6,
    "start_time": "2022-07-28T19:56:41.109Z"
   },
   {
    "duration": 166,
    "start_time": "2022-07-28T19:56:41.116Z"
   },
   {
    "duration": 4,
    "start_time": "2022-07-28T19:56:41.283Z"
   },
   {
    "duration": 16,
    "start_time": "2022-07-28T19:56:41.289Z"
   },
   {
    "duration": 4,
    "start_time": "2022-07-28T19:56:41.307Z"
   },
   {
    "duration": 16,
    "start_time": "2022-07-28T19:56:41.313Z"
   },
   {
    "duration": 6,
    "start_time": "2022-07-28T19:56:41.331Z"
   },
   {
    "duration": 14,
    "start_time": "2022-07-28T19:56:41.340Z"
   },
   {
    "duration": 7,
    "start_time": "2022-07-28T19:56:41.356Z"
   },
   {
    "duration": 19,
    "start_time": "2022-07-28T19:56:41.364Z"
   },
   {
    "duration": 12,
    "start_time": "2022-07-28T19:56:41.385Z"
   },
   {
    "duration": 5,
    "start_time": "2022-07-28T19:56:41.398Z"
   },
   {
    "duration": 19,
    "start_time": "2022-07-28T20:00:48.338Z"
   },
   {
    "duration": 12,
    "start_time": "2022-07-28T20:02:16.097Z"
   },
   {
    "duration": 24,
    "start_time": "2022-07-28T20:02:28.963Z"
   },
   {
    "duration": 17,
    "start_time": "2022-07-28T20:11:54.153Z"
   },
   {
    "duration": 17,
    "start_time": "2022-07-28T20:14:18.851Z"
   },
   {
    "duration": 1725,
    "start_time": "2022-07-28T20:20:19.317Z"
   },
   {
    "duration": 1259,
    "start_time": "2022-07-28T20:21:02.994Z"
   },
   {
    "duration": 19,
    "start_time": "2022-07-28T20:21:34.415Z"
   },
   {
    "duration": 18,
    "start_time": "2022-07-28T20:27:09.782Z"
   },
   {
    "duration": 20,
    "start_time": "2022-07-28T20:27:35.254Z"
   },
   {
    "duration": 18,
    "start_time": "2022-07-28T20:27:45.308Z"
   },
   {
    "duration": 17,
    "start_time": "2022-07-28T20:28:20.934Z"
   },
   {
    "duration": 20,
    "start_time": "2022-07-28T20:29:51.633Z"
   },
   {
    "duration": 18,
    "start_time": "2022-07-28T20:29:58.819Z"
   },
   {
    "duration": 26,
    "start_time": "2022-07-28T20:30:29.563Z"
   },
   {
    "duration": 3,
    "start_time": "2022-07-28T20:35:28.278Z"
   },
   {
    "duration": 13,
    "start_time": "2022-07-28T20:35:40.420Z"
   },
   {
    "duration": 5,
    "start_time": "2022-07-28T20:37:38.370Z"
   },
   {
    "duration": 15,
    "start_time": "2022-07-28T20:37:46.361Z"
   },
   {
    "duration": 15,
    "start_time": "2022-07-28T20:38:05.756Z"
   },
   {
    "duration": 12,
    "start_time": "2022-07-28T20:38:17.723Z"
   },
   {
    "duration": 5,
    "start_time": "2022-07-28T20:41:27.566Z"
   },
   {
    "duration": 5,
    "start_time": "2022-07-28T20:41:30.249Z"
   },
   {
    "duration": 25,
    "start_time": "2022-07-28T20:53:28.862Z"
   },
   {
    "duration": 4,
    "start_time": "2022-07-28T20:53:32.178Z"
   },
   {
    "duration": 6,
    "start_time": "2022-07-28T20:53:33.263Z"
   },
   {
    "duration": 5,
    "start_time": "2022-07-28T20:53:57.050Z"
   },
   {
    "duration": 1499,
    "start_time": "2022-07-28T21:15:21.587Z"
   },
   {
    "duration": 13,
    "start_time": "2022-07-28T21:15:36.775Z"
   },
   {
    "duration": 21,
    "start_time": "2022-07-28T21:15:49.370Z"
   },
   {
    "duration": 30,
    "start_time": "2022-07-28T21:18:36.014Z"
   },
   {
    "duration": 16,
    "start_time": "2022-07-28T21:19:05.102Z"
   },
   {
    "duration": 5,
    "start_time": "2022-07-28T21:19:59.265Z"
   },
   {
    "duration": 4,
    "start_time": "2022-07-28T21:20:39.341Z"
   },
   {
    "duration": 3,
    "start_time": "2022-07-28T21:21:38.512Z"
   },
   {
    "duration": 3,
    "start_time": "2022-07-28T21:21:49.484Z"
   },
   {
    "duration": 10,
    "start_time": "2022-07-28T21:30:09.516Z"
   },
   {
    "duration": 4,
    "start_time": "2022-07-28T21:35:58.609Z"
   },
   {
    "duration": 9,
    "start_time": "2022-07-28T21:37:04.942Z"
   },
   {
    "duration": 24,
    "start_time": "2022-07-29T19:53:31.140Z"
   },
   {
    "duration": 25,
    "start_time": "2022-07-29T19:53:37.494Z"
   },
   {
    "duration": 1081,
    "start_time": "2022-07-29T20:19:52.825Z"
   },
   {
    "duration": 84,
    "start_time": "2022-07-29T20:19:53.908Z"
   },
   {
    "duration": 3,
    "start_time": "2022-07-29T20:19:53.994Z"
   },
   {
    "duration": 28,
    "start_time": "2022-07-29T20:19:53.999Z"
   },
   {
    "duration": 19,
    "start_time": "2022-07-29T20:19:54.029Z"
   },
   {
    "duration": 28,
    "start_time": "2022-07-29T20:19:54.050Z"
   },
   {
    "duration": 20,
    "start_time": "2022-07-29T20:19:54.080Z"
   },
   {
    "duration": 15,
    "start_time": "2022-07-29T20:19:54.102Z"
   },
   {
    "duration": 45,
    "start_time": "2022-07-29T20:19:54.119Z"
   },
   {
    "duration": 22,
    "start_time": "2022-07-29T20:19:54.168Z"
   },
   {
    "duration": 31,
    "start_time": "2022-07-29T20:19:54.192Z"
   },
   {
    "duration": 4,
    "start_time": "2022-07-29T20:19:54.225Z"
   },
   {
    "duration": 236,
    "start_time": "2022-07-29T20:19:54.231Z"
   },
   {
    "duration": 294,
    "start_time": "2022-07-29T20:19:54.469Z"
   },
   {
    "duration": 213,
    "start_time": "2022-07-29T20:19:54.765Z"
   },
   {
    "duration": 327,
    "start_time": "2022-07-29T20:19:54.980Z"
   },
   {
    "duration": 230,
    "start_time": "2022-07-29T20:19:55.309Z"
   },
   {
    "duration": 285,
    "start_time": "2022-07-29T20:19:55.541Z"
   },
   {
    "duration": 170,
    "start_time": "2022-07-29T20:19:55.828Z"
   },
   {
    "duration": 5,
    "start_time": "2022-07-29T20:19:56.004Z"
   },
   {
    "duration": 20,
    "start_time": "2022-07-29T20:19:56.010Z"
   },
   {
    "duration": 173,
    "start_time": "2022-07-29T20:19:56.031Z"
   },
   {
    "duration": 5,
    "start_time": "2022-07-29T20:19:56.205Z"
   },
   {
    "duration": 36,
    "start_time": "2022-07-29T20:19:56.211Z"
   },
   {
    "duration": 5,
    "start_time": "2022-07-29T20:19:56.249Z"
   },
   {
    "duration": 9,
    "start_time": "2022-07-29T20:19:56.255Z"
   },
   {
    "duration": 6,
    "start_time": "2022-07-29T20:19:56.265Z"
   },
   {
    "duration": 10,
    "start_time": "2022-07-29T20:19:56.275Z"
   },
   {
    "duration": 12,
    "start_time": "2022-07-29T20:19:56.305Z"
   },
   {
    "duration": 22,
    "start_time": "2022-07-29T20:19:56.319Z"
   },
   {
    "duration": 12,
    "start_time": "2022-07-29T20:19:56.342Z"
   },
   {
    "duration": 6,
    "start_time": "2022-07-29T20:19:56.356Z"
   },
   {
    "duration": 7,
    "start_time": "2022-07-29T20:19:56.364Z"
   },
   {
    "duration": 33,
    "start_time": "2022-07-29T20:19:56.373Z"
   },
   {
    "duration": 8,
    "start_time": "2022-07-29T20:19:56.408Z"
   },
   {
    "duration": 14,
    "start_time": "2022-07-29T20:19:56.417Z"
   },
   {
    "duration": 41,
    "start_time": "2022-07-29T21:59:29.538Z"
   },
   {
    "duration": 950,
    "start_time": "2022-07-29T21:59:35.300Z"
   },
   {
    "duration": 111,
    "start_time": "2022-07-29T21:59:36.252Z"
   },
   {
    "duration": 3,
    "start_time": "2022-07-29T21:59:36.364Z"
   },
   {
    "duration": 14,
    "start_time": "2022-07-29T21:59:36.369Z"
   },
   {
    "duration": 9,
    "start_time": "2022-07-29T21:59:36.385Z"
   },
   {
    "duration": 11,
    "start_time": "2022-07-29T21:59:36.395Z"
   },
   {
    "duration": 18,
    "start_time": "2022-07-29T21:59:36.407Z"
   },
   {
    "duration": 10,
    "start_time": "2022-07-29T21:59:36.430Z"
   },
   {
    "duration": 82,
    "start_time": "2022-07-29T21:59:36.442Z"
   },
   {
    "duration": 11,
    "start_time": "2022-07-29T21:59:36.526Z"
   },
   {
    "duration": 59,
    "start_time": "2022-07-29T21:59:36.539Z"
   },
   {
    "duration": 4,
    "start_time": "2022-07-29T21:59:36.600Z"
   },
   {
    "duration": 209,
    "start_time": "2022-07-29T21:59:36.606Z"
   },
   {
    "duration": 248,
    "start_time": "2022-07-29T21:59:36.817Z"
   },
   {
    "duration": 168,
    "start_time": "2022-07-29T21:59:37.067Z"
   },
   {
    "duration": 279,
    "start_time": "2022-07-29T21:59:37.237Z"
   },
   {
    "duration": 229,
    "start_time": "2022-07-29T21:59:37.518Z"
   },
   {
    "duration": 262,
    "start_time": "2022-07-29T21:59:37.749Z"
   },
   {
    "duration": 140,
    "start_time": "2022-07-29T21:59:38.013Z"
   },
   {
    "duration": 4,
    "start_time": "2022-07-29T21:59:38.155Z"
   },
   {
    "duration": 6,
    "start_time": "2022-07-29T21:59:38.160Z"
   },
   {
    "duration": 165,
    "start_time": "2022-07-29T21:59:38.167Z"
   },
   {
    "duration": 4,
    "start_time": "2022-07-29T21:59:38.334Z"
   },
   {
    "duration": 21,
    "start_time": "2022-07-29T21:59:38.339Z"
   },
   {
    "duration": 4,
    "start_time": "2022-07-29T21:59:38.361Z"
   },
   {
    "duration": 9,
    "start_time": "2022-07-29T21:59:38.366Z"
   },
   {
    "duration": 5,
    "start_time": "2022-07-29T21:59:38.377Z"
   },
   {
    "duration": 9,
    "start_time": "2022-07-29T21:59:38.384Z"
   },
   {
    "duration": 39,
    "start_time": "2022-07-29T21:59:38.394Z"
   },
   {
    "duration": 19,
    "start_time": "2022-07-29T21:59:38.434Z"
   },
   {
    "duration": 9,
    "start_time": "2022-07-29T21:59:38.455Z"
   },
   {
    "duration": 5,
    "start_time": "2022-07-29T21:59:38.466Z"
   },
   {
    "duration": 7,
    "start_time": "2022-07-29T21:59:38.472Z"
   },
   {
    "duration": 5,
    "start_time": "2022-07-29T21:59:38.480Z"
   },
   {
    "duration": 7,
    "start_time": "2022-07-29T21:59:38.486Z"
   },
   {
    "duration": 38,
    "start_time": "2022-07-29T21:59:38.495Z"
   },
   {
    "duration": 11,
    "start_time": "2022-07-29T21:59:38.535Z"
   },
   {
    "duration": 5,
    "start_time": "2022-07-29T22:00:06.778Z"
   },
   {
    "duration": 10,
    "start_time": "2022-07-29T22:00:39.988Z"
   },
   {
    "duration": 4,
    "start_time": "2022-07-29T22:02:20.414Z"
   },
   {
    "duration": 5,
    "start_time": "2022-07-29T22:02:28.354Z"
   },
   {
    "duration": 42,
    "start_time": "2022-07-30T09:20:45.532Z"
   },
   {
    "duration": 1139,
    "start_time": "2022-07-30T09:20:52.515Z"
   },
   {
    "duration": 118,
    "start_time": "2022-07-30T09:20:53.656Z"
   },
   {
    "duration": 4,
    "start_time": "2022-07-30T09:20:53.776Z"
   },
   {
    "duration": 14,
    "start_time": "2022-07-30T09:20:53.782Z"
   },
   {
    "duration": 12,
    "start_time": "2022-07-30T09:20:53.798Z"
   },
   {
    "duration": 11,
    "start_time": "2022-07-30T09:20:53.811Z"
   },
   {
    "duration": 13,
    "start_time": "2022-07-30T09:20:53.823Z"
   },
   {
    "duration": 10,
    "start_time": "2022-07-30T09:20:53.838Z"
   },
   {
    "duration": 74,
    "start_time": "2022-07-30T09:20:53.850Z"
   },
   {
    "duration": 11,
    "start_time": "2022-07-30T09:20:53.927Z"
   },
   {
    "duration": 62,
    "start_time": "2022-07-30T09:20:53.939Z"
   },
   {
    "duration": 3,
    "start_time": "2022-07-30T09:20:54.003Z"
   },
   {
    "duration": 205,
    "start_time": "2022-07-30T09:20:54.008Z"
   },
   {
    "duration": 232,
    "start_time": "2022-07-30T09:20:54.214Z"
   },
   {
    "duration": 163,
    "start_time": "2022-07-30T09:20:54.447Z"
   },
   {
    "duration": 324,
    "start_time": "2022-07-30T09:20:54.612Z"
   },
   {
    "duration": 178,
    "start_time": "2022-07-30T09:20:54.937Z"
   },
   {
    "duration": 294,
    "start_time": "2022-07-30T09:20:55.116Z"
   },
   {
    "duration": 134,
    "start_time": "2022-07-30T09:20:55.411Z"
   },
   {
    "duration": 4,
    "start_time": "2022-07-30T09:20:55.546Z"
   },
   {
    "duration": 6,
    "start_time": "2022-07-30T09:20:55.551Z"
   },
   {
    "duration": 147,
    "start_time": "2022-07-30T09:20:55.559Z"
   },
   {
    "duration": 4,
    "start_time": "2022-07-30T09:20:55.708Z"
   },
   {
    "duration": 30,
    "start_time": "2022-07-30T09:20:55.714Z"
   },
   {
    "duration": 4,
    "start_time": "2022-07-30T09:20:55.746Z"
   },
   {
    "duration": 8,
    "start_time": "2022-07-30T09:20:55.751Z"
   },
   {
    "duration": 5,
    "start_time": "2022-07-30T09:20:55.761Z"
   },
   {
    "duration": 9,
    "start_time": "2022-07-30T09:20:55.769Z"
   },
   {
    "duration": 10,
    "start_time": "2022-07-30T09:20:55.779Z"
   },
   {
    "duration": 19,
    "start_time": "2022-07-30T09:20:55.790Z"
   },
   {
    "duration": 11,
    "start_time": "2022-07-30T09:20:55.831Z"
   },
   {
    "duration": 7,
    "start_time": "2022-07-30T09:20:55.843Z"
   },
   {
    "duration": 7,
    "start_time": "2022-07-30T09:20:55.851Z"
   },
   {
    "duration": 7,
    "start_time": "2022-07-30T09:20:55.859Z"
   },
   {
    "duration": 6,
    "start_time": "2022-07-30T09:20:55.868Z"
   },
   {
    "duration": 13,
    "start_time": "2022-07-30T09:20:55.875Z"
   },
   {
    "duration": 4,
    "start_time": "2022-07-30T09:29:16.848Z"
   },
   {
    "duration": 4,
    "start_time": "2022-07-30T09:32:53.083Z"
   },
   {
    "duration": 3,
    "start_time": "2022-07-30T09:57:41.532Z"
   },
   {
    "duration": 2,
    "start_time": "2022-07-30T09:57:51.612Z"
   },
   {
    "duration": 86,
    "start_time": "2022-07-30T09:58:05.661Z"
   },
   {
    "duration": 7,
    "start_time": "2022-07-30T09:58:12.615Z"
   },
   {
    "duration": 7,
    "start_time": "2022-07-30T09:58:22.680Z"
   },
   {
    "duration": 9,
    "start_time": "2022-07-30T09:58:25.553Z"
   },
   {
    "duration": 8,
    "start_time": "2022-07-30T09:58:38.115Z"
   },
   {
    "duration": 7,
    "start_time": "2022-07-30T09:58:39.416Z"
   },
   {
    "duration": 31,
    "start_time": "2022-07-30T10:01:11.210Z"
   },
   {
    "duration": 4,
    "start_time": "2022-07-30T10:03:09.495Z"
   },
   {
    "duration": 3,
    "start_time": "2022-07-30T10:09:05.666Z"
   },
   {
    "duration": 5,
    "start_time": "2022-07-30T10:09:14.750Z"
   },
   {
    "duration": 4,
    "start_time": "2022-07-30T10:12:30.033Z"
   },
   {
    "duration": 11,
    "start_time": "2022-07-30T10:14:31.951Z"
   },
   {
    "duration": 160,
    "start_time": "2022-07-30T10:20:25.161Z"
   },
   {
    "duration": 186,
    "start_time": "2022-07-30T10:20:44.409Z"
   },
   {
    "duration": 266,
    "start_time": "2022-07-30T10:21:07.888Z"
   },
   {
    "duration": 184,
    "start_time": "2022-07-30T10:21:14.338Z"
   },
   {
    "duration": 176,
    "start_time": "2022-07-30T10:22:22.605Z"
   },
   {
    "duration": 180,
    "start_time": "2022-07-30T10:22:31.338Z"
   },
   {
    "duration": 205,
    "start_time": "2022-07-30T10:23:08.608Z"
   },
   {
    "duration": 290,
    "start_time": "2022-07-30T10:23:15.543Z"
   },
   {
    "duration": 211,
    "start_time": "2022-07-30T10:25:17.056Z"
   },
   {
    "duration": 184,
    "start_time": "2022-07-30T10:25:57.201Z"
   },
   {
    "duration": 61,
    "start_time": "2022-07-30T15:34:37.519Z"
   },
   {
    "duration": 7,
    "start_time": "2022-07-30T15:34:41.789Z"
   },
   {
    "duration": 1204,
    "start_time": "2022-07-30T15:34:47.711Z"
   },
   {
    "duration": 109,
    "start_time": "2022-07-30T15:34:48.917Z"
   },
   {
    "duration": 3,
    "start_time": "2022-07-30T15:34:49.027Z"
   },
   {
    "duration": 13,
    "start_time": "2022-07-30T15:34:49.032Z"
   },
   {
    "duration": 10,
    "start_time": "2022-07-30T15:34:49.047Z"
   },
   {
    "duration": 13,
    "start_time": "2022-07-30T15:34:49.058Z"
   },
   {
    "duration": 7,
    "start_time": "2022-07-30T15:34:49.072Z"
   },
   {
    "duration": 10,
    "start_time": "2022-07-30T15:34:49.081Z"
   },
   {
    "duration": 83,
    "start_time": "2022-07-30T15:34:49.093Z"
   },
   {
    "duration": 101,
    "start_time": "2022-07-30T15:34:49.178Z"
   },
   {
    "duration": 0,
    "start_time": "2022-07-30T15:34:49.282Z"
   },
   {
    "duration": 1,
    "start_time": "2022-07-30T15:34:49.282Z"
   },
   {
    "duration": 0,
    "start_time": "2022-07-30T15:34:49.283Z"
   },
   {
    "duration": 0,
    "start_time": "2022-07-30T15:34:49.284Z"
   },
   {
    "duration": 0,
    "start_time": "2022-07-30T15:34:49.285Z"
   },
   {
    "duration": 0,
    "start_time": "2022-07-30T15:34:49.286Z"
   },
   {
    "duration": 0,
    "start_time": "2022-07-30T15:34:49.287Z"
   },
   {
    "duration": 0,
    "start_time": "2022-07-30T15:34:49.288Z"
   },
   {
    "duration": 0,
    "start_time": "2022-07-30T15:34:49.290Z"
   },
   {
    "duration": 0,
    "start_time": "2022-07-30T15:34:49.291Z"
   },
   {
    "duration": 0,
    "start_time": "2022-07-30T15:34:49.293Z"
   },
   {
    "duration": 0,
    "start_time": "2022-07-30T15:34:49.294Z"
   },
   {
    "duration": 0,
    "start_time": "2022-07-30T15:34:49.296Z"
   },
   {
    "duration": 0,
    "start_time": "2022-07-30T15:34:49.297Z"
   },
   {
    "duration": 0,
    "start_time": "2022-07-30T15:34:49.299Z"
   },
   {
    "duration": 0,
    "start_time": "2022-07-30T15:34:49.300Z"
   },
   {
    "duration": 0,
    "start_time": "2022-07-30T15:34:49.334Z"
   },
   {
    "duration": 0,
    "start_time": "2022-07-30T15:34:49.335Z"
   },
   {
    "duration": 0,
    "start_time": "2022-07-30T15:34:49.336Z"
   },
   {
    "duration": 0,
    "start_time": "2022-07-30T15:34:49.337Z"
   },
   {
    "duration": 0,
    "start_time": "2022-07-30T15:34:49.338Z"
   },
   {
    "duration": 0,
    "start_time": "2022-07-30T15:34:49.339Z"
   },
   {
    "duration": 0,
    "start_time": "2022-07-30T15:34:49.340Z"
   },
   {
    "duration": 0,
    "start_time": "2022-07-30T15:34:49.341Z"
   },
   {
    "duration": 0,
    "start_time": "2022-07-30T15:34:49.342Z"
   },
   {
    "duration": 0,
    "start_time": "2022-07-30T15:34:49.343Z"
   },
   {
    "duration": 0,
    "start_time": "2022-07-30T15:34:49.344Z"
   },
   {
    "duration": 0,
    "start_time": "2022-07-30T15:34:49.345Z"
   },
   {
    "duration": 0,
    "start_time": "2022-07-30T15:34:49.346Z"
   },
   {
    "duration": 0,
    "start_time": "2022-07-30T15:34:49.347Z"
   },
   {
    "duration": 5,
    "start_time": "2022-07-30T15:56:33.658Z"
   },
   {
    "duration": 5,
    "start_time": "2022-07-30T15:56:58.309Z"
   },
   {
    "duration": 16,
    "start_time": "2022-07-30T15:57:59.681Z"
   },
   {
    "duration": 66,
    "start_time": "2022-07-30T15:58:00.662Z"
   },
   {
    "duration": 4,
    "start_time": "2022-07-30T15:58:05.815Z"
   },
   {
    "duration": 6,
    "start_time": "2022-07-30T15:58:51.567Z"
   },
   {
    "duration": 4,
    "start_time": "2022-07-30T15:59:21.755Z"
   },
   {
    "duration": 4,
    "start_time": "2022-07-30T16:19:36.918Z"
   },
   {
    "duration": 4,
    "start_time": "2022-07-30T16:21:29.021Z"
   },
   {
    "duration": 3,
    "start_time": "2022-07-30T16:22:48.094Z"
   },
   {
    "duration": 4,
    "start_time": "2022-07-30T16:23:05.752Z"
   },
   {
    "duration": 8,
    "start_time": "2022-07-30T16:32:12.235Z"
   },
   {
    "duration": 10,
    "start_time": "2022-07-30T16:56:14.347Z"
   },
   {
    "duration": 260,
    "start_time": "2022-07-30T17:09:55.235Z"
   },
   {
    "duration": 16,
    "start_time": "2022-07-30T17:10:32.596Z"
   },
   {
    "duration": 19,
    "start_time": "2022-07-30T17:10:44.956Z"
   },
   {
    "duration": 14,
    "start_time": "2022-07-30T17:11:52.258Z"
   },
   {
    "duration": 16,
    "start_time": "2022-07-30T17:12:59.309Z"
   },
   {
    "duration": 6,
    "start_time": "2022-07-30T17:21:59.114Z"
   },
   {
    "duration": 3,
    "start_time": "2022-07-30T17:22:52.463Z"
   },
   {
    "duration": 3,
    "start_time": "2022-07-30T20:39:02.435Z"
   },
   {
    "duration": 4,
    "start_time": "2022-07-30T20:39:24.754Z"
   },
   {
    "duration": 10,
    "start_time": "2022-07-30T20:39:35.544Z"
   },
   {
    "duration": 9,
    "start_time": "2022-07-30T20:42:19.033Z"
   },
   {
    "duration": 1025,
    "start_time": "2022-07-30T20:47:08.245Z"
   },
   {
    "duration": 76,
    "start_time": "2022-07-30T20:47:09.272Z"
   },
   {
    "duration": 3,
    "start_time": "2022-07-30T20:47:09.349Z"
   },
   {
    "duration": 12,
    "start_time": "2022-07-30T20:47:09.354Z"
   },
   {
    "duration": 12,
    "start_time": "2022-07-30T20:47:09.369Z"
   },
   {
    "duration": 11,
    "start_time": "2022-07-30T20:47:09.383Z"
   },
   {
    "duration": 8,
    "start_time": "2022-07-30T20:47:09.395Z"
   },
   {
    "duration": 33,
    "start_time": "2022-07-30T20:47:09.404Z"
   },
   {
    "duration": 54,
    "start_time": "2022-07-30T20:47:09.439Z"
   },
   {
    "duration": 4,
    "start_time": "2022-07-30T20:47:09.495Z"
   },
   {
    "duration": 11,
    "start_time": "2022-07-30T20:47:09.501Z"
   },
   {
    "duration": 13,
    "start_time": "2022-07-30T20:47:09.513Z"
   },
   {
    "duration": 8,
    "start_time": "2022-07-30T20:47:09.527Z"
   },
   {
    "duration": 32,
    "start_time": "2022-07-30T20:47:09.540Z"
   },
   {
    "duration": 4,
    "start_time": "2022-07-30T20:47:09.574Z"
   },
   {
    "duration": 5,
    "start_time": "2022-07-30T20:47:09.580Z"
   },
   {
    "duration": 5,
    "start_time": "2022-07-30T20:47:09.587Z"
   },
   {
    "duration": 7,
    "start_time": "2022-07-30T20:47:09.594Z"
   },
   {
    "duration": 6,
    "start_time": "2022-07-30T20:47:09.602Z"
   },
   {
    "duration": 4,
    "start_time": "2022-07-30T20:47:09.610Z"
   },
   {
    "duration": 22,
    "start_time": "2022-07-30T20:47:09.616Z"
   },
   {
    "duration": 23,
    "start_time": "2022-07-30T20:47:09.640Z"
   },
   {
    "duration": 2,
    "start_time": "2022-07-30T20:47:09.665Z"
   },
   {
    "duration": 13,
    "start_time": "2022-07-30T20:47:09.668Z"
   },
   {
    "duration": 8,
    "start_time": "2022-07-30T20:47:09.682Z"
   },
   {
    "duration": 238,
    "start_time": "2022-07-30T20:47:09.691Z"
   },
   {
    "duration": 267,
    "start_time": "2022-07-30T20:47:09.933Z"
   },
   {
    "duration": 226,
    "start_time": "2022-07-30T20:47:10.201Z"
   },
   {
    "duration": 329,
    "start_time": "2022-07-30T20:47:10.429Z"
   },
   {
    "duration": 223,
    "start_time": "2022-07-30T20:47:10.760Z"
   },
   {
    "duration": 285,
    "start_time": "2022-07-30T20:47:10.984Z"
   },
   {
    "duration": 185,
    "start_time": "2022-07-30T20:47:11.271Z"
   },
   {
    "duration": 4,
    "start_time": "2022-07-30T20:47:11.458Z"
   },
   {
    "duration": 4,
    "start_time": "2022-07-30T20:47:11.464Z"
   },
   {
    "duration": 8,
    "start_time": "2022-07-30T20:47:11.470Z"
   },
   {
    "duration": 195,
    "start_time": "2022-07-30T20:47:11.480Z"
   },
   {
    "duration": 4,
    "start_time": "2022-07-30T20:47:11.676Z"
   },
   {
    "duration": 4,
    "start_time": "2022-07-30T20:47:11.682Z"
   },
   {
    "duration": 25,
    "start_time": "2022-07-30T20:47:11.688Z"
   },
   {
    "duration": 20,
    "start_time": "2022-07-30T20:47:11.714Z"
   },
   {
    "duration": 17,
    "start_time": "2022-07-30T20:47:11.738Z"
   },
   {
    "duration": 7,
    "start_time": "2022-07-30T20:47:11.757Z"
   },
   {
    "duration": 13,
    "start_time": "2022-07-30T20:47:11.766Z"
   },
   {
    "duration": 9,
    "start_time": "2022-07-30T20:47:11.780Z"
   },
   {
    "duration": 19,
    "start_time": "2022-07-30T20:47:11.791Z"
   },
   {
    "duration": 24,
    "start_time": "2022-07-30T20:47:11.811Z"
   },
   {
    "duration": 16,
    "start_time": "2022-07-30T20:47:11.837Z"
   },
   {
    "duration": 6,
    "start_time": "2022-07-30T20:47:11.855Z"
   },
   {
    "duration": 6,
    "start_time": "2022-07-30T20:47:11.863Z"
   },
   {
    "duration": 4,
    "start_time": "2022-07-30T20:47:11.871Z"
   },
   {
    "duration": 5,
    "start_time": "2022-07-30T20:47:11.877Z"
   },
   {
    "duration": 10,
    "start_time": "2022-07-30T20:47:11.883Z"
   },
   {
    "duration": 10,
    "start_time": "2022-07-30T20:50:32.552Z"
   },
   {
    "duration": 9,
    "start_time": "2022-07-30T21:27:01.846Z"
   },
   {
    "duration": 5,
    "start_time": "2022-07-30T21:27:03.184Z"
   },
   {
    "duration": 4,
    "start_time": "2022-07-30T21:27:22.215Z"
   },
   {
    "duration": 3,
    "start_time": "2022-07-30T21:27:27.361Z"
   },
   {
    "duration": 3,
    "start_time": "2022-07-30T21:42:35.520Z"
   },
   {
    "duration": 3,
    "start_time": "2022-07-30T21:42:50.824Z"
   },
   {
    "duration": 3,
    "start_time": "2022-07-30T21:43:28.926Z"
   },
   {
    "duration": 19,
    "start_time": "2022-07-30T21:43:57.847Z"
   },
   {
    "duration": 4,
    "start_time": "2022-07-30T21:44:00.724Z"
   },
   {
    "duration": 3,
    "start_time": "2022-07-30T21:44:01.384Z"
   },
   {
    "duration": 59,
    "start_time": "2022-07-31T09:05:10.366Z"
   },
   {
    "duration": 1164,
    "start_time": "2022-07-31T09:05:16.052Z"
   },
   {
    "duration": 136,
    "start_time": "2022-07-31T09:05:17.218Z"
   },
   {
    "duration": 3,
    "start_time": "2022-07-31T09:05:17.356Z"
   },
   {
    "duration": 17,
    "start_time": "2022-07-31T09:05:17.361Z"
   },
   {
    "duration": 50,
    "start_time": "2022-07-31T09:05:17.379Z"
   },
   {
    "duration": 24,
    "start_time": "2022-07-31T09:05:17.431Z"
   },
   {
    "duration": 6,
    "start_time": "2022-07-31T09:05:17.457Z"
   },
   {
    "duration": 14,
    "start_time": "2022-07-31T09:05:17.465Z"
   },
   {
    "duration": 123,
    "start_time": "2022-07-31T09:05:17.480Z"
   },
   {
    "duration": 4,
    "start_time": "2022-07-31T09:05:17.606Z"
   },
   {
    "duration": 8,
    "start_time": "2022-07-31T09:05:17.611Z"
   },
   {
    "duration": 13,
    "start_time": "2022-07-31T09:05:17.620Z"
   },
   {
    "duration": 9,
    "start_time": "2022-07-31T09:05:17.634Z"
   },
   {
    "duration": 81,
    "start_time": "2022-07-31T09:05:17.644Z"
   },
   {
    "duration": 4,
    "start_time": "2022-07-31T09:05:17.726Z"
   },
   {
    "duration": 8,
    "start_time": "2022-07-31T09:05:17.731Z"
   },
   {
    "duration": 8,
    "start_time": "2022-07-31T09:05:17.740Z"
   },
   {
    "duration": 6,
    "start_time": "2022-07-31T09:05:17.749Z"
   },
   {
    "duration": 9,
    "start_time": "2022-07-31T09:05:17.756Z"
   },
   {
    "duration": 33,
    "start_time": "2022-07-31T09:05:17.766Z"
   },
   {
    "duration": 12,
    "start_time": "2022-07-31T09:05:17.801Z"
   },
   {
    "duration": 13,
    "start_time": "2022-07-31T09:05:17.814Z"
   },
   {
    "duration": 2,
    "start_time": "2022-07-31T09:05:17.828Z"
   },
   {
    "duration": 13,
    "start_time": "2022-07-31T09:05:17.831Z"
   },
   {
    "duration": 8,
    "start_time": "2022-07-31T09:05:17.845Z"
   },
   {
    "duration": 216,
    "start_time": "2022-07-31T09:05:17.855Z"
   },
   {
    "duration": 243,
    "start_time": "2022-07-31T09:05:18.075Z"
   },
   {
    "duration": 205,
    "start_time": "2022-07-31T09:05:18.321Z"
   },
   {
    "duration": 316,
    "start_time": "2022-07-31T09:05:18.527Z"
   },
   {
    "duration": 202,
    "start_time": "2022-07-31T09:05:18.845Z"
   },
   {
    "duration": 298,
    "start_time": "2022-07-31T09:05:19.048Z"
   },
   {
    "duration": 268,
    "start_time": "2022-07-31T09:05:19.347Z"
   },
   {
    "duration": 5,
    "start_time": "2022-07-31T09:05:19.617Z"
   },
   {
    "duration": 6,
    "start_time": "2022-07-31T09:05:19.623Z"
   },
   {
    "duration": 8,
    "start_time": "2022-07-31T09:05:19.631Z"
   },
   {
    "duration": 183,
    "start_time": "2022-07-31T09:05:19.640Z"
   },
   {
    "duration": 4,
    "start_time": "2022-07-31T09:05:19.825Z"
   },
   {
    "duration": 5,
    "start_time": "2022-07-31T09:05:19.831Z"
   },
   {
    "duration": 22,
    "start_time": "2022-07-31T09:05:19.837Z"
   },
   {
    "duration": 11,
    "start_time": "2022-07-31T09:05:19.873Z"
   },
   {
    "duration": 11,
    "start_time": "2022-07-31T09:05:19.886Z"
   },
   {
    "duration": 11,
    "start_time": "2022-07-31T09:05:19.899Z"
   },
   {
    "duration": 7,
    "start_time": "2022-07-31T09:05:19.911Z"
   },
   {
    "duration": 10,
    "start_time": "2022-07-31T09:05:19.919Z"
   },
   {
    "duration": 7,
    "start_time": "2022-07-31T09:05:19.931Z"
   },
   {
    "duration": 20,
    "start_time": "2022-07-31T09:05:19.939Z"
   },
   {
    "duration": 17,
    "start_time": "2022-07-31T09:05:19.960Z"
   },
   {
    "duration": 32,
    "start_time": "2022-07-31T09:05:19.978Z"
   },
   {
    "duration": 7,
    "start_time": "2022-07-31T09:05:20.011Z"
   },
   {
    "duration": 10,
    "start_time": "2022-07-31T09:05:20.019Z"
   },
   {
    "duration": 8,
    "start_time": "2022-07-31T09:05:20.030Z"
   },
   {
    "duration": 6,
    "start_time": "2022-07-31T09:05:20.039Z"
   },
   {
    "duration": 9,
    "start_time": "2022-07-31T09:05:20.047Z"
   },
   {
    "duration": 5,
    "start_time": "2022-07-31T09:06:00.538Z"
   },
   {
    "duration": 3,
    "start_time": "2022-07-31T09:06:04.238Z"
   },
   {
    "duration": 8,
    "start_time": "2022-07-31T09:06:22.914Z"
   },
   {
    "duration": 3,
    "start_time": "2022-07-31T09:06:23.514Z"
   },
   {
    "duration": 5,
    "start_time": "2022-07-31T09:06:25.101Z"
   },
   {
    "duration": 12,
    "start_time": "2022-07-31T09:06:26.070Z"
   },
   {
    "duration": 252,
    "start_time": "2022-07-31T09:08:53.042Z"
   },
   {
    "duration": 325,
    "start_time": "2022-07-31T09:11:15.877Z"
   },
   {
    "duration": 286,
    "start_time": "2022-07-31T09:12:20.617Z"
   },
   {
    "duration": 257,
    "start_time": "2022-07-31T09:13:11.026Z"
   },
   {
    "duration": 186,
    "start_time": "2022-07-31T09:14:54.214Z"
   },
   {
    "duration": 181,
    "start_time": "2022-07-31T09:15:25.541Z"
   },
   {
    "duration": 171,
    "start_time": "2022-07-31T09:15:42.401Z"
   },
   {
    "duration": 1129,
    "start_time": "2022-07-31T10:52:54.961Z"
   },
   {
    "duration": 97,
    "start_time": "2022-07-31T10:52:56.095Z"
   },
   {
    "duration": 4,
    "start_time": "2022-07-31T10:52:56.193Z"
   },
   {
    "duration": 14,
    "start_time": "2022-07-31T10:52:56.198Z"
   },
   {
    "duration": 10,
    "start_time": "2022-07-31T10:52:56.215Z"
   },
   {
    "duration": 26,
    "start_time": "2022-07-31T10:52:56.227Z"
   },
   {
    "duration": 31,
    "start_time": "2022-07-31T10:52:56.255Z"
   },
   {
    "duration": 12,
    "start_time": "2022-07-31T10:52:56.288Z"
   },
   {
    "duration": 62,
    "start_time": "2022-07-31T10:52:56.301Z"
   },
   {
    "duration": 8,
    "start_time": "2022-07-31T10:52:56.364Z"
   },
   {
    "duration": 11,
    "start_time": "2022-07-31T10:52:56.374Z"
   },
   {
    "duration": 13,
    "start_time": "2022-07-31T10:52:56.387Z"
   },
   {
    "duration": 6,
    "start_time": "2022-07-31T10:52:56.402Z"
   },
   {
    "duration": 30,
    "start_time": "2022-07-31T10:52:56.411Z"
   },
   {
    "duration": 5,
    "start_time": "2022-07-31T10:52:56.444Z"
   },
   {
    "duration": 37,
    "start_time": "2022-07-31T10:52:56.451Z"
   },
   {
    "duration": 7,
    "start_time": "2022-07-31T10:52:56.490Z"
   },
   {
    "duration": 9,
    "start_time": "2022-07-31T10:52:56.498Z"
   },
   {
    "duration": 7,
    "start_time": "2022-07-31T10:52:56.508Z"
   },
   {
    "duration": 5,
    "start_time": "2022-07-31T10:52:56.516Z"
   },
   {
    "duration": 19,
    "start_time": "2022-07-31T10:52:56.523Z"
   },
   {
    "duration": 48,
    "start_time": "2022-07-31T10:52:56.543Z"
   },
   {
    "duration": 2,
    "start_time": "2022-07-31T10:52:56.593Z"
   },
   {
    "duration": 14,
    "start_time": "2022-07-31T10:52:56.596Z"
   },
   {
    "duration": 9,
    "start_time": "2022-07-31T10:52:56.611Z"
   },
   {
    "duration": 266,
    "start_time": "2022-07-31T10:52:56.622Z"
   },
   {
    "duration": 320,
    "start_time": "2022-07-31T10:52:56.889Z"
   },
   {
    "duration": 249,
    "start_time": "2022-07-31T10:52:57.211Z"
   },
   {
    "duration": 324,
    "start_time": "2022-07-31T10:52:57.462Z"
   },
   {
    "duration": 256,
    "start_time": "2022-07-31T10:52:57.788Z"
   },
   {
    "duration": 325,
    "start_time": "2022-07-31T10:52:58.056Z"
   },
   {
    "duration": 204,
    "start_time": "2022-07-31T10:52:58.383Z"
   },
   {
    "duration": 4,
    "start_time": "2022-07-31T10:52:58.589Z"
   },
   {
    "duration": 9,
    "start_time": "2022-07-31T10:52:58.595Z"
   },
   {
    "duration": 18,
    "start_time": "2022-07-31T10:52:58.606Z"
   },
   {
    "duration": 221,
    "start_time": "2022-07-31T10:52:58.626Z"
   },
   {
    "duration": 8,
    "start_time": "2022-07-31T10:52:58.848Z"
   },
   {
    "duration": 30,
    "start_time": "2022-07-31T10:52:58.858Z"
   },
   {
    "duration": 49,
    "start_time": "2022-07-31T10:52:58.891Z"
   },
   {
    "duration": 10,
    "start_time": "2022-07-31T10:52:58.941Z"
   },
   {
    "duration": 44,
    "start_time": "2022-07-31T10:52:58.955Z"
   },
   {
    "duration": 10,
    "start_time": "2022-07-31T10:52:59.001Z"
   },
   {
    "duration": 12,
    "start_time": "2022-07-31T10:52:59.012Z"
   },
   {
    "duration": 15,
    "start_time": "2022-07-31T10:52:59.026Z"
   },
   {
    "duration": 51,
    "start_time": "2022-07-31T10:52:59.043Z"
   },
   {
    "duration": 26,
    "start_time": "2022-07-31T10:52:59.097Z"
   },
   {
    "duration": 17,
    "start_time": "2022-07-31T10:52:59.125Z"
   },
   {
    "duration": 50,
    "start_time": "2022-07-31T10:52:59.143Z"
   },
   {
    "duration": 12,
    "start_time": "2022-07-31T10:52:59.195Z"
   },
   {
    "duration": 6,
    "start_time": "2022-07-31T10:52:59.209Z"
   },
   {
    "duration": 4,
    "start_time": "2022-07-31T10:52:59.216Z"
   },
   {
    "duration": 6,
    "start_time": "2022-07-31T10:52:59.221Z"
   },
   {
    "duration": 16,
    "start_time": "2022-07-31T10:52:59.228Z"
   },
   {
    "duration": 1066,
    "start_time": "2022-07-31T19:46:48.794Z"
   },
   {
    "duration": 78,
    "start_time": "2022-07-31T19:46:49.862Z"
   },
   {
    "duration": 3,
    "start_time": "2022-07-31T19:46:49.942Z"
   },
   {
    "duration": 13,
    "start_time": "2022-07-31T19:46:49.947Z"
   },
   {
    "duration": 10,
    "start_time": "2022-07-31T19:46:49.962Z"
   },
   {
    "duration": 11,
    "start_time": "2022-07-31T19:46:49.973Z"
   },
   {
    "duration": 9,
    "start_time": "2022-07-31T19:46:50.004Z"
   },
   {
    "duration": 12,
    "start_time": "2022-07-31T19:46:50.015Z"
   },
   {
    "duration": 45,
    "start_time": "2022-07-31T19:46:50.029Z"
   },
   {
    "duration": 5,
    "start_time": "2022-07-31T19:46:50.077Z"
   },
   {
    "duration": 8,
    "start_time": "2022-07-31T19:46:50.083Z"
   },
   {
    "duration": 14,
    "start_time": "2022-07-31T19:46:50.093Z"
   },
   {
    "duration": 6,
    "start_time": "2022-07-31T19:46:50.109Z"
   },
   {
    "duration": 27,
    "start_time": "2022-07-31T19:46:50.116Z"
   },
   {
    "duration": 5,
    "start_time": "2022-07-31T19:46:50.146Z"
   },
   {
    "duration": 11,
    "start_time": "2022-07-31T19:46:50.153Z"
   },
   {
    "duration": 18,
    "start_time": "2022-07-31T19:46:50.166Z"
   },
   {
    "duration": 11,
    "start_time": "2022-07-31T19:46:50.186Z"
   },
   {
    "duration": 10,
    "start_time": "2022-07-31T19:46:50.199Z"
   },
   {
    "duration": 12,
    "start_time": "2022-07-31T19:46:50.210Z"
   },
   {
    "duration": 11,
    "start_time": "2022-07-31T19:46:50.224Z"
   },
   {
    "duration": 18,
    "start_time": "2022-07-31T19:46:50.236Z"
   },
   {
    "duration": 3,
    "start_time": "2022-07-31T19:46:50.255Z"
   },
   {
    "duration": 14,
    "start_time": "2022-07-31T19:46:50.259Z"
   },
   {
    "duration": 8,
    "start_time": "2022-07-31T19:46:50.274Z"
   },
   {
    "duration": 244,
    "start_time": "2022-07-31T19:46:50.284Z"
   },
   {
    "duration": 277,
    "start_time": "2022-07-31T19:46:50.530Z"
   },
   {
    "duration": 235,
    "start_time": "2022-07-31T19:46:50.810Z"
   },
   {
    "duration": 291,
    "start_time": "2022-07-31T19:46:51.047Z"
   },
   {
    "duration": 232,
    "start_time": "2022-07-31T19:46:51.340Z"
   },
   {
    "duration": 339,
    "start_time": "2022-07-31T19:46:51.573Z"
   },
   {
    "duration": 177,
    "start_time": "2022-07-31T19:46:51.914Z"
   },
   {
    "duration": 11,
    "start_time": "2022-07-31T19:46:52.093Z"
   },
   {
    "duration": 4,
    "start_time": "2022-07-31T19:46:52.106Z"
   },
   {
    "duration": 6,
    "start_time": "2022-07-31T19:46:52.111Z"
   },
   {
    "duration": 211,
    "start_time": "2022-07-31T19:46:52.118Z"
   },
   {
    "duration": 5,
    "start_time": "2022-07-31T19:46:52.330Z"
   },
   {
    "duration": 59,
    "start_time": "2022-07-31T19:46:52.336Z"
   },
   {
    "duration": 30,
    "start_time": "2022-07-31T19:46:52.398Z"
   },
   {
    "duration": 9,
    "start_time": "2022-07-31T19:46:52.429Z"
   },
   {
    "duration": 12,
    "start_time": "2022-07-31T19:46:52.440Z"
   },
   {
    "duration": 11,
    "start_time": "2022-07-31T19:46:52.454Z"
   },
   {
    "duration": 11,
    "start_time": "2022-07-31T19:46:52.466Z"
   },
   {
    "duration": 18,
    "start_time": "2022-07-31T19:46:52.479Z"
   },
   {
    "duration": 14,
    "start_time": "2022-07-31T19:46:52.499Z"
   },
   {
    "duration": 28,
    "start_time": "2022-07-31T19:46:52.515Z"
   },
   {
    "duration": 12,
    "start_time": "2022-07-31T19:46:52.544Z"
   },
   {
    "duration": 16,
    "start_time": "2022-07-31T19:46:52.558Z"
   },
   {
    "duration": 9,
    "start_time": "2022-07-31T19:46:52.576Z"
   },
   {
    "duration": 7,
    "start_time": "2022-07-31T19:46:52.587Z"
   },
   {
    "duration": 10,
    "start_time": "2022-07-31T19:46:52.596Z"
   },
   {
    "duration": 6,
    "start_time": "2022-07-31T19:46:52.608Z"
   },
   {
    "duration": 11,
    "start_time": "2022-07-31T19:46:52.616Z"
   },
   {
    "duration": 5,
    "start_time": "2022-07-31T19:54:23.244Z"
   },
   {
    "duration": 9,
    "start_time": "2022-07-31T19:55:16.151Z"
   },
   {
    "duration": 98,
    "start_time": "2022-07-31T19:55:32.942Z"
   },
   {
    "duration": 18,
    "start_time": "2022-07-31T19:55:39.795Z"
   },
   {
    "duration": 58,
    "start_time": "2022-07-31T20:22:16.397Z"
   },
   {
    "duration": 1270,
    "start_time": "2022-07-31T20:22:23.160Z"
   },
   {
    "duration": 117,
    "start_time": "2022-07-31T20:22:24.432Z"
   },
   {
    "duration": 4,
    "start_time": "2022-07-31T20:22:24.552Z"
   },
   {
    "duration": 15,
    "start_time": "2022-07-31T20:22:24.558Z"
   },
   {
    "duration": 18,
    "start_time": "2022-07-31T20:22:24.576Z"
   },
   {
    "duration": 36,
    "start_time": "2022-07-31T20:22:24.596Z"
   },
   {
    "duration": 8,
    "start_time": "2022-07-31T20:22:24.634Z"
   },
   {
    "duration": 29,
    "start_time": "2022-07-31T20:22:24.644Z"
   },
   {
    "duration": 155,
    "start_time": "2022-07-31T20:22:24.675Z"
   },
   {
    "duration": 5,
    "start_time": "2022-07-31T20:22:24.832Z"
   },
   {
    "duration": 20,
    "start_time": "2022-07-31T20:22:24.838Z"
   },
   {
    "duration": 25,
    "start_time": "2022-07-31T20:22:24.860Z"
   },
   {
    "duration": 29,
    "start_time": "2022-07-31T20:22:24.887Z"
   },
   {
    "duration": 60,
    "start_time": "2022-07-31T20:22:24.917Z"
   },
   {
    "duration": 4,
    "start_time": "2022-07-31T20:22:24.979Z"
   },
   {
    "duration": 13,
    "start_time": "2022-07-31T20:22:24.985Z"
   },
   {
    "duration": 26,
    "start_time": "2022-07-31T20:22:24.999Z"
   },
   {
    "duration": 21,
    "start_time": "2022-07-31T20:22:25.026Z"
   },
   {
    "duration": 5,
    "start_time": "2022-07-31T20:22:25.049Z"
   },
   {
    "duration": 21,
    "start_time": "2022-07-31T20:22:25.055Z"
   },
   {
    "duration": 14,
    "start_time": "2022-07-31T20:22:25.078Z"
   },
   {
    "duration": 24,
    "start_time": "2022-07-31T20:22:25.094Z"
   },
   {
    "duration": 8,
    "start_time": "2022-07-31T20:22:25.119Z"
   },
   {
    "duration": 18,
    "start_time": "2022-07-31T20:22:25.128Z"
   },
   {
    "duration": 8,
    "start_time": "2022-07-31T20:22:25.148Z"
   },
   {
    "duration": 232,
    "start_time": "2022-07-31T20:22:25.158Z"
   },
   {
    "duration": 275,
    "start_time": "2022-07-31T20:22:25.392Z"
   },
   {
    "duration": 236,
    "start_time": "2022-07-31T20:22:25.670Z"
   },
   {
    "duration": 352,
    "start_time": "2022-07-31T20:22:25.907Z"
   },
   {
    "duration": 228,
    "start_time": "2022-07-31T20:22:26.261Z"
   },
   {
    "duration": 340,
    "start_time": "2022-07-31T20:22:26.491Z"
   },
   {
    "duration": 188,
    "start_time": "2022-07-31T20:22:26.833Z"
   },
   {
    "duration": 4,
    "start_time": "2022-07-31T20:22:27.023Z"
   },
   {
    "duration": 7,
    "start_time": "2022-07-31T20:22:27.029Z"
   },
   {
    "duration": 7,
    "start_time": "2022-07-31T20:22:27.038Z"
   },
   {
    "duration": 212,
    "start_time": "2022-07-31T20:22:27.047Z"
   },
   {
    "duration": 4,
    "start_time": "2022-07-31T20:22:27.261Z"
   },
   {
    "duration": 5,
    "start_time": "2022-07-31T20:22:27.267Z"
   },
   {
    "duration": 39,
    "start_time": "2022-07-31T20:22:27.273Z"
   },
   {
    "duration": 7,
    "start_time": "2022-07-31T20:22:27.314Z"
   },
   {
    "duration": 5,
    "start_time": "2022-07-31T20:22:27.323Z"
   },
   {
    "duration": 6,
    "start_time": "2022-07-31T20:22:27.330Z"
   },
   {
    "duration": 9,
    "start_time": "2022-07-31T20:22:27.337Z"
   },
   {
    "duration": 4,
    "start_time": "2022-07-31T20:22:27.347Z"
   },
   {
    "duration": 16,
    "start_time": "2022-07-31T20:22:27.353Z"
   },
   {
    "duration": 30,
    "start_time": "2022-07-31T20:22:27.371Z"
   },
   {
    "duration": 30,
    "start_time": "2022-07-31T20:22:27.403Z"
   },
   {
    "duration": 10,
    "start_time": "2022-07-31T20:22:27.434Z"
   },
   {
    "duration": 19,
    "start_time": "2022-07-31T20:22:27.445Z"
   },
   {
    "duration": 7,
    "start_time": "2022-07-31T20:22:27.465Z"
   },
   {
    "duration": 8,
    "start_time": "2022-07-31T20:22:27.474Z"
   },
   {
    "duration": 4,
    "start_time": "2022-07-31T20:22:27.484Z"
   },
   {
    "duration": 18,
    "start_time": "2022-07-31T20:22:27.490Z"
   },
   {
    "duration": 13,
    "start_time": "2022-07-31T20:22:27.510Z"
   },
   {
    "duration": 134,
    "start_time": "2022-07-31T20:52:12.435Z"
   },
   {
    "duration": 828,
    "start_time": "2022-07-31T20:59:19.954Z"
   },
   {
    "duration": 8,
    "start_time": "2022-07-31T20:59:41.127Z"
   },
   {
    "duration": 3,
    "start_time": "2022-07-31T20:59:42.643Z"
   },
   {
    "duration": 6,
    "start_time": "2022-07-31T20:59:48.791Z"
   },
   {
    "duration": 22,
    "start_time": "2022-07-31T20:59:59.604Z"
   },
   {
    "duration": 4,
    "start_time": "2022-07-31T21:00:01.193Z"
   },
   {
    "duration": 114,
    "start_time": "2022-07-31T21:48:14.753Z"
   },
   {
    "duration": 7,
    "start_time": "2022-07-31T21:49:16.671Z"
   },
   {
    "duration": 3,
    "start_time": "2022-07-31T21:49:19.313Z"
   },
   {
    "duration": 22,
    "start_time": "2022-07-31T21:49:22.388Z"
   },
   {
    "duration": 3,
    "start_time": "2022-07-31T21:49:33.401Z"
   },
   {
    "duration": 9,
    "start_time": "2022-07-31T21:50:42.913Z"
   },
   {
    "duration": 1048,
    "start_time": "2022-07-31T21:58:47.391Z"
   },
   {
    "duration": 73,
    "start_time": "2022-07-31T21:58:48.441Z"
   },
   {
    "duration": 3,
    "start_time": "2022-07-31T21:58:48.515Z"
   },
   {
    "duration": 18,
    "start_time": "2022-07-31T21:58:48.520Z"
   },
   {
    "duration": 15,
    "start_time": "2022-07-31T21:58:48.540Z"
   },
   {
    "duration": 15,
    "start_time": "2022-07-31T21:58:48.557Z"
   },
   {
    "duration": 11,
    "start_time": "2022-07-31T21:58:48.573Z"
   },
   {
    "duration": 17,
    "start_time": "2022-07-31T21:58:48.586Z"
   },
   {
    "duration": 45,
    "start_time": "2022-07-31T21:58:48.605Z"
   },
   {
    "duration": 5,
    "start_time": "2022-07-31T21:58:48.652Z"
   },
   {
    "duration": 8,
    "start_time": "2022-07-31T21:58:48.658Z"
   },
   {
    "duration": 13,
    "start_time": "2022-07-31T21:58:48.667Z"
   },
   {
    "duration": 11,
    "start_time": "2022-07-31T21:58:48.681Z"
   },
   {
    "duration": 24,
    "start_time": "2022-07-31T21:58:48.694Z"
   },
   {
    "duration": 4,
    "start_time": "2022-07-31T21:58:48.719Z"
   },
   {
    "duration": 8,
    "start_time": "2022-07-31T21:58:48.725Z"
   },
   {
    "duration": 9,
    "start_time": "2022-07-31T21:58:48.734Z"
   },
   {
    "duration": 5,
    "start_time": "2022-07-31T21:58:48.745Z"
   },
   {
    "duration": 8,
    "start_time": "2022-07-31T21:58:48.752Z"
   },
   {
    "duration": 12,
    "start_time": "2022-07-31T21:58:48.762Z"
   },
   {
    "duration": 13,
    "start_time": "2022-07-31T21:58:48.776Z"
   },
   {
    "duration": 16,
    "start_time": "2022-07-31T21:58:48.790Z"
   },
   {
    "duration": 2,
    "start_time": "2022-07-31T21:58:48.807Z"
   },
   {
    "duration": 15,
    "start_time": "2022-07-31T21:58:48.811Z"
   },
   {
    "duration": 7,
    "start_time": "2022-07-31T21:58:48.828Z"
   },
   {
    "duration": 238,
    "start_time": "2022-07-31T21:58:48.837Z"
   },
   {
    "duration": 269,
    "start_time": "2022-07-31T21:58:49.076Z"
   },
   {
    "duration": 231,
    "start_time": "2022-07-31T21:58:49.348Z"
   },
   {
    "duration": 332,
    "start_time": "2022-07-31T21:58:49.581Z"
   },
   {
    "duration": 232,
    "start_time": "2022-07-31T21:58:49.914Z"
   },
   {
    "duration": 290,
    "start_time": "2022-07-31T21:58:50.148Z"
   },
   {
    "duration": 189,
    "start_time": "2022-07-31T21:58:50.439Z"
   },
   {
    "duration": 4,
    "start_time": "2022-07-31T21:58:50.630Z"
   },
   {
    "duration": 5,
    "start_time": "2022-07-31T21:58:50.636Z"
   },
   {
    "duration": 6,
    "start_time": "2022-07-31T21:58:50.642Z"
   },
   {
    "duration": 201,
    "start_time": "2022-07-31T21:58:50.649Z"
   },
   {
    "duration": 3,
    "start_time": "2022-07-31T21:58:50.852Z"
   },
   {
    "duration": 11,
    "start_time": "2022-07-31T21:58:50.857Z"
   },
   {
    "duration": 135,
    "start_time": "2022-07-31T21:58:50.869Z"
   },
   {
    "duration": 7,
    "start_time": "2022-07-31T21:58:51.005Z"
   },
   {
    "duration": 5,
    "start_time": "2022-07-31T21:58:51.013Z"
   },
   {
    "duration": 23,
    "start_time": "2022-07-31T21:58:51.019Z"
   },
   {
    "duration": 4,
    "start_time": "2022-07-31T21:58:51.044Z"
   },
   {
    "duration": 11,
    "start_time": "2022-07-31T21:58:51.049Z"
   },
   {
    "duration": 41,
    "start_time": "2022-07-31T21:58:51.061Z"
   },
   {
    "duration": 4,
    "start_time": "2022-07-31T21:58:51.104Z"
   },
   {
    "duration": 134,
    "start_time": "2022-07-31T21:58:51.109Z"
   },
   {
    "duration": 8,
    "start_time": "2022-07-31T21:58:51.245Z"
   },
   {
    "duration": 6,
    "start_time": "2022-07-31T21:58:51.254Z"
   },
   {
    "duration": 20,
    "start_time": "2022-07-31T21:58:51.261Z"
   },
   {
    "duration": 18,
    "start_time": "2022-07-31T21:58:51.282Z"
   },
   {
    "duration": 11,
    "start_time": "2022-07-31T21:58:51.301Z"
   }
  ],
  "kernelspec": {
   "display_name": "Python 3 (ipykernel)",
   "language": "python",
   "name": "python3"
  },
  "language_info": {
   "codemirror_mode": {
    "name": "ipython",
    "version": 3
   },
   "file_extension": ".py",
   "mimetype": "text/x-python",
   "name": "python",
   "nbconvert_exporter": "python",
   "pygments_lexer": "ipython3",
   "version": "3.9.12"
  },
  "toc": {
   "base_numbering": 1,
   "nav_menu": {},
   "number_sections": true,
   "sideBar": true,
   "skip_h1_title": true,
   "title_cell": "Table of Contents",
   "title_sidebar": "Contents",
   "toc_cell": false,
   "toc_position": {},
   "toc_section_display": true,
   "toc_window_display": false
  }
 },
 "nbformat": 4,
 "nbformat_minor": 5
}
