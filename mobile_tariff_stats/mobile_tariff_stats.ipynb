{
 "cells": [
  {
   "cell_type": "markdown",
   "metadata": {},
   "source": [
    "# Определение перспективного тарифа для телеком-компании"
   ]
  },
  {
   "cell_type": "markdown",
   "metadata": {},
   "source": [
    "## Изучение датасетов"
   ]
  },
  {
   "cell_type": "code",
   "execution_count": 1,
   "metadata": {},
   "outputs": [],
   "source": [
    "# импорт библиотек\n",
    "import pandas as pd\n",
    "import matplotlib.pyplot as plt\n",
    "from scipy import stats as st\n",
    "import numpy as np\n",
    "import math\n",
    "from math import factorial"
   ]
  },
  {
   "cell_type": "markdown",
   "metadata": {},
   "source": [
    "В нашем распоряжении 5 csv-файлов. Последовательно создаем из них датафреймы методом .read_csv() и проверяем, удалось ли корректно прочитать файл. Для каждого датафрейма также изучаем информацию о нем, просматриваем, есть ли пропуски и дубликаты."
   ]
  },
  {
   "cell_type": "code",
   "execution_count": 2,
   "metadata": {
    "scrolled": true
   },
   "outputs": [
    {
     "data": {
      "text/html": [
       "<div>\n",
       "<style scoped>\n",
       "    .dataframe tbody tr th:only-of-type {\n",
       "        vertical-align: middle;\n",
       "    }\n",
       "\n",
       "    .dataframe tbody tr th {\n",
       "        vertical-align: top;\n",
       "    }\n",
       "\n",
       "    .dataframe thead th {\n",
       "        text-align: right;\n",
       "    }\n",
       "</style>\n",
       "<table border=\"1\" class=\"dataframe\">\n",
       "  <thead>\n",
       "    <tr style=\"text-align: right;\">\n",
       "      <th></th>\n",
       "      <th>id</th>\n",
       "      <th>call_date</th>\n",
       "      <th>duration</th>\n",
       "      <th>user_id</th>\n",
       "    </tr>\n",
       "  </thead>\n",
       "  <tbody>\n",
       "    <tr>\n",
       "      <td>0</td>\n",
       "      <td>1000_0</td>\n",
       "      <td>2018-07-25</td>\n",
       "      <td>0.00</td>\n",
       "      <td>1000</td>\n",
       "    </tr>\n",
       "    <tr>\n",
       "      <td>1</td>\n",
       "      <td>1000_1</td>\n",
       "      <td>2018-08-17</td>\n",
       "      <td>0.00</td>\n",
       "      <td>1000</td>\n",
       "    </tr>\n",
       "    <tr>\n",
       "      <td>2</td>\n",
       "      <td>1000_2</td>\n",
       "      <td>2018-06-11</td>\n",
       "      <td>2.85</td>\n",
       "      <td>1000</td>\n",
       "    </tr>\n",
       "    <tr>\n",
       "      <td>3</td>\n",
       "      <td>1000_3</td>\n",
       "      <td>2018-09-21</td>\n",
       "      <td>13.80</td>\n",
       "      <td>1000</td>\n",
       "    </tr>\n",
       "    <tr>\n",
       "      <td>4</td>\n",
       "      <td>1000_4</td>\n",
       "      <td>2018-12-15</td>\n",
       "      <td>5.18</td>\n",
       "      <td>1000</td>\n",
       "    </tr>\n",
       "  </tbody>\n",
       "</table>\n",
       "</div>"
      ],
      "text/plain": [
       "       id  call_date  duration  user_id\n",
       "0  1000_0 2018-07-25      0.00     1000\n",
       "1  1000_1 2018-08-17      0.00     1000\n",
       "2  1000_2 2018-06-11      2.85     1000\n",
       "3  1000_3 2018-09-21     13.80     1000\n",
       "4  1000_4 2018-12-15      5.18     1000"
      ]
     },
     "execution_count": 2,
     "metadata": {},
     "output_type": "execute_result"
    }
   ],
   "source": [
    "calls = pd.read_csv('/datasets/calls.csv', parse_dates=['call_date']) \n",
    "# аргумент parse_dates автоматически переводит столбец с датой в формат datetime\n",
    "calls.head()"
   ]
  },
  {
   "cell_type": "code",
   "execution_count": 3,
   "metadata": {
    "scrolled": true
   },
   "outputs": [
    {
     "name": "stdout",
     "output_type": "stream",
     "text": [
      "<class 'pandas.core.frame.DataFrame'>\n",
      "RangeIndex: 202607 entries, 0 to 202606\n",
      "Data columns (total 4 columns):\n",
      "id           202607 non-null object\n",
      "call_date    202607 non-null datetime64[ns]\n",
      "duration     202607 non-null float64\n",
      "user_id      202607 non-null int64\n",
      "dtypes: datetime64[ns](1), float64(1), int64(1), object(1)\n",
      "memory usage: 6.2+ MB\n"
     ]
    }
   ],
   "source": [
    "calls.info()"
   ]
  },
  {
   "cell_type": "markdown",
   "metadata": {},
   "source": [
    "Сразу понимаем, что в данном датафрейме пропусков нет. По первым распечатанным строкам мы видим, что в столбе duration есть звонки с нулевой продолжительностью - это пропущенные звонки. Округлим продолжительность звонков: \"Мегалайн\" округляет ее в большую сторону после каждого звонка."
   ]
  },
  {
   "cell_type": "code",
   "execution_count": 4,
   "metadata": {},
   "outputs": [],
   "source": [
    "calls['duration'] = calls['duration'].apply(np.ceil)"
   ]
  },
  {
   "cell_type": "code",
   "execution_count": 5,
   "metadata": {},
   "outputs": [
    {
     "name": "stdout",
     "output_type": "stream",
     "text": [
      "0\n"
     ]
    }
   ],
   "source": [
    "print(calls.duplicated().sum())"
   ]
  },
  {
   "cell_type": "markdown",
   "metadata": {},
   "source": [
    "На данном этапе дубликаты не обнаружены. "
   ]
  },
  {
   "cell_type": "code",
   "execution_count": 6,
   "metadata": {
    "scrolled": true
   },
   "outputs": [
    {
     "data": {
      "text/html": [
       "<div>\n",
       "<style scoped>\n",
       "    .dataframe tbody tr th:only-of-type {\n",
       "        vertical-align: middle;\n",
       "    }\n",
       "\n",
       "    .dataframe tbody tr th {\n",
       "        vertical-align: top;\n",
       "    }\n",
       "\n",
       "    .dataframe thead th {\n",
       "        text-align: right;\n",
       "    }\n",
       "</style>\n",
       "<table border=\"1\" class=\"dataframe\">\n",
       "  <thead>\n",
       "    <tr style=\"text-align: right;\">\n",
       "      <th></th>\n",
       "      <th>Unnamed: 0</th>\n",
       "      <th>id</th>\n",
       "      <th>mb_used</th>\n",
       "      <th>session_date</th>\n",
       "      <th>user_id</th>\n",
       "    </tr>\n",
       "  </thead>\n",
       "  <tbody>\n",
       "    <tr>\n",
       "      <td>0</td>\n",
       "      <td>0</td>\n",
       "      <td>1000_0</td>\n",
       "      <td>112.95</td>\n",
       "      <td>2018-11-25</td>\n",
       "      <td>1000</td>\n",
       "    </tr>\n",
       "    <tr>\n",
       "      <td>1</td>\n",
       "      <td>1</td>\n",
       "      <td>1000_1</td>\n",
       "      <td>1052.81</td>\n",
       "      <td>2018-09-07</td>\n",
       "      <td>1000</td>\n",
       "    </tr>\n",
       "    <tr>\n",
       "      <td>2</td>\n",
       "      <td>2</td>\n",
       "      <td>1000_2</td>\n",
       "      <td>1197.26</td>\n",
       "      <td>2018-06-25</td>\n",
       "      <td>1000</td>\n",
       "    </tr>\n",
       "    <tr>\n",
       "      <td>3</td>\n",
       "      <td>3</td>\n",
       "      <td>1000_3</td>\n",
       "      <td>550.27</td>\n",
       "      <td>2018-08-22</td>\n",
       "      <td>1000</td>\n",
       "    </tr>\n",
       "    <tr>\n",
       "      <td>4</td>\n",
       "      <td>4</td>\n",
       "      <td>1000_4</td>\n",
       "      <td>302.56</td>\n",
       "      <td>2018-09-24</td>\n",
       "      <td>1000</td>\n",
       "    </tr>\n",
       "  </tbody>\n",
       "</table>\n",
       "</div>"
      ],
      "text/plain": [
       "   Unnamed: 0      id  mb_used session_date  user_id\n",
       "0           0  1000_0   112.95   2018-11-25     1000\n",
       "1           1  1000_1  1052.81   2018-09-07     1000\n",
       "2           2  1000_2  1197.26   2018-06-25     1000\n",
       "3           3  1000_3   550.27   2018-08-22     1000\n",
       "4           4  1000_4   302.56   2018-09-24     1000"
      ]
     },
     "execution_count": 6,
     "metadata": {},
     "output_type": "execute_result"
    }
   ],
   "source": [
    "internet = pd.read_csv('/datasets/internet.csv', parse_dates=['session_date'])\n",
    "internet.head()"
   ]
  },
  {
   "cell_type": "code",
   "execution_count": 7,
   "metadata": {
    "scrolled": true
   },
   "outputs": [
    {
     "name": "stdout",
     "output_type": "stream",
     "text": [
      "<class 'pandas.core.frame.DataFrame'>\n",
      "RangeIndex: 149396 entries, 0 to 149395\n",
      "Data columns (total 5 columns):\n",
      "Unnamed: 0      149396 non-null int64\n",
      "id              149396 non-null object\n",
      "mb_used         149396 non-null float64\n",
      "session_date    149396 non-null datetime64[ns]\n",
      "user_id         149396 non-null int64\n",
      "dtypes: datetime64[ns](1), float64(1), int64(2), object(1)\n",
      "memory usage: 5.7+ MB\n"
     ]
    }
   ],
   "source": [
    "internet.info()"
   ]
  },
  {
   "cell_type": "markdown",
   "metadata": {},
   "source": [
    "Пропусков нет. Стоблец Unnamed: 0 дублирует индексы: сразу удалим его. Типы данных соответствуют предыдущему датафрейму. "
   ]
  },
  {
   "cell_type": "code",
   "execution_count": 8,
   "metadata": {},
   "outputs": [],
   "source": [
    "del internet['Unnamed: 0']"
   ]
  },
  {
   "cell_type": "code",
   "execution_count": 9,
   "metadata": {
    "scrolled": false
   },
   "outputs": [
    {
     "name": "stdout",
     "output_type": "stream",
     "text": [
      "<class 'pandas.core.frame.DataFrame'>\n",
      "RangeIndex: 149396 entries, 0 to 149395\n",
      "Data columns (total 4 columns):\n",
      "id              149396 non-null object\n",
      "mb_used         149396 non-null float64\n",
      "session_date    149396 non-null datetime64[ns]\n",
      "user_id         149396 non-null int64\n",
      "dtypes: datetime64[ns](1), float64(1), int64(1), object(1)\n",
      "memory usage: 4.6+ MB\n"
     ]
    }
   ],
   "source": [
    "internet.info()"
   ]
  },
  {
   "cell_type": "code",
   "execution_count": 10,
   "metadata": {
    "scrolled": false
   },
   "outputs": [
    {
     "name": "stdout",
     "output_type": "stream",
     "text": [
      "0\n"
     ]
    }
   ],
   "source": [
    "print(internet.duplicated().sum())"
   ]
  },
  {
   "cell_type": "markdown",
   "metadata": {},
   "source": [
    "На данном этапе дубликаты не обнаружены."
   ]
  },
  {
   "cell_type": "code",
   "execution_count": 11,
   "metadata": {
    "scrolled": false
   },
   "outputs": [
    {
     "data": {
      "text/html": [
       "<div>\n",
       "<style scoped>\n",
       "    .dataframe tbody tr th:only-of-type {\n",
       "        vertical-align: middle;\n",
       "    }\n",
       "\n",
       "    .dataframe tbody tr th {\n",
       "        vertical-align: top;\n",
       "    }\n",
       "\n",
       "    .dataframe thead th {\n",
       "        text-align: right;\n",
       "    }\n",
       "</style>\n",
       "<table border=\"1\" class=\"dataframe\">\n",
       "  <thead>\n",
       "    <tr style=\"text-align: right;\">\n",
       "      <th></th>\n",
       "      <th>id</th>\n",
       "      <th>message_date</th>\n",
       "      <th>user_id</th>\n",
       "    </tr>\n",
       "  </thead>\n",
       "  <tbody>\n",
       "    <tr>\n",
       "      <td>0</td>\n",
       "      <td>1000_0</td>\n",
       "      <td>2018-06-27</td>\n",
       "      <td>1000</td>\n",
       "    </tr>\n",
       "    <tr>\n",
       "      <td>1</td>\n",
       "      <td>1000_1</td>\n",
       "      <td>2018-10-08</td>\n",
       "      <td>1000</td>\n",
       "    </tr>\n",
       "    <tr>\n",
       "      <td>2</td>\n",
       "      <td>1000_2</td>\n",
       "      <td>2018-08-04</td>\n",
       "      <td>1000</td>\n",
       "    </tr>\n",
       "    <tr>\n",
       "      <td>3</td>\n",
       "      <td>1000_3</td>\n",
       "      <td>2018-06-16</td>\n",
       "      <td>1000</td>\n",
       "    </tr>\n",
       "    <tr>\n",
       "      <td>4</td>\n",
       "      <td>1000_4</td>\n",
       "      <td>2018-12-05</td>\n",
       "      <td>1000</td>\n",
       "    </tr>\n",
       "  </tbody>\n",
       "</table>\n",
       "</div>"
      ],
      "text/plain": [
       "       id message_date  user_id\n",
       "0  1000_0   2018-06-27     1000\n",
       "1  1000_1   2018-10-08     1000\n",
       "2  1000_2   2018-08-04     1000\n",
       "3  1000_3   2018-06-16     1000\n",
       "4  1000_4   2018-12-05     1000"
      ]
     },
     "execution_count": 11,
     "metadata": {},
     "output_type": "execute_result"
    }
   ],
   "source": [
    "messages = pd.read_csv('/datasets/messages.csv', parse_dates=['message_date'])\n",
    "messages.head()"
   ]
  },
  {
   "cell_type": "code",
   "execution_count": 12,
   "metadata": {
    "scrolled": true
   },
   "outputs": [
    {
     "name": "stdout",
     "output_type": "stream",
     "text": [
      "<class 'pandas.core.frame.DataFrame'>\n",
      "RangeIndex: 123036 entries, 0 to 123035\n",
      "Data columns (total 3 columns):\n",
      "id              123036 non-null object\n",
      "message_date    123036 non-null datetime64[ns]\n",
      "user_id         123036 non-null int64\n",
      "dtypes: datetime64[ns](1), int64(1), object(1)\n",
      "memory usage: 2.8+ MB\n"
     ]
    }
   ],
   "source": [
    "messages.info()"
   ]
  },
  {
   "cell_type": "markdown",
   "metadata": {},
   "source": [
    "Пропусков нет, принцип типизации данных аналогичен предыдущим случаям. "
   ]
  },
  {
   "cell_type": "code",
   "execution_count": 13,
   "metadata": {
    "scrolled": true
   },
   "outputs": [
    {
     "name": "stdout",
     "output_type": "stream",
     "text": [
      "0\n"
     ]
    }
   ],
   "source": [
    "print(messages.duplicated().sum())"
   ]
  },
  {
   "cell_type": "markdown",
   "metadata": {},
   "source": [
    "На данном этапе дубликаты не обнаружены. "
   ]
  },
  {
   "cell_type": "code",
   "execution_count": 14,
   "metadata": {
    "scrolled": false
   },
   "outputs": [
    {
     "data": {
      "text/html": [
       "<div>\n",
       "<style scoped>\n",
       "    .dataframe tbody tr th:only-of-type {\n",
       "        vertical-align: middle;\n",
       "    }\n",
       "\n",
       "    .dataframe tbody tr th {\n",
       "        vertical-align: top;\n",
       "    }\n",
       "\n",
       "    .dataframe thead th {\n",
       "        text-align: right;\n",
       "    }\n",
       "</style>\n",
       "<table border=\"1\" class=\"dataframe\">\n",
       "  <thead>\n",
       "    <tr style=\"text-align: right;\">\n",
       "      <th></th>\n",
       "      <th>messages_included</th>\n",
       "      <th>mb_per_month_included</th>\n",
       "      <th>minutes_included</th>\n",
       "      <th>rub_monthly_fee</th>\n",
       "      <th>rub_per_gb</th>\n",
       "      <th>rub_per_message</th>\n",
       "      <th>rub_per_minute</th>\n",
       "      <th>tariff_name</th>\n",
       "    </tr>\n",
       "  </thead>\n",
       "  <tbody>\n",
       "    <tr>\n",
       "      <td>0</td>\n",
       "      <td>50</td>\n",
       "      <td>15360</td>\n",
       "      <td>500</td>\n",
       "      <td>550</td>\n",
       "      <td>200</td>\n",
       "      <td>3</td>\n",
       "      <td>3</td>\n",
       "      <td>smart</td>\n",
       "    </tr>\n",
       "    <tr>\n",
       "      <td>1</td>\n",
       "      <td>1000</td>\n",
       "      <td>30720</td>\n",
       "      <td>3000</td>\n",
       "      <td>1950</td>\n",
       "      <td>150</td>\n",
       "      <td>1</td>\n",
       "      <td>1</td>\n",
       "      <td>ultra</td>\n",
       "    </tr>\n",
       "  </tbody>\n",
       "</table>\n",
       "</div>"
      ],
      "text/plain": [
       "   messages_included  mb_per_month_included  minutes_included  \\\n",
       "0                 50                  15360               500   \n",
       "1               1000                  30720              3000   \n",
       "\n",
       "   rub_monthly_fee  rub_per_gb  rub_per_message  rub_per_minute tariff_name  \n",
       "0              550         200                3               3       smart  \n",
       "1             1950         150                1               1       ultra  "
      ]
     },
     "execution_count": 14,
     "metadata": {},
     "output_type": "execute_result"
    }
   ],
   "source": [
    "tariffs = pd.read_csv('/datasets/tariffs.csv')\n",
    "tariffs"
   ]
  },
  {
   "cell_type": "markdown",
   "metadata": {},
   "source": [
    "Таблица tariffs содержит информацию о двух исследуемых тарифах - \"Смарт\" и \"Ультра\". Очевидно, что нет дубликатов и пропусков. Посмотрим, какие типы назначены данным. "
   ]
  },
  {
   "cell_type": "code",
   "execution_count": 15,
   "metadata": {
    "scrolled": true
   },
   "outputs": [
    {
     "name": "stdout",
     "output_type": "stream",
     "text": [
      "<class 'pandas.core.frame.DataFrame'>\n",
      "RangeIndex: 2 entries, 0 to 1\n",
      "Data columns (total 8 columns):\n",
      "messages_included        2 non-null int64\n",
      "mb_per_month_included    2 non-null int64\n",
      "minutes_included         2 non-null int64\n",
      "rub_monthly_fee          2 non-null int64\n",
      "rub_per_gb               2 non-null int64\n",
      "rub_per_message          2 non-null int64\n",
      "rub_per_minute           2 non-null int64\n",
      "tariff_name              2 non-null object\n",
      "dtypes: int64(7), object(1)\n",
      "memory usage: 256.0+ bytes\n"
     ]
    }
   ],
   "source": [
    "tariffs.info()"
   ]
  },
  {
   "cell_type": "markdown",
   "metadata": {},
   "source": [
    "Типизация данных корректна. "
   ]
  },
  {
   "cell_type": "code",
   "execution_count": 16,
   "metadata": {
    "scrolled": true
   },
   "outputs": [
    {
     "data": {
      "text/html": [
       "<div>\n",
       "<style scoped>\n",
       "    .dataframe tbody tr th:only-of-type {\n",
       "        vertical-align: middle;\n",
       "    }\n",
       "\n",
       "    .dataframe tbody tr th {\n",
       "        vertical-align: top;\n",
       "    }\n",
       "\n",
       "    .dataframe thead th {\n",
       "        text-align: right;\n",
       "    }\n",
       "</style>\n",
       "<table border=\"1\" class=\"dataframe\">\n",
       "  <thead>\n",
       "    <tr style=\"text-align: right;\">\n",
       "      <th></th>\n",
       "      <th>user_id</th>\n",
       "      <th>age</th>\n",
       "      <th>churn_date</th>\n",
       "      <th>city</th>\n",
       "      <th>first_name</th>\n",
       "      <th>last_name</th>\n",
       "      <th>reg_date</th>\n",
       "      <th>tariff</th>\n",
       "    </tr>\n",
       "  </thead>\n",
       "  <tbody>\n",
       "    <tr>\n",
       "      <td>0</td>\n",
       "      <td>1000</td>\n",
       "      <td>52</td>\n",
       "      <td>NaT</td>\n",
       "      <td>Краснодар</td>\n",
       "      <td>Рафаил</td>\n",
       "      <td>Верещагин</td>\n",
       "      <td>2018-05-25</td>\n",
       "      <td>ultra</td>\n",
       "    </tr>\n",
       "    <tr>\n",
       "      <td>1</td>\n",
       "      <td>1001</td>\n",
       "      <td>41</td>\n",
       "      <td>NaT</td>\n",
       "      <td>Москва</td>\n",
       "      <td>Иван</td>\n",
       "      <td>Ежов</td>\n",
       "      <td>2018-11-01</td>\n",
       "      <td>smart</td>\n",
       "    </tr>\n",
       "    <tr>\n",
       "      <td>2</td>\n",
       "      <td>1002</td>\n",
       "      <td>59</td>\n",
       "      <td>NaT</td>\n",
       "      <td>Стерлитамак</td>\n",
       "      <td>Евгений</td>\n",
       "      <td>Абрамович</td>\n",
       "      <td>2018-06-17</td>\n",
       "      <td>smart</td>\n",
       "    </tr>\n",
       "    <tr>\n",
       "      <td>3</td>\n",
       "      <td>1003</td>\n",
       "      <td>23</td>\n",
       "      <td>NaT</td>\n",
       "      <td>Москва</td>\n",
       "      <td>Белла</td>\n",
       "      <td>Белякова</td>\n",
       "      <td>2018-08-17</td>\n",
       "      <td>ultra</td>\n",
       "    </tr>\n",
       "    <tr>\n",
       "      <td>4</td>\n",
       "      <td>1004</td>\n",
       "      <td>68</td>\n",
       "      <td>NaT</td>\n",
       "      <td>Новокузнецк</td>\n",
       "      <td>Татьяна</td>\n",
       "      <td>Авдеенко</td>\n",
       "      <td>2018-05-14</td>\n",
       "      <td>ultra</td>\n",
       "    </tr>\n",
       "  </tbody>\n",
       "</table>\n",
       "</div>"
      ],
      "text/plain": [
       "   user_id  age churn_date         city first_name  last_name   reg_date  \\\n",
       "0     1000   52        NaT    Краснодар     Рафаил  Верещагин 2018-05-25   \n",
       "1     1001   41        NaT       Москва       Иван       Ежов 2018-11-01   \n",
       "2     1002   59        NaT  Стерлитамак    Евгений  Абрамович 2018-06-17   \n",
       "3     1003   23        NaT       Москва      Белла   Белякова 2018-08-17   \n",
       "4     1004   68        NaT  Новокузнецк    Татьяна   Авдеенко 2018-05-14   \n",
       "\n",
       "  tariff  \n",
       "0  ultra  \n",
       "1  smart  \n",
       "2  smart  \n",
       "3  ultra  \n",
       "4  ultra  "
      ]
     },
     "execution_count": 16,
     "metadata": {},
     "output_type": "execute_result"
    }
   ],
   "source": [
    "users = pd.read_csv('/datasets/users.csv', parse_dates=['reg_date', 'churn_date'])\n",
    "users.head()"
   ]
  },
  {
   "cell_type": "code",
   "execution_count": 17,
   "metadata": {
    "scrolled": true
   },
   "outputs": [
    {
     "name": "stdout",
     "output_type": "stream",
     "text": [
      "<class 'pandas.core.frame.DataFrame'>\n",
      "RangeIndex: 500 entries, 0 to 499\n",
      "Data columns (total 8 columns):\n",
      "user_id       500 non-null int64\n",
      "age           500 non-null int64\n",
      "churn_date    38 non-null datetime64[ns]\n",
      "city          500 non-null object\n",
      "first_name    500 non-null object\n",
      "last_name     500 non-null object\n",
      "reg_date      500 non-null datetime64[ns]\n",
      "tariff        500 non-null object\n",
      "dtypes: datetime64[ns](2), int64(2), object(4)\n",
      "memory usage: 31.4+ KB\n"
     ]
    }
   ],
   "source": [
    "users.info()"
   ]
  },
  {
   "cell_type": "markdown",
   "metadata": {},
   "source": [
    "Все типы данных корректны. Пропуски обнаружены в столбце churn_date, который содержит дату прекращения пользования тарифом.  Данный столбец заполнен только в 38 случаях. Во всех остальных случаях, соответственно, тарифом пользовались на момент выгрузки данных. "
   ]
  },
  {
   "cell_type": "code",
   "execution_count": 18,
   "metadata": {
    "scrolled": true
   },
   "outputs": [
    {
     "name": "stdout",
     "output_type": "stream",
     "text": [
      "0\n"
     ]
    }
   ],
   "source": [
    "print(users.duplicated().sum())"
   ]
  },
  {
   "cell_type": "markdown",
   "metadata": {},
   "source": [
    "На данном этапе дубликаты не обнаружены. "
   ]
  },
  {
   "cell_type": "markdown",
   "metadata": {},
   "source": [
    "### Вывод"
   ]
  },
  {
   "cell_type": "markdown",
   "metadata": {},
   "source": [
    "Мы прочитали 5 csv-файлов. Дубликаты в данных отсутствуют, есть пропуски в таблице users в столбце churn_date, которые связаны с тем, что пользователь до сих пор пользуется указанным тарифом. Названия столбцов и типы данных изменений не требуют. Далее, на этапе предобработки данных, проверим, есть ли аномалии в столбцах, по которым будут происходить расчеты. "
   ]
  },
  {
   "cell_type": "markdown",
   "metadata": {},
   "source": [
    "## Предобработка данных и объединение таблиц"
   ]
  },
  {
   "cell_type": "markdown",
   "metadata": {},
   "source": [
    "Проверим данные, которые хранятся в следующих столбцах: internet['mb_used'], calls['duration']."
   ]
  },
  {
   "cell_type": "code",
   "execution_count": 19,
   "metadata": {
    "scrolled": true
   },
   "outputs": [
    {
     "data": {
      "text/plain": [
       "count    149396.000000\n",
       "mean        370.192426\n",
       "std         278.300951\n",
       "min           0.000000\n",
       "25%         138.187500\n",
       "50%         348.015000\n",
       "75%         559.552500\n",
       "max        1724.830000\n",
       "Name: mb_used, dtype: float64"
      ]
     },
     "execution_count": 19,
     "metadata": {},
     "output_type": "execute_result"
    }
   ],
   "source": [
    "internet['mb_used'].describe()"
   ]
  },
  {
   "cell_type": "code",
   "execution_count": 20,
   "metadata": {
    "scrolled": true
   },
   "outputs": [
    {
     "data": {
      "text/plain": [
       "<matplotlib.axes._subplots.AxesSubplot at 0x7f46898dbb90>"
      ]
     },
     "execution_count": 20,
     "metadata": {},
     "output_type": "execute_result"
    },
    {
     "data": {
      "image/png": "[encoded data removed]",
      "text/plain": [
       "<Figure size 432x288 with 1 Axes>"
      ]
     },
     "metadata": {
      "needs_background": "light"
     },
     "output_type": "display_data"
    }
   ],
   "source": [
    "internet.boxplot('mb_used')"
   ]
  },
  {
   "cell_type": "code",
   "execution_count": 21,
   "metadata": {
    "scrolled": false
   },
   "outputs": [
    {
     "data": {
      "text/plain": [
       "array([[<matplotlib.axes._subplots.AxesSubplot object at 0x7f4689808490>]],\n",
       "      dtype=object)"
      ]
     },
     "execution_count": 21,
     "metadata": {},
     "output_type": "execute_result"
    },
    {
     "data": {
      "image/png": "[encoded data removed]",
      "text/plain": [
       "<Figure size 432x288 with 1 Axes>"
      ]
     },
     "metadata": {
      "needs_background": "light"
     },
     "output_type": "display_data"
    }
   ],
   "source": [
    "internet.hist('mb_used', range=(0,1))"
   ]
  },
  {
   "cell_type": "markdown",
   "metadata": {},
   "source": [
    "Видим, что у нас есть почти 20 000 сеансов, за которые было израсходовано от 0.0 до 0.1 мб. Такие записи не обязательно являются ошибкой в данных: они могут быть результатом того, что пользователь вошел в интернет и тут же заблокировал телефон, передумал пользоваться или отвлекся. Посчитаем, какова доля таких записей, чтобы принять решение об их удалении или преобразовании."
   ]
  },
  {
   "cell_type": "code",
   "execution_count": 22,
   "metadata": {
    "scrolled": true
   },
   "outputs": [
    {
     "name": "stdout",
     "output_type": "stream",
     "text": [
      "0.13185761332298054\n"
     ]
    }
   ],
   "source": [
    "print(len(internet.query('mb_used < 1')) / len(internet['mb_used']))"
   ]
  },
  {
   "cell_type": "markdown",
   "metadata": {},
   "source": [
    "13% всех выходов в интернет соответствуют минимальному расходу трафика. При этом мы знаем, что \"Мегалайн\" всегда округляет в большую сторону. Для веб-сеансов округляется не каждый сеанс, а израсходованный за месяц трафик. С учетом того, что такие сеансы распределены по всем 500 пользователям, можно предположить, что они очень слабо повлияют на итоговые расчеты. Сохраним их в неизменном виде. "
   ]
  },
  {
   "cell_type": "code",
   "execution_count": 23,
   "metadata": {
    "scrolled": false
   },
   "outputs": [
    {
     "data": {
      "text/plain": [
       "count    149396.000000\n",
       "mean        370.192426\n",
       "std         278.300951\n",
       "min           0.000000\n",
       "25%         138.187500\n",
       "50%         348.015000\n",
       "75%         559.552500\n",
       "max        1724.830000\n",
       "Name: mb_used, dtype: float64"
      ]
     },
     "execution_count": 23,
     "metadata": {},
     "output_type": "execute_result"
    }
   ],
   "source": [
    "internet['mb_used'].describe()"
   ]
  },
  {
   "cell_type": "markdown",
   "metadata": {},
   "source": [
    "Среднее значение использованных за сеанс мб - 370.1, медиана - 348. По ящику с усами видим, что значения около 1250 мб за сеанс и выше отнесены к выбросам, однако они могут появиться по вполне обычным причинам: возможно, кто-то посвятил сеанс просмотру фильма или длинного видеоролика. "
   ]
  },
  {
   "cell_type": "code",
   "execution_count": 24,
   "metadata": {
    "scrolled": true
   },
   "outputs": [
    {
     "data": {
      "text/plain": [
       "count    202607.000000\n",
       "mean          7.158198\n",
       "std           5.959173\n",
       "min           0.000000\n",
       "25%           2.000000\n",
       "50%           6.000000\n",
       "75%          11.000000\n",
       "max          38.000000\n",
       "Name: duration, dtype: float64"
      ]
     },
     "execution_count": 24,
     "metadata": {},
     "output_type": "execute_result"
    }
   ],
   "source": [
    "calls['duration'].describe()"
   ]
  },
  {
   "cell_type": "markdown",
   "metadata": {},
   "source": [
    "Нам уже было известно, что звонки с нулевой продолжительностью - пропущенные. Далее нас может устроить любая длина из имеющегося диапазона. "
   ]
  },
  {
   "cell_type": "markdown",
   "metadata": {},
   "source": [
    "Информация о звонках, количестве сообщений, трафике нам нужна по месяцам. Достанем месяцы из столбцов с датами (их нумерация соответствует общепринятой)."
   ]
  },
  {
   "cell_type": "code",
   "execution_count": 25,
   "metadata": {},
   "outputs": [],
   "source": [
    "calls['month'] = pd.DatetimeIndex(calls['call_date']).month"
   ]
  },
  {
   "cell_type": "code",
   "execution_count": 26,
   "metadata": {
    "scrolled": true
   },
   "outputs": [],
   "source": [
    "messages['month'] = pd.DatetimeIndex(messages['message_date']).month"
   ]
  },
  {
   "cell_type": "code",
   "execution_count": 27,
   "metadata": {},
   "outputs": [],
   "source": [
    "internet['month'] = pd.DatetimeIndex(internet['session_date']).month"
   ]
  },
  {
   "cell_type": "markdown",
   "metadata": {},
   "source": [
    "Нам нужна информация о платежах в месяц для каждого пользователя. Группируем таблицы calls, messages, internet по столбцам user_id и month, а затем объединяем их с помощью метода .merge(). "
   ]
  },
  {
   "cell_type": "code",
   "execution_count": 28,
   "metadata": {},
   "outputs": [],
   "source": [
    "calls = calls.groupby(['user_id', 'month']).agg({'duration':'sum', 'id':'count'}).reset_index()\n",
    "messages = messages.groupby(['user_id', 'month']).agg({'id':'count'}).reset_index()\n",
    "internet = internet.groupby(['user_id', 'month']).agg({'mb_used':'sum'}).reset_index()"
   ]
  },
  {
   "cell_type": "code",
   "execution_count": 29,
   "metadata": {
    "scrolled": true
   },
   "outputs": [
    {
     "data": {
      "text/html": [
       "<div>\n",
       "<style scoped>\n",
       "    .dataframe tbody tr th:only-of-type {\n",
       "        vertical-align: middle;\n",
       "    }\n",
       "\n",
       "    .dataframe tbody tr th {\n",
       "        vertical-align: top;\n",
       "    }\n",
       "\n",
       "    .dataframe thead th {\n",
       "        text-align: right;\n",
       "    }\n",
       "</style>\n",
       "<table border=\"1\" class=\"dataframe\">\n",
       "  <thead>\n",
       "    <tr style=\"text-align: right;\">\n",
       "      <th></th>\n",
       "      <th>user_id</th>\n",
       "      <th>month</th>\n",
       "      <th>duration</th>\n",
       "      <th>id_x</th>\n",
       "      <th>id_y</th>\n",
       "      <th>mb_used</th>\n",
       "      <th>tariff</th>\n",
       "      <th>city</th>\n",
       "    </tr>\n",
       "  </thead>\n",
       "  <tbody>\n",
       "    <tr>\n",
       "      <td>0</td>\n",
       "      <td>1000</td>\n",
       "      <td>5</td>\n",
       "      <td>159.0</td>\n",
       "      <td>22.0</td>\n",
       "      <td>22.0</td>\n",
       "      <td>2253.49</td>\n",
       "      <td>ultra</td>\n",
       "      <td>Краснодар</td>\n",
       "    </tr>\n",
       "    <tr>\n",
       "      <td>1</td>\n",
       "      <td>1000</td>\n",
       "      <td>6</td>\n",
       "      <td>172.0</td>\n",
       "      <td>43.0</td>\n",
       "      <td>60.0</td>\n",
       "      <td>23233.77</td>\n",
       "      <td>ultra</td>\n",
       "      <td>Краснодар</td>\n",
       "    </tr>\n",
       "    <tr>\n",
       "      <td>2</td>\n",
       "      <td>1000</td>\n",
       "      <td>7</td>\n",
       "      <td>340.0</td>\n",
       "      <td>47.0</td>\n",
       "      <td>75.0</td>\n",
       "      <td>14003.64</td>\n",
       "      <td>ultra</td>\n",
       "      <td>Краснодар</td>\n",
       "    </tr>\n",
       "    <tr>\n",
       "      <td>3</td>\n",
       "      <td>1000</td>\n",
       "      <td>8</td>\n",
       "      <td>408.0</td>\n",
       "      <td>52.0</td>\n",
       "      <td>81.0</td>\n",
       "      <td>14055.93</td>\n",
       "      <td>ultra</td>\n",
       "      <td>Краснодар</td>\n",
       "    </tr>\n",
       "    <tr>\n",
       "      <td>4</td>\n",
       "      <td>1000</td>\n",
       "      <td>9</td>\n",
       "      <td>466.0</td>\n",
       "      <td>58.0</td>\n",
       "      <td>57.0</td>\n",
       "      <td>14568.91</td>\n",
       "      <td>ultra</td>\n",
       "      <td>Краснодар</td>\n",
       "    </tr>\n",
       "  </tbody>\n",
       "</table>\n",
       "</div>"
      ],
      "text/plain": [
       "   user_id  month  duration  id_x  id_y   mb_used tariff       city\n",
       "0     1000      5     159.0  22.0  22.0   2253.49  ultra  Краснодар\n",
       "1     1000      6     172.0  43.0  60.0  23233.77  ultra  Краснодар\n",
       "2     1000      7     340.0  47.0  75.0  14003.64  ultra  Краснодар\n",
       "3     1000      8     408.0  52.0  81.0  14055.93  ultra  Краснодар\n",
       "4     1000      9     466.0  58.0  57.0  14568.91  ultra  Краснодар"
      ]
     },
     "execution_count": 29,
     "metadata": {},
     "output_type": "execute_result"
    }
   ],
   "source": [
    "data = calls.merge(\n",
    "    messages,  how = 'outer', on = ['user_id', 'month']).merge(\n",
    "    internet,  how = 'outer', on = ['user_id', 'month']).merge(\n",
    "    users[['user_id', 'tariff', 'city']], how = 'left', on = 'user_id')\n",
    "data.head()"
   ]
  },
  {
   "cell_type": "code",
   "execution_count": 30,
   "metadata": {},
   "outputs": [
    {
     "data": {
      "text/html": [
       "<div>\n",
       "<style scoped>\n",
       "    .dataframe tbody tr th:only-of-type {\n",
       "        vertical-align: middle;\n",
       "    }\n",
       "\n",
       "    .dataframe tbody tr th {\n",
       "        vertical-align: top;\n",
       "    }\n",
       "\n",
       "    .dataframe thead th {\n",
       "        text-align: right;\n",
       "    }\n",
       "</style>\n",
       "<table border=\"1\" class=\"dataframe\">\n",
       "  <thead>\n",
       "    <tr style=\"text-align: right;\">\n",
       "      <th></th>\n",
       "      <th>user_id</th>\n",
       "      <th>month</th>\n",
       "      <th>call_duration</th>\n",
       "      <th>call_quantity</th>\n",
       "      <th>message_quantity</th>\n",
       "      <th>mb_used</th>\n",
       "      <th>tariff_name</th>\n",
       "      <th>city</th>\n",
       "    </tr>\n",
       "  </thead>\n",
       "  <tbody>\n",
       "    <tr>\n",
       "      <td>0</td>\n",
       "      <td>1000</td>\n",
       "      <td>5</td>\n",
       "      <td>159.0</td>\n",
       "      <td>22.0</td>\n",
       "      <td>22.0</td>\n",
       "      <td>2253.49</td>\n",
       "      <td>ultra</td>\n",
       "      <td>Краснодар</td>\n",
       "    </tr>\n",
       "    <tr>\n",
       "      <td>1</td>\n",
       "      <td>1000</td>\n",
       "      <td>6</td>\n",
       "      <td>172.0</td>\n",
       "      <td>43.0</td>\n",
       "      <td>60.0</td>\n",
       "      <td>23233.77</td>\n",
       "      <td>ultra</td>\n",
       "      <td>Краснодар</td>\n",
       "    </tr>\n",
       "    <tr>\n",
       "      <td>2</td>\n",
       "      <td>1000</td>\n",
       "      <td>7</td>\n",
       "      <td>340.0</td>\n",
       "      <td>47.0</td>\n",
       "      <td>75.0</td>\n",
       "      <td>14003.64</td>\n",
       "      <td>ultra</td>\n",
       "      <td>Краснодар</td>\n",
       "    </tr>\n",
       "    <tr>\n",
       "      <td>3</td>\n",
       "      <td>1000</td>\n",
       "      <td>8</td>\n",
       "      <td>408.0</td>\n",
       "      <td>52.0</td>\n",
       "      <td>81.0</td>\n",
       "      <td>14055.93</td>\n",
       "      <td>ultra</td>\n",
       "      <td>Краснодар</td>\n",
       "    </tr>\n",
       "    <tr>\n",
       "      <td>4</td>\n",
       "      <td>1000</td>\n",
       "      <td>9</td>\n",
       "      <td>466.0</td>\n",
       "      <td>58.0</td>\n",
       "      <td>57.0</td>\n",
       "      <td>14568.91</td>\n",
       "      <td>ultra</td>\n",
       "      <td>Краснодар</td>\n",
       "    </tr>\n",
       "  </tbody>\n",
       "</table>\n",
       "</div>"
      ],
      "text/plain": [
       "   user_id  month  call_duration  call_quantity  message_quantity   mb_used  \\\n",
       "0     1000      5          159.0           22.0              22.0   2253.49   \n",
       "1     1000      6          172.0           43.0              60.0  23233.77   \n",
       "2     1000      7          340.0           47.0              75.0  14003.64   \n",
       "3     1000      8          408.0           52.0              81.0  14055.93   \n",
       "4     1000      9          466.0           58.0              57.0  14568.91   \n",
       "\n",
       "  tariff_name       city  \n",
       "0       ultra  Краснодар  \n",
       "1       ultra  Краснодар  \n",
       "2       ultra  Краснодар  \n",
       "3       ultra  Краснодар  \n",
       "4       ultra  Краснодар  "
      ]
     },
     "execution_count": 30,
     "metadata": {},
     "output_type": "execute_result"
    }
   ],
   "source": [
    "# сделаем названия столбцов понятнее\n",
    "data.columns = ['user_id', 'month', 'call_duration', 'call_quantity', 'message_quantity', 'mb_used', 'tariff_name', 'city']\n",
    "data.head()"
   ]
  },
  {
   "cell_type": "markdown",
   "metadata": {},
   "source": [
    "Оплата за интернет-трафик в \"Мегалайне\" происходит по гб, а не по мб, причем мб всегда округляются в большую сторону. Переведем мб в гб, создав отдельный столбец. "
   ]
  },
  {
   "cell_type": "code",
   "execution_count": 31,
   "metadata": {
    "scrolled": true
   },
   "outputs": [
    {
     "data": {
      "text/html": [
       "<div>\n",
       "<style scoped>\n",
       "    .dataframe tbody tr th:only-of-type {\n",
       "        vertical-align: middle;\n",
       "    }\n",
       "\n",
       "    .dataframe tbody tr th {\n",
       "        vertical-align: top;\n",
       "    }\n",
       "\n",
       "    .dataframe thead th {\n",
       "        text-align: right;\n",
       "    }\n",
       "</style>\n",
       "<table border=\"1\" class=\"dataframe\">\n",
       "  <thead>\n",
       "    <tr style=\"text-align: right;\">\n",
       "      <th></th>\n",
       "      <th>user_id</th>\n",
       "      <th>month</th>\n",
       "      <th>call_duration</th>\n",
       "      <th>call_quantity</th>\n",
       "      <th>message_quantity</th>\n",
       "      <th>mb_used</th>\n",
       "      <th>tariff_name</th>\n",
       "      <th>city</th>\n",
       "      <th>gb_used</th>\n",
       "    </tr>\n",
       "  </thead>\n",
       "  <tbody>\n",
       "    <tr>\n",
       "      <td>0</td>\n",
       "      <td>1000</td>\n",
       "      <td>5</td>\n",
       "      <td>159.0</td>\n",
       "      <td>22.0</td>\n",
       "      <td>22.0</td>\n",
       "      <td>2253.49</td>\n",
       "      <td>ultra</td>\n",
       "      <td>Краснодар</td>\n",
       "      <td>3.0</td>\n",
       "    </tr>\n",
       "    <tr>\n",
       "      <td>1</td>\n",
       "      <td>1000</td>\n",
       "      <td>6</td>\n",
       "      <td>172.0</td>\n",
       "      <td>43.0</td>\n",
       "      <td>60.0</td>\n",
       "      <td>23233.77</td>\n",
       "      <td>ultra</td>\n",
       "      <td>Краснодар</td>\n",
       "      <td>23.0</td>\n",
       "    </tr>\n",
       "    <tr>\n",
       "      <td>2</td>\n",
       "      <td>1000</td>\n",
       "      <td>7</td>\n",
       "      <td>340.0</td>\n",
       "      <td>47.0</td>\n",
       "      <td>75.0</td>\n",
       "      <td>14003.64</td>\n",
       "      <td>ultra</td>\n",
       "      <td>Краснодар</td>\n",
       "      <td>14.0</td>\n",
       "    </tr>\n",
       "    <tr>\n",
       "      <td>3</td>\n",
       "      <td>1000</td>\n",
       "      <td>8</td>\n",
       "      <td>408.0</td>\n",
       "      <td>52.0</td>\n",
       "      <td>81.0</td>\n",
       "      <td>14055.93</td>\n",
       "      <td>ultra</td>\n",
       "      <td>Краснодар</td>\n",
       "      <td>14.0</td>\n",
       "    </tr>\n",
       "    <tr>\n",
       "      <td>4</td>\n",
       "      <td>1000</td>\n",
       "      <td>9</td>\n",
       "      <td>466.0</td>\n",
       "      <td>58.0</td>\n",
       "      <td>57.0</td>\n",
       "      <td>14568.91</td>\n",
       "      <td>ultra</td>\n",
       "      <td>Краснодар</td>\n",
       "      <td>15.0</td>\n",
       "    </tr>\n",
       "  </tbody>\n",
       "</table>\n",
       "</div>"
      ],
      "text/plain": [
       "   user_id  month  call_duration  call_quantity  message_quantity   mb_used  \\\n",
       "0     1000      5          159.0           22.0              22.0   2253.49   \n",
       "1     1000      6          172.0           43.0              60.0  23233.77   \n",
       "2     1000      7          340.0           47.0              75.0  14003.64   \n",
       "3     1000      8          408.0           52.0              81.0  14055.93   \n",
       "4     1000      9          466.0           58.0              57.0  14568.91   \n",
       "\n",
       "  tariff_name       city  gb_used  \n",
       "0       ultra  Краснодар      3.0  \n",
       "1       ultra  Краснодар     23.0  \n",
       "2       ultra  Краснодар     14.0  \n",
       "3       ultra  Краснодар     14.0  \n",
       "4       ultra  Краснодар     15.0  "
      ]
     },
     "execution_count": 31,
     "metadata": {},
     "output_type": "execute_result"
    }
   ],
   "source": [
    "data['gb_used'] = data['mb_used'] / 1024\n",
    "data['gb_used'] = data['gb_used'].apply(np.ceil) # np.ceil позволяет округлить в большую сторону\n",
    "data.head()"
   ]
  },
  {
   "cell_type": "markdown",
   "metadata": {},
   "source": [
    "Нам надо рассчитать помесячную выручку для каждого пользователя с учетом его тарифа и включенных туда платежей, а также перерасхода. Создаем таблицу data_tariffs, где к каждой строке подтянута информация о соответствующем тарифе."
   ]
  },
  {
   "cell_type": "code",
   "execution_count": 32,
   "metadata": {
    "scrolled": true
   },
   "outputs": [
    {
     "data": {
      "text/html": [
       "<div>\n",
       "<style scoped>\n",
       "    .dataframe tbody tr th:only-of-type {\n",
       "        vertical-align: middle;\n",
       "    }\n",
       "\n",
       "    .dataframe tbody tr th {\n",
       "        vertical-align: top;\n",
       "    }\n",
       "\n",
       "    .dataframe thead th {\n",
       "        text-align: right;\n",
       "    }\n",
       "</style>\n",
       "<table border=\"1\" class=\"dataframe\">\n",
       "  <thead>\n",
       "    <tr style=\"text-align: right;\">\n",
       "      <th></th>\n",
       "      <th>user_id</th>\n",
       "      <th>month</th>\n",
       "      <th>call_duration</th>\n",
       "      <th>call_quantity</th>\n",
       "      <th>message_quantity</th>\n",
       "      <th>mb_used</th>\n",
       "      <th>tariff_name</th>\n",
       "      <th>city</th>\n",
       "      <th>gb_used</th>\n",
       "      <th>messages_included</th>\n",
       "      <th>mb_per_month_included</th>\n",
       "      <th>minutes_included</th>\n",
       "      <th>rub_monthly_fee</th>\n",
       "      <th>rub_per_gb</th>\n",
       "      <th>rub_per_message</th>\n",
       "      <th>rub_per_minute</th>\n",
       "    </tr>\n",
       "  </thead>\n",
       "  <tbody>\n",
       "    <tr>\n",
       "      <td>0</td>\n",
       "      <td>1000</td>\n",
       "      <td>5</td>\n",
       "      <td>159.0</td>\n",
       "      <td>22.0</td>\n",
       "      <td>22.0</td>\n",
       "      <td>2253.49</td>\n",
       "      <td>ultra</td>\n",
       "      <td>Краснодар</td>\n",
       "      <td>3.0</td>\n",
       "      <td>1000</td>\n",
       "      <td>30720</td>\n",
       "      <td>3000</td>\n",
       "      <td>1950</td>\n",
       "      <td>150</td>\n",
       "      <td>1</td>\n",
       "      <td>1</td>\n",
       "    </tr>\n",
       "    <tr>\n",
       "      <td>1</td>\n",
       "      <td>1000</td>\n",
       "      <td>6</td>\n",
       "      <td>172.0</td>\n",
       "      <td>43.0</td>\n",
       "      <td>60.0</td>\n",
       "      <td>23233.77</td>\n",
       "      <td>ultra</td>\n",
       "      <td>Краснодар</td>\n",
       "      <td>23.0</td>\n",
       "      <td>1000</td>\n",
       "      <td>30720</td>\n",
       "      <td>3000</td>\n",
       "      <td>1950</td>\n",
       "      <td>150</td>\n",
       "      <td>1</td>\n",
       "      <td>1</td>\n",
       "    </tr>\n",
       "    <tr>\n",
       "      <td>2</td>\n",
       "      <td>1000</td>\n",
       "      <td>7</td>\n",
       "      <td>340.0</td>\n",
       "      <td>47.0</td>\n",
       "      <td>75.0</td>\n",
       "      <td>14003.64</td>\n",
       "      <td>ultra</td>\n",
       "      <td>Краснодар</td>\n",
       "      <td>14.0</td>\n",
       "      <td>1000</td>\n",
       "      <td>30720</td>\n",
       "      <td>3000</td>\n",
       "      <td>1950</td>\n",
       "      <td>150</td>\n",
       "      <td>1</td>\n",
       "      <td>1</td>\n",
       "    </tr>\n",
       "    <tr>\n",
       "      <td>3</td>\n",
       "      <td>1000</td>\n",
       "      <td>8</td>\n",
       "      <td>408.0</td>\n",
       "      <td>52.0</td>\n",
       "      <td>81.0</td>\n",
       "      <td>14055.93</td>\n",
       "      <td>ultra</td>\n",
       "      <td>Краснодар</td>\n",
       "      <td>14.0</td>\n",
       "      <td>1000</td>\n",
       "      <td>30720</td>\n",
       "      <td>3000</td>\n",
       "      <td>1950</td>\n",
       "      <td>150</td>\n",
       "      <td>1</td>\n",
       "      <td>1</td>\n",
       "    </tr>\n",
       "    <tr>\n",
       "      <td>4</td>\n",
       "      <td>1000</td>\n",
       "      <td>9</td>\n",
       "      <td>466.0</td>\n",
       "      <td>58.0</td>\n",
       "      <td>57.0</td>\n",
       "      <td>14568.91</td>\n",
       "      <td>ultra</td>\n",
       "      <td>Краснодар</td>\n",
       "      <td>15.0</td>\n",
       "      <td>1000</td>\n",
       "      <td>30720</td>\n",
       "      <td>3000</td>\n",
       "      <td>1950</td>\n",
       "      <td>150</td>\n",
       "      <td>1</td>\n",
       "      <td>1</td>\n",
       "    </tr>\n",
       "  </tbody>\n",
       "</table>\n",
       "</div>"
      ],
      "text/plain": [
       "   user_id  month  call_duration  call_quantity  message_quantity   mb_used  \\\n",
       "0     1000      5          159.0           22.0              22.0   2253.49   \n",
       "1     1000      6          172.0           43.0              60.0  23233.77   \n",
       "2     1000      7          340.0           47.0              75.0  14003.64   \n",
       "3     1000      8          408.0           52.0              81.0  14055.93   \n",
       "4     1000      9          466.0           58.0              57.0  14568.91   \n",
       "\n",
       "  tariff_name       city  gb_used  messages_included  mb_per_month_included  \\\n",
       "0       ultra  Краснодар      3.0               1000                  30720   \n",
       "1       ultra  Краснодар     23.0               1000                  30720   \n",
       "2       ultra  Краснодар     14.0               1000                  30720   \n",
       "3       ultra  Краснодар     14.0               1000                  30720   \n",
       "4       ultra  Краснодар     15.0               1000                  30720   \n",
       "\n",
       "   minutes_included  rub_monthly_fee  rub_per_gb  rub_per_message  \\\n",
       "0              3000             1950         150                1   \n",
       "1              3000             1950         150                1   \n",
       "2              3000             1950         150                1   \n",
       "3              3000             1950         150                1   \n",
       "4              3000             1950         150                1   \n",
       "\n",
       "   rub_per_minute  \n",
       "0               1  \n",
       "1               1  \n",
       "2               1  \n",
       "3               1  \n",
       "4               1  "
      ]
     },
     "execution_count": 32,
     "metadata": {},
     "output_type": "execute_result"
    }
   ],
   "source": [
    "# соединяем таблицы по столбцу tariff_name\n",
    "data_tariffs = data.merge(tariffs, how='outer', on='tariff_name')\n",
    "data_tariffs.head()"
   ]
  },
  {
   "cell_type": "markdown",
   "metadata": {},
   "source": [
    "Для удобства дальнейшей работы переведем в гб информацию о включенном в абонентскую плату трафике. Столбцы с информацией в мб можно будет удалить, так как оплата происходит за гб, а не за мб."
   ]
  },
  {
   "cell_type": "code",
   "execution_count": 33,
   "metadata": {
    "scrolled": true
   },
   "outputs": [
    {
     "data": {
      "text/html": [
       "<div>\n",
       "<style scoped>\n",
       "    .dataframe tbody tr th:only-of-type {\n",
       "        vertical-align: middle;\n",
       "    }\n",
       "\n",
       "    .dataframe tbody tr th {\n",
       "        vertical-align: top;\n",
       "    }\n",
       "\n",
       "    .dataframe thead th {\n",
       "        text-align: right;\n",
       "    }\n",
       "</style>\n",
       "<table border=\"1\" class=\"dataframe\">\n",
       "  <thead>\n",
       "    <tr style=\"text-align: right;\">\n",
       "      <th></th>\n",
       "      <th>user_id</th>\n",
       "      <th>month</th>\n",
       "      <th>call_duration</th>\n",
       "      <th>call_quantity</th>\n",
       "      <th>message_quantity</th>\n",
       "      <th>mb_used</th>\n",
       "      <th>tariff_name</th>\n",
       "      <th>city</th>\n",
       "      <th>gb_used</th>\n",
       "      <th>messages_included</th>\n",
       "      <th>mb_per_month_included</th>\n",
       "      <th>minutes_included</th>\n",
       "      <th>rub_monthly_fee</th>\n",
       "      <th>rub_per_gb</th>\n",
       "      <th>rub_per_message</th>\n",
       "      <th>rub_per_minute</th>\n",
       "      <th>gb_included</th>\n",
       "    </tr>\n",
       "  </thead>\n",
       "  <tbody>\n",
       "    <tr>\n",
       "      <td>0</td>\n",
       "      <td>1000</td>\n",
       "      <td>5</td>\n",
       "      <td>159.0</td>\n",
       "      <td>22.0</td>\n",
       "      <td>22.0</td>\n",
       "      <td>2253.49</td>\n",
       "      <td>ultra</td>\n",
       "      <td>Краснодар</td>\n",
       "      <td>3.0</td>\n",
       "      <td>1000</td>\n",
       "      <td>30720</td>\n",
       "      <td>3000</td>\n",
       "      <td>1950</td>\n",
       "      <td>150</td>\n",
       "      <td>1</td>\n",
       "      <td>1</td>\n",
       "      <td>30.0</td>\n",
       "    </tr>\n",
       "    <tr>\n",
       "      <td>1</td>\n",
       "      <td>1000</td>\n",
       "      <td>6</td>\n",
       "      <td>172.0</td>\n",
       "      <td>43.0</td>\n",
       "      <td>60.0</td>\n",
       "      <td>23233.77</td>\n",
       "      <td>ultra</td>\n",
       "      <td>Краснодар</td>\n",
       "      <td>23.0</td>\n",
       "      <td>1000</td>\n",
       "      <td>30720</td>\n",
       "      <td>3000</td>\n",
       "      <td>1950</td>\n",
       "      <td>150</td>\n",
       "      <td>1</td>\n",
       "      <td>1</td>\n",
       "      <td>30.0</td>\n",
       "    </tr>\n",
       "    <tr>\n",
       "      <td>2</td>\n",
       "      <td>1000</td>\n",
       "      <td>7</td>\n",
       "      <td>340.0</td>\n",
       "      <td>47.0</td>\n",
       "      <td>75.0</td>\n",
       "      <td>14003.64</td>\n",
       "      <td>ultra</td>\n",
       "      <td>Краснодар</td>\n",
       "      <td>14.0</td>\n",
       "      <td>1000</td>\n",
       "      <td>30720</td>\n",
       "      <td>3000</td>\n",
       "      <td>1950</td>\n",
       "      <td>150</td>\n",
       "      <td>1</td>\n",
       "      <td>1</td>\n",
       "      <td>30.0</td>\n",
       "    </tr>\n",
       "    <tr>\n",
       "      <td>3</td>\n",
       "      <td>1000</td>\n",
       "      <td>8</td>\n",
       "      <td>408.0</td>\n",
       "      <td>52.0</td>\n",
       "      <td>81.0</td>\n",
       "      <td>14055.93</td>\n",
       "      <td>ultra</td>\n",
       "      <td>Краснодар</td>\n",
       "      <td>14.0</td>\n",
       "      <td>1000</td>\n",
       "      <td>30720</td>\n",
       "      <td>3000</td>\n",
       "      <td>1950</td>\n",
       "      <td>150</td>\n",
       "      <td>1</td>\n",
       "      <td>1</td>\n",
       "      <td>30.0</td>\n",
       "    </tr>\n",
       "    <tr>\n",
       "      <td>4</td>\n",
       "      <td>1000</td>\n",
       "      <td>9</td>\n",
       "      <td>466.0</td>\n",
       "      <td>58.0</td>\n",
       "      <td>57.0</td>\n",
       "      <td>14568.91</td>\n",
       "      <td>ultra</td>\n",
       "      <td>Краснодар</td>\n",
       "      <td>15.0</td>\n",
       "      <td>1000</td>\n",
       "      <td>30720</td>\n",
       "      <td>3000</td>\n",
       "      <td>1950</td>\n",
       "      <td>150</td>\n",
       "      <td>1</td>\n",
       "      <td>1</td>\n",
       "      <td>30.0</td>\n",
       "    </tr>\n",
       "  </tbody>\n",
       "</table>\n",
       "</div>"
      ],
      "text/plain": [
       "   user_id  month  call_duration  call_quantity  message_quantity   mb_used  \\\n",
       "0     1000      5          159.0           22.0              22.0   2253.49   \n",
       "1     1000      6          172.0           43.0              60.0  23233.77   \n",
       "2     1000      7          340.0           47.0              75.0  14003.64   \n",
       "3     1000      8          408.0           52.0              81.0  14055.93   \n",
       "4     1000      9          466.0           58.0              57.0  14568.91   \n",
       "\n",
       "  tariff_name       city  gb_used  messages_included  mb_per_month_included  \\\n",
       "0       ultra  Краснодар      3.0               1000                  30720   \n",
       "1       ultra  Краснодар     23.0               1000                  30720   \n",
       "2       ultra  Краснодар     14.0               1000                  30720   \n",
       "3       ultra  Краснодар     14.0               1000                  30720   \n",
       "4       ultra  Краснодар     15.0               1000                  30720   \n",
       "\n",
       "   minutes_included  rub_monthly_fee  rub_per_gb  rub_per_message  \\\n",
       "0              3000             1950         150                1   \n",
       "1              3000             1950         150                1   \n",
       "2              3000             1950         150                1   \n",
       "3              3000             1950         150                1   \n",
       "4              3000             1950         150                1   \n",
       "\n",
       "   rub_per_minute  gb_included  \n",
       "0               1         30.0  \n",
       "1               1         30.0  \n",
       "2               1         30.0  \n",
       "3               1         30.0  \n",
       "4               1         30.0  "
      ]
     },
     "execution_count": 33,
     "metadata": {},
     "output_type": "execute_result"
    }
   ],
   "source": [
    "data_tariffs['gb_included'] = (data_tariffs['mb_per_month_included'] / 1024).apply(np.ceil)\n",
    "data_tariffs.head()"
   ]
  },
  {
   "cell_type": "code",
   "execution_count": 34,
   "metadata": {},
   "outputs": [],
   "source": [
    "# удаляем лишние столбцы\n",
    "del data_tariffs['mb_used']\n",
    "del data_tariffs['mb_per_month_included']"
   ]
  },
  {
   "cell_type": "code",
   "execution_count": 35,
   "metadata": {},
   "outputs": [
    {
     "name": "stdout",
     "output_type": "stream",
     "text": [
      "<class 'pandas.core.frame.DataFrame'>\n",
      "Int64Index: 3214 entries, 0 to 3213\n",
      "Data columns (total 15 columns):\n",
      "user_id              3214 non-null int64\n",
      "month                3214 non-null int64\n",
      "call_duration        3174 non-null float64\n",
      "call_quantity        3174 non-null float64\n",
      "message_quantity     2717 non-null float64\n",
      "tariff_name          3214 non-null object\n",
      "city                 3214 non-null object\n",
      "gb_used              3203 non-null float64\n",
      "messages_included    3214 non-null int64\n",
      "minutes_included     3214 non-null int64\n",
      "rub_monthly_fee      3214 non-null int64\n",
      "rub_per_gb           3214 non-null int64\n",
      "rub_per_message      3214 non-null int64\n",
      "rub_per_minute       3214 non-null int64\n",
      "gb_included          3214 non-null float64\n",
      "dtypes: float64(5), int64(8), object(2)\n",
      "memory usage: 401.8+ KB\n"
     ]
    }
   ],
   "source": [
    "data_tariffs.info()"
   ]
  },
  {
   "cell_type": "markdown",
   "metadata": {},
   "source": [
    "Мы видим пропуски в столбцах, которые содержат информацию об использовании той или иной услуги: call_duration и call_quantity - это количество и продолжительность звонков за месяц, message_quantity - количество отправленных сообщений, gb_used - количество использованных гигабайт. Все эти столбцы в формате float. Это значит, что на месте пропусков указано NaN. \n",
    "Пропуски в указанных столбцах вероятнее всего возникли из-за того, что в указанный месяц пользователь не использовал данную услугу ни разу, то есть не звонил, не отправлял сообщений или не пользовался мобильным интернетом (последнее - реже всего). Такая ситуация кажется совершенно нормальной, особенно с учетом того, как распределились значения пропусков. Реже всего пользователи пренебрегают мобильным интернетом, а чаще всего - смс-сообщениями, которые сейчас все чаще игнорируются в пользу мессенджеров. Мы не будем удалять пропуски, но заменим их нулями для чистоты таблицы.  "
   ]
  },
  {
   "cell_type": "code",
   "execution_count": 36,
   "metadata": {
    "scrolled": true
   },
   "outputs": [],
   "source": [
    "data_tariffs = data_tariffs.fillna(0)"
   ]
  },
  {
   "cell_type": "code",
   "execution_count": 37,
   "metadata": {},
   "outputs": [
    {
     "name": "stdout",
     "output_type": "stream",
     "text": [
      "<class 'pandas.core.frame.DataFrame'>\n",
      "Int64Index: 3214 entries, 0 to 3213\n",
      "Data columns (total 15 columns):\n",
      "user_id              3214 non-null int64\n",
      "month                3214 non-null int64\n",
      "call_duration        3214 non-null float64\n",
      "call_quantity        3214 non-null float64\n",
      "message_quantity     3214 non-null float64\n",
      "tariff_name          3214 non-null object\n",
      "city                 3214 non-null object\n",
      "gb_used              3214 non-null float64\n",
      "messages_included    3214 non-null int64\n",
      "minutes_included     3214 non-null int64\n",
      "rub_monthly_fee      3214 non-null int64\n",
      "rub_per_gb           3214 non-null int64\n",
      "rub_per_message      3214 non-null int64\n",
      "rub_per_minute       3214 non-null int64\n",
      "gb_included          3214 non-null float64\n",
      "dtypes: float64(5), int64(8), object(2)\n",
      "memory usage: 401.8+ KB\n"
     ]
    }
   ],
   "source": [
    "data_tariffs.info()"
   ]
  },
  {
   "cell_type": "markdown",
   "metadata": {},
   "source": [
    "Теперь можно рассчитать, сколько за месяц платил каждый абонент в выборке. Для этого мы создадим функцию, которая будет сравнивать информацию о продолжительности звонков, количестве сообщений и расходе интернет-трафика в месяц для абонента с тем, что включено в тарифный план, считать стоимость дополнительных сообщений, гб и минут и складывать их с абонентской платой. "
   ]
  },
  {
   "cell_type": "code",
   "execution_count": 38,
   "metadata": {},
   "outputs": [],
   "source": [
    "def revenue_counter(data): # функция принимает в кач-ве аргумента датафрейм\n",
    "    for i in data:\n",
    "        counter = 0 # счетчик, в который добавляются оплаты\n",
    "        if data['tariff_name'] == 'ultra': # оплата за тариф\n",
    "            counter += 1950\n",
    "        if data['tariff_name'] == 'smart':\n",
    "            counter += 550\n",
    "        if data['call_duration'] > data['minutes_included']: # оплаты сверх тарифа\n",
    "            add_min = math.ceil(data['call_duration'] - data['minutes_included']) * data['rub_per_minute']\n",
    "            counter += add_min\n",
    "        if data['message_quantity'] > data['messages_included']:\n",
    "            add_mess = (data['message_quantity'] - data['messages_included']) * data['rub_per_message']\n",
    "            counter += add_mess\n",
    "        if data['gb_used'] > data['gb_included']:\n",
    "            add_gb = (data['gb_used'] - data['gb_included']) * data['rub_per_gb']\n",
    "            counter += add_gb\n",
    "    return counter # функция возвращает итоговый результат, сохраненный в счетчике"
   ]
  },
  {
   "cell_type": "code",
   "execution_count": 39,
   "metadata": {},
   "outputs": [],
   "source": [
    "data_tariffs['revenue'] = data_tariffs.apply(revenue_counter, axis=1)\n",
    "data_tariffs['revenue'] = data_tariffs['revenue'].astype('int')"
   ]
  },
  {
   "cell_type": "code",
   "execution_count": 40,
   "metadata": {
    "scrolled": true
   },
   "outputs": [
    {
     "data": {
      "text/html": [
       "<div>\n",
       "<style scoped>\n",
       "    .dataframe tbody tr th:only-of-type {\n",
       "        vertical-align: middle;\n",
       "    }\n",
       "\n",
       "    .dataframe tbody tr th {\n",
       "        vertical-align: top;\n",
       "    }\n",
       "\n",
       "    .dataframe thead th {\n",
       "        text-align: right;\n",
       "    }\n",
       "</style>\n",
       "<table border=\"1\" class=\"dataframe\">\n",
       "  <thead>\n",
       "    <tr style=\"text-align: right;\">\n",
       "      <th></th>\n",
       "      <th>user_id</th>\n",
       "      <th>month</th>\n",
       "      <th>call_duration</th>\n",
       "      <th>call_quantity</th>\n",
       "      <th>message_quantity</th>\n",
       "      <th>tariff_name</th>\n",
       "      <th>city</th>\n",
       "      <th>gb_used</th>\n",
       "      <th>messages_included</th>\n",
       "      <th>minutes_included</th>\n",
       "      <th>rub_monthly_fee</th>\n",
       "      <th>rub_per_gb</th>\n",
       "      <th>rub_per_message</th>\n",
       "      <th>rub_per_minute</th>\n",
       "      <th>gb_included</th>\n",
       "      <th>revenue</th>\n",
       "    </tr>\n",
       "  </thead>\n",
       "  <tbody>\n",
       "    <tr>\n",
       "      <td>1431</td>\n",
       "      <td>1100</td>\n",
       "      <td>12</td>\n",
       "      <td>578.0</td>\n",
       "      <td>68.0</td>\n",
       "      <td>63.0</td>\n",
       "      <td>smart</td>\n",
       "      <td>Санкт-Петербург</td>\n",
       "      <td>11.0</td>\n",
       "      <td>50</td>\n",
       "      <td>500</td>\n",
       "      <td>550</td>\n",
       "      <td>200</td>\n",
       "      <td>3</td>\n",
       "      <td>3</td>\n",
       "      <td>15.0</td>\n",
       "      <td>823</td>\n",
       "    </tr>\n",
       "    <tr>\n",
       "      <td>1289</td>\n",
       "      <td>1065</td>\n",
       "      <td>3</td>\n",
       "      <td>480.0</td>\n",
       "      <td>65.0</td>\n",
       "      <td>52.0</td>\n",
       "      <td>smart</td>\n",
       "      <td>Москва</td>\n",
       "      <td>20.0</td>\n",
       "      <td>50</td>\n",
       "      <td>500</td>\n",
       "      <td>550</td>\n",
       "      <td>200</td>\n",
       "      <td>3</td>\n",
       "      <td>3</td>\n",
       "      <td>15.0</td>\n",
       "      <td>1556</td>\n",
       "    </tr>\n",
       "    <tr>\n",
       "      <td>2868</td>\n",
       "      <td>1425</td>\n",
       "      <td>10</td>\n",
       "      <td>733.0</td>\n",
       "      <td>111.0</td>\n",
       "      <td>77.0</td>\n",
       "      <td>smart</td>\n",
       "      <td>Пермь</td>\n",
       "      <td>12.0</td>\n",
       "      <td>50</td>\n",
       "      <td>500</td>\n",
       "      <td>550</td>\n",
       "      <td>200</td>\n",
       "      <td>3</td>\n",
       "      <td>3</td>\n",
       "      <td>15.0</td>\n",
       "      <td>1330</td>\n",
       "    </tr>\n",
       "    <tr>\n",
       "      <td>1995</td>\n",
       "      <td>1217</td>\n",
       "      <td>8</td>\n",
       "      <td>600.0</td>\n",
       "      <td>84.0</td>\n",
       "      <td>86.0</td>\n",
       "      <td>smart</td>\n",
       "      <td>Ульяновск</td>\n",
       "      <td>13.0</td>\n",
       "      <td>50</td>\n",
       "      <td>500</td>\n",
       "      <td>550</td>\n",
       "      <td>200</td>\n",
       "      <td>3</td>\n",
       "      <td>3</td>\n",
       "      <td>15.0</td>\n",
       "      <td>958</td>\n",
       "    </tr>\n",
       "    <tr>\n",
       "      <td>1671</td>\n",
       "      <td>1149</td>\n",
       "      <td>10</td>\n",
       "      <td>261.0</td>\n",
       "      <td>35.0</td>\n",
       "      <td>77.0</td>\n",
       "      <td>smart</td>\n",
       "      <td>Мурманск</td>\n",
       "      <td>21.0</td>\n",
       "      <td>50</td>\n",
       "      <td>500</td>\n",
       "      <td>550</td>\n",
       "      <td>200</td>\n",
       "      <td>3</td>\n",
       "      <td>3</td>\n",
       "      <td>15.0</td>\n",
       "      <td>1831</td>\n",
       "    </tr>\n",
       "  </tbody>\n",
       "</table>\n",
       "</div>"
      ],
      "text/plain": [
       "      user_id  month  call_duration  call_quantity  message_quantity  \\\n",
       "1431     1100     12          578.0           68.0              63.0   \n",
       "1289     1065      3          480.0           65.0              52.0   \n",
       "2868     1425     10          733.0          111.0              77.0   \n",
       "1995     1217      8          600.0           84.0              86.0   \n",
       "1671     1149     10          261.0           35.0              77.0   \n",
       "\n",
       "     tariff_name             city  gb_used  messages_included  \\\n",
       "1431       smart  Санкт-Петербург     11.0                 50   \n",
       "1289       smart           Москва     20.0                 50   \n",
       "2868       smart            Пермь     12.0                 50   \n",
       "1995       smart        Ульяновск     13.0                 50   \n",
       "1671       smart         Мурманск     21.0                 50   \n",
       "\n",
       "      minutes_included  rub_monthly_fee  rub_per_gb  rub_per_message  \\\n",
       "1431               500              550         200                3   \n",
       "1289               500              550         200                3   \n",
       "2868               500              550         200                3   \n",
       "1995               500              550         200                3   \n",
       "1671               500              550         200                3   \n",
       "\n",
       "      rub_per_minute  gb_included  revenue  \n",
       "1431               3         15.0      823  \n",
       "1289               3         15.0     1556  \n",
       "2868               3         15.0     1330  \n",
       "1995               3         15.0      958  \n",
       "1671               3         15.0     1831  "
      ]
     },
     "execution_count": 40,
     "metadata": {},
     "output_type": "execute_result"
    }
   ],
   "source": [
    "# проверяем работу функции на строках, где использовано больше сообщений, чем включено в абон. плату\n",
    "data_tariffs.query('message_quantity > messages_included').sample(5)"
   ]
  },
  {
   "cell_type": "markdown",
   "metadata": {},
   "source": [
    "### Вывод"
   ]
  },
  {
   "cell_type": "markdown",
   "metadata": {},
   "source": [
    "На данном этапе мы собрали единую таблицу из представленных ранее данных и сделали необходимые рассчеты. Теперь у нас есть информация о том:\n",
    "- сколько звонков каждый абонент из выборки делал в месяц;\n",
    "- сколько минут разговора потратил каждый абонент в месяц;\n",
    "- сколько сообщений отправил каждый абонент из выборки в месяц;\n",
    "- сколько интернет-трафика в гб израсходовал каждый абонент из выборки в месяц;\n",
    "- сколько в месяц платил каждый абонент из выборки;\n",
    "\n",
    "Теперь можно приступать к аналитической части. "
   ]
  },
  {
   "cell_type": "markdown",
   "metadata": {},
   "source": [
    "## Анализ данных"
   ]
  },
  {
   "cell_type": "markdown",
   "metadata": {},
   "source": [
    "Теперь исходя из имеющихся данных рассмотрим, сколько минут разговора, сообщений и гб интернет-трафика требуется пользователям каждого тарифа в месяц. Рассчитаем среднее, дисперсию и стандартное отклонение для интересующих нас параметров, построим необходимые графики. "
   ]
  },
  {
   "cell_type": "code",
   "execution_count": 41,
   "metadata": {
    "scrolled": true
   },
   "outputs": [
    {
     "data": {
      "text/html": [
       "<div>\n",
       "<style scoped>\n",
       "    .dataframe tbody tr th:only-of-type {\n",
       "        vertical-align: middle;\n",
       "    }\n",
       "\n",
       "    .dataframe tbody tr th {\n",
       "        vertical-align: top;\n",
       "    }\n",
       "\n",
       "    .dataframe thead tr th {\n",
       "        text-align: left;\n",
       "    }\n",
       "</style>\n",
       "<table border=\"1\" class=\"dataframe\">\n",
       "  <thead>\n",
       "    <tr>\n",
       "      <th></th>\n",
       "      <th colspan=\"2\" halign=\"left\">mean</th>\n",
       "      <th colspan=\"2\" halign=\"left\">std</th>\n",
       "      <th colspan=\"2\" halign=\"left\">var</th>\n",
       "    </tr>\n",
       "    <tr>\n",
       "      <th>tariff_name</th>\n",
       "      <th>smart</th>\n",
       "      <th>ultra</th>\n",
       "      <th>smart</th>\n",
       "      <th>ultra</th>\n",
       "      <th>smart</th>\n",
       "      <th>ultra</th>\n",
       "    </tr>\n",
       "  </thead>\n",
       "  <tbody>\n",
       "    <tr>\n",
       "      <td>call_duration</td>\n",
       "      <td>417.934948</td>\n",
       "      <td>526.623350</td>\n",
       "      <td>190.313730</td>\n",
       "      <td>317.606098</td>\n",
       "      <td>36219.315784</td>\n",
       "      <td>100873.633397</td>\n",
       "    </tr>\n",
       "    <tr>\n",
       "      <td>gb_used</td>\n",
       "      <td>16.328847</td>\n",
       "      <td>19.494416</td>\n",
       "      <td>5.747061</td>\n",
       "      <td>9.853511</td>\n",
       "      <td>33.028705</td>\n",
       "      <td>97.091686</td>\n",
       "    </tr>\n",
       "    <tr>\n",
       "      <td>message_quantity</td>\n",
       "      <td>33.384029</td>\n",
       "      <td>49.363452</td>\n",
       "      <td>28.227876</td>\n",
       "      <td>47.804457</td>\n",
       "      <td>796.812958</td>\n",
       "      <td>2285.266143</td>\n",
       "    </tr>\n",
       "    <tr>\n",
       "      <td>revenue</td>\n",
       "      <td>1289.973531</td>\n",
       "      <td>2070.152284</td>\n",
       "      <td>818.404367</td>\n",
       "      <td>376.187114</td>\n",
       "      <td>669785.708006</td>\n",
       "      <td>141516.745079</td>\n",
       "    </tr>\n",
       "  </tbody>\n",
       "</table>\n",
       "</div>"
      ],
      "text/plain": [
       "                         mean                      std              \\\n",
       "tariff_name             smart        ultra       smart       ultra   \n",
       "call_duration      417.934948   526.623350  190.313730  317.606098   \n",
       "gb_used             16.328847    19.494416    5.747061    9.853511   \n",
       "message_quantity    33.384029    49.363452   28.227876   47.804457   \n",
       "revenue           1289.973531  2070.152284  818.404367  376.187114   \n",
       "\n",
       "                            var                 \n",
       "tariff_name               smart          ultra  \n",
       "call_duration      36219.315784  100873.633397  \n",
       "gb_used               33.028705      97.091686  \n",
       "message_quantity     796.812958    2285.266143  \n",
       "revenue           669785.708006  141516.745079  "
      ]
     },
     "execution_count": 41,
     "metadata": {},
     "output_type": "execute_result"
    }
   ],
   "source": [
    "# необходимые расчеты делаем в сводной таблице\n",
    "tariffs_pivot = data_tariffs.pivot_table(\n",
    "    columns='tariff_name', \n",
    "    values=['call_duration', 'message_quantity', 'gb_used', 'revenue'], \n",
    "    aggfunc=['mean', np.std, np.var])\n",
    "tariffs_pivot"
   ]
  },
  {
   "cell_type": "code",
   "execution_count": 42,
   "metadata": {},
   "outputs": [],
   "source": [
    "tariffs['gb_included'] = tariffs['mb_per_month_included'] / 1024\n",
    "tariffs['gb_included'] = tariffs['gb_included'].apply(np.ceil)\n",
    "del tariffs['mb_per_month_included']"
   ]
  },
  {
   "cell_type": "code",
   "execution_count": 43,
   "metadata": {},
   "outputs": [
    {
     "data": {
      "text/html": [
       "<div>\n",
       "<style scoped>\n",
       "    .dataframe tbody tr th:only-of-type {\n",
       "        vertical-align: middle;\n",
       "    }\n",
       "\n",
       "    .dataframe tbody tr th {\n",
       "        vertical-align: top;\n",
       "    }\n",
       "\n",
       "    .dataframe thead th {\n",
       "        text-align: right;\n",
       "    }\n",
       "</style>\n",
       "<table border=\"1\" class=\"dataframe\">\n",
       "  <thead>\n",
       "    <tr style=\"text-align: right;\">\n",
       "      <th></th>\n",
       "      <th>messages_included</th>\n",
       "      <th>minutes_included</th>\n",
       "      <th>rub_monthly_fee</th>\n",
       "      <th>rub_per_gb</th>\n",
       "      <th>rub_per_message</th>\n",
       "      <th>rub_per_minute</th>\n",
       "      <th>tariff_name</th>\n",
       "      <th>gb_included</th>\n",
       "    </tr>\n",
       "  </thead>\n",
       "  <tbody>\n",
       "    <tr>\n",
       "      <td>0</td>\n",
       "      <td>50</td>\n",
       "      <td>500</td>\n",
       "      <td>550</td>\n",
       "      <td>200</td>\n",
       "      <td>3</td>\n",
       "      <td>3</td>\n",
       "      <td>smart</td>\n",
       "      <td>15.0</td>\n",
       "    </tr>\n",
       "    <tr>\n",
       "      <td>1</td>\n",
       "      <td>1000</td>\n",
       "      <td>3000</td>\n",
       "      <td>1950</td>\n",
       "      <td>150</td>\n",
       "      <td>1</td>\n",
       "      <td>1</td>\n",
       "      <td>ultra</td>\n",
       "      <td>30.0</td>\n",
       "    </tr>\n",
       "  </tbody>\n",
       "</table>\n",
       "</div>"
      ],
      "text/plain": [
       "   messages_included  minutes_included  rub_monthly_fee  rub_per_gb  \\\n",
       "0                 50               500              550         200   \n",
       "1               1000              3000             1950         150   \n",
       "\n",
       "   rub_per_message  rub_per_minute tariff_name  gb_included  \n",
       "0                3               3       smart         15.0  \n",
       "1                1               1       ultra         30.0  "
      ]
     },
     "execution_count": 43,
     "metadata": {},
     "output_type": "execute_result"
    }
   ],
   "source": [
    "tariffs"
   ]
  },
  {
   "cell_type": "markdown",
   "metadata": {},
   "source": [
    "Видим, что средняя *продолжительность звонков* в месяц на тарифах Смарт и Ультра - 419 и 545 минут со стандартным отклонением 189.3 и 306.9 соответственно; \n",
    "среднее количество *используемых гигабайт* - 16 и 20 со стандартным отклонением 5.7 и 9.7 соответственно; \n",
    "среднее количество *сообщений* - 38 и 61 со стандартным отклонением 26.7 и 45.9 соответственно. \n",
    "Средний пользователь укладывается в количество минут и сообщений, которые входят в тарифный план, а среднему пользователю тарифа Ультра также хватает включенных в тарифный план гигабайт. Среднему пользователю тарифа Смарт 15гб не хватает и он доплачивает за дополнительные гб. \n",
    "\n",
    "Посмотрим, как распределены данные. Построим гистограммы для тарифов Смарт и Ультра. Гистограммы по одной характеристике будем строить на одном графике, чтобы увидеть их в сравнении. "
   ]
  },
  {
   "cell_type": "code",
   "execution_count": 44,
   "metadata": {},
   "outputs": [],
   "source": [
    "# создаем функцию, которая будет строить нужные нам гистограммы\n",
    "# в качестве аргумента функция принимает название колонки и заголовок графика\n",
    "# функцию можно запустить циклом, однако мы хотим получить графики в отдельных ячейках\n",
    "# так будет удобнее анализировать каждую из характеристик\n",
    "def compare_hist(column, title):\n",
    "    ax1 = data_tariffs.query(\n",
    "        'tariff_name == \"smart\"')[column].hist(label='Smart', alpha=0.6)\n",
    "    ax2 = data_tariffs.query(\n",
    "        'tariff_name == \"ultra\"')[column].hist(label='Ultra', alpha=0.6)\n",
    "    ax1.set_title(title)\n",
    "    ax1.legend()\n",
    "    ax2.legend()\n",
    "    plt.show()"
   ]
  },
  {
   "cell_type": "code",
   "execution_count": 45,
   "metadata": {
    "scrolled": false
   },
   "outputs": [
    {
     "data": {
      "image/png": "[encoded data removed]",
      "text/plain": [
       "<Figure size 432x288 with 1 Axes>"
      ]
     },
     "metadata": {
      "needs_background": "light"
     },
     "output_type": "display_data"
    }
   ],
   "source": [
    "compare_hist('call_duration', 'Расход минут по месяцам')"
   ]
  },
  {
   "cell_type": "markdown",
   "metadata": {},
   "source": [
    "Распределение расхода минут тяготеет к нормальному, графики скошены влево. Пиковые значения для обоих тарифов - около 500 минут. Далее для тарифа Смарт график резко меняется: кажется, что многие его пользователи выходят за отведенные 500 минут разговора, однако редко превышают лимит более чем на 100 минут. Пользователи тарифа Ультра не расходуют полностью отведенные тарифным планом минуты и не доплачивают за дополнительные. Более того, обычно они общаются по телефону не сильно дольше пользователей тарифа Смарт. "
   ]
  },
  {
   "cell_type": "code",
   "execution_count": 46,
   "metadata": {
    "scrolled": false
   },
   "outputs": [
    {
     "data": {
      "image/png": "[encoded data removed]",
      "text/plain": [
       "<Figure size 432x288 with 1 Axes>"
      ]
     },
     "metadata": {
      "needs_background": "light"
     },
     "output_type": "display_data"
    }
   ],
   "source": [
    "compare_hist('gb_used', 'Расход гб по месяцам')"
   ]
  },
  {
   "cell_type": "markdown",
   "metadata": {},
   "source": [
    "Распределение расхода гб тяготеет к нормальному. При этом чаще всего пользователи тарифа Ультра укладываются во включенные 30гб интернета, а пользователи тарифа Смарт практически так же часто превышают его, как и не превышают. При этом стоимость дополнительного гб для пользователей тарифа Смарт дороже, чем для пользователей тарифа Ультра."
   ]
  },
  {
   "cell_type": "code",
   "execution_count": 47,
   "metadata": {
    "scrolled": false
   },
   "outputs": [
    {
     "data": {
      "image/png": "[encoded data removed]",
      "text/plain": [
       "<Figure size 432x288 with 1 Axes>"
      ]
     },
     "metadata": {
      "needs_background": "light"
     },
     "output_type": "display_data"
    }
   ],
   "source": [
    "compare_hist('message_quantity', 'Расход сообщений по месяцам')"
   ]
  },
  {
   "cell_type": "markdown",
   "metadata": {},
   "source": [
    "Диаграмма расхода сообщений по месяцам больше похожа на распределение Пуассона, чем на нормальное распределение. Видно, что даже самые активные пользователи тарифа Ультра отправляют почти в пять раз меньше сообщений, чем включено в их тарифный план, а пользователям тарифа Смарт снова иногда приходится доплачивать, однако эта потребность возникает намного реже, чем потребнность доплаты за дополнительный гб. "
   ]
  },
  {
   "cell_type": "markdown",
   "metadata": {},
   "source": [
    "### Вывод"
   ]
  },
  {
   "cell_type": "markdown",
   "metadata": {},
   "source": [
    "Средний пользователь тарифа \"Смарт\" чаще доплачивает за дополнительные услуги, чем пользователь тарифа \"Ультра\", но пользователи тарифа \"Ультра\" в среднем все равно платят больше. Пользователи тарифа \"Ультра\" при этом крайне редко полностью расходуют минуты, сообщения и гигабайты."
   ]
  },
  {
   "cell_type": "markdown",
   "metadata": {},
   "source": [
    "## Проверка гипотез"
   ]
  },
  {
   "cell_type": "markdown",
   "metadata": {},
   "source": [
    "Наша задача: проверить две нулевые и две альтернативные гипотезы. "
   ]
  },
  {
   "cell_type": "markdown",
   "metadata": {},
   "source": [
    "### Средняя выручка: разные тарифы"
   ]
  },
  {
   "cell_type": "markdown",
   "metadata": {},
   "source": [
    "**Нулевая гипотеза:** средняя выручка пользователей тарифов Смарт и Ультра не различется. \n",
    "\n",
    "**Альтернативная гипотеза:** средняя выручка пользователей тарифов Смарт и Ультра различается. "
   ]
  },
  {
   "cell_type": "markdown",
   "metadata": {},
   "source": [
    "Мы уже строили сводную таблицу по тарифам. Мы также заранее указали в ней параметр revenue. Снова обратимся к этой таблице."
   ]
  },
  {
   "cell_type": "code",
   "execution_count": 48,
   "metadata": {
    "scrolled": true
   },
   "outputs": [
    {
     "data": {
      "text/html": [
       "<div>\n",
       "<style scoped>\n",
       "    .dataframe tbody tr th:only-of-type {\n",
       "        vertical-align: middle;\n",
       "    }\n",
       "\n",
       "    .dataframe tbody tr th {\n",
       "        vertical-align: top;\n",
       "    }\n",
       "\n",
       "    .dataframe thead tr th {\n",
       "        text-align: left;\n",
       "    }\n",
       "</style>\n",
       "<table border=\"1\" class=\"dataframe\">\n",
       "  <thead>\n",
       "    <tr>\n",
       "      <th></th>\n",
       "      <th colspan=\"2\" halign=\"left\">mean</th>\n",
       "      <th colspan=\"2\" halign=\"left\">std</th>\n",
       "      <th colspan=\"2\" halign=\"left\">var</th>\n",
       "    </tr>\n",
       "    <tr>\n",
       "      <th>tariff_name</th>\n",
       "      <th>smart</th>\n",
       "      <th>ultra</th>\n",
       "      <th>smart</th>\n",
       "      <th>ultra</th>\n",
       "      <th>smart</th>\n",
       "      <th>ultra</th>\n",
       "    </tr>\n",
       "  </thead>\n",
       "  <tbody>\n",
       "    <tr>\n",
       "      <td>call_duration</td>\n",
       "      <td>417.934948</td>\n",
       "      <td>526.623350</td>\n",
       "      <td>190.313730</td>\n",
       "      <td>317.606098</td>\n",
       "      <td>36219.315784</td>\n",
       "      <td>100873.633397</td>\n",
       "    </tr>\n",
       "    <tr>\n",
       "      <td>gb_used</td>\n",
       "      <td>16.328847</td>\n",
       "      <td>19.494416</td>\n",
       "      <td>5.747061</td>\n",
       "      <td>9.853511</td>\n",
       "      <td>33.028705</td>\n",
       "      <td>97.091686</td>\n",
       "    </tr>\n",
       "    <tr>\n",
       "      <td>message_quantity</td>\n",
       "      <td>33.384029</td>\n",
       "      <td>49.363452</td>\n",
       "      <td>28.227876</td>\n",
       "      <td>47.804457</td>\n",
       "      <td>796.812958</td>\n",
       "      <td>2285.266143</td>\n",
       "    </tr>\n",
       "    <tr>\n",
       "      <td>revenue</td>\n",
       "      <td>1289.973531</td>\n",
       "      <td>2070.152284</td>\n",
       "      <td>818.404367</td>\n",
       "      <td>376.187114</td>\n",
       "      <td>669785.708006</td>\n",
       "      <td>141516.745079</td>\n",
       "    </tr>\n",
       "  </tbody>\n",
       "</table>\n",
       "</div>"
      ],
      "text/plain": [
       "                         mean                      std              \\\n",
       "tariff_name             smart        ultra       smart       ultra   \n",
       "call_duration      417.934948   526.623350  190.313730  317.606098   \n",
       "gb_used             16.328847    19.494416    5.747061    9.853511   \n",
       "message_quantity    33.384029    49.363452   28.227876   47.804457   \n",
       "revenue           1289.973531  2070.152284  818.404367  376.187114   \n",
       "\n",
       "                            var                 \n",
       "tariff_name               smart          ultra  \n",
       "call_duration      36219.315784  100873.633397  \n",
       "gb_used               33.028705      97.091686  \n",
       "message_quantity     796.812958    2285.266143  \n",
       "revenue           669785.708006  141516.745079  "
      ]
     },
     "execution_count": 48,
     "metadata": {},
     "output_type": "execute_result"
    }
   ],
   "source": [
    "tariffs_pivot"
   ]
  },
  {
   "cell_type": "markdown",
   "metadata": {},
   "source": [
    "Видим, средняя плата за тариф Смарт более чем в два раза превышает абонентскую плату, в то время как средний пользователь тарифа Ультра доплачивает всего 120 рублей. \n",
    "Средняя выручка с пользователя в месяц за тариф Смарт: 1290 рублей.\n",
    "Средняя выручка с пользователя в месяц за тариф Ультра: 2070 рублей. \n",
    "Разница: 780 рублей. "
   ]
  },
  {
   "cell_type": "code",
   "execution_count": 49,
   "metadata": {},
   "outputs": [],
   "source": [
    "# сформируем два массива с выборками: оплата пользователей по месяцам для разных тарифов\n",
    "smart_revenue = data_tariffs.query('tariff_name == \"smart\"')['revenue']\n",
    "ultra_revenue = data_tariffs.query('tariff_name == \"ultra\"')['revenue']"
   ]
  },
  {
   "cell_type": "code",
   "execution_count": 50,
   "metadata": {
    "scrolled": true
   },
   "outputs": [
    {
     "name": "stdout",
     "output_type": "stream",
     "text": [
      "Нулевую гипотезу можно отвергнуть\n"
     ]
    }
   ],
   "source": [
    "alpha=0.05\n",
    "# указываем параметр equal_var=False, т.к. рассчитанная дисперсия для двух массивов сильно отличается \n",
    "result1 = st.ttest_ind(smart_revenue, ultra_revenue, equal_var=False)\n",
    "p_value1 = result1.pvalue\n",
    "\n",
    "if p_value1 < alpha:\n",
    "    print('Нулевую гипотезу можно отвергнуть')\n",
    "else:\n",
    "    print('Нулевую гипотезу нельзя отвергнуть')"
   ]
  },
  {
   "cell_type": "code",
   "execution_count": 51,
   "metadata": {},
   "outputs": [
    {
     "data": {
      "text/plain": [
       "4.2606313931076085e-250"
      ]
     },
     "execution_count": 51,
     "metadata": {},
     "output_type": "execute_result"
    }
   ],
   "source": [
    "p_value1"
   ]
  },
  {
   "cell_type": "markdown",
   "metadata": {},
   "source": [
    "#### Вывод"
   ]
  },
  {
   "cell_type": "markdown",
   "metadata": {},
   "source": [
    "Среднее значение выручки с пользователя в месяц за тариф Смарт на 780 рублей меньше, чем среднее значение выручки с пользователя в месяц за тариф Ультра. Значение p-value меньше заданного порогового значения alpha.\n",
    "Таким образом, можно отвергнуть нулевую гипотезу, что средняя выручка пользователей тарифов Смарт и Ультра не различется. **Оснований отвергнуть альтернативную гипотезу, что средняя выручка пользователей тарифов Смарт и Ультра различается, у нас нет.**"
   ]
  },
  {
   "cell_type": "markdown",
   "metadata": {},
   "source": [
    "### Средняя выручка: Москва и регионы"
   ]
  },
  {
   "cell_type": "markdown",
   "metadata": {},
   "source": [
    "**Нулевая гипотеза:** средняя выручка пользователей из Москвы не отличается от выручки пользователей из других регионов.\n",
    "\n",
    "**Альтернативная гипотеза:** средняя выручка пользователей из Москвы отличается от выручки пользователей из других регионов."
   ]
  },
  {
   "cell_type": "code",
   "execution_count": 52,
   "metadata": {},
   "outputs": [],
   "source": [
    "# сформируем два массива с выборками: оплата по месяцам пользователей из разных регионов\n",
    "moscow_revenue = data_tariffs.query('city == \"Москва\"')['revenue']\n",
    "regions_revenue = data_tariffs.query('city != \"Москва\"')['revenue']"
   ]
  },
  {
   "cell_type": "code",
   "execution_count": 53,
   "metadata": {
    "scrolled": true
   },
   "outputs": [
    {
     "name": "stdout",
     "output_type": "stream",
     "text": [
      "Средняя оплата в месяц абонентов из Москвы: 1546.7135842880523\n",
      "Средняя оплата в месяц абонентов из регионов: 1524.9362274298885\n",
      "Разница: 21.777356858163785\n"
     ]
    }
   ],
   "source": [
    "print('Средняя оплата в месяц абонентов из Москвы:', moscow_revenue.mean())\n",
    "print('Средняя оплата в месяц абонентов из регионов:', regions_revenue.mean())\n",
    "print('Разница:', (moscow_revenue.mean() - regions_revenue.mean()))"
   ]
  },
  {
   "cell_type": "markdown",
   "metadata": {},
   "source": [
    "Видим, что разница в данном случае не такая большая, как между платами за тарифы Смарт и Ультра: всего 22 рубля. Также сравним дисперсии:"
   ]
  },
  {
   "cell_type": "code",
   "execution_count": 54,
   "metadata": {
    "scrolled": false
   },
   "outputs": [
    {
     "name": "stdout",
     "output_type": "stream",
     "text": [
      "Дисперсия массива с данными по Москве 565636.467011886\n",
      "Дисперсия массива с данными по регионам 654137.6285218114\n"
     ]
    }
   ],
   "source": [
    "print('Дисперсия массива с данными по Москве', np.var(moscow_revenue, ddof=1)) # ddof=1, т.к оцениваем по выборке\n",
    "print('Дисперсия массива с данными по регионам', np.var(regions_revenue, ddof=1))"
   ]
  },
  {
   "cell_type": "code",
   "execution_count": 55,
   "metadata": {
    "scrolled": true
   },
   "outputs": [
    {
     "name": "stdout",
     "output_type": "stream",
     "text": [
      "Нулевую гипотезу нельзя отвергнуть\n"
     ]
    }
   ],
   "source": [
    "result2 = st.ttest_ind(moscow_revenue, regions_revenue)\n",
    "p_value2 = result2.pvalue\n",
    "\n",
    "if p_value2 < alpha:\n",
    "    print('Нулевую гипотезу можно отвергнуть')\n",
    "else:\n",
    "    print('Нулевую гипотезу нельзя отвергнуть')"
   ]
  },
  {
   "cell_type": "markdown",
   "metadata": {},
   "source": [
    "#### Вывод"
   ]
  },
  {
   "cell_type": "markdown",
   "metadata": {},
   "source": [
    "Средняя оплата абонентов из Москвы в месяц всего на 22 рубля больше, чем в регионах. Значение p_value больше заданного порогового значения alpha. Таким образом, мы не можем отвергнуть нулевую гипотезу о том, что **средняя выручка пользователей из Москвы не отличается от выручки пользователей из других регионов.** Данных в пользу того, что альтернативная гипотеза верна, у нас нет. "
   ]
  },
  {
   "cell_type": "markdown",
   "metadata": {},
   "source": [
    "## Общий вывод: какой тариф выгоднее продвигать?"
   ]
  },
  {
   "cell_type": "markdown",
   "metadata": {},
   "source": [
    "Средняя выручка пользователей тарифов Смарт и Ультра различается. Пользователи тарифа Ультра в среднем платят больше, однако им нечасто приходится доплачивать за услуги сверх абонентской платы. Пользователи тарифа Смарт в среднем платят более чем в два раза больше, чем абонентская плата: чаще всего им не хватает гб интернета. При этом на такие доплаты стабильно нельзя рассчитывать. \n",
    "\n",
    "**Нам кажется, что выгоднее всего продвигать тариф \"Ультра\".** Пользователи этого тарифа обеспечивают \"Мегалайну\" более высокие и при этом регулярно высокие оплаты, в то же время они редко пользуются полным пакетом услуг, что делает более дорогой ту долю услуг, которой они пользуются. \n",
    "\n",
    "При этом возможно у многих пользователей тарифа \"Смарт\" есть потребность, которую \"Мегалайну\" пока не удается удовлетворить: кажется, что пользователи нуждаются в альтернативном тарифе, где было бы больше гб интернета. Возможно, такой тариф смог бы обеспечить мегалайну более высокую *стабильную* прибыль от клиентов, которым сейчас периодически приходится доплачивать за дополнительные гб, а также помог бы избежать ухода раздраженных доплатами клиентов к другим операторам. "
   ]
  }
 ],
 "metadata": {
  "ExecuteTimeLog": [
   {
    "duration": 1123,
    "start_time": "2021-11-05T22:05:47.774Z"
   },
   {
    "duration": 163,
    "start_time": "2021-11-05T22:06:36.692Z"
   },
   {
    "duration": 161,
    "start_time": "2021-11-05T22:06:44.650Z"
   },
   {
    "duration": 166,
    "start_time": "2021-11-05T22:10:24.949Z"
   },
   {
    "duration": 163,
    "start_time": "2021-11-05T22:10:36.844Z"
   },
   {
    "duration": 150,
    "start_time": "2021-11-05T22:10:41.505Z"
   },
   {
    "duration": 20,
    "start_time": "2021-11-05T22:10:50.266Z"
   },
   {
    "duration": 90,
    "start_time": "2021-11-05T22:14:03.061Z"
   },
   {
    "duration": 178,
    "start_time": "2021-11-05T22:19:06.243Z"
   },
   {
    "duration": 15,
    "start_time": "2021-11-05T22:19:08.855Z"
   },
   {
    "duration": 142,
    "start_time": "2021-11-05T22:22:19.965Z"
   },
   {
    "duration": 157,
    "start_time": "2021-11-05T22:22:44.501Z"
   },
   {
    "duration": 14,
    "start_time": "2021-11-05T22:23:00.686Z"
   },
   {
    "duration": 4,
    "start_time": "2021-11-05T22:25:53.383Z"
   },
   {
    "duration": 14,
    "start_time": "2021-11-05T22:26:02.243Z"
   },
   {
    "duration": 38,
    "start_time": "2021-11-05T22:27:35.420Z"
   },
   {
    "duration": 109,
    "start_time": "2021-11-05T22:29:09.134Z"
   },
   {
    "duration": 108,
    "start_time": "2021-11-05T22:29:20.035Z"
   },
   {
    "duration": 104,
    "start_time": "2021-11-05T22:29:30.619Z"
   },
   {
    "duration": 12,
    "start_time": "2021-11-05T22:29:49.561Z"
   },
   {
    "duration": 11,
    "start_time": "2021-11-05T22:30:11.522Z"
   },
   {
    "duration": 36,
    "start_time": "2021-11-05T22:31:32.309Z"
   },
   {
    "duration": 22,
    "start_time": "2021-11-05T22:33:01.117Z"
   },
   {
    "duration": 22,
    "start_time": "2021-11-05T22:33:22.321Z"
   },
   {
    "duration": 7,
    "start_time": "2021-11-05T22:35:19.105Z"
   },
   {
    "duration": 54,
    "start_time": "2021-11-05T22:43:31.706Z"
   },
   {
    "duration": 57,
    "start_time": "2021-11-05T22:43:50.973Z"
   },
   {
    "duration": 45,
    "start_time": "2021-11-05T22:44:08.743Z"
   },
   {
    "duration": 8,
    "start_time": "2021-11-05T22:55:35.279Z"
   },
   {
    "duration": 6,
    "start_time": "2021-11-05T22:58:41.852Z"
   },
   {
    "duration": 1125,
    "start_time": "2021-11-05T23:01:40.475Z"
   },
   {
    "duration": 192,
    "start_time": "2021-11-05T23:01:41.602Z"
   },
   {
    "duration": 19,
    "start_time": "2021-11-05T23:01:41.796Z"
   },
   {
    "duration": 100,
    "start_time": "2021-11-05T23:01:41.817Z"
   },
   {
    "duration": 151,
    "start_time": "2021-11-05T23:01:41.919Z"
   },
   {
    "duration": 14,
    "start_time": "2021-11-05T23:01:42.072Z"
   },
   {
    "duration": 21,
    "start_time": "2021-11-05T23:01:42.088Z"
   },
   {
    "duration": 16,
    "start_time": "2021-11-05T23:01:42.112Z"
   },
   {
    "duration": 42,
    "start_time": "2021-11-05T23:01:42.130Z"
   },
   {
    "duration": 115,
    "start_time": "2021-11-05T23:01:42.174Z"
   },
   {
    "duration": 21,
    "start_time": "2021-11-05T23:01:42.291Z"
   },
   {
    "duration": 40,
    "start_time": "2021-11-05T23:01:42.314Z"
   },
   {
    "duration": 21,
    "start_time": "2021-11-05T23:01:42.356Z"
   },
   {
    "duration": 7,
    "start_time": "2021-11-05T23:01:42.379Z"
   },
   {
    "duration": 44,
    "start_time": "2021-11-05T23:01:42.407Z"
   },
   {
    "duration": 6,
    "start_time": "2021-11-05T23:01:42.453Z"
   },
   {
    "duration": 7,
    "start_time": "2021-11-05T23:01:42.461Z"
   },
   {
    "duration": 14,
    "start_time": "2021-11-06T12:06:47.254Z"
   },
   {
    "duration": 154,
    "start_time": "2021-11-06T12:10:25.454Z"
   },
   {
    "duration": 188,
    "start_time": "2021-11-06T12:11:15.221Z"
   },
   {
    "duration": 14,
    "start_time": "2021-11-06T12:18:14.835Z"
   },
   {
    "duration": 9,
    "start_time": "2021-11-06T12:23:29.171Z"
   },
   {
    "duration": 9,
    "start_time": "2021-11-06T12:23:33.950Z"
   },
   {
    "duration": 12,
    "start_time": "2021-11-06T12:30:51.243Z"
   },
   {
    "duration": 14,
    "start_time": "2021-11-06T12:31:03.567Z"
   },
   {
    "duration": 143,
    "start_time": "2021-11-06T12:31:57.938Z"
   },
   {
    "duration": 17,
    "start_time": "2021-11-06T12:38:42.810Z"
   },
   {
    "duration": 22,
    "start_time": "2021-11-06T14:09:37.866Z"
   },
   {
    "duration": 34,
    "start_time": "2021-11-06T14:12:46.278Z"
   },
   {
    "duration": 30,
    "start_time": "2021-11-06T14:15:10.663Z"
   },
   {
    "duration": 481,
    "start_time": "2021-11-06T14:17:58.220Z"
   },
   {
    "duration": 61,
    "start_time": "2021-11-06T14:18:22.349Z"
   },
   {
    "duration": 53,
    "start_time": "2021-11-06T14:19:11.410Z"
   },
   {
    "duration": 7,
    "start_time": "2021-11-06T14:20:23.732Z"
   },
   {
    "duration": 18,
    "start_time": "2021-11-06T14:20:54.801Z"
   },
   {
    "duration": 4,
    "start_time": "2021-11-06T14:21:11.215Z"
   },
   {
    "duration": 3,
    "start_time": "2021-11-06T14:23:38.708Z"
   },
   {
    "duration": 55,
    "start_time": "2021-11-06T14:23:45.538Z"
   },
   {
    "duration": 4,
    "start_time": "2021-11-06T14:23:47.247Z"
   },
   {
    "duration": 39,
    "start_time": "2021-11-06T14:25:36.660Z"
   },
   {
    "duration": 41,
    "start_time": "2021-11-06T14:26:14.120Z"
   },
   {
    "duration": 60,
    "start_time": "2021-11-06T14:33:50.112Z"
   },
   {
    "duration": 51,
    "start_time": "2021-11-06T14:34:13.685Z"
   },
   {
    "duration": 45,
    "start_time": "2021-11-06T14:38:09.853Z"
   },
   {
    "duration": 46,
    "start_time": "2021-11-06T14:44:58.683Z"
   },
   {
    "duration": 16,
    "start_time": "2021-11-06T15:09:03.045Z"
   },
   {
    "duration": 22,
    "start_time": "2021-11-06T15:09:04.599Z"
   },
   {
    "duration": 16,
    "start_time": "2021-11-06T15:09:11.519Z"
   },
   {
    "duration": 1165,
    "start_time": "2021-11-06T15:26:41.822Z"
   },
   {
    "duration": 194,
    "start_time": "2021-11-06T15:26:42.990Z"
   },
   {
    "duration": 23,
    "start_time": "2021-11-06T15:26:43.188Z"
   },
   {
    "duration": 94,
    "start_time": "2021-11-06T15:26:43.212Z"
   },
   {
    "duration": 161,
    "start_time": "2021-11-06T15:26:43.308Z"
   },
   {
    "duration": 13,
    "start_time": "2021-11-06T15:26:43.471Z"
   },
   {
    "duration": 3,
    "start_time": "2021-11-06T15:26:43.487Z"
   },
   {
    "duration": 13,
    "start_time": "2021-11-06T15:26:43.507Z"
   },
   {
    "duration": 38,
    "start_time": "2021-11-06T15:26:43.522Z"
   },
   {
    "duration": 126,
    "start_time": "2021-11-06T15:26:43.563Z"
   },
   {
    "duration": 15,
    "start_time": "2021-11-06T15:26:43.692Z"
   },
   {
    "duration": 40,
    "start_time": "2021-11-06T15:26:43.709Z"
   },
   {
    "duration": 21,
    "start_time": "2021-11-06T15:26:43.752Z"
   },
   {
    "duration": 11,
    "start_time": "2021-11-06T15:26:43.775Z"
   },
   {
    "duration": 65,
    "start_time": "2021-11-06T15:26:43.787Z"
   },
   {
    "duration": 6,
    "start_time": "2021-11-06T15:26:43.854Z"
   },
   {
    "duration": 29,
    "start_time": "2021-11-06T15:26:43.862Z"
   },
   {
    "duration": 28,
    "start_time": "2021-11-06T15:26:43.892Z"
   },
   {
    "duration": 161,
    "start_time": "2021-11-06T15:26:43.921Z"
   },
   {
    "duration": 204,
    "start_time": "2021-11-06T15:26:44.084Z"
   },
   {
    "duration": 17,
    "start_time": "2021-11-06T15:26:44.290Z"
   },
   {
    "duration": 13,
    "start_time": "2021-11-06T15:26:44.311Z"
   },
   {
    "duration": 22,
    "start_time": "2021-11-06T15:26:44.326Z"
   },
   {
    "duration": 25,
    "start_time": "2021-11-06T15:26:44.349Z"
   },
   {
    "duration": 38,
    "start_time": "2021-11-06T15:26:44.375Z"
   },
   {
    "duration": 18,
    "start_time": "2021-11-06T15:26:44.414Z"
   },
   {
    "duration": 19,
    "start_time": "2021-11-06T15:30:26.144Z"
   },
   {
    "duration": 75,
    "start_time": "2021-11-06T15:32:28.359Z"
   },
   {
    "duration": 76,
    "start_time": "2021-11-06T15:32:35.058Z"
   },
   {
    "duration": 110,
    "start_time": "2021-11-06T15:33:51.678Z"
   },
   {
    "duration": 405,
    "start_time": "2021-11-06T15:34:18.854Z"
   },
   {
    "duration": 1146,
    "start_time": "2021-11-06T15:34:30.847Z"
   },
   {
    "duration": 194,
    "start_time": "2021-11-06T15:34:31.995Z"
   },
   {
    "duration": 23,
    "start_time": "2021-11-06T15:34:32.191Z"
   },
   {
    "duration": 102,
    "start_time": "2021-11-06T15:34:32.216Z"
   },
   {
    "duration": 153,
    "start_time": "2021-11-06T15:34:32.320Z"
   },
   {
    "duration": 14,
    "start_time": "2021-11-06T15:34:32.475Z"
   },
   {
    "duration": 14,
    "start_time": "2021-11-06T15:34:32.492Z"
   },
   {
    "duration": 15,
    "start_time": "2021-11-06T15:34:32.509Z"
   },
   {
    "duration": 36,
    "start_time": "2021-11-06T15:34:32.526Z"
   },
   {
    "duration": 118,
    "start_time": "2021-11-06T15:34:32.564Z"
   },
   {
    "duration": 11,
    "start_time": "2021-11-06T15:34:32.684Z"
   },
   {
    "duration": 46,
    "start_time": "2021-11-06T15:34:32.696Z"
   },
   {
    "duration": 22,
    "start_time": "2021-11-06T15:34:32.743Z"
   },
   {
    "duration": 8,
    "start_time": "2021-11-06T15:34:32.767Z"
   },
   {
    "duration": 48,
    "start_time": "2021-11-06T15:34:32.776Z"
   },
   {
    "duration": 7,
    "start_time": "2021-11-06T15:34:32.826Z"
   },
   {
    "duration": 19,
    "start_time": "2021-11-06T15:34:32.834Z"
   },
   {
    "duration": 20,
    "start_time": "2021-11-06T15:34:32.855Z"
   },
   {
    "duration": 161,
    "start_time": "2021-11-06T15:34:32.877Z"
   },
   {
    "duration": 207,
    "start_time": "2021-11-06T15:34:33.040Z"
   },
   {
    "duration": 14,
    "start_time": "2021-11-06T15:34:33.249Z"
   },
   {
    "duration": 14,
    "start_time": "2021-11-06T15:34:33.265Z"
   },
   {
    "duration": 37,
    "start_time": "2021-11-06T15:34:33.282Z"
   },
   {
    "duration": 24,
    "start_time": "2021-11-06T15:34:33.321Z"
   },
   {
    "duration": 15,
    "start_time": "2021-11-06T15:34:33.347Z"
   },
   {
    "duration": 42,
    "start_time": "2021-11-06T15:34:33.364Z"
   },
   {
    "duration": 99,
    "start_time": "2021-11-06T15:34:33.408Z"
   },
   {
    "duration": 383,
    "start_time": "2021-11-06T15:34:52.052Z"
   },
   {
    "duration": 368,
    "start_time": "2021-11-06T15:35:04.815Z"
   },
   {
    "duration": 359,
    "start_time": "2021-11-06T15:35:09.063Z"
   },
   {
    "duration": 1120,
    "start_time": "2021-11-06T15:35:19.370Z"
   },
   {
    "duration": 188,
    "start_time": "2021-11-06T15:35:20.492Z"
   },
   {
    "duration": 15,
    "start_time": "2021-11-06T15:35:20.682Z"
   },
   {
    "duration": 91,
    "start_time": "2021-11-06T15:35:20.706Z"
   },
   {
    "duration": 152,
    "start_time": "2021-11-06T15:35:20.806Z"
   },
   {
    "duration": 12,
    "start_time": "2021-11-06T15:35:20.960Z"
   },
   {
    "duration": 3,
    "start_time": "2021-11-06T15:35:20.974Z"
   },
   {
    "duration": 29,
    "start_time": "2021-11-06T15:35:20.980Z"
   },
   {
    "duration": 36,
    "start_time": "2021-11-06T15:35:21.011Z"
   },
   {
    "duration": 119,
    "start_time": "2021-11-06T15:35:21.049Z"
   },
   {
    "duration": 12,
    "start_time": "2021-11-06T15:35:21.171Z"
   },
   {
    "duration": 54,
    "start_time": "2021-11-06T15:35:21.185Z"
   },
   {
    "duration": 23,
    "start_time": "2021-11-06T15:35:21.241Z"
   },
   {
    "duration": 7,
    "start_time": "2021-11-06T15:35:21.267Z"
   },
   {
    "duration": 41,
    "start_time": "2021-11-06T15:35:21.277Z"
   },
   {
    "duration": 9,
    "start_time": "2021-11-06T15:35:21.320Z"
   },
   {
    "duration": 21,
    "start_time": "2021-11-06T15:35:21.330Z"
   },
   {
    "duration": 17,
    "start_time": "2021-11-06T15:35:21.353Z"
   },
   {
    "duration": 164,
    "start_time": "2021-11-06T15:35:21.372Z"
   },
   {
    "duration": 206,
    "start_time": "2021-11-06T15:35:21.538Z"
   },
   {
    "duration": 13,
    "start_time": "2021-11-06T15:35:21.746Z"
   },
   {
    "duration": 13,
    "start_time": "2021-11-06T15:35:21.761Z"
   },
   {
    "duration": 38,
    "start_time": "2021-11-06T15:35:21.778Z"
   },
   {
    "duration": 25,
    "start_time": "2021-11-06T15:35:21.818Z"
   },
   {
    "duration": 16,
    "start_time": "2021-11-06T15:35:21.845Z"
   },
   {
    "duration": 43,
    "start_time": "2021-11-06T15:35:21.863Z"
   },
   {
    "duration": 82,
    "start_time": "2021-11-06T15:35:21.908Z"
   },
   {
    "duration": 381,
    "start_time": "2021-11-06T15:40:10.496Z"
   },
   {
    "duration": 1130,
    "start_time": "2021-11-06T15:40:28.374Z"
   },
   {
    "duration": 195,
    "start_time": "2021-11-06T15:40:29.507Z"
   },
   {
    "duration": 17,
    "start_time": "2021-11-06T15:40:29.705Z"
   },
   {
    "duration": 108,
    "start_time": "2021-11-06T15:40:29.724Z"
   },
   {
    "duration": 154,
    "start_time": "2021-11-06T15:40:29.835Z"
   },
   {
    "duration": 24,
    "start_time": "2021-11-06T15:40:29.991Z"
   },
   {
    "duration": 4,
    "start_time": "2021-11-06T15:40:30.017Z"
   },
   {
    "duration": 17,
    "start_time": "2021-11-06T15:40:30.023Z"
   },
   {
    "duration": 38,
    "start_time": "2021-11-06T15:40:30.042Z"
   },
   {
    "duration": 126,
    "start_time": "2021-11-06T15:40:30.082Z"
   },
   {
    "duration": 11,
    "start_time": "2021-11-06T15:40:30.210Z"
   },
   {
    "duration": 47,
    "start_time": "2021-11-06T15:40:30.222Z"
   },
   {
    "duration": 23,
    "start_time": "2021-11-06T15:40:30.271Z"
   },
   {
    "duration": 16,
    "start_time": "2021-11-06T15:40:30.296Z"
   },
   {
    "duration": 44,
    "start_time": "2021-11-06T15:40:30.314Z"
   },
   {
    "duration": 8,
    "start_time": "2021-11-06T15:40:30.360Z"
   },
   {
    "duration": 32,
    "start_time": "2021-11-06T15:40:30.369Z"
   },
   {
    "duration": 22,
    "start_time": "2021-11-06T15:40:30.403Z"
   },
   {
    "duration": 163,
    "start_time": "2021-11-06T15:40:30.427Z"
   },
   {
    "duration": 210,
    "start_time": "2021-11-06T15:40:30.592Z"
   },
   {
    "duration": 14,
    "start_time": "2021-11-06T15:40:30.803Z"
   },
   {
    "duration": 18,
    "start_time": "2021-11-06T15:40:30.819Z"
   },
   {
    "duration": 29,
    "start_time": "2021-11-06T15:40:30.841Z"
   },
   {
    "duration": 39,
    "start_time": "2021-11-06T15:40:30.872Z"
   },
   {
    "duration": 36,
    "start_time": "2021-11-06T15:40:30.913Z"
   },
   {
    "duration": 24,
    "start_time": "2021-11-06T15:40:30.951Z"
   },
   {
    "duration": 115,
    "start_time": "2021-11-06T15:40:30.977Z"
   },
   {
    "duration": 446,
    "start_time": "2021-11-06T15:40:56.913Z"
   },
   {
    "duration": 375,
    "start_time": "2021-11-06T15:47:49.726Z"
   },
   {
    "duration": 2662,
    "start_time": "2021-11-06T15:47:59.941Z"
   },
   {
    "duration": 206,
    "start_time": "2021-11-06T15:48:02.605Z"
   },
   {
    "duration": 15,
    "start_time": "2021-11-06T15:48:02.813Z"
   },
   {
    "duration": 92,
    "start_time": "2021-11-06T15:48:02.830Z"
   },
   {
    "duration": 156,
    "start_time": "2021-11-06T15:48:02.924Z"
   },
   {
    "duration": 12,
    "start_time": "2021-11-06T15:48:03.081Z"
   },
   {
    "duration": 3,
    "start_time": "2021-11-06T15:48:03.095Z"
   },
   {
    "duration": 15,
    "start_time": "2021-11-06T15:48:03.100Z"
   },
   {
    "duration": 38,
    "start_time": "2021-11-06T15:48:03.118Z"
   },
   {
    "duration": 105,
    "start_time": "2021-11-06T15:48:03.158Z"
   },
   {
    "duration": 11,
    "start_time": "2021-11-06T15:48:03.264Z"
   },
   {
    "duration": 49,
    "start_time": "2021-11-06T15:48:03.276Z"
   },
   {
    "duration": 21,
    "start_time": "2021-11-06T15:48:03.326Z"
   },
   {
    "duration": 7,
    "start_time": "2021-11-06T15:48:03.349Z"
   },
   {
    "duration": 47,
    "start_time": "2021-11-06T15:48:03.358Z"
   },
   {
    "duration": 6,
    "start_time": "2021-11-06T15:48:03.407Z"
   },
   {
    "duration": 11,
    "start_time": "2021-11-06T15:48:03.414Z"
   },
   {
    "duration": 17,
    "start_time": "2021-11-06T15:48:03.426Z"
   },
   {
    "duration": 232,
    "start_time": "2021-11-06T15:48:03.444Z"
   },
   {
    "duration": 207,
    "start_time": "2021-11-06T15:48:03.678Z"
   },
   {
    "duration": 9,
    "start_time": "2021-11-06T15:48:03.886Z"
   },
   {
    "duration": 22,
    "start_time": "2021-11-06T15:48:03.897Z"
   },
   {
    "duration": 17,
    "start_time": "2021-11-06T15:48:03.922Z"
   },
   {
    "duration": 23,
    "start_time": "2021-11-06T15:48:03.941Z"
   },
   {
    "duration": 41,
    "start_time": "2021-11-06T15:48:03.966Z"
   },
   {
    "duration": 19,
    "start_time": "2021-11-06T15:48:04.008Z"
   },
   {
    "duration": 36,
    "start_time": "2021-11-06T15:48:04.029Z"
   },
   {
    "duration": 196,
    "start_time": "2021-11-06T15:48:04.067Z"
   },
   {
    "duration": 15,
    "start_time": "2021-11-06T15:48:27.154Z"
   },
   {
    "duration": 29,
    "start_time": "2021-11-06T15:50:58.462Z"
   },
   {
    "duration": 66,
    "start_time": "2021-11-06T16:00:36.483Z"
   },
   {
    "duration": 18,
    "start_time": "2021-11-06T16:05:41.217Z"
   },
   {
    "duration": 52,
    "start_time": "2021-11-06T16:05:42.347Z"
   },
   {
    "duration": 71,
    "start_time": "2021-11-06T16:06:48.903Z"
   },
   {
    "duration": 1084,
    "start_time": "2021-11-06T16:07:26.110Z"
   },
   {
    "duration": 197,
    "start_time": "2021-11-06T16:07:27.196Z"
   },
   {
    "duration": 15,
    "start_time": "2021-11-06T16:07:27.406Z"
   },
   {
    "duration": 106,
    "start_time": "2021-11-06T16:07:27.423Z"
   },
   {
    "duration": 155,
    "start_time": "2021-11-06T16:07:27.531Z"
   },
   {
    "duration": 18,
    "start_time": "2021-11-06T16:07:27.688Z"
   },
   {
    "duration": 3,
    "start_time": "2021-11-06T16:07:27.709Z"
   },
   {
    "duration": 14,
    "start_time": "2021-11-06T16:07:27.714Z"
   },
   {
    "duration": 36,
    "start_time": "2021-11-06T16:07:27.730Z"
   },
   {
    "duration": 116,
    "start_time": "2021-11-06T16:07:27.768Z"
   },
   {
    "duration": 24,
    "start_time": "2021-11-06T16:07:27.885Z"
   },
   {
    "duration": 36,
    "start_time": "2021-11-06T16:07:27.911Z"
   },
   {
    "duration": 21,
    "start_time": "2021-11-06T16:07:27.949Z"
   },
   {
    "duration": 19,
    "start_time": "2021-11-06T16:07:27.972Z"
   },
   {
    "duration": 56,
    "start_time": "2021-11-06T16:07:27.993Z"
   },
   {
    "duration": 6,
    "start_time": "2021-11-06T16:07:28.051Z"
   },
   {
    "duration": 9,
    "start_time": "2021-11-06T16:07:28.059Z"
   },
   {
    "duration": 15,
    "start_time": "2021-11-06T16:07:28.070Z"
   },
   {
    "duration": 148,
    "start_time": "2021-11-06T16:07:28.086Z"
   },
   {
    "duration": 197,
    "start_time": "2021-11-06T16:07:28.236Z"
   },
   {
    "duration": 13,
    "start_time": "2021-11-06T16:07:28.435Z"
   },
   {
    "duration": 14,
    "start_time": "2021-11-06T16:07:28.451Z"
   },
   {
    "duration": 17,
    "start_time": "2021-11-06T16:07:28.467Z"
   },
   {
    "duration": 40,
    "start_time": "2021-11-06T16:07:28.485Z"
   },
   {
    "duration": 15,
    "start_time": "2021-11-06T16:07:28.527Z"
   },
   {
    "duration": 18,
    "start_time": "2021-11-06T16:07:28.544Z"
   },
   {
    "duration": 81,
    "start_time": "2021-11-06T16:07:28.564Z"
   },
   {
    "duration": 75,
    "start_time": "2021-11-06T16:07:28.647Z"
   },
   {
    "duration": 152,
    "start_time": "2021-11-06T16:09:26.638Z"
   },
   {
    "duration": 22,
    "start_time": "2021-11-06T16:09:49.352Z"
   },
   {
    "duration": 32,
    "start_time": "2021-11-06T16:10:00.036Z"
   },
   {
    "duration": 28,
    "start_time": "2021-11-06T17:17:35.616Z"
   },
   {
    "duration": 474,
    "start_time": "2021-11-06T17:26:16.578Z"
   },
   {
    "duration": 28,
    "start_time": "2021-11-06T17:26:30.043Z"
   },
   {
    "duration": 1454,
    "start_time": "2021-11-06T17:29:34.995Z"
   },
   {
    "duration": 12,
    "start_time": "2021-11-06T17:29:55.897Z"
   },
   {
    "duration": 13,
    "start_time": "2021-11-06T17:30:38.895Z"
   },
   {
    "duration": 19,
    "start_time": "2021-11-06T17:31:07.134Z"
   },
   {
    "duration": 4,
    "start_time": "2021-11-06T18:00:28.801Z"
   },
   {
    "duration": 1372,
    "start_time": "2021-11-06T18:01:48.118Z"
   },
   {
    "duration": 112,
    "start_time": "2021-11-06T18:02:36.670Z"
   },
   {
    "duration": 5,
    "start_time": "2021-11-06T18:02:43.644Z"
   },
   {
    "duration": 5,
    "start_time": "2021-11-06T18:03:20.906Z"
   },
   {
    "duration": 14,
    "start_time": "2021-11-06T18:03:29.039Z"
   },
   {
    "duration": 4,
    "start_time": "2021-11-06T18:10:49.834Z"
   },
   {
    "duration": 1383,
    "start_time": "2021-11-06T18:10:58.491Z"
   },
   {
    "duration": 312,
    "start_time": "2021-11-06T18:10:59.883Z"
   },
   {
    "duration": 28,
    "start_time": "2021-11-06T18:11:00.198Z"
   },
   {
    "duration": 44,
    "start_time": "2021-11-06T18:11:00.228Z"
   },
   {
    "duration": 152,
    "start_time": "2021-11-06T18:11:00.274Z"
   },
   {
    "duration": 196,
    "start_time": "2021-11-06T18:11:00.428Z"
   },
   {
    "duration": 15,
    "start_time": "2021-11-06T18:11:00.626Z"
   },
   {
    "duration": 39,
    "start_time": "2021-11-06T18:11:00.644Z"
   },
   {
    "duration": 70,
    "start_time": "2021-11-06T18:11:00.685Z"
   },
   {
    "duration": 61,
    "start_time": "2021-11-06T18:11:00.758Z"
   },
   {
    "duration": 120,
    "start_time": "2021-11-06T18:11:00.821Z"
   },
   {
    "duration": 12,
    "start_time": "2021-11-06T18:11:00.943Z"
   },
   {
    "duration": 65,
    "start_time": "2021-11-06T18:11:00.957Z"
   },
   {
    "duration": 43,
    "start_time": "2021-11-06T18:11:01.025Z"
   },
   {
    "duration": 33,
    "start_time": "2021-11-06T18:11:01.070Z"
   },
   {
    "duration": 80,
    "start_time": "2021-11-06T18:11:01.106Z"
   },
   {
    "duration": 35,
    "start_time": "2021-11-06T18:11:01.189Z"
   },
   {
    "duration": 40,
    "start_time": "2021-11-06T18:11:01.226Z"
   },
   {
    "duration": 48,
    "start_time": "2021-11-06T18:11:01.268Z"
   },
   {
    "duration": 244,
    "start_time": "2021-11-06T18:11:01.319Z"
   },
   {
    "duration": 215,
    "start_time": "2021-11-06T18:11:01.566Z"
   },
   {
    "duration": 23,
    "start_time": "2021-11-06T18:11:01.783Z"
   },
   {
    "duration": 18,
    "start_time": "2021-11-06T18:11:01.810Z"
   },
   {
    "duration": 31,
    "start_time": "2021-11-06T18:11:01.830Z"
   },
   {
    "duration": 77,
    "start_time": "2021-11-06T18:11:01.863Z"
   },
   {
    "duration": 37,
    "start_time": "2021-11-06T18:11:01.942Z"
   },
   {
    "duration": 59,
    "start_time": "2021-11-06T18:11:01.980Z"
   },
   {
    "duration": 98,
    "start_time": "2021-11-06T18:11:02.041Z"
   },
   {
    "duration": 26,
    "start_time": "2021-11-06T18:11:02.141Z"
   },
   {
    "duration": 13,
    "start_time": "2021-11-06T18:11:02.168Z"
   },
   {
    "duration": 40,
    "start_time": "2021-11-06T18:11:02.183Z"
   },
   {
    "duration": 11,
    "start_time": "2021-11-06T18:45:33.276Z"
   },
   {
    "duration": 1488,
    "start_time": "2021-11-06T18:52:00.153Z"
   },
   {
    "duration": 1441,
    "start_time": "2021-11-06T18:54:05.551Z"
   },
   {
    "duration": 1167,
    "start_time": "2021-11-06T18:54:20.804Z"
   },
   {
    "duration": 195,
    "start_time": "2021-11-06T18:54:21.973Z"
   },
   {
    "duration": 16,
    "start_time": "2021-11-06T18:54:22.171Z"
   },
   {
    "duration": 19,
    "start_time": "2021-11-06T18:54:22.189Z"
   },
   {
    "duration": 98,
    "start_time": "2021-11-06T18:54:22.210Z"
   },
   {
    "duration": 162,
    "start_time": "2021-11-06T18:54:22.310Z"
   },
   {
    "duration": 15,
    "start_time": "2021-11-06T18:54:22.474Z"
   },
   {
    "duration": 16,
    "start_time": "2021-11-06T18:54:22.492Z"
   },
   {
    "duration": 14,
    "start_time": "2021-11-06T18:54:22.511Z"
   },
   {
    "duration": 36,
    "start_time": "2021-11-06T18:54:22.527Z"
   },
   {
    "duration": 129,
    "start_time": "2021-11-06T18:54:22.566Z"
   },
   {
    "duration": 18,
    "start_time": "2021-11-06T18:54:22.697Z"
   },
   {
    "duration": 40,
    "start_time": "2021-11-06T18:54:22.718Z"
   },
   {
    "duration": 21,
    "start_time": "2021-11-06T18:54:22.760Z"
   },
   {
    "duration": 25,
    "start_time": "2021-11-06T18:54:22.782Z"
   },
   {
    "duration": 48,
    "start_time": "2021-11-06T18:54:22.809Z"
   },
   {
    "duration": 6,
    "start_time": "2021-11-06T18:54:22.859Z"
   },
   {
    "duration": 8,
    "start_time": "2021-11-06T18:54:22.867Z"
   },
   {
    "duration": 15,
    "start_time": "2021-11-06T18:54:22.877Z"
   },
   {
    "duration": 154,
    "start_time": "2021-11-06T18:54:22.893Z"
   },
   {
    "duration": 210,
    "start_time": "2021-11-06T18:54:23.049Z"
   },
   {
    "duration": 14,
    "start_time": "2021-11-06T18:54:23.260Z"
   },
   {
    "duration": 13,
    "start_time": "2021-11-06T18:54:23.278Z"
   },
   {
    "duration": 16,
    "start_time": "2021-11-06T18:54:23.307Z"
   },
   {
    "duration": 24,
    "start_time": "2021-11-06T18:54:23.325Z"
   },
   {
    "duration": 16,
    "start_time": "2021-11-06T18:54:23.351Z"
   },
   {
    "duration": 44,
    "start_time": "2021-11-06T18:54:23.369Z"
   },
   {
    "duration": 55,
    "start_time": "2021-11-06T18:54:23.414Z"
   },
   {
    "duration": 40,
    "start_time": "2021-11-06T18:54:23.471Z"
   },
   {
    "duration": 10,
    "start_time": "2021-11-06T18:54:23.513Z"
   },
   {
    "duration": 18,
    "start_time": "2021-11-06T18:54:23.525Z"
   },
   {
    "duration": 7,
    "start_time": "2021-11-06T18:54:23.545Z"
   },
   {
    "duration": 8,
    "start_time": "2021-11-06T18:55:22.520Z"
   },
   {
    "duration": 20,
    "start_time": "2021-11-06T18:55:34.508Z"
   },
   {
    "duration": 16,
    "start_time": "2021-11-06T18:58:22.578Z"
   },
   {
    "duration": 16,
    "start_time": "2021-11-06T18:58:40.137Z"
   },
   {
    "duration": 5,
    "start_time": "2021-11-06T19:00:58.038Z"
   },
   {
    "duration": 13,
    "start_time": "2021-11-06T19:01:09.905Z"
   },
   {
    "duration": 5,
    "start_time": "2021-11-06T19:48:08.407Z"
   },
   {
    "duration": 4875,
    "start_time": "2021-11-06T19:49:11.465Z"
   },
   {
    "duration": 5,
    "start_time": "2021-11-06T19:52:04.745Z"
   },
   {
    "duration": 4689,
    "start_time": "2021-11-06T19:52:06.695Z"
   },
   {
    "duration": 5,
    "start_time": "2021-11-06T19:54:52.496Z"
   },
   {
    "duration": 4738,
    "start_time": "2021-11-06T19:54:53.774Z"
   },
   {
    "duration": 340,
    "start_time": "2021-11-06T19:59:34.430Z"
   },
   {
    "duration": 4713,
    "start_time": "2021-11-06T20:00:42.689Z"
   },
   {
    "duration": 5,
    "start_time": "2021-11-06T20:01:49.844Z"
   },
   {
    "duration": 4684,
    "start_time": "2021-11-06T20:01:51.146Z"
   },
   {
    "duration": 4,
    "start_time": "2021-11-06T20:11:15.349Z"
   },
   {
    "duration": 4,
    "start_time": "2021-11-06T20:11:16.890Z"
   },
   {
    "duration": 4,
    "start_time": "2021-11-06T20:11:17.961Z"
   },
   {
    "duration": 340,
    "start_time": "2021-11-06T20:13:32.486Z"
   },
   {
    "duration": 349,
    "start_time": "2021-11-06T20:19:26.322Z"
   },
   {
    "duration": 4,
    "start_time": "2021-11-06T20:22:01.123Z"
   },
   {
    "duration": 1153,
    "start_time": "2021-11-06T20:22:11.839Z"
   },
   {
    "duration": 189,
    "start_time": "2021-11-06T20:22:12.994Z"
   },
   {
    "duration": 21,
    "start_time": "2021-11-06T20:22:13.185Z"
   },
   {
    "duration": 4,
    "start_time": "2021-11-06T20:22:13.208Z"
   },
   {
    "duration": 95,
    "start_time": "2021-11-06T20:22:13.214Z"
   },
   {
    "duration": 163,
    "start_time": "2021-11-06T20:22:13.312Z"
   },
   {
    "duration": 15,
    "start_time": "2021-11-06T20:22:13.477Z"
   },
   {
    "duration": 4,
    "start_time": "2021-11-06T20:22:13.507Z"
   },
   {
    "duration": 14,
    "start_time": "2021-11-06T20:22:13.514Z"
   },
   {
    "duration": 36,
    "start_time": "2021-11-06T20:22:13.530Z"
   },
   {
    "duration": 127,
    "start_time": "2021-11-06T20:22:13.568Z"
   },
   {
    "duration": 15,
    "start_time": "2021-11-06T20:22:13.697Z"
   },
   {
    "duration": 44,
    "start_time": "2021-11-06T20:22:13.714Z"
   },
   {
    "duration": 21,
    "start_time": "2021-11-06T20:22:13.760Z"
   },
   {
    "duration": 13,
    "start_time": "2021-11-06T20:22:13.782Z"
   },
   {
    "duration": 49,
    "start_time": "2021-11-06T20:22:13.797Z"
   },
   {
    "duration": 6,
    "start_time": "2021-11-06T20:22:13.848Z"
   },
   {
    "duration": 10,
    "start_time": "2021-11-06T20:22:13.856Z"
   },
   {
    "duration": 25,
    "start_time": "2021-11-06T20:22:13.867Z"
   },
   {
    "duration": 152,
    "start_time": "2021-11-06T20:22:13.894Z"
   },
   {
    "duration": 207,
    "start_time": "2021-11-06T20:22:14.048Z"
   },
   {
    "duration": 13,
    "start_time": "2021-11-06T20:22:14.257Z"
   },
   {
    "duration": 13,
    "start_time": "2021-11-06T20:22:14.273Z"
   },
   {
    "duration": 28,
    "start_time": "2021-11-06T20:22:14.288Z"
   },
   {
    "duration": 22,
    "start_time": "2021-11-06T20:22:14.318Z"
   },
   {
    "duration": 15,
    "start_time": "2021-11-06T20:22:14.342Z"
   },
   {
    "duration": 17,
    "start_time": "2021-11-06T20:22:14.359Z"
   },
   {
    "duration": 80,
    "start_time": "2021-11-06T20:22:14.377Z"
   },
   {
    "duration": 25,
    "start_time": "2021-11-06T20:22:14.459Z"
   },
   {
    "duration": 22,
    "start_time": "2021-11-06T20:22:14.485Z"
   },
   {
    "duration": 16,
    "start_time": "2021-11-06T20:22:14.509Z"
   },
   {
    "duration": 7,
    "start_time": "2021-11-06T20:22:14.527Z"
   },
   {
    "duration": 17,
    "start_time": "2021-11-06T20:22:14.535Z"
   },
   {
    "duration": 13,
    "start_time": "2021-11-06T20:22:14.554Z"
   },
   {
    "duration": 5,
    "start_time": "2021-11-06T20:22:14.569Z"
   },
   {
    "duration": 12,
    "start_time": "2021-11-06T20:22:14.607Z"
   },
   {
    "duration": 12,
    "start_time": "2021-11-06T20:22:14.621Z"
   },
   {
    "duration": 2800,
    "start_time": "2021-11-06T20:22:14.635Z"
   },
   {
    "duration": 3184,
    "start_time": "2021-11-06T20:23:45.758Z"
   },
   {
    "duration": 13,
    "start_time": "2021-11-06T20:23:53.855Z"
   },
   {
    "duration": 179,
    "start_time": "2021-11-06T20:24:54.547Z"
   },
   {
    "duration": 17,
    "start_time": "2021-11-06T20:25:00.516Z"
   },
   {
    "duration": 15,
    "start_time": "2021-11-06T20:25:18.953Z"
   },
   {
    "duration": 15,
    "start_time": "2021-11-06T20:25:27.087Z"
   },
   {
    "duration": 8,
    "start_time": "2021-11-06T20:35:47.407Z"
   },
   {
    "duration": 1102,
    "start_time": "2021-11-06T21:50:27.791Z"
   },
   {
    "duration": 201,
    "start_time": "2021-11-06T21:50:28.895Z"
   },
   {
    "duration": 21,
    "start_time": "2021-11-06T21:50:29.099Z"
   },
   {
    "duration": 14,
    "start_time": "2021-11-06T21:50:29.123Z"
   },
   {
    "duration": 105,
    "start_time": "2021-11-06T21:50:29.138Z"
   },
   {
    "duration": 157,
    "start_time": "2021-11-06T21:50:29.246Z"
   },
   {
    "duration": 12,
    "start_time": "2021-11-06T21:50:29.405Z"
   },
   {
    "duration": 9,
    "start_time": "2021-11-06T21:50:29.420Z"
   },
   {
    "duration": 23,
    "start_time": "2021-11-06T21:50:29.432Z"
   },
   {
    "duration": 37,
    "start_time": "2021-11-06T21:50:29.457Z"
   },
   {
    "duration": 117,
    "start_time": "2021-11-06T21:50:29.496Z"
   },
   {
    "duration": 11,
    "start_time": "2021-11-06T21:50:29.615Z"
   },
   {
    "duration": 40,
    "start_time": "2021-11-06T21:50:29.627Z"
   },
   {
    "duration": 21,
    "start_time": "2021-11-06T21:50:29.669Z"
   },
   {
    "duration": 16,
    "start_time": "2021-11-06T21:50:29.692Z"
   },
   {
    "duration": 56,
    "start_time": "2021-11-06T21:50:29.710Z"
   },
   {
    "duration": 6,
    "start_time": "2021-11-06T21:50:29.768Z"
   },
   {
    "duration": 8,
    "start_time": "2021-11-06T21:50:29.776Z"
   },
   {
    "duration": 19,
    "start_time": "2021-11-06T21:50:29.785Z"
   },
   {
    "duration": 155,
    "start_time": "2021-11-06T21:50:29.806Z"
   },
   {
    "duration": 211,
    "start_time": "2021-11-06T21:50:29.963Z"
   },
   {
    "duration": 15,
    "start_time": "2021-11-06T21:50:30.176Z"
   },
   {
    "duration": 23,
    "start_time": "2021-11-06T21:50:30.194Z"
   },
   {
    "duration": 16,
    "start_time": "2021-11-06T21:50:30.219Z"
   },
   {
    "duration": 24,
    "start_time": "2021-11-06T21:50:30.237Z"
   },
   {
    "duration": 16,
    "start_time": "2021-11-06T21:50:30.263Z"
   },
   {
    "duration": 43,
    "start_time": "2021-11-06T21:50:30.281Z"
   },
   {
    "duration": 64,
    "start_time": "2021-11-06T21:50:30.326Z"
   },
   {
    "duration": 34,
    "start_time": "2021-11-06T21:50:30.392Z"
   },
   {
    "duration": 11,
    "start_time": "2021-11-06T21:50:30.428Z"
   },
   {
    "duration": 40,
    "start_time": "2021-11-06T21:50:30.441Z"
   },
   {
    "duration": 30,
    "start_time": "2021-11-06T21:50:30.483Z"
   },
   {
    "duration": 20,
    "start_time": "2021-11-06T21:50:30.515Z"
   },
   {
    "duration": 16,
    "start_time": "2021-11-06T21:50:30.537Z"
   },
   {
    "duration": 25,
    "start_time": "2021-11-06T21:50:30.555Z"
   },
   {
    "duration": 2836,
    "start_time": "2021-11-06T21:50:30.582Z"
   },
   {
    "duration": 16,
    "start_time": "2021-11-06T21:50:33.420Z"
   },
   {
    "duration": 683,
    "start_time": "2021-11-06T22:51:12.407Z"
   },
   {
    "duration": 746,
    "start_time": "2021-11-06T22:54:07.967Z"
   },
   {
    "duration": 23,
    "start_time": "2021-11-06T22:54:28.524Z"
   },
   {
    "duration": 30,
    "start_time": "2021-11-06T22:54:45.206Z"
   },
   {
    "duration": 371,
    "start_time": "2021-11-07T11:13:01.785Z"
   },
   {
    "duration": 193,
    "start_time": "2021-11-07T11:13:26.554Z"
   },
   {
    "duration": 513,
    "start_time": "2021-11-07T11:19:15.206Z"
   },
   {
    "duration": 200,
    "start_time": "2021-11-07T11:19:25.489Z"
   },
   {
    "duration": 387,
    "start_time": "2021-11-07T11:20:20.469Z"
   },
   {
    "duration": 744,
    "start_time": "2021-11-07T11:22:31.870Z"
   },
   {
    "duration": 289,
    "start_time": "2021-11-07T11:23:29.421Z"
   },
   {
    "duration": 235,
    "start_time": "2021-11-07T11:24:10.601Z"
   },
   {
    "duration": 235,
    "start_time": "2021-11-07T11:24:29.364Z"
   },
   {
    "duration": 227,
    "start_time": "2021-11-07T11:25:15.702Z"
   },
   {
    "duration": 229,
    "start_time": "2021-11-07T11:26:04.365Z"
   },
   {
    "duration": 234,
    "start_time": "2021-11-07T11:26:43.366Z"
   },
   {
    "duration": 4,
    "start_time": "2021-11-07T11:29:50.754Z"
   },
   {
    "duration": 226,
    "start_time": "2021-11-07T11:33:23.732Z"
   },
   {
    "duration": 348,
    "start_time": "2021-11-07T11:34:33.959Z"
   },
   {
    "duration": 217,
    "start_time": "2021-11-07T11:34:52.356Z"
   },
   {
    "duration": 226,
    "start_time": "2021-11-07T11:35:32.152Z"
   },
   {
    "duration": 8,
    "start_time": "2021-11-07T12:55:51.304Z"
   },
   {
    "duration": 341,
    "start_time": "2021-11-07T13:02:11.800Z"
   },
   {
    "duration": 358,
    "start_time": "2021-11-07T13:02:35.656Z"
   },
   {
    "duration": 5,
    "start_time": "2021-11-07T13:03:19.709Z"
   },
   {
    "duration": 9,
    "start_time": "2021-11-07T13:03:28.400Z"
   },
   {
    "duration": 5,
    "start_time": "2021-11-07T13:03:39.499Z"
   },
   {
    "duration": 765,
    "start_time": "2021-11-07T13:03:40.451Z"
   },
   {
    "duration": 36,
    "start_time": "2021-11-07T13:51:02.711Z"
   },
   {
    "duration": 10,
    "start_time": "2021-11-07T13:53:06.640Z"
   },
   {
    "duration": 354,
    "start_time": "2021-11-07T13:57:49.635Z"
   },
   {
    "duration": 9,
    "start_time": "2021-11-07T13:58:12.920Z"
   },
   {
    "duration": 6,
    "start_time": "2021-11-07T14:34:28.157Z"
   },
   {
    "duration": 1164,
    "start_time": "2021-11-07T14:42:18.809Z"
   },
   {
    "duration": 200,
    "start_time": "2021-11-07T14:42:19.975Z"
   },
   {
    "duration": 15,
    "start_time": "2021-11-07T14:42:20.177Z"
   },
   {
    "duration": 14,
    "start_time": "2021-11-07T14:42:20.194Z"
   },
   {
    "duration": 87,
    "start_time": "2021-11-07T14:42:20.210Z"
   },
   {
    "duration": 155,
    "start_time": "2021-11-07T14:42:20.306Z"
   },
   {
    "duration": 14,
    "start_time": "2021-11-07T14:42:20.463Z"
   },
   {
    "duration": 4,
    "start_time": "2021-11-07T14:42:20.479Z"
   },
   {
    "duration": 29,
    "start_time": "2021-11-07T14:42:20.485Z"
   },
   {
    "duration": 37,
    "start_time": "2021-11-07T14:42:20.516Z"
   },
   {
    "duration": 113,
    "start_time": "2021-11-07T14:42:20.555Z"
   },
   {
    "duration": 11,
    "start_time": "2021-11-07T14:42:20.670Z"
   },
   {
    "duration": 53,
    "start_time": "2021-11-07T14:42:20.683Z"
   },
   {
    "duration": 21,
    "start_time": "2021-11-07T14:42:20.738Z"
   },
   {
    "duration": 13,
    "start_time": "2021-11-07T14:42:20.761Z"
   },
   {
    "duration": 65,
    "start_time": "2021-11-07T14:42:20.776Z"
   },
   {
    "duration": 6,
    "start_time": "2021-11-07T14:42:20.843Z"
   },
   {
    "duration": 8,
    "start_time": "2021-11-07T14:42:20.851Z"
   },
   {
    "duration": 18,
    "start_time": "2021-11-07T14:42:20.860Z"
   },
   {
    "duration": 148,
    "start_time": "2021-11-07T14:42:20.880Z"
   },
   {
    "duration": 220,
    "start_time": "2021-11-07T14:42:21.030Z"
   },
   {
    "duration": 14,
    "start_time": "2021-11-07T14:42:21.252Z"
   },
   {
    "duration": 14,
    "start_time": "2021-11-07T14:42:21.270Z"
   },
   {
    "duration": 32,
    "start_time": "2021-11-07T14:42:21.286Z"
   },
   {
    "duration": 24,
    "start_time": "2021-11-07T14:42:21.320Z"
   },
   {
    "duration": 16,
    "start_time": "2021-11-07T14:42:21.345Z"
   },
   {
    "duration": 44,
    "start_time": "2021-11-07T14:42:21.363Z"
   },
   {
    "duration": 62,
    "start_time": "2021-11-07T14:42:21.409Z"
   },
   {
    "duration": 39,
    "start_time": "2021-11-07T14:42:21.472Z"
   },
   {
    "duration": 11,
    "start_time": "2021-11-07T14:42:21.513Z"
   },
   {
    "duration": 16,
    "start_time": "2021-11-07T14:42:21.526Z"
   },
   {
    "duration": 19,
    "start_time": "2021-11-07T14:42:21.544Z"
   },
   {
    "duration": 42,
    "start_time": "2021-11-07T14:42:21.565Z"
   },
   {
    "duration": 4,
    "start_time": "2021-11-07T14:42:21.609Z"
   },
   {
    "duration": 17,
    "start_time": "2021-11-07T14:42:21.615Z"
   },
   {
    "duration": 2807,
    "start_time": "2021-11-07T14:42:21.634Z"
   },
   {
    "duration": 15,
    "start_time": "2021-11-07T14:42:24.443Z"
   },
   {
    "duration": 48,
    "start_time": "2021-11-07T14:42:24.460Z"
   },
   {
    "duration": 5,
    "start_time": "2021-11-07T14:42:24.509Z"
   },
   {
    "duration": 22,
    "start_time": "2021-11-07T14:42:24.516Z"
   },
   {
    "duration": 5,
    "start_time": "2021-11-07T14:42:24.540Z"
   },
   {
    "duration": 248,
    "start_time": "2021-11-07T14:42:24.546Z"
   },
   {
    "duration": 238,
    "start_time": "2021-11-07T14:42:24.796Z"
   },
   {
    "duration": 238,
    "start_time": "2021-11-07T14:42:25.036Z"
   },
   {
    "duration": 11,
    "start_time": "2021-11-07T14:42:25.275Z"
   },
   {
    "duration": 23,
    "start_time": "2021-11-07T14:42:25.287Z"
   },
   {
    "duration": 4,
    "start_time": "2021-11-07T14:42:25.312Z"
   },
   {
    "duration": 29,
    "start_time": "2021-11-07T14:46:51.430Z"
   },
   {
    "duration": 13,
    "start_time": "2021-11-07T14:47:01.316Z"
   },
   {
    "duration": 18,
    "start_time": "2021-11-07T14:47:07.781Z"
   },
   {
    "duration": 30,
    "start_time": "2021-11-07T14:47:08.630Z"
   },
   {
    "duration": 26,
    "start_time": "2021-11-07T14:47:30.657Z"
   },
   {
    "duration": 13,
    "start_time": "2021-11-07T14:47:42.983Z"
   },
   {
    "duration": 1065,
    "start_time": "2021-11-07T14:47:52.941Z"
   },
   {
    "duration": 197,
    "start_time": "2021-11-07T14:47:54.008Z"
   },
   {
    "duration": 15,
    "start_time": "2021-11-07T14:47:54.207Z"
   },
   {
    "duration": 4,
    "start_time": "2021-11-07T14:47:54.224Z"
   },
   {
    "duration": 111,
    "start_time": "2021-11-07T14:47:54.229Z"
   },
   {
    "duration": 157,
    "start_time": "2021-11-07T14:47:54.342Z"
   },
   {
    "duration": 15,
    "start_time": "2021-11-07T14:47:54.501Z"
   },
   {
    "duration": 5,
    "start_time": "2021-11-07T14:47:54.519Z"
   },
   {
    "duration": 17,
    "start_time": "2021-11-07T14:47:54.526Z"
   },
   {
    "duration": 38,
    "start_time": "2021-11-07T14:47:54.544Z"
   },
   {
    "duration": 124,
    "start_time": "2021-11-07T14:47:54.583Z"
   },
   {
    "duration": 13,
    "start_time": "2021-11-07T14:47:54.709Z"
   },
   {
    "duration": 40,
    "start_time": "2021-11-07T14:47:54.724Z"
   },
   {
    "duration": 22,
    "start_time": "2021-11-07T14:47:54.767Z"
   },
   {
    "duration": 22,
    "start_time": "2021-11-07T14:47:54.790Z"
   },
   {
    "duration": 66,
    "start_time": "2021-11-07T14:47:54.815Z"
   },
   {
    "duration": 8,
    "start_time": "2021-11-07T14:47:54.883Z"
   },
   {
    "duration": 8,
    "start_time": "2021-11-07T14:47:54.893Z"
   },
   {
    "duration": 20,
    "start_time": "2021-11-07T14:47:54.903Z"
   },
   {
    "duration": 157,
    "start_time": "2021-11-07T14:47:54.925Z"
   },
   {
    "duration": 199,
    "start_time": "2021-11-07T14:47:55.084Z"
   },
   {
    "duration": 21,
    "start_time": "2021-11-07T14:47:55.285Z"
   },
   {
    "duration": 13,
    "start_time": "2021-11-07T14:47:55.311Z"
   },
   {
    "duration": 16,
    "start_time": "2021-11-07T14:47:55.326Z"
   },
   {
    "duration": 24,
    "start_time": "2021-11-07T14:47:55.344Z"
   },
   {
    "duration": 40,
    "start_time": "2021-11-07T14:47:55.369Z"
   },
   {
    "duration": 18,
    "start_time": "2021-11-07T14:47:55.411Z"
   },
   {
    "duration": 57,
    "start_time": "2021-11-07T14:47:55.430Z"
   },
   {
    "duration": 42,
    "start_time": "2021-11-07T14:47:55.488Z"
   },
   {
    "duration": 11,
    "start_time": "2021-11-07T14:47:55.532Z"
   },
   {
    "duration": 31,
    "start_time": "2021-11-07T14:47:55.544Z"
   },
   {
    "duration": 32,
    "start_time": "2021-11-07T14:47:55.577Z"
   },
   {
    "duration": 18,
    "start_time": "2021-11-07T14:47:55.611Z"
   },
   {
    "duration": 4,
    "start_time": "2021-11-07T14:47:55.631Z"
   },
   {
    "duration": 12,
    "start_time": "2021-11-07T14:47:55.637Z"
   },
   {
    "duration": 3004,
    "start_time": "2021-11-07T14:47:55.651Z"
   },
   {
    "duration": 18,
    "start_time": "2021-11-07T14:47:58.657Z"
   },
   {
    "duration": 47,
    "start_time": "2021-11-07T14:47:58.677Z"
   },
   {
    "duration": 4,
    "start_time": "2021-11-07T14:47:58.726Z"
   },
   {
    "duration": 12,
    "start_time": "2021-11-07T14:47:58.732Z"
   },
   {
    "duration": 5,
    "start_time": "2021-11-07T14:47:58.745Z"
   },
   {
    "duration": 256,
    "start_time": "2021-11-07T14:47:58.752Z"
   },
   {
    "duration": 236,
    "start_time": "2021-11-07T14:47:59.010Z"
   },
   {
    "duration": 245,
    "start_time": "2021-11-07T14:47:59.248Z"
   },
   {
    "duration": 20,
    "start_time": "2021-11-07T14:47:59.494Z"
   },
   {
    "duration": 13,
    "start_time": "2021-11-07T14:47:59.516Z"
   },
   {
    "duration": 5,
    "start_time": "2021-11-07T14:47:59.531Z"
   },
   {
    "duration": 118,
    "start_time": "2021-11-07T15:09:30.466Z"
   },
   {
    "duration": 7,
    "start_time": "2021-11-07T15:10:06.175Z"
   },
   {
    "duration": 8,
    "start_time": "2021-11-07T15:12:20.936Z"
   },
   {
    "duration": 5,
    "start_time": "2021-11-07T15:13:41.553Z"
   },
   {
    "duration": 1129,
    "start_time": "2021-11-07T15:14:00.409Z"
   },
   {
    "duration": 193,
    "start_time": "2021-11-07T15:14:01.540Z"
   },
   {
    "duration": 15,
    "start_time": "2021-11-07T15:14:01.735Z"
   },
   {
    "duration": 22,
    "start_time": "2021-11-07T15:14:01.751Z"
   },
   {
    "duration": 102,
    "start_time": "2021-11-07T15:14:01.775Z"
   },
   {
    "duration": 157,
    "start_time": "2021-11-07T15:14:01.878Z"
   },
   {
    "duration": 12,
    "start_time": "2021-11-07T15:14:02.037Z"
   },
   {
    "duration": 48,
    "start_time": "2021-11-07T15:14:02.052Z"
   },
   {
    "duration": 32,
    "start_time": "2021-11-07T15:14:02.102Z"
   },
   {
    "duration": 54,
    "start_time": "2021-11-07T15:14:02.136Z"
   },
   {
    "duration": 125,
    "start_time": "2021-11-07T15:14:02.192Z"
   },
   {
    "duration": 10,
    "start_time": "2021-11-07T15:14:02.319Z"
   },
   {
    "duration": 51,
    "start_time": "2021-11-07T15:14:02.331Z"
   },
   {
    "duration": 20,
    "start_time": "2021-11-07T15:14:02.384Z"
   },
   {
    "duration": 26,
    "start_time": "2021-11-07T15:14:02.406Z"
   },
   {
    "duration": 62,
    "start_time": "2021-11-07T15:14:02.434Z"
   },
   {
    "duration": 37,
    "start_time": "2021-11-07T15:14:02.498Z"
   },
   {
    "duration": 25,
    "start_time": "2021-11-07T15:14:02.537Z"
   },
   {
    "duration": 34,
    "start_time": "2021-11-07T15:14:02.564Z"
   },
   {
    "duration": 158,
    "start_time": "2021-11-07T15:14:02.600Z"
   },
   {
    "duration": 197,
    "start_time": "2021-11-07T15:14:02.760Z"
   },
   {
    "duration": 14,
    "start_time": "2021-11-07T15:14:02.959Z"
   },
   {
    "duration": 22,
    "start_time": "2021-11-07T15:14:02.976Z"
   },
   {
    "duration": 20,
    "start_time": "2021-11-07T15:14:03.000Z"
   },
   {
    "duration": 30,
    "start_time": "2021-11-07T15:14:03.022Z"
   },
   {
    "duration": 15,
    "start_time": "2021-11-07T15:14:03.054Z"
   },
   {
    "duration": 24,
    "start_time": "2021-11-07T15:14:03.070Z"
   },
   {
    "duration": 59,
    "start_time": "2021-11-07T15:14:03.107Z"
   },
   {
    "duration": 24,
    "start_time": "2021-11-07T15:14:03.167Z"
   },
   {
    "duration": 12,
    "start_time": "2021-11-07T15:14:03.207Z"
   },
   {
    "duration": 31,
    "start_time": "2021-11-07T15:14:03.220Z"
   },
   {
    "duration": 55,
    "start_time": "2021-11-07T15:14:03.253Z"
   },
   {
    "duration": 33,
    "start_time": "2021-11-07T15:14:03.310Z"
   },
   {
    "duration": 32,
    "start_time": "2021-11-07T15:14:03.345Z"
   },
   {
    "duration": 14,
    "start_time": "2021-11-07T15:14:03.379Z"
   },
   {
    "duration": 3017,
    "start_time": "2021-11-07T15:14:03.394Z"
   },
   {
    "duration": 16,
    "start_time": "2021-11-07T15:14:06.412Z"
   },
   {
    "duration": 38,
    "start_time": "2021-11-07T15:14:06.430Z"
   },
   {
    "duration": 5,
    "start_time": "2021-11-07T15:14:06.470Z"
   },
   {
    "duration": 31,
    "start_time": "2021-11-07T15:14:06.476Z"
   },
   {
    "duration": 6,
    "start_time": "2021-11-07T15:14:06.509Z"
   },
   {
    "duration": 252,
    "start_time": "2021-11-07T15:14:06.516Z"
   },
   {
    "duration": 224,
    "start_time": "2021-11-07T15:14:06.769Z"
   },
   {
    "duration": 233,
    "start_time": "2021-11-07T15:14:06.995Z"
   },
   {
    "duration": 10,
    "start_time": "2021-11-07T15:14:07.230Z"
   },
   {
    "duration": 23,
    "start_time": "2021-11-07T15:14:07.242Z"
   },
   {
    "duration": 17,
    "start_time": "2021-11-07T15:14:07.267Z"
   },
   {
    "duration": 31,
    "start_time": "2021-11-07T15:14:07.286Z"
   },
   {
    "duration": 10,
    "start_time": "2021-11-07T15:14:07.319Z"
   },
   {
    "duration": 422,
    "start_time": "2021-11-07T15:18:15.283Z"
   },
   {
    "duration": 337,
    "start_time": "2021-11-07T15:18:26.527Z"
   },
   {
    "duration": 6,
    "start_time": "2021-11-07T15:18:39.158Z"
   },
   {
    "duration": 5,
    "start_time": "2021-11-07T15:21:44.050Z"
   },
   {
    "duration": 5,
    "start_time": "2021-11-07T15:24:00.267Z"
   },
   {
    "duration": 5,
    "start_time": "2021-11-07T15:26:17.963Z"
   },
   {
    "duration": 1530,
    "start_time": "2021-11-07T16:06:22.841Z"
   },
   {
    "duration": 297,
    "start_time": "2021-11-07T16:06:24.374Z"
   },
   {
    "duration": 34,
    "start_time": "2021-11-07T16:06:24.674Z"
   },
   {
    "duration": 5,
    "start_time": "2021-11-07T16:06:24.711Z"
   },
   {
    "duration": 147,
    "start_time": "2021-11-07T16:06:24.719Z"
   },
   {
    "duration": 168,
    "start_time": "2021-11-07T16:06:24.868Z"
   },
   {
    "duration": 13,
    "start_time": "2021-11-07T16:06:25.038Z"
   },
   {
    "duration": 13,
    "start_time": "2021-11-07T16:06:25.054Z"
   },
   {
    "duration": 24,
    "start_time": "2021-11-07T16:06:25.069Z"
   },
   {
    "duration": 44,
    "start_time": "2021-11-07T16:06:25.095Z"
   },
   {
    "duration": 118,
    "start_time": "2021-11-07T16:06:25.141Z"
   },
   {
    "duration": 12,
    "start_time": "2021-11-07T16:06:25.261Z"
   },
   {
    "duration": 60,
    "start_time": "2021-11-07T16:06:25.275Z"
   },
   {
    "duration": 22,
    "start_time": "2021-11-07T16:06:25.337Z"
   },
   {
    "duration": 26,
    "start_time": "2021-11-07T16:06:25.361Z"
   },
   {
    "duration": 99,
    "start_time": "2021-11-07T16:06:25.390Z"
   },
   {
    "duration": 15,
    "start_time": "2021-11-07T16:06:25.492Z"
   },
   {
    "duration": 24,
    "start_time": "2021-11-07T16:06:25.510Z"
   },
   {
    "duration": 26,
    "start_time": "2021-11-07T16:06:25.537Z"
   },
   {
    "duration": 267,
    "start_time": "2021-11-07T16:06:25.566Z"
   },
   {
    "duration": 265,
    "start_time": "2021-11-07T16:06:25.835Z"
   },
   {
    "duration": 15,
    "start_time": "2021-11-07T16:06:26.106Z"
   },
   {
    "duration": 16,
    "start_time": "2021-11-07T16:06:26.128Z"
   },
   {
    "duration": 18,
    "start_time": "2021-11-07T16:06:26.146Z"
   },
   {
    "duration": 52,
    "start_time": "2021-11-07T16:06:26.166Z"
   },
   {
    "duration": 16,
    "start_time": "2021-11-07T16:06:26.220Z"
   },
   {
    "duration": 19,
    "start_time": "2021-11-07T16:06:26.238Z"
   },
   {
    "duration": 85,
    "start_time": "2021-11-07T16:06:26.259Z"
   },
   {
    "duration": 28,
    "start_time": "2021-11-07T16:06:26.346Z"
   },
   {
    "duration": 32,
    "start_time": "2021-11-07T16:06:26.376Z"
   },
   {
    "duration": 20,
    "start_time": "2021-11-07T16:06:26.410Z"
   },
   {
    "duration": 22,
    "start_time": "2021-11-07T16:06:26.432Z"
   },
   {
    "duration": 18,
    "start_time": "2021-11-07T16:06:26.455Z"
   },
   {
    "duration": 36,
    "start_time": "2021-11-07T16:06:26.474Z"
   },
   {
    "duration": 7,
    "start_time": "2021-11-07T16:06:26.512Z"
   },
   {
    "duration": 3195,
    "start_time": "2021-11-07T16:06:26.521Z"
   },
   {
    "duration": 18,
    "start_time": "2021-11-07T16:06:29.719Z"
   },
   {
    "duration": 31,
    "start_time": "2021-11-07T16:06:29.739Z"
   },
   {
    "duration": 4,
    "start_time": "2021-11-07T16:06:29.772Z"
   },
   {
    "duration": 35,
    "start_time": "2021-11-07T16:06:29.778Z"
   },
   {
    "duration": 6,
    "start_time": "2021-11-07T16:06:29.815Z"
   },
   {
    "duration": 421,
    "start_time": "2021-11-07T16:06:29.823Z"
   },
   {
    "duration": 396,
    "start_time": "2021-11-07T16:06:30.246Z"
   },
   {
    "duration": 400,
    "start_time": "2021-11-07T16:06:30.644Z"
   },
   {
    "duration": 16,
    "start_time": "2021-11-07T16:06:31.046Z"
   },
   {
    "duration": 23,
    "start_time": "2021-11-07T16:06:31.064Z"
   },
   {
    "duration": 26,
    "start_time": "2021-11-07T16:06:31.089Z"
   },
   {
    "duration": 32,
    "start_time": "2021-11-07T16:06:31.118Z"
   },
   {
    "duration": 24,
    "start_time": "2021-11-07T16:06:31.153Z"
   },
   {
    "duration": 20,
    "start_time": "2021-11-07T16:06:31.180Z"
   },
   {
    "duration": 27,
    "start_time": "2021-11-07T16:06:31.202Z"
   },
   {
    "duration": 1392,
    "start_time": "2021-11-07T16:22:08.109Z"
   },
   {
    "duration": 247,
    "start_time": "2021-11-07T16:22:09.504Z"
   },
   {
    "duration": 20,
    "start_time": "2021-11-07T16:22:09.755Z"
   },
   {
    "duration": 5,
    "start_time": "2021-11-07T16:22:09.777Z"
   },
   {
    "duration": 139,
    "start_time": "2021-11-07T16:22:09.784Z"
   },
   {
    "duration": 200,
    "start_time": "2021-11-07T16:22:09.929Z"
   },
   {
    "duration": 17,
    "start_time": "2021-11-07T16:22:10.131Z"
   },
   {
    "duration": 4,
    "start_time": "2021-11-07T16:22:10.151Z"
   },
   {
    "duration": 16,
    "start_time": "2021-11-07T16:22:10.159Z"
   },
   {
    "duration": 87,
    "start_time": "2021-11-07T16:22:10.179Z"
   },
   {
    "duration": 137,
    "start_time": "2021-11-07T16:22:10.269Z"
   },
   {
    "duration": 22,
    "start_time": "2021-11-07T16:22:10.409Z"
   },
   {
    "duration": 51,
    "start_time": "2021-11-07T16:22:10.433Z"
   },
   {
    "duration": 42,
    "start_time": "2021-11-07T16:22:10.487Z"
   },
   {
    "duration": 10,
    "start_time": "2021-11-07T16:22:10.531Z"
   },
   {
    "duration": 45,
    "start_time": "2021-11-07T16:22:10.543Z"
   },
   {
    "duration": 10,
    "start_time": "2021-11-07T16:22:10.591Z"
   },
   {
    "duration": 29,
    "start_time": "2021-11-07T16:22:10.604Z"
   },
   {
    "duration": 19,
    "start_time": "2021-11-07T16:22:10.636Z"
   },
   {
    "duration": 272,
    "start_time": "2021-11-07T16:22:10.659Z"
   },
   {
    "duration": 323,
    "start_time": "2021-11-07T16:22:10.933Z"
   },
   {
    "duration": 14,
    "start_time": "2021-11-07T16:22:11.259Z"
   },
   {
    "duration": 16,
    "start_time": "2021-11-07T16:22:11.276Z"
   },
   {
    "duration": 48,
    "start_time": "2021-11-07T16:22:11.294Z"
   },
   {
    "duration": 31,
    "start_time": "2021-11-07T16:22:11.344Z"
   },
   {
    "duration": 22,
    "start_time": "2021-11-07T16:22:11.378Z"
   },
   {
    "duration": 25,
    "start_time": "2021-11-07T16:22:11.431Z"
   },
   {
    "duration": 89,
    "start_time": "2021-11-07T16:22:11.459Z"
   },
   {
    "duration": 39,
    "start_time": "2021-11-07T16:22:11.551Z"
   },
   {
    "duration": 16,
    "start_time": "2021-11-07T16:22:11.593Z"
   },
   {
    "duration": 20,
    "start_time": "2021-11-07T16:22:11.630Z"
   },
   {
    "duration": 28,
    "start_time": "2021-11-07T16:22:11.652Z"
   },
   {
    "duration": 60,
    "start_time": "2021-11-07T16:22:11.683Z"
   },
   {
    "duration": 12,
    "start_time": "2021-11-07T16:22:11.746Z"
   },
   {
    "duration": 8,
    "start_time": "2021-11-07T16:22:11.760Z"
   },
   {
    "duration": 5017,
    "start_time": "2021-11-07T16:22:11.770Z"
   },
   {
    "duration": 41,
    "start_time": "2021-11-07T16:22:16.789Z"
   },
   {
    "duration": 51,
    "start_time": "2021-11-07T16:22:16.833Z"
   },
   {
    "duration": 8,
    "start_time": "2021-11-07T16:22:16.886Z"
   },
   {
    "duration": 35,
    "start_time": "2021-11-07T16:22:16.896Z"
   },
   {
    "duration": 18,
    "start_time": "2021-11-07T16:22:16.933Z"
   },
   {
    "duration": 380,
    "start_time": "2021-11-07T16:22:16.953Z"
   },
   {
    "duration": 370,
    "start_time": "2021-11-07T16:22:17.335Z"
   },
   {
    "duration": 371,
    "start_time": "2021-11-07T16:22:17.707Z"
   },
   {
    "duration": 20,
    "start_time": "2021-11-07T16:22:18.083Z"
   },
   {
    "duration": 30,
    "start_time": "2021-11-07T16:22:18.106Z"
   },
   {
    "duration": 21,
    "start_time": "2021-11-07T16:22:18.139Z"
   },
   {
    "duration": 38,
    "start_time": "2021-11-07T16:22:18.163Z"
   },
   {
    "duration": 20,
    "start_time": "2021-11-07T16:22:18.203Z"
   },
   {
    "duration": 27,
    "start_time": "2021-11-07T16:22:18.226Z"
   },
   {
    "duration": 31,
    "start_time": "2021-11-07T16:22:18.255Z"
   },
   {
    "duration": 11,
    "start_time": "2021-11-07T17:16:36.934Z"
   },
   {
    "duration": 7,
    "start_time": "2021-11-07T17:22:42.608Z"
   },
   {
    "duration": 5,
    "start_time": "2021-11-07T17:22:47.117Z"
   },
   {
    "duration": 306,
    "start_time": "2021-11-08T16:05:28.633Z"
   },
   {
    "duration": 1043,
    "start_time": "2021-11-08T16:05:35.781Z"
   },
   {
    "duration": 178,
    "start_time": "2021-11-08T16:05:36.826Z"
   },
   {
    "duration": 14,
    "start_time": "2021-11-08T16:05:37.006Z"
   },
   {
    "duration": 3,
    "start_time": "2021-11-08T16:05:37.022Z"
   },
   {
    "duration": 99,
    "start_time": "2021-11-08T16:05:37.027Z"
   },
   {
    "duration": 149,
    "start_time": "2021-11-08T16:05:37.128Z"
   },
   {
    "duration": 12,
    "start_time": "2021-11-08T16:05:37.279Z"
   },
   {
    "duration": 4,
    "start_time": "2021-11-08T16:05:37.293Z"
   },
   {
    "duration": 13,
    "start_time": "2021-11-08T16:05:37.299Z"
   },
   {
    "duration": 56,
    "start_time": "2021-11-08T16:05:37.314Z"
   },
   {
    "duration": 155,
    "start_time": "2021-11-08T16:05:37.373Z"
   },
   {
    "duration": 22,
    "start_time": "2021-11-08T16:05:37.530Z"
   },
   {
    "duration": 56,
    "start_time": "2021-11-08T16:05:37.554Z"
   },
   {
    "duration": 33,
    "start_time": "2021-11-08T16:05:37.612Z"
   },
   {
    "duration": 8,
    "start_time": "2021-11-08T16:05:37.648Z"
   },
   {
    "duration": 43,
    "start_time": "2021-11-08T16:05:37.659Z"
   },
   {
    "duration": 6,
    "start_time": "2021-11-08T16:05:37.704Z"
   },
   {
    "duration": 10,
    "start_time": "2021-11-08T16:05:37.712Z"
   },
   {
    "duration": 22,
    "start_time": "2021-11-08T16:05:37.724Z"
   },
   {
    "duration": 158,
    "start_time": "2021-11-08T16:05:37.748Z"
   },
   {
    "duration": 213,
    "start_time": "2021-11-08T16:05:37.908Z"
   },
   {
    "duration": 15,
    "start_time": "2021-11-08T16:05:38.123Z"
   },
   {
    "duration": 15,
    "start_time": "2021-11-08T16:05:38.147Z"
   },
   {
    "duration": 17,
    "start_time": "2021-11-08T16:05:38.164Z"
   },
   {
    "duration": 23,
    "start_time": "2021-11-08T16:05:38.183Z"
   },
   {
    "duration": 41,
    "start_time": "2021-11-08T16:05:38.208Z"
   },
   {
    "duration": 18,
    "start_time": "2021-11-08T16:05:38.251Z"
   },
   {
    "duration": 73,
    "start_time": "2021-11-08T16:05:38.271Z"
   },
   {
    "duration": 29,
    "start_time": "2021-11-08T16:05:38.346Z"
   },
   {
    "duration": 12,
    "start_time": "2021-11-08T16:05:38.377Z"
   },
   {
    "duration": 17,
    "start_time": "2021-11-08T16:05:38.391Z"
   },
   {
    "duration": 43,
    "start_time": "2021-11-08T16:05:38.410Z"
   },
   {
    "duration": 16,
    "start_time": "2021-11-08T16:05:38.455Z"
   },
   {
    "duration": 6,
    "start_time": "2021-11-08T16:05:38.473Z"
   },
   {
    "duration": 13,
    "start_time": "2021-11-08T16:05:38.481Z"
   },
   {
    "duration": 5,
    "start_time": "2021-11-08T16:05:38.496Z"
   },
   {
    "duration": 3054,
    "start_time": "2021-11-08T16:05:38.502Z"
   },
   {
    "duration": 17,
    "start_time": "2021-11-08T16:05:41.557Z"
   },
   {
    "duration": 29,
    "start_time": "2021-11-08T16:05:41.576Z"
   },
   {
    "duration": 5,
    "start_time": "2021-11-08T16:05:41.607Z"
   },
   {
    "duration": 32,
    "start_time": "2021-11-08T16:05:41.614Z"
   },
   {
    "duration": 4,
    "start_time": "2021-11-08T16:05:41.648Z"
   },
   {
    "duration": 243,
    "start_time": "2021-11-08T16:05:41.654Z"
   },
   {
    "duration": 225,
    "start_time": "2021-11-08T16:05:41.899Z"
   },
   {
    "duration": 237,
    "start_time": "2021-11-08T16:05:42.126Z"
   },
   {
    "duration": 11,
    "start_time": "2021-11-08T16:05:42.365Z"
   },
   {
    "duration": 17,
    "start_time": "2021-11-08T16:05:42.377Z"
   },
   {
    "duration": 14,
    "start_time": "2021-11-08T16:05:42.396Z"
   },
   {
    "duration": 16,
    "start_time": "2021-11-08T16:05:42.412Z"
   },
   {
    "duration": 20,
    "start_time": "2021-11-08T16:05:42.430Z"
   },
   {
    "duration": 28,
    "start_time": "2021-11-08T16:05:42.451Z"
   },
   {
    "duration": 7,
    "start_time": "2021-11-08T16:05:42.481Z"
   },
   {
    "duration": 11,
    "start_time": "2021-11-08T16:05:42.490Z"
   },
   {
    "duration": 6,
    "start_time": "2021-11-08T16:11:10.060Z"
   },
   {
    "duration": 3276,
    "start_time": "2021-11-08T16:33:28.135Z"
   },
   {
    "duration": 17,
    "start_time": "2021-11-08T16:33:34.847Z"
   },
   {
    "duration": 29,
    "start_time": "2021-11-08T16:33:56.494Z"
   },
   {
    "duration": 1096,
    "start_time": "2021-11-08T16:34:35.815Z"
   },
   {
    "duration": 172,
    "start_time": "2021-11-08T16:34:36.913Z"
   },
   {
    "duration": 16,
    "start_time": "2021-11-08T16:34:37.087Z"
   },
   {
    "duration": 17,
    "start_time": "2021-11-08T16:34:37.105Z"
   },
   {
    "duration": 109,
    "start_time": "2021-11-08T16:34:37.123Z"
   },
   {
    "duration": 141,
    "start_time": "2021-11-08T16:34:37.234Z"
   },
   {
    "duration": 13,
    "start_time": "2021-11-08T16:34:37.376Z"
   },
   {
    "duration": 4,
    "start_time": "2021-11-08T16:34:37.391Z"
   },
   {
    "duration": 20,
    "start_time": "2021-11-08T16:34:37.397Z"
   },
   {
    "duration": 50,
    "start_time": "2021-11-08T16:34:37.419Z"
   },
   {
    "duration": 104,
    "start_time": "2021-11-08T16:34:37.471Z"
   },
   {
    "duration": 11,
    "start_time": "2021-11-08T16:34:37.576Z"
   },
   {
    "duration": 37,
    "start_time": "2021-11-08T16:34:37.588Z"
   },
   {
    "duration": 24,
    "start_time": "2021-11-08T16:34:37.626Z"
   },
   {
    "duration": 15,
    "start_time": "2021-11-08T16:34:37.652Z"
   },
   {
    "duration": 45,
    "start_time": "2021-11-08T16:34:37.668Z"
   },
   {
    "duration": 6,
    "start_time": "2021-11-08T16:34:37.714Z"
   },
   {
    "duration": 8,
    "start_time": "2021-11-08T16:34:37.722Z"
   },
   {
    "duration": 13,
    "start_time": "2021-11-08T16:34:37.732Z"
   },
   {
    "duration": 146,
    "start_time": "2021-11-08T16:34:37.747Z"
   },
   {
    "duration": 192,
    "start_time": "2021-11-08T16:34:37.894Z"
   },
   {
    "duration": 13,
    "start_time": "2021-11-08T16:34:38.088Z"
   },
   {
    "duration": 12,
    "start_time": "2021-11-08T16:34:38.105Z"
   },
   {
    "duration": 31,
    "start_time": "2021-11-08T16:34:38.119Z"
   },
   {
    "duration": 21,
    "start_time": "2021-11-08T16:34:38.152Z"
   },
   {
    "duration": 15,
    "start_time": "2021-11-08T16:34:38.174Z"
   },
   {
    "duration": 17,
    "start_time": "2021-11-08T16:34:38.190Z"
   },
   {
    "duration": 71,
    "start_time": "2021-11-08T16:34:38.209Z"
   },
   {
    "duration": 25,
    "start_time": "2021-11-08T16:34:38.282Z"
   },
   {
    "duration": 11,
    "start_time": "2021-11-08T16:34:38.309Z"
   },
   {
    "duration": 33,
    "start_time": "2021-11-08T16:34:38.322Z"
   },
   {
    "duration": 17,
    "start_time": "2021-11-08T16:34:38.357Z"
   },
   {
    "duration": 15,
    "start_time": "2021-11-08T16:34:38.376Z"
   },
   {
    "duration": 4,
    "start_time": "2021-11-08T16:34:38.393Z"
   },
   {
    "duration": 9,
    "start_time": "2021-11-08T16:34:38.398Z"
   },
   {
    "duration": 5,
    "start_time": "2021-11-08T16:34:38.408Z"
   },
   {
    "duration": 3019,
    "start_time": "2021-11-08T16:34:38.414Z"
   },
   {
    "duration": 16,
    "start_time": "2021-11-08T16:34:41.434Z"
   },
   {
    "duration": 28,
    "start_time": "2021-11-08T16:34:41.451Z"
   },
   {
    "duration": 4,
    "start_time": "2021-11-08T16:34:41.481Z"
   },
   {
    "duration": 14,
    "start_time": "2021-11-08T16:34:41.486Z"
   },
   {
    "duration": 8,
    "start_time": "2021-11-08T16:34:41.501Z"
   },
   {
    "duration": 225,
    "start_time": "2021-11-08T16:34:41.510Z"
   },
   {
    "duration": 210,
    "start_time": "2021-11-08T16:34:41.736Z"
   },
   {
    "duration": 208,
    "start_time": "2021-11-08T16:34:41.947Z"
   },
   {
    "duration": 9,
    "start_time": "2021-11-08T16:34:42.157Z"
   },
   {
    "duration": 10,
    "start_time": "2021-11-08T16:34:42.167Z"
   },
   {
    "duration": 9,
    "start_time": "2021-11-08T16:34:42.178Z"
   },
   {
    "duration": 6,
    "start_time": "2021-11-08T16:34:42.188Z"
   },
   {
    "duration": 18,
    "start_time": "2021-11-08T16:34:42.196Z"
   },
   {
    "duration": 7,
    "start_time": "2021-11-08T16:34:42.216Z"
   },
   {
    "duration": 5,
    "start_time": "2021-11-08T16:34:42.224Z"
   },
   {
    "duration": 16,
    "start_time": "2021-11-08T16:34:42.230Z"
   },
   {
    "duration": 7,
    "start_time": "2021-11-08T16:36:23.289Z"
   },
   {
    "duration": 24,
    "start_time": "2021-11-08T17:39:01.146Z"
   },
   {
    "duration": 8,
    "start_time": "2021-11-08T17:39:27.371Z"
   },
   {
    "duration": 8,
    "start_time": "2021-11-08T17:39:49.557Z"
   },
   {
    "duration": 7,
    "start_time": "2021-11-08T17:40:54.469Z"
   },
   {
    "duration": 7,
    "start_time": "2021-11-08T17:41:02.424Z"
   },
   {
    "duration": 1059,
    "start_time": "2021-11-08T18:04:52.565Z"
   },
   {
    "duration": 178,
    "start_time": "2021-11-08T18:04:53.626Z"
   },
   {
    "duration": 15,
    "start_time": "2021-11-08T18:04:53.807Z"
   },
   {
    "duration": 20,
    "start_time": "2021-11-08T18:04:53.824Z"
   },
   {
    "duration": 73,
    "start_time": "2021-11-08T18:04:53.846Z"
   },
   {
    "duration": 146,
    "start_time": "2021-11-08T18:04:53.921Z"
   },
   {
    "duration": 13,
    "start_time": "2021-11-08T18:04:54.069Z"
   },
   {
    "duration": 4,
    "start_time": "2021-11-08T18:04:54.085Z"
   },
   {
    "duration": 19,
    "start_time": "2021-11-08T18:04:54.091Z"
   },
   {
    "duration": 53,
    "start_time": "2021-11-08T18:04:54.111Z"
   },
   {
    "duration": 97,
    "start_time": "2021-11-08T18:04:54.166Z"
   },
   {
    "duration": 11,
    "start_time": "2021-11-08T18:04:54.265Z"
   },
   {
    "duration": 41,
    "start_time": "2021-11-08T18:04:54.278Z"
   },
   {
    "duration": 24,
    "start_time": "2021-11-08T18:04:54.321Z"
   },
   {
    "duration": 17,
    "start_time": "2021-11-08T18:04:54.347Z"
   },
   {
    "duration": 44,
    "start_time": "2021-11-08T18:04:54.366Z"
   },
   {
    "duration": 14,
    "start_time": "2021-11-08T18:04:54.412Z"
   },
   {
    "duration": 17,
    "start_time": "2021-11-08T18:04:54.428Z"
   },
   {
    "duration": 31,
    "start_time": "2021-11-08T18:04:54.447Z"
   },
   {
    "duration": 190,
    "start_time": "2021-11-08T18:04:54.480Z"
   },
   {
    "duration": 250,
    "start_time": "2021-11-08T18:04:54.672Z"
   },
   {
    "duration": 21,
    "start_time": "2021-11-08T18:04:54.924Z"
   },
   {
    "duration": 20,
    "start_time": "2021-11-08T18:04:54.949Z"
   },
   {
    "duration": 15,
    "start_time": "2021-11-08T18:04:54.971Z"
   },
   {
    "duration": 31,
    "start_time": "2021-11-08T18:04:54.988Z"
   },
   {
    "duration": 27,
    "start_time": "2021-11-08T18:04:55.021Z"
   },
   {
    "duration": 17,
    "start_time": "2021-11-08T18:04:55.050Z"
   },
   {
    "duration": 55,
    "start_time": "2021-11-08T18:04:55.069Z"
   },
   {
    "duration": 37,
    "start_time": "2021-11-08T18:04:55.125Z"
   },
   {
    "duration": 11,
    "start_time": "2021-11-08T18:04:55.163Z"
   },
   {
    "duration": 20,
    "start_time": "2021-11-08T18:04:55.175Z"
   },
   {
    "duration": 16,
    "start_time": "2021-11-08T18:04:55.198Z"
   },
   {
    "duration": 39,
    "start_time": "2021-11-08T18:04:55.216Z"
   },
   {
    "duration": 13,
    "start_time": "2021-11-08T18:04:55.257Z"
   },
   {
    "duration": 25,
    "start_time": "2021-11-08T18:04:55.271Z"
   },
   {
    "duration": 13,
    "start_time": "2021-11-08T18:04:55.298Z"
   },
   {
    "duration": 16,
    "start_time": "2021-11-08T18:04:55.312Z"
   },
   {
    "duration": 5,
    "start_time": "2021-11-08T18:04:55.330Z"
   },
   {
    "duration": 2791,
    "start_time": "2021-11-08T18:04:55.337Z"
   },
   {
    "duration": 24,
    "start_time": "2021-11-08T18:04:58.129Z"
   },
   {
    "duration": 29,
    "start_time": "2021-11-08T18:04:58.155Z"
   },
   {
    "duration": 5,
    "start_time": "2021-11-08T18:04:58.186Z"
   },
   {
    "duration": 19,
    "start_time": "2021-11-08T18:04:58.192Z"
   },
   {
    "duration": 4,
    "start_time": "2021-11-08T18:04:58.213Z"
   },
   {
    "duration": 230,
    "start_time": "2021-11-08T18:04:58.219Z"
   },
   {
    "duration": 206,
    "start_time": "2021-11-08T18:04:58.451Z"
   },
   {
    "duration": 212,
    "start_time": "2021-11-08T18:04:58.659Z"
   },
   {
    "duration": 10,
    "start_time": "2021-11-08T18:04:58.873Z"
   },
   {
    "duration": 8,
    "start_time": "2021-11-08T18:04:58.885Z"
   },
   {
    "duration": 4,
    "start_time": "2021-11-08T18:04:58.895Z"
   },
   {
    "duration": 11,
    "start_time": "2021-11-08T18:04:58.901Z"
   },
   {
    "duration": 8,
    "start_time": "2021-11-08T18:04:58.914Z"
   },
   {
    "duration": 23,
    "start_time": "2021-11-08T18:04:58.924Z"
   },
   {
    "duration": 5,
    "start_time": "2021-11-08T18:04:58.949Z"
   },
   {
    "duration": 6,
    "start_time": "2021-11-08T18:04:58.956Z"
   }
  ],
  "kernelspec": {
   "display_name": "Python 3 (ipykernel)",
   "language": "python",
   "name": "python3"
  },
  "language_info": {
   "codemirror_mode": {
    "name": "ipython",
    "version": 3
   },
   "file_extension": ".py",
   "mimetype": "text/x-python",
   "name": "python",
   "nbconvert_exporter": "python",
   "pygments_lexer": "ipython3",
   "version": "3.9.12"
  },
  "toc": {
   "base_numbering": 1,
   "nav_menu": {},
   "number_sections": true,
   "sideBar": true,
   "skip_h1_title": true,
   "title_cell": "Table of Contents",
   "title_sidebar": "Contents",
   "toc_cell": false,
   "toc_position": {},
   "toc_section_display": true,
   "toc_window_display": false
  }
 },
 "nbformat": 4,
 "nbformat_minor": 2
}
