{
 "cells": [
  {
   "cell_type": "markdown",
   "metadata": {},
   "source": [
    "# Рынок заведений общественного питания Москвы"
   ]
  },
  {
   "cell_type": "markdown",
   "metadata": {},
   "source": [
    "## Импорт библиотек "
   ]
  },
  {
   "cell_type": "code",
   "execution_count": 1,
   "metadata": {},
   "outputs": [],
   "source": [
    "import pandas as pd\n",
    "from scipy import stats as st\n",
    "import numpy as np\n",
    "import math as mth\n",
    "from matplotlib import pyplot as plt\n",
    "import datetime as dt\n",
    "import seaborn as sns\n",
    "import plotly.express as px "
   ]
  },
  {
   "cell_type": "markdown",
   "metadata": {},
   "source": [
    "## Открытие и предобработка данных "
   ]
  },
  {
   "cell_type": "code",
   "execution_count": 2,
   "metadata": {},
   "outputs": [],
   "source": [
    "rest_data = pd.read_csv('/datasets/rest_data.csv')"
   ]
  },
  {
   "cell_type": "code",
   "execution_count": 3,
   "metadata": {},
   "outputs": [
    {
     "data": {
      "text/html": [
       "<div>\n",
       "<style scoped>\n",
       "    .dataframe tbody tr th:only-of-type {\n",
       "        vertical-align: middle;\n",
       "    }\n",
       "\n",
       "    .dataframe tbody tr th {\n",
       "        vertical-align: top;\n",
       "    }\n",
       "\n",
       "    .dataframe thead th {\n",
       "        text-align: right;\n",
       "    }\n",
       "</style>\n",
       "<table border=\"1\" class=\"dataframe\">\n",
       "  <thead>\n",
       "    <tr style=\"text-align: right;\">\n",
       "      <th></th>\n",
       "      <th>id</th>\n",
       "      <th>object_name</th>\n",
       "      <th>chain</th>\n",
       "      <th>object_type</th>\n",
       "      <th>address</th>\n",
       "      <th>number</th>\n",
       "    </tr>\n",
       "  </thead>\n",
       "  <tbody>\n",
       "    <tr>\n",
       "      <th>0</th>\n",
       "      <td>151635</td>\n",
       "      <td>СМЕТАНА</td>\n",
       "      <td>нет</td>\n",
       "      <td>кафе</td>\n",
       "      <td>город Москва, улица Егора Абакумова, дом 9</td>\n",
       "      <td>48</td>\n",
       "    </tr>\n",
       "    <tr>\n",
       "      <th>1</th>\n",
       "      <td>77874</td>\n",
       "      <td>Родник</td>\n",
       "      <td>нет</td>\n",
       "      <td>кафе</td>\n",
       "      <td>город Москва, улица Талалихина, дом 2/1, корпус 1</td>\n",
       "      <td>35</td>\n",
       "    </tr>\n",
       "    <tr>\n",
       "      <th>2</th>\n",
       "      <td>24309</td>\n",
       "      <td>Кафе «Академия»</td>\n",
       "      <td>нет</td>\n",
       "      <td>кафе</td>\n",
       "      <td>город Москва, Абельмановская улица, дом 6</td>\n",
       "      <td>95</td>\n",
       "    </tr>\n",
       "    <tr>\n",
       "      <th>3</th>\n",
       "      <td>21894</td>\n",
       "      <td>ПИЦЦЕТОРИЯ</td>\n",
       "      <td>да</td>\n",
       "      <td>кафе</td>\n",
       "      <td>город Москва, Абрамцевская улица, дом 1</td>\n",
       "      <td>40</td>\n",
       "    </tr>\n",
       "    <tr>\n",
       "      <th>4</th>\n",
       "      <td>119365</td>\n",
       "      <td>Кафе «Вишневая метель»</td>\n",
       "      <td>нет</td>\n",
       "      <td>кафе</td>\n",
       "      <td>город Москва, Абрамцевская улица, дом 9, корпус 1</td>\n",
       "      <td>50</td>\n",
       "    </tr>\n",
       "  </tbody>\n",
       "</table>\n",
       "</div>"
      ],
      "text/plain": [
       "       id             object_name chain object_type  \\\n",
       "0  151635                 СМЕТАНА   нет        кафе   \n",
       "1   77874                  Родник   нет        кафе   \n",
       "2   24309         Кафе «Академия»   нет        кафе   \n",
       "3   21894              ПИЦЦЕТОРИЯ    да        кафе   \n",
       "4  119365  Кафе «Вишневая метель»   нет        кафе   \n",
       "\n",
       "                                             address  number  \n",
       "0         город Москва, улица Егора Абакумова, дом 9      48  \n",
       "1  город Москва, улица Талалихина, дом 2/1, корпус 1      35  \n",
       "2          город Москва, Абельмановская улица, дом 6      95  \n",
       "3            город Москва, Абрамцевская улица, дом 1      40  \n",
       "4  город Москва, Абрамцевская улица, дом 9, корпус 1      50  "
      ]
     },
     "execution_count": 3,
     "metadata": {},
     "output_type": "execute_result"
    }
   ],
   "source": [
    "rest_data.head()"
   ]
  },
  {
   "cell_type": "code",
   "execution_count": 4,
   "metadata": {},
   "outputs": [
    {
     "name": "stdout",
     "output_type": "stream",
     "text": [
      "<class 'pandas.core.frame.DataFrame'>\n",
      "RangeIndex: 15366 entries, 0 to 15365\n",
      "Data columns (total 6 columns):\n",
      " #   Column       Non-Null Count  Dtype \n",
      "---  ------       --------------  ----- \n",
      " 0   id           15366 non-null  int64 \n",
      " 1   object_name  15366 non-null  object\n",
      " 2   chain        15366 non-null  object\n",
      " 3   object_type  15366 non-null  object\n",
      " 4   address      15366 non-null  object\n",
      " 5   number       15366 non-null  int64 \n",
      "dtypes: int64(2), object(4)\n",
      "memory usage: 720.4+ KB\n"
     ]
    }
   ],
   "source": [
    "rest_data.info()"
   ]
  },
  {
   "cell_type": "markdown",
   "metadata": {},
   "source": [
    "Пропуски в таблице отсутствуют, все данные, кроме столбца chain, приведены к нужным типам. Теперь проверим, есть ли в данных поблемы с наименованиями ресторанов, их типов и принадлежности к сети. Тип столбца chain изменим на булевый. "
   ]
  },
  {
   "cell_type": "code",
   "execution_count": 5,
   "metadata": {},
   "outputs": [
    {
     "name": "stdout",
     "output_type": "stream",
     "text": [
      "['кафе' 'столовая' 'закусочная' 'предприятие быстрого обслуживания'\n",
      " 'ресторан' 'кафетерий' 'буфет' 'бар' 'магазин (отдел кулинарии)']\n"
     ]
    }
   ],
   "source": [
    "print(rest_data['object_type'].unique())"
   ]
  },
  {
   "cell_type": "markdown",
   "metadata": {},
   "source": [
    "Типы объектов общественного питания указаны верно, не дублируются из-за лишних пробелов или использования верхнего регистра."
   ]
  },
  {
   "cell_type": "code",
   "execution_count": 6,
   "metadata": {
    "scrolled": true
   },
   "outputs": [
    {
     "name": "stdout",
     "output_type": "stream",
     "text": [
      "['нет' 'да']\n"
     ]
    }
   ],
   "source": [
    "print(rest_data['chain'].unique())"
   ]
  },
  {
   "cell_type": "markdown",
   "metadata": {},
   "source": [
    "Здесь также нет ошибок: встречается только два значения, которые мы заменим на соответствующие им булевы значения. "
   ]
  },
  {
   "cell_type": "code",
   "execution_count": 7,
   "metadata": {},
   "outputs": [],
   "source": [
    "rest_data['chain'] = np.where(rest_data['chain'] == 'да', True, False)"
   ]
  },
  {
   "cell_type": "code",
   "execution_count": 8,
   "metadata": {
    "scrolled": true
   },
   "outputs": [
    {
     "name": "stdout",
     "output_type": "stream",
     "text": [
      "<class 'pandas.core.frame.DataFrame'>\n",
      "RangeIndex: 15366 entries, 0 to 15365\n",
      "Data columns (total 6 columns):\n",
      " #   Column       Non-Null Count  Dtype \n",
      "---  ------       --------------  ----- \n",
      " 0   id           15366 non-null  int64 \n",
      " 1   object_name  15366 non-null  object\n",
      " 2   chain        15366 non-null  bool  \n",
      " 3   object_type  15366 non-null  object\n",
      " 4   address      15366 non-null  object\n",
      " 5   number       15366 non-null  int64 \n",
      "dtypes: bool(1), int64(2), object(3)\n",
      "memory usage: 615.4+ KB\n"
     ]
    }
   ],
   "source": [
    "rest_data.info()"
   ]
  },
  {
   "cell_type": "code",
   "execution_count": 9,
   "metadata": {},
   "outputs": [
    {
     "data": {
      "text/html": [
       "<div>\n",
       "<style scoped>\n",
       "    .dataframe tbody tr th:only-of-type {\n",
       "        vertical-align: middle;\n",
       "    }\n",
       "\n",
       "    .dataframe tbody tr th {\n",
       "        vertical-align: top;\n",
       "    }\n",
       "\n",
       "    .dataframe thead th {\n",
       "        text-align: right;\n",
       "    }\n",
       "</style>\n",
       "<table border=\"1\" class=\"dataframe\">\n",
       "  <thead>\n",
       "    <tr style=\"text-align: right;\">\n",
       "      <th></th>\n",
       "      <th>id</th>\n",
       "      <th>object_name</th>\n",
       "      <th>chain</th>\n",
       "      <th>object_type</th>\n",
       "      <th>address</th>\n",
       "      <th>number</th>\n",
       "    </tr>\n",
       "  </thead>\n",
       "  <tbody>\n",
       "    <tr>\n",
       "      <th>0</th>\n",
       "      <td>151635</td>\n",
       "      <td>СМЕТАНА</td>\n",
       "      <td>False</td>\n",
       "      <td>кафе</td>\n",
       "      <td>город Москва, улица Егора Абакумова, дом 9</td>\n",
       "      <td>48</td>\n",
       "    </tr>\n",
       "    <tr>\n",
       "      <th>1</th>\n",
       "      <td>77874</td>\n",
       "      <td>Родник</td>\n",
       "      <td>False</td>\n",
       "      <td>кафе</td>\n",
       "      <td>город Москва, улица Талалихина, дом 2/1, корпус 1</td>\n",
       "      <td>35</td>\n",
       "    </tr>\n",
       "    <tr>\n",
       "      <th>2</th>\n",
       "      <td>24309</td>\n",
       "      <td>Кафе «Академия»</td>\n",
       "      <td>False</td>\n",
       "      <td>кафе</td>\n",
       "      <td>город Москва, Абельмановская улица, дом 6</td>\n",
       "      <td>95</td>\n",
       "    </tr>\n",
       "    <tr>\n",
       "      <th>3</th>\n",
       "      <td>21894</td>\n",
       "      <td>ПИЦЦЕТОРИЯ</td>\n",
       "      <td>True</td>\n",
       "      <td>кафе</td>\n",
       "      <td>город Москва, Абрамцевская улица, дом 1</td>\n",
       "      <td>40</td>\n",
       "    </tr>\n",
       "    <tr>\n",
       "      <th>4</th>\n",
       "      <td>119365</td>\n",
       "      <td>Кафе «Вишневая метель»</td>\n",
       "      <td>False</td>\n",
       "      <td>кафе</td>\n",
       "      <td>город Москва, Абрамцевская улица, дом 9, корпус 1</td>\n",
       "      <td>50</td>\n",
       "    </tr>\n",
       "  </tbody>\n",
       "</table>\n",
       "</div>"
      ],
      "text/plain": [
       "       id             object_name  chain object_type  \\\n",
       "0  151635                 СМЕТАНА  False        кафе   \n",
       "1   77874                  Родник  False        кафе   \n",
       "2   24309         Кафе «Академия»  False        кафе   \n",
       "3   21894              ПИЦЦЕТОРИЯ   True        кафе   \n",
       "4  119365  Кафе «Вишневая метель»  False        кафе   \n",
       "\n",
       "                                             address  number  \n",
       "0         город Москва, улица Егора Абакумова, дом 9      48  \n",
       "1  город Москва, улица Талалихина, дом 2/1, корпус 1      35  \n",
       "2          город Москва, Абельмановская улица, дом 6      95  \n",
       "3            город Москва, Абрамцевская улица, дом 1      40  \n",
       "4  город Москва, Абрамцевская улица, дом 9, корпус 1      50  "
      ]
     },
     "execution_count": 9,
     "metadata": {},
     "output_type": "execute_result"
    }
   ],
   "source": [
    "rest_data.head()"
   ]
  },
  {
   "cell_type": "code",
   "execution_count": 10,
   "metadata": {
    "scrolled": true
   },
   "outputs": [
    {
     "name": "stdout",
     "output_type": "stream",
     "text": [
      "82\n"
     ]
    }
   ],
   "source": [
    "print(rest_data[['object_name', 'chain', 'object_type', 'address', 'number']].duplicated().sum())"
   ]
  },
  {
   "cell_type": "code",
   "execution_count": 11,
   "metadata": {},
   "outputs": [
    {
     "name": "stdout",
     "output_type": "stream",
     "text": [
      "10393\n"
     ]
    }
   ],
   "source": [
    "print(len(rest_data['object_name'].unique()))"
   ]
  },
  {
   "cell_type": "code",
   "execution_count": 12,
   "metadata": {
    "scrolled": true
   },
   "outputs": [
    {
     "name": "stdout",
     "output_type": "stream",
     "text": [
      "9924\n"
     ]
    }
   ],
   "source": [
    "print(len(rest_data['object_name'].str.lower().unique()))"
   ]
  },
  {
   "cell_type": "markdown",
   "metadata": {},
   "source": [
    "По всей видимости, в названиях ресторанов могут быть неявные дубликаты из-за того, что есть рестораны, чьи названия указаны в разных регистрах. Исправим эту ошибку, приведя все названия к нижнему регистру."
   ]
  },
  {
   "cell_type": "code",
   "execution_count": 13,
   "metadata": {},
   "outputs": [],
   "source": [
    "rest_data['object_name'] = rest_data['object_name'].str.lower()"
   ]
  },
  {
   "cell_type": "code",
   "execution_count": 14,
   "metadata": {
    "scrolled": true
   },
   "outputs": [
    {
     "name": "stdout",
     "output_type": "stream",
     "text": [
      "9924\n"
     ]
    }
   ],
   "source": [
    "print(len(rest_data['object_name'].unique()))"
   ]
  },
  {
   "cell_type": "code",
   "execution_count": 15,
   "metadata": {},
   "outputs": [],
   "source": [
    "#удаляем символы из списка, которые также могут привести с скрытым дубликатам\n",
    "symbols = ['«', '»', '\\\"']\n",
    "\n",
    "for s in symbols:\n",
    "    rest_data['object_name'] = rest_data['object_name'].str.replace(s, '').str.strip()"
   ]
  },
  {
   "cell_type": "code",
   "execution_count": 16,
   "metadata": {
    "scrolled": true
   },
   "outputs": [
    {
     "data": {
      "text/html": [
       "<div>\n",
       "<style scoped>\n",
       "    .dataframe tbody tr th:only-of-type {\n",
       "        vertical-align: middle;\n",
       "    }\n",
       "\n",
       "    .dataframe tbody tr th {\n",
       "        vertical-align: top;\n",
       "    }\n",
       "\n",
       "    .dataframe thead th {\n",
       "        text-align: right;\n",
       "    }\n",
       "</style>\n",
       "<table border=\"1\" class=\"dataframe\">\n",
       "  <thead>\n",
       "    <tr style=\"text-align: right;\">\n",
       "      <th></th>\n",
       "      <th>id</th>\n",
       "      <th>object_name</th>\n",
       "      <th>chain</th>\n",
       "      <th>object_type</th>\n",
       "      <th>address</th>\n",
       "      <th>number</th>\n",
       "    </tr>\n",
       "  </thead>\n",
       "  <tbody>\n",
       "    <tr>\n",
       "      <th>0</th>\n",
       "      <td>151635</td>\n",
       "      <td>сметана</td>\n",
       "      <td>False</td>\n",
       "      <td>кафе</td>\n",
       "      <td>город Москва, улица Егора Абакумова, дом 9</td>\n",
       "      <td>48</td>\n",
       "    </tr>\n",
       "    <tr>\n",
       "      <th>1</th>\n",
       "      <td>77874</td>\n",
       "      <td>родник</td>\n",
       "      <td>False</td>\n",
       "      <td>кафе</td>\n",
       "      <td>город Москва, улица Талалихина, дом 2/1, корпус 1</td>\n",
       "      <td>35</td>\n",
       "    </tr>\n",
       "    <tr>\n",
       "      <th>2</th>\n",
       "      <td>24309</td>\n",
       "      <td>кафе академия</td>\n",
       "      <td>False</td>\n",
       "      <td>кафе</td>\n",
       "      <td>город Москва, Абельмановская улица, дом 6</td>\n",
       "      <td>95</td>\n",
       "    </tr>\n",
       "    <tr>\n",
       "      <th>3</th>\n",
       "      <td>21894</td>\n",
       "      <td>пиццетория</td>\n",
       "      <td>True</td>\n",
       "      <td>кафе</td>\n",
       "      <td>город Москва, Абрамцевская улица, дом 1</td>\n",
       "      <td>40</td>\n",
       "    </tr>\n",
       "    <tr>\n",
       "      <th>4</th>\n",
       "      <td>119365</td>\n",
       "      <td>кафе вишневая метель</td>\n",
       "      <td>False</td>\n",
       "      <td>кафе</td>\n",
       "      <td>город Москва, Абрамцевская улица, дом 9, корпус 1</td>\n",
       "      <td>50</td>\n",
       "    </tr>\n",
       "  </tbody>\n",
       "</table>\n",
       "</div>"
      ],
      "text/plain": [
       "       id           object_name  chain object_type  \\\n",
       "0  151635               сметана  False        кафе   \n",
       "1   77874                родник  False        кафе   \n",
       "2   24309         кафе академия  False        кафе   \n",
       "3   21894            пиццетория   True        кафе   \n",
       "4  119365  кафе вишневая метель  False        кафе   \n",
       "\n",
       "                                             address  number  \n",
       "0         город Москва, улица Егора Абакумова, дом 9      48  \n",
       "1  город Москва, улица Талалихина, дом 2/1, корпус 1      35  \n",
       "2          город Москва, Абельмановская улица, дом 6      95  \n",
       "3            город Москва, Абрамцевская улица, дом 1      40  \n",
       "4  город Москва, Абрамцевская улица, дом 9, корпус 1      50  "
      ]
     },
     "execution_count": 16,
     "metadata": {},
     "output_type": "execute_result"
    }
   ],
   "source": [
    "rest_data.head()"
   ]
  },
  {
   "cell_type": "code",
   "execution_count": 17,
   "metadata": {},
   "outputs": [
    {
     "name": "stdout",
     "output_type": "stream",
     "text": [
      "0\n"
     ]
    }
   ],
   "source": [
    "print(rest_data.duplicated().sum())"
   ]
  },
  {
   "cell_type": "markdown",
   "metadata": {},
   "source": [
    "На данный момент дубликатов не обнаружено. Возможно, на это влияет столбец id. Посмотрим, будут ли дубликаты, если считать их без его учета. "
   ]
  },
  {
   "cell_type": "code",
   "execution_count": 18,
   "metadata": {},
   "outputs": [
    {
     "name": "stdout",
     "output_type": "stream",
     "text": [
      "85\n"
     ]
    }
   ],
   "source": [
    "print(rest_data[['object_name', 'chain', 'object_type', 'address', 'number']].duplicated().sum())"
   ]
  },
  {
   "cell_type": "code",
   "execution_count": 19,
   "metadata": {},
   "outputs": [],
   "source": [
    "duplicated_list = rest_data[['object_name', 'chain', 'object_type', 'address', 'number']].duplicated()\n",
    "duplicated_list = duplicated_list[duplicated_list == True]\n",
    "drop_dup = duplicated_list.index.values.tolist()\n",
    "rest_data = rest_data.drop(labels=drop_dup, axis=0)"
   ]
  },
  {
   "cell_type": "code",
   "execution_count": 20,
   "metadata": {
    "scrolled": false
   },
   "outputs": [
    {
     "data": {
      "text/plain": [
       "count    15281.000000\n",
       "mean        59.788234\n",
       "std         74.843042\n",
       "min          0.000000\n",
       "25%         14.000000\n",
       "50%         40.000000\n",
       "75%         80.000000\n",
       "max       1700.000000\n",
       "Name: number, dtype: float64"
      ]
     },
     "execution_count": 20,
     "metadata": {},
     "output_type": "execute_result"
    }
   ],
   "source": [
    "rest_data['number'].describe()"
   ]
  },
  {
   "cell_type": "markdown",
   "metadata": {},
   "source": [
    "Видим, что у некоторых объектов общественного питания количество посадочных мест равно 0. Мы не считаем это ошибкой. Действительно, есть объекты общественного питания, которые работают в формате \"на вынос\": это могут быть отделы кулинарии в магазинах, предприятия быстрого обслуживания и другие типы объектов. Мы не будем удалять такие наблюдения. "
   ]
  },
  {
   "cell_type": "code",
   "execution_count": 21,
   "metadata": {},
   "outputs": [
    {
     "name": "stdout",
     "output_type": "stream",
     "text": [
      "[150. 215. 300.]\n"
     ]
    }
   ],
   "source": [
    "print(np.percentile(rest_data['number'], [90, 95, 99]))"
   ]
  },
  {
   "cell_type": "code",
   "execution_count": 22,
   "metadata": {},
   "outputs": [
    {
     "name": "stdout",
     "output_type": "stream",
     "text": [
      "123\n"
     ]
    }
   ],
   "source": [
    "percent_99 = np.percentile(rest_data['number'], 99)\n",
    "print(len(rest_data[rest_data['number'] > percent_99]))"
   ]
  },
  {
   "cell_type": "code",
   "execution_count": 23,
   "metadata": {
    "scrolled": true
   },
   "outputs": [
    {
     "data": {
      "text/plain": [
       "Text(0, 0.5, 'Количество посадочных мест')"
      ]
     },
     "execution_count": 23,
     "metadata": {},
     "output_type": "execute_result"
    },
    {
     "data": {
      "image/png": "[encoded data removed]",
      "text/plain": [
       "<Figure size 432x288 with 1 Axes>"
      ]
     },
     "metadata": {},
     "output_type": "display_data"
    }
   ],
   "source": [
    "sns.set_style('darkgrid')\n",
    "seats_boxplot = sns.boxplot(y='number', data=rest_data)\n",
    "seats_boxplot.set_title('Распределение количества посадочных мест')\n",
    "seats_boxplot.set_ylabel('Количество посадочных мест')"
   ]
  },
  {
   "cell_type": "markdown",
   "metadata": {},
   "source": [
    "Лишь у одного процента объектов общественного питания количество посадочных мест более 300. Все эти значения являются выбросами по графику \"ящик с усами\", отражающему распределение посадочных мест в выборке. Действительно, кажется, что такое большое количество посадочных мест, указанное для одного ресторана, может быть ошибкой: возможно, в каком-то из случаев для сети ресторанов было посчитано суммарное количество мест во всех ресторанах и создана одна запись в строке; кроме того, данные могли быть неверно собраны. Рестораны с таким количеством посадочных метс, кроме того, могут оказывать сильное влияние на расчеты, при этом будучи нерепрезентативным случаем.\n",
    "\n",
    "Посчитаем **границей аномалий 300 посадочных мест или 99-й перцентиль**. Удалим аномалии из наших данных."
   ]
  },
  {
   "cell_type": "code",
   "execution_count": 24,
   "metadata": {},
   "outputs": [],
   "source": [
    "rest_data = rest_data[rest_data['number'] <= percent_99]"
   ]
  },
  {
   "cell_type": "markdown",
   "metadata": {},
   "source": [
    "### Итоги раздела"
   ]
  },
  {
   "cell_type": "markdown",
   "metadata": {},
   "source": [
    "В данном разделе мы открыли данные о местах общественного питания Москвы. \n",
    "\n",
    "Мы не обнаружили пропусков, однако нашли проблему с типом значений в столбце chain: факт того, относится ресторан к ресторанной сети или нет, обозначался в этом столбце при помощи типа object. Чтобы хранить данные более эффективно, было принято решение заменить значения \"да\" и \"нет\" этого столбца на соответствующие им булевы значения True и False соответственно. \n",
    "\n",
    "Чтобы избежать скрытых дубликатов, мы привели все оставшиеся значения типа object к нижнему регистру, убрали лишние пробелы по краям текстовых значений и удалили кавычки, кроме того, дополнительно считали дубликаты без учета столбца id. Мы обнаружили скрытые дубликаты и удалили их.\n",
    "\n",
    "Кроме того, мы рассмотрели значения столбца number, в котором хранятся данные о количестве посадочных мест в ресторане. Мы обнаружили там выбросы и решили отказаться от строк, значения столбца number в которых превышает 99-й перцентиль ввиду возможного высокого влияния таких выбросов и возможности ошибок в указанных там значениях."
   ]
  },
  {
   "cell_type": "markdown",
   "metadata": {},
   "source": [
    "## Исследовательский анализ данных "
   ]
  },
  {
   "cell_type": "markdown",
   "metadata": {},
   "source": [
    "### Виды объектов общественного питания и сетевое распространение"
   ]
  },
  {
   "cell_type": "code",
   "execution_count": 25,
   "metadata": {},
   "outputs": [
    {
     "data": {
      "text/html": [
       "<div>\n",
       "<style scoped>\n",
       "    .dataframe tbody tr th:only-of-type {\n",
       "        vertical-align: middle;\n",
       "    }\n",
       "\n",
       "    .dataframe tbody tr th {\n",
       "        vertical-align: top;\n",
       "    }\n",
       "\n",
       "    .dataframe thead th {\n",
       "        text-align: right;\n",
       "    }\n",
       "</style>\n",
       "<table border=\"1\" class=\"dataframe\">\n",
       "  <thead>\n",
       "    <tr style=\"text-align: right;\">\n",
       "      <th></th>\n",
       "      <th>object_type</th>\n",
       "      <th>objects_count</th>\n",
       "      <th>seats_mean</th>\n",
       "      <th>seats_median</th>\n",
       "    </tr>\n",
       "  </thead>\n",
       "  <tbody>\n",
       "    <tr>\n",
       "      <th>3</th>\n",
       "      <td>кафе</td>\n",
       "      <td>6064</td>\n",
       "      <td>39</td>\n",
       "      <td>30</td>\n",
       "    </tr>\n",
       "    <tr>\n",
       "      <th>8</th>\n",
       "      <td>столовая</td>\n",
       "      <td>2537</td>\n",
       "      <td>125</td>\n",
       "      <td>100</td>\n",
       "    </tr>\n",
       "    <tr>\n",
       "      <th>7</th>\n",
       "      <td>ресторан</td>\n",
       "      <td>2218</td>\n",
       "      <td>86</td>\n",
       "      <td>78</td>\n",
       "    </tr>\n",
       "    <tr>\n",
       "      <th>6</th>\n",
       "      <td>предприятие быстрого обслуживания</td>\n",
       "      <td>1894</td>\n",
       "      <td>20</td>\n",
       "      <td>6</td>\n",
       "    </tr>\n",
       "    <tr>\n",
       "      <th>0</th>\n",
       "      <td>бар</td>\n",
       "      <td>854</td>\n",
       "      <td>42</td>\n",
       "      <td>35</td>\n",
       "    </tr>\n",
       "    <tr>\n",
       "      <th>1</th>\n",
       "      <td>буфет</td>\n",
       "      <td>575</td>\n",
       "      <td>51</td>\n",
       "      <td>32</td>\n",
       "    </tr>\n",
       "    <tr>\n",
       "      <th>4</th>\n",
       "      <td>кафетерий</td>\n",
       "      <td>395</td>\n",
       "      <td>9</td>\n",
       "      <td>6</td>\n",
       "    </tr>\n",
       "    <tr>\n",
       "      <th>2</th>\n",
       "      <td>закусочная</td>\n",
       "      <td>348</td>\n",
       "      <td>8</td>\n",
       "      <td>0</td>\n",
       "    </tr>\n",
       "    <tr>\n",
       "      <th>5</th>\n",
       "      <td>магазин (отдел кулинарии)</td>\n",
       "      <td>273</td>\n",
       "      <td>6</td>\n",
       "      <td>0</td>\n",
       "    </tr>\n",
       "  </tbody>\n",
       "</table>\n",
       "</div>"
      ],
      "text/plain": [
       "                         object_type  objects_count  seats_mean  seats_median\n",
       "3                               кафе           6064          39            30\n",
       "8                           столовая           2537         125           100\n",
       "7                           ресторан           2218          86            78\n",
       "6  предприятие быстрого обслуживания           1894          20             6\n",
       "0                                бар            854          42            35\n",
       "1                              буфет            575          51            32\n",
       "4                          кафетерий            395           9             6\n",
       "2                         закусочная            348           8             0\n",
       "5          магазин (отдел кулинарии)            273           6             0"
      ]
     },
     "execution_count": 25,
     "metadata": {},
     "output_type": "execute_result"
    }
   ],
   "source": [
    "rest_type = rest_data.groupby('object_type', as_index=False).agg({'id':'count', 'number':('mean','median')})\n",
    "rest_type.columns = ['object_type', 'objects_count', 'seats_mean', 'seats_median']\n",
    "rest_type = rest_type.sort_values(by='objects_count', ascending=False)\n",
    "rest_type['seats_mean'] = rest_type['seats_mean'].round(0).astype('int')\n",
    "rest_type"
   ]
  },
  {
   "cell_type": "code",
   "execution_count": 26,
   "metadata": {},
   "outputs": [
    {
     "data": {
      "image/png": "[encoded data removed]",
      "text/plain": [
       "<Figure size 720x576 with 1 Axes>"
      ]
     },
     "metadata": {},
     "output_type": "display_data"
    }
   ],
   "source": [
    "plt.figure(figsize=(10, 8))\n",
    "objects_type_bar = sns.barplot(x='object_type', y='objects_count', data=rest_type)\n",
    "objects_type_bar.set_title('Соотношение типов объектов общественного питания по количеству')\n",
    "objects_type_bar.set_xlabel('Тип объектов')\n",
    "objects_type_bar.set_ylabel('Количество объектов')\n",
    "plt.xticks(rotation=90)\n",
    "plt.show()"
   ]
  },
  {
   "cell_type": "markdown",
   "metadata": {},
   "source": [
    "Больше всего объектов общественного питания (более 6000) относятся к типу \"кафе\". Далее - столовые (около 2500), рестораны (более 2000) и предприятия быстрого обслуживания (1824). Наименее всего представлены в выборке объекты типа \"отдел кулинарии\", которых оказалось всего 273. "
   ]
  },
  {
   "cell_type": "code",
   "execution_count": 27,
   "metadata": {},
   "outputs": [
    {
     "data": {
      "text/html": [
       "<div>\n",
       "<style scoped>\n",
       "    .dataframe tbody tr th:only-of-type {\n",
       "        vertical-align: middle;\n",
       "    }\n",
       "\n",
       "    .dataframe tbody tr th {\n",
       "        vertical-align: top;\n",
       "    }\n",
       "\n",
       "    .dataframe thead th {\n",
       "        text-align: right;\n",
       "    }\n",
       "</style>\n",
       "<table border=\"1\" class=\"dataframe\">\n",
       "  <thead>\n",
       "    <tr style=\"text-align: right;\">\n",
       "      <th></th>\n",
       "      <th>is_chain</th>\n",
       "      <th>rest_count</th>\n",
       "      <th>seats_mean</th>\n",
       "      <th>seats_median</th>\n",
       "    </tr>\n",
       "  </thead>\n",
       "  <tbody>\n",
       "    <tr>\n",
       "      <th>0</th>\n",
       "      <td>False</td>\n",
       "      <td>12213</td>\n",
       "      <td>58</td>\n",
       "      <td>40</td>\n",
       "    </tr>\n",
       "    <tr>\n",
       "      <th>1</th>\n",
       "      <td>True</td>\n",
       "      <td>2945</td>\n",
       "      <td>51</td>\n",
       "      <td>40</td>\n",
       "    </tr>\n",
       "  </tbody>\n",
       "</table>\n",
       "</div>"
      ],
      "text/plain": [
       "   is_chain  rest_count  seats_mean  seats_median\n",
       "0     False       12213          58            40\n",
       "1      True        2945          51            40"
      ]
     },
     "execution_count": 27,
     "metadata": {},
     "output_type": "execute_result"
    }
   ],
   "source": [
    "rest_chain = rest_data.groupby('chain', as_index=False).agg({'id':'count', 'number':('mean','median')})\n",
    "rest_chain.columns = ['is_chain', 'rest_count', 'seats_mean', 'seats_median']\n",
    "rest_chain['seats_mean'] = rest_chain['seats_mean'].round(0).astype('int')\n",
    "rest_chain"
   ]
  },
  {
   "cell_type": "code",
   "execution_count": 28,
   "metadata": {},
   "outputs": [
    {
     "data": {
      "image/png": "[encoded data removed]",
      "text/plain": [
       "<Figure size 504x504 with 1 Axes>"
      ]
     },
     "metadata": {},
     "output_type": "display_data"
    }
   ],
   "source": [
    "plt.figure(figsize=(7, 7))\n",
    "chain_bar = sns.barplot(x='is_chain', y='rest_count', data=rest_chain)\n",
    "chain_bar.set_title('Соотношение сетевых и несетевых объектов общественного питания')\n",
    "chain_bar.set_xlabel('Является ли сетевым')\n",
    "chain_bar.set_ylabel('Количество объектов')\n",
    "plt.xticks(ticks=[False, True], labels=['Нет', 'Да'])\n",
    "plt.show()"
   ]
  },
  {
   "cell_type": "markdown",
   "metadata": {},
   "source": [
    "Видим, что большинство объектов общественного питания не явлются сетевыми. Разница в количестве - более чем в три раза. "
   ]
  },
  {
   "cell_type": "code",
   "execution_count": 29,
   "metadata": {
    "scrolled": false
   },
   "outputs": [
    {
     "data": {
      "text/html": [
       "<div>\n",
       "<style scoped>\n",
       "    .dataframe tbody tr th:only-of-type {\n",
       "        vertical-align: middle;\n",
       "    }\n",
       "\n",
       "    .dataframe tbody tr th {\n",
       "        vertical-align: top;\n",
       "    }\n",
       "\n",
       "    .dataframe thead th {\n",
       "        text-align: right;\n",
       "    }\n",
       "</style>\n",
       "<table border=\"1\" class=\"dataframe\">\n",
       "  <thead>\n",
       "    <tr style=\"text-align: right;\">\n",
       "      <th></th>\n",
       "      <th>object_type</th>\n",
       "      <th>chain_true_count</th>\n",
       "      <th>seats_in_chains</th>\n",
       "      <th>total_count</th>\n",
       "      <th>chain_percent</th>\n",
       "    </tr>\n",
       "  </thead>\n",
       "  <tbody>\n",
       "    <tr>\n",
       "      <th>6</th>\n",
       "      <td>предприятие быстрого обслуживания</td>\n",
       "      <td>785</td>\n",
       "      <td>39</td>\n",
       "      <td>1894</td>\n",
       "      <td>41.4</td>\n",
       "    </tr>\n",
       "    <tr>\n",
       "      <th>5</th>\n",
       "      <td>магазин (отдел кулинарии)</td>\n",
       "      <td>78</td>\n",
       "      <td>9</td>\n",
       "      <td>273</td>\n",
       "      <td>28.6</td>\n",
       "    </tr>\n",
       "    <tr>\n",
       "      <th>7</th>\n",
       "      <td>ресторан</td>\n",
       "      <td>530</td>\n",
       "      <td>94</td>\n",
       "      <td>2218</td>\n",
       "      <td>23.9</td>\n",
       "    </tr>\n",
       "    <tr>\n",
       "      <th>3</th>\n",
       "      <td>кафе</td>\n",
       "      <td>1393</td>\n",
       "      <td>47</td>\n",
       "      <td>6064</td>\n",
       "      <td>23.0</td>\n",
       "    </tr>\n",
       "    <tr>\n",
       "      <th>2</th>\n",
       "      <td>закусочная</td>\n",
       "      <td>56</td>\n",
       "      <td>14</td>\n",
       "      <td>348</td>\n",
       "      <td>16.1</td>\n",
       "    </tr>\n",
       "    <tr>\n",
       "      <th>4</th>\n",
       "      <td>кафетерий</td>\n",
       "      <td>52</td>\n",
       "      <td>12</td>\n",
       "      <td>395</td>\n",
       "      <td>13.2</td>\n",
       "    </tr>\n",
       "    <tr>\n",
       "      <th>0</th>\n",
       "      <td>бар</td>\n",
       "      <td>37</td>\n",
       "      <td>53</td>\n",
       "      <td>854</td>\n",
       "      <td>4.3</td>\n",
       "    </tr>\n",
       "    <tr>\n",
       "      <th>1</th>\n",
       "      <td>буфет</td>\n",
       "      <td>11</td>\n",
       "      <td>13</td>\n",
       "      <td>575</td>\n",
       "      <td>1.9</td>\n",
       "    </tr>\n",
       "    <tr>\n",
       "      <th>8</th>\n",
       "      <td>столовая</td>\n",
       "      <td>3</td>\n",
       "      <td>112</td>\n",
       "      <td>2537</td>\n",
       "      <td>0.1</td>\n",
       "    </tr>\n",
       "  </tbody>\n",
       "</table>\n",
       "</div>"
      ],
      "text/plain": [
       "                         object_type  chain_true_count  seats_in_chains  \\\n",
       "6  предприятие быстрого обслуживания               785               39   \n",
       "5          магазин (отдел кулинарии)                78                9   \n",
       "7                           ресторан               530               94   \n",
       "3                               кафе              1393               47   \n",
       "2                         закусочная                56               14   \n",
       "4                          кафетерий                52               12   \n",
       "0                                бар                37               53   \n",
       "1                              буфет                11               13   \n",
       "8                           столовая                 3              112   \n",
       "\n",
       "   total_count  chain_percent  \n",
       "6         1894           41.4  \n",
       "5          273           28.6  \n",
       "7         2218           23.9  \n",
       "3         6064           23.0  \n",
       "2          348           16.1  \n",
       "4          395           13.2  \n",
       "0          854            4.3  \n",
       "1          575            1.9  \n",
       "8         2537            0.1  "
      ]
     },
     "execution_count": 29,
     "metadata": {},
     "output_type": "execute_result"
    }
   ],
   "source": [
    "chain_type = rest_data[rest_data['chain'] == True].groupby('object_type', as_index=False).agg({'id':'count','number':'mean'}).merge(rest_type, on='object_type', how='outer')\n",
    "chain_type = chain_type.drop(columns=['seats_mean', 'seats_median'], axis=1)\n",
    "chain_type.columns = ['object_type', 'chain_true_count', 'seats_in_chains', 'total_count']\n",
    "chain_type['chain_percent'] = chain_type['chain_true_count'] / chain_type['total_count'] * 100\n",
    "chain_type['chain_percent'] = chain_type['chain_percent'].round(1)\n",
    "chain_type['seats_in_chains'] = chain_type['seats_in_chains'].round(0).astype('int')\n",
    "chain_type = chain_type.sort_values(by='chain_percent', ascending=False)\n",
    "chain_type"
   ]
  },
  {
   "cell_type": "code",
   "execution_count": 30,
   "metadata": {},
   "outputs": [
    {
     "data": {
      "image/png": "[encoded data removed]",
      "text/plain": [
       "<Figure size 576x720 with 1 Axes>"
      ]
     },
     "metadata": {},
     "output_type": "display_data"
    }
   ],
   "source": [
    "plt.figure(figsize=(8, 10))\n",
    "chain_type_bar = sns.barplot(x='object_type', y='chain_percent', data=chain_type)\n",
    "chain_type_bar.set_title('Процент сетевых объектов общественного питания по типам')\n",
    "chain_type_bar.set_xlabel('Тип объектов')\n",
    "chain_type_bar.set_ylabel('Процент сетевых заведений данного типа')\n",
    "plt.xticks(rotation=90)\n",
    "plt.show()"
   ]
  },
  {
   "cell_type": "markdown",
   "metadata": {},
   "source": [
    "По доле сетевых объектов общественного питания по типам объектов лидируют предприятия быстрого обслуживания: среди них более 40% являются сетевыми. Меньше всего сетевых столовых - доля сетевых столовых всего 0,1%. "
   ]
  },
  {
   "cell_type": "code",
   "execution_count": 31,
   "metadata": {},
   "outputs": [
    {
     "data": {
      "image/png": "[encoded data removed]",
      "text/plain": [
       "<Figure size 720x576 with 1 Axes>"
      ]
     },
     "metadata": {},
     "output_type": "display_data"
    }
   ],
   "source": [
    "rest_type_median = rest_type.sort_values(by='seats_median', ascending=False)\n",
    "\n",
    "plt.figure(figsize=(10, 8))\n",
    "objects_type_seats = sns.barplot(x='object_type', y='seats_median', data=rest_type_median)\n",
    "objects_type_seats.set_title('Количество посадочных мест по типу объектов общественного питания')\n",
    "objects_type_seats.set_xlabel('Тип объектов')\n",
    "objects_type_seats.set_ylabel('Количество посадочных мест (медиана)')\n",
    "plt.xticks(rotation=90)\n",
    "plt.show()"
   ]
  },
  {
   "cell_type": "markdown",
   "metadata": {},
   "source": [
    "Что касается количества посадочных мест, то здесь лидером оказывается столовая: медианное количество посадочных мест в столовой превышает 100. Далее следуют рестораны - там среднее количество посадочных мест 78. В кафе - которых больше всего - медианное количество посадочных мест равно 30. В предприятиях быстрого обслуживания и кафетериях медианное количество посадочных мест - 6. Медиана количества посадочных мест в кулинариях и закусочных равна 0, то есть в 50% заведений такого типа посадочные места и вовсе отсуствуют. "
   ]
  },
  {
   "cell_type": "code",
   "execution_count": 32,
   "metadata": {
    "scrolled": false
   },
   "outputs": [
    {
     "data": {
      "text/plain": [
       "count    15158.000000\n",
       "mean        56.466222\n",
       "std         61.541727\n",
       "min          0.000000\n",
       "25%         12.000000\n",
       "50%         40.000000\n",
       "75%         80.000000\n",
       "max        300.000000\n",
       "Name: number, dtype: float64"
      ]
     },
     "execution_count": 32,
     "metadata": {},
     "output_type": "execute_result"
    }
   ],
   "source": [
    "rest_data['number'].describe()"
   ]
  },
  {
   "cell_type": "code",
   "execution_count": 33,
   "metadata": {
    "scrolled": false
   },
   "outputs": [
    {
     "data": {
      "image/png": "[encoded data removed]",
      "text/plain": [
       "<Figure size 504x504 with 1 Axes>"
      ]
     },
     "metadata": {},
     "output_type": "display_data"
    }
   ],
   "source": [
    "chain_rest = rest_data[rest_data['chain'] == True].groupby(['object_name']).agg({'id':'count', 'number':'mean'})\n",
    "plt.figure(figsize=(7, 7))\n",
    "chain_scatter = sns.scatterplot(x='id', y='number', data=chain_rest)\n",
    "chain_scatter.set_title('Распределение посадочных мест в сетевых заведениях')\n",
    "chain_scatter.set_xlabel('Количество заведений в сети')\n",
    "chain_scatter.set_ylabel('Среднее количество посадочных мест')\n",
    "plt.show()\n"
   ]
  },
  {
   "cell_type": "markdown",
   "metadata": {},
   "source": [
    "Видим, что для **очень крупных сетей** не свойственно большое количество посадочных мест, а в **маленьких сетях** чаще встречаются и очень большие по вместимости объекты общепита. В целом больше всего **сетей** характеризуется небольшим числом ресторанов и небольшим числом посадочных мест в них. Кажется, что большинство **заведений, являющихся сетевыми**, будет с небольшим или средним числом посадочных мест. **Прямая же корреляция между количеством заведений в сети и средним количеством посадочных мест в отдельных заведениях этой сети отсуствует.**"
   ]
  },
  {
   "cell_type": "code",
   "execution_count": 34,
   "metadata": {},
   "outputs": [
    {
     "name": "stdout",
     "output_type": "stream",
     "text": [
      "-0.04645335420699879\n"
     ]
    }
   ],
   "source": [
    "# считаем коэффициент корреляции между количеством заведений в сети и средним количеством посадочных мест в сети\n",
    "print(chain_rest['id'].corr(chain_rest['number']))"
   ]
  },
  {
   "cell_type": "markdown",
   "metadata": {},
   "source": [
    "### География объектов общественного питания"
   ]
  },
  {
   "cell_type": "markdown",
   "metadata": {},
   "source": [
    "Наша задача - определить, на каких улицах и в каких районах больше всего и меньше всего объектов обещственного питания."
   ]
  },
  {
   "cell_type": "code",
   "execution_count": 35,
   "metadata": {},
   "outputs": [
    {
     "data": {
      "text/html": [
       "<div>\n",
       "<style scoped>\n",
       "    .dataframe tbody tr th:only-of-type {\n",
       "        vertical-align: middle;\n",
       "    }\n",
       "\n",
       "    .dataframe tbody tr th {\n",
       "        vertical-align: top;\n",
       "    }\n",
       "\n",
       "    .dataframe thead th {\n",
       "        text-align: right;\n",
       "    }\n",
       "</style>\n",
       "<table border=\"1\" class=\"dataframe\">\n",
       "  <thead>\n",
       "    <tr style=\"text-align: right;\">\n",
       "      <th></th>\n",
       "      <th>id</th>\n",
       "      <th>object_name</th>\n",
       "      <th>chain</th>\n",
       "      <th>object_type</th>\n",
       "      <th>address</th>\n",
       "      <th>number</th>\n",
       "    </tr>\n",
       "  </thead>\n",
       "  <tbody>\n",
       "    <tr>\n",
       "      <th>8662</th>\n",
       "      <td>146126</td>\n",
       "      <td>пекарня печной дар</td>\n",
       "      <td>False</td>\n",
       "      <td>закусочная</td>\n",
       "      <td>город Москва, город Троицк, Городская улица, д...</td>\n",
       "      <td>0</td>\n",
       "    </tr>\n",
       "    <tr>\n",
       "      <th>5248</th>\n",
       "      <td>25612</td>\n",
       "      <td>кофейня малинари</td>\n",
       "      <td>False</td>\n",
       "      <td>кафе</td>\n",
       "      <td>город Москва, улица Декабристов, дом 12</td>\n",
       "      <td>40</td>\n",
       "    </tr>\n",
       "    <tr>\n",
       "      <th>8209</th>\n",
       "      <td>27216</td>\n",
       "      <td>никола тесла</td>\n",
       "      <td>False</td>\n",
       "      <td>кафе</td>\n",
       "      <td>город Москва, Краснопролетарская улица, дом 4</td>\n",
       "      <td>65</td>\n",
       "    </tr>\n",
       "    <tr>\n",
       "      <th>1034</th>\n",
       "      <td>138449</td>\n",
       "      <td>у джузеппе</td>\n",
       "      <td>False</td>\n",
       "      <td>кафе</td>\n",
       "      <td>город Москва, Самотёчная улица, дом 13</td>\n",
       "      <td>30</td>\n",
       "    </tr>\n",
       "    <tr>\n",
       "      <th>10537</th>\n",
       "      <td>183013</td>\n",
       "      <td>шаурма,пекарня</td>\n",
       "      <td>False</td>\n",
       "      <td>предприятие быстрого обслуживания</td>\n",
       "      <td>город Москва, Дубнинская улица, дом 50</td>\n",
       "      <td>1</td>\n",
       "    </tr>\n",
       "    <tr>\n",
       "      <th>3300</th>\n",
       "      <td>153666</td>\n",
       "      <td>born to burn</td>\n",
       "      <td>False</td>\n",
       "      <td>ресторан</td>\n",
       "      <td>город Москва, Новая Басманная улица, дом 32</td>\n",
       "      <td>50</td>\n",
       "    </tr>\n",
       "    <tr>\n",
       "      <th>13669</th>\n",
       "      <td>209719</td>\n",
       "      <td>клаштер</td>\n",
       "      <td>False</td>\n",
       "      <td>кафе</td>\n",
       "      <td>город Москва, улица Покровка, дом 19</td>\n",
       "      <td>28</td>\n",
       "    </tr>\n",
       "    <tr>\n",
       "      <th>1325</th>\n",
       "      <td>149539</td>\n",
       "      <td>крафтмен</td>\n",
       "      <td>False</td>\n",
       "      <td>бар</td>\n",
       "      <td>город Москва, Чистопрудный бульвар, дом 10, ст...</td>\n",
       "      <td>35</td>\n",
       "    </tr>\n",
       "    <tr>\n",
       "      <th>6164</th>\n",
       "      <td>91158</td>\n",
       "      <td>маки-маки</td>\n",
       "      <td>True</td>\n",
       "      <td>кафе</td>\n",
       "      <td>город Москва, Профсоюзная улица, дом 129А</td>\n",
       "      <td>100</td>\n",
       "    </tr>\n",
       "    <tr>\n",
       "      <th>3348</th>\n",
       "      <td>138475</td>\n",
       "      <td>loftsmoke кальянная</td>\n",
       "      <td>False</td>\n",
       "      <td>кафе</td>\n",
       "      <td>город Москва, улица Свободы, дом 48, строение 1</td>\n",
       "      <td>17</td>\n",
       "    </tr>\n",
       "    <tr>\n",
       "      <th>2379</th>\n",
       "      <td>28609</td>\n",
       "      <td>комбинат питания мгту им.н.э.баумана</td>\n",
       "      <td>False</td>\n",
       "      <td>буфет</td>\n",
       "      <td>город Москва, 2-я Бауманская улица, дом 5, стр...</td>\n",
       "      <td>30</td>\n",
       "    </tr>\n",
       "    <tr>\n",
       "      <th>2232</th>\n",
       "      <td>156643</td>\n",
       "      <td>кафе шенк</td>\n",
       "      <td>False</td>\n",
       "      <td>кафе</td>\n",
       "      <td>город Москва, Газетный переулок, дом 3-5, стро...</td>\n",
       "      <td>15</td>\n",
       "    </tr>\n",
       "    <tr>\n",
       "      <th>1934</th>\n",
       "      <td>21437</td>\n",
       "      <td>столовая колорит кадетского корпуса № 1783</td>\n",
       "      <td>False</td>\n",
       "      <td>столовая</td>\n",
       "      <td>город Москва, 3-я Новоостанкинская улица, дом 6</td>\n",
       "      <td>80</td>\n",
       "    </tr>\n",
       "    <tr>\n",
       "      <th>6701</th>\n",
       "      <td>147500</td>\n",
       "      <td>сбыт-р</td>\n",
       "      <td>False</td>\n",
       "      <td>кафе</td>\n",
       "      <td>город Москва, Багратионовский проезд, дом 5</td>\n",
       "      <td>16</td>\n",
       "    </tr>\n",
       "    <tr>\n",
       "      <th>11412</th>\n",
       "      <td>187741</td>\n",
       "      <td>столовая клюква</td>\n",
       "      <td>False</td>\n",
       "      <td>столовая</td>\n",
       "      <td>город Москва, Хорошёвское шоссе, дом 32А</td>\n",
       "      <td>32</td>\n",
       "    </tr>\n",
       "  </tbody>\n",
       "</table>\n",
       "</div>"
      ],
      "text/plain": [
       "           id                                 object_name  chain  \\\n",
       "8662   146126                          пекарня печной дар  False   \n",
       "5248    25612                            кофейня малинари  False   \n",
       "8209    27216                                никола тесла  False   \n",
       "1034   138449                                  у джузеппе  False   \n",
       "10537  183013                              шаурма,пекарня  False   \n",
       "3300   153666                                born to burn  False   \n",
       "13669  209719                                     клаштер  False   \n",
       "1325   149539                                    крафтмен  False   \n",
       "6164    91158                                   маки-маки   True   \n",
       "3348   138475                         loftsmoke кальянная  False   \n",
       "2379    28609        комбинат питания мгту им.н.э.баумана  False   \n",
       "2232   156643                                   кафе шенк  False   \n",
       "1934    21437  столовая колорит кадетского корпуса № 1783  False   \n",
       "6701   147500                                      сбыт-р  False   \n",
       "11412  187741                             столовая клюква  False   \n",
       "\n",
       "                             object_type  \\\n",
       "8662                          закусочная   \n",
       "5248                                кафе   \n",
       "8209                                кафе   \n",
       "1034                                кафе   \n",
       "10537  предприятие быстрого обслуживания   \n",
       "3300                            ресторан   \n",
       "13669                               кафе   \n",
       "1325                                 бар   \n",
       "6164                                кафе   \n",
       "3348                                кафе   \n",
       "2379                               буфет   \n",
       "2232                                кафе   \n",
       "1934                            столовая   \n",
       "6701                                кафе   \n",
       "11412                           столовая   \n",
       "\n",
       "                                                 address  number  \n",
       "8662   город Москва, город Троицк, Городская улица, д...       0  \n",
       "5248             город Москва, улица Декабристов, дом 12      40  \n",
       "8209       город Москва, Краснопролетарская улица, дом 4      65  \n",
       "1034              город Москва, Самотёчная улица, дом 13      30  \n",
       "10537             город Москва, Дубнинская улица, дом 50       1  \n",
       "3300         город Москва, Новая Басманная улица, дом 32      50  \n",
       "13669               город Москва, улица Покровка, дом 19      28  \n",
       "1325   город Москва, Чистопрудный бульвар, дом 10, ст...      35  \n",
       "6164           город Москва, Профсоюзная улица, дом 129А     100  \n",
       "3348     город Москва, улица Свободы, дом 48, строение 1      17  \n",
       "2379   город Москва, 2-я Бауманская улица, дом 5, стр...      30  \n",
       "2232   город Москва, Газетный переулок, дом 3-5, стро...      15  \n",
       "1934     город Москва, 3-я Новоостанкинская улица, дом 6      80  \n",
       "6701         город Москва, Багратионовский проезд, дом 5      16  \n",
       "11412           город Москва, Хорошёвское шоссе, дом 32А      32  "
      ]
     },
     "execution_count": 35,
     "metadata": {},
     "output_type": "execute_result"
    }
   ],
   "source": [
    "rest_data.sample(15)"
   ]
  },
  {
   "cell_type": "code",
   "execution_count": 36,
   "metadata": {},
   "outputs": [
    {
     "data": {
      "text/plain": [
       "5385     [город Москва, Дмитровское шоссе, дом 163А, ко...\n",
       "14766    [город Москва, Рочдельская улица, дом 15, стро...\n",
       "11174    [город Москва, Открытое шоссе, дом 9, строение...\n",
       "8917            [город Москва, Дубравная улица, дом 34/29]\n",
       "9673        [город Москва, Протопоповский переулок, дом 3]\n",
       "810      [город Москва, Октябрьская улица, дом 105, кор...\n",
       "1095      [город Москва, Стартовая улица, дом 1, корпус 1]\n",
       "8617     [город Москва, поселение Московский, Киевское ...\n",
       "15326               [город Москва, Смольная улица, дом 14]\n",
       "6977     [город Москва, Ленинградское шоссе, дом 71Б, с...\n",
       "6209              [город Москва, Джанкойская улица, дом 7]\n",
       "5269     [город Москва, улица Декабристов, дом 43, стро...\n",
       "14108    [город Москва, Нижняя Красносельская улица, до...\n",
       "5255              [город Москва, Ярославское шоссе, дом 7]\n",
       "9295         [город Москва, улица Маршала Захарова, дом 3]\n",
       "5907     [город Москва, 4-я Кабельная улица, дом 2А, ст...\n",
       "11254            [город Москва, Щёлковское шоссе, дом 26Б]\n",
       "2258     [город Москва, Большая Никитская улица, дом 15...\n",
       "8812         [город Москва, Енисейская улица, владение 9А]\n",
       "11822    [город Москва, поселение Сосенское, улица Адми...\n",
       "3519     [город Москва, 1-я Тверская-Ямская улица, дом ...\n",
       "3098     [город Москва, улица Кржижановского, дом 15, к...\n",
       "2159                [город Москва, улица Фомичёвой, дом 5]\n",
       "8639     [город Москва, поселение Московский, Киевское ...\n",
       "10486    [город Москва, Туристская улица, дом 19, корпу...\n",
       "Name: address, dtype: object"
      ]
     },
     "execution_count": 36,
     "metadata": {},
     "output_type": "execute_result"
    }
   ],
   "source": [
    "adds = rest_data['address'].str.split(', ')\n",
    "adds.sample(25)"
   ]
  },
  {
   "cell_type": "markdown",
   "metadata": {},
   "source": [
    "При выделении улиц могут возникнуть две проблемы.\n",
    "\n",
    "1. Частью города Москвы являются в том числе и другие населенные пункты: города, поселки, села, деревни и поселения. В таком случае обычно город Москва в написании адреса выступает перед указанием этого населенного пункта. Логично, что в таком случае название улицы будет следовать за указанием населенного пункта. Это несложно предусмотреть в цикле.\n",
    "\n",
    "2. Адреса могут быть написаны с ошибками. Улицы могут быть не указаны либо части адреса могут быть написаны в неправильном порядке. Кроме того, у ряда адресов может быть не указан город Москва. Скорее всего, мы столкнемся с такими данными при оценке улиц с одним объектом общественного питания. Кажется, что улиц с одним объектом общественного питания будет достаточно много, чтобы сделать общие выводы, поэтому мы можем удалить наблюдения с ошибками. "
   ]
  },
  {
   "cell_type": "code",
   "execution_count": 37,
   "metadata": {},
   "outputs": [],
   "source": [
    "# импортируем библиотеку Mystem\n",
    "from pymystem3 import Mystem\n",
    "m = Mystem()\n",
    "\n",
    "# создаем пустой список, в который будем добавлять улицы, а также цикл\n",
    "# цикл проходит по элементу из adds и добавляет в него значение второй позиции\n",
    "# если на второй позиции, где чаще всего находятся улицы, встречаются города, села, деревни, поселения или поселки\n",
    "# он добавляет в список значение третьей позиции\n",
    "street = ''\n",
    "for i in adds:\n",
    "    if 'город' in m.lemmatize(i[1]):\n",
    "        street += i[2]+', '\n",
    "    elif 'поселение' in m.lemmatize(i[1]):\n",
    "        street += i[2]+', '\n",
    "    elif 'село' in m.lemmatize(i[1]):\n",
    "        street += i[2]+', '\n",
    "    elif 'поселок' in m.lemmatize(i[1]):\n",
    "        street += i[2]+', '\n",
    "    elif 'посёлок' in m.lemmatize(i[1]):\n",
    "        street += i[2]+', '\n",
    "    else:\n",
    "        street += i[1]+', '"
   ]
  },
  {
   "cell_type": "code",
   "execution_count": 38,
   "metadata": {},
   "outputs": [],
   "source": [
    "street = street.strip(', ')\n",
    "street = street.split(', ')"
   ]
  },
  {
   "cell_type": "code",
   "execution_count": 39,
   "metadata": {},
   "outputs": [
    {
     "data": {
      "text/plain": [
       "['улица Егора Абакумова',\n",
       " 'улица Талалихина',\n",
       " 'Абельмановская улица',\n",
       " 'Абрамцевская улица',\n",
       " 'Абрамцевская улица',\n",
       " 'Абрамцевская улица',\n",
       " 'переулок Сивцев Вражек',\n",
       " 'Авиамоторная улица',\n",
       " 'Авиамоторная улица',\n",
       " 'Авиамоторная улица',\n",
       " 'Авиамоторная улица',\n",
       " 'Авиамоторная улица',\n",
       " 'Авиамоторная улица',\n",
       " 'улица Авиаторов',\n",
       " 'улица Авиаторов',\n",
       " 'Азовская улица',\n",
       " 'Азовская улица',\n",
       " 'Большая Академическая улица',\n",
       " 'Филипповский переулок',\n",
       " 'Алтайская улица',\n",
       " 'Алтуфьевское шоссе',\n",
       " 'Алтуфьевское шоссе',\n",
       " 'Алтуфьевское шоссе',\n",
       " 'Алтуфьевское шоссе',\n",
       " 'Алтуфьевское шоссе',\n",
       " 'Алтуфьевское шоссе',\n",
       " 'улица Амундсена',\n",
       " 'Анадырский проезд',\n",
       " 'Ангарская улица',\n",
       " 'Ангарская улица',\n",
       " 'проспект Андропова',\n",
       " 'проспект Андропова',\n",
       " 'проспект Андропова',\n",
       " 'проспект Андропова',\n",
       " 'проспект Андропова',\n",
       " 'улица Арбат',\n",
       " 'улица Арбат',\n",
       " 'улица Арбат',\n",
       " 'улица Арбат',\n",
       " 'улица Арбат',\n",
       " 'улица Арбат',\n",
       " 'улица Арбат',\n",
       " 'улица Арбат',\n",
       " 'улица Арбат',\n",
       " 'улица Арбат',\n",
       " 'улица Арбат',\n",
       " 'улица Арбат',\n",
       " 'улица Арбат',\n",
       " 'улица Арбат',\n",
       " 'улица Арбат',\n",
       " 'улица Арбат',\n",
       " 'улица Арбат',\n",
       " 'улица Арбат',\n",
       " 'улица Арбат',\n",
       " 'улица Арбат',\n",
       " 'улица Арбат',\n",
       " 'улица Артамонова',\n",
       " 'Астраханский переулок',\n",
       " 'Астраханский переулок',\n",
       " 'Аэродромная улица',\n",
       " 'Бабаевская улица',\n",
       " 'улица Ивана Бабушкина',\n",
       " 'улица Ивана Бабушкина',\n",
       " 'Байкальская улица',\n",
       " 'Байкальская улица',\n",
       " 'Бакинская улица',\n",
       " 'Балаклавский проспект',\n",
       " 'Балаклавский проспект',\n",
       " '1-й Балтийский переулок',\n",
       " 'улица Барклая',\n",
       " 'Новая Басманная улица',\n",
       " 'Бауманская улица',\n",
       " 'Бауманская улица',\n",
       " 'Татарская улица',\n",
       " 'Башиловская улица',\n",
       " 'Башиловская улица',\n",
       " 'Башиловская улица',\n",
       " 'Беговая улица',\n",
       " 'Беговая улица',\n",
       " 'Беговая улица',\n",
       " 'улица Демьяна Бедного',\n",
       " 'Белореченская улица',\n",
       " 'Белореченская улица',\n",
       " 'Бережковская набережная',\n",
       " 'Бережковская набережная',\n",
       " 'улица Берзарина',\n",
       " 'Бескудниковский бульвар',\n",
       " 'Бескудниковский бульвар',\n",
       " 'улица Бестужевых',\n",
       " 'Бибиревская улица',\n",
       " 'улица Маршала Бирюзова',\n",
       " 'улица Маршала Бирюзова',\n",
       " 'улица Маршала Бирюзова',\n",
       " 'улица Маршала Бирюзова',\n",
       " 'улица Маршала Бирюзова',\n",
       " 'улица Маршала Бирюзова',\n",
       " 'улица Маршала Бирюзова',\n",
       " 'улица Маршала Бирюзова',\n",
       " 'улица Маршала Бирюзова',\n",
       " 'улица Маршала Бирюзова',\n",
       " 'улица Маршала Бирюзова',\n",
       " 'улица Маршала Бирюзова',\n",
       " 'Бойцовая улица',\n",
       " 'Болотниковская улица',\n",
       " 'Ботаническая улица',\n",
       " '1-й Боткинский проезд',\n",
       " 'улица Академика Бочвара',\n",
       " 'улица Академика Бочвара',\n",
       " 'улица Бочкова',\n",
       " '2-я Брестская улица',\n",
       " '2-я Брестская улица',\n",
       " 'Бригадирский переулок',\n",
       " 'Бригадирский переулок',\n",
       " 'Бригадирский переулок',\n",
       " 'Большая Бронная улица',\n",
       " 'Большая Бронная улица',\n",
       " 'Большая Бронная улица',\n",
       " 'Большая Бронная улица',\n",
       " 'Малая Бронная улица',\n",
       " 'Малая Бронная улица',\n",
       " 'Малая Бронная улица',\n",
       " 'Малая Бронная улица',\n",
       " 'Малая Бронная улица',\n",
       " 'Малая Бронная улица',\n",
       " 'Малая Бронная улица',\n",
       " 'Малая Бронная улица',\n",
       " 'Малая Бронная улица',\n",
       " 'Малая Бронная улица',\n",
       " 'Будайская улица',\n",
       " 'проспект Будённого',\n",
       " 'проспект Будённого',\n",
       " 'Булатниковская улица',\n",
       " 'улица Бутлерова',\n",
       " 'Бутырская улица',\n",
       " 'Бутырская улица',\n",
       " 'Бутырская улица',\n",
       " 'Бутырская улица',\n",
       " 'Бутырская улица',\n",
       " 'Бутырская улица',\n",
       " 'Бутырская улица',\n",
       " 'улица Вавилова',\n",
       " 'улица Вавилова',\n",
       " 'Нахимовский проспект',\n",
       " 'Валовая улица',\n",
       " 'Валовая улица',\n",
       " 'Валовая улица',\n",
       " 'Валовая улица',\n",
       " 'Варсонофьевский переулок',\n",
       " 'Варшавское шоссе',\n",
       " 'Варшавское шоссе',\n",
       " 'Варшавское шоссе',\n",
       " 'Варшавское шоссе',\n",
       " 'Варшавское шоссе',\n",
       " 'Варшавское шоссе',\n",
       " 'улица Маршала Василевского',\n",
       " 'улица Маршала Василевского',\n",
       " 'улица Маршала Василевского',\n",
       " 'Васильевская улица',\n",
       " 'Васильевская улица',\n",
       " 'Велозаводская улица',\n",
       " 'Велозаводская улица',\n",
       " 'Вельяминовская улица',\n",
       " 'проспект Вернадского',\n",
       " 'проспект Вернадского',\n",
       " 'проспект Вернадского',\n",
       " 'проспект Вернадского',\n",
       " 'проспект Вернадского',\n",
       " 'проспект Вернадского',\n",
       " 'улица Кравченко',\n",
       " 'проспект Вернадского',\n",
       " 'проспект Вернадского',\n",
       " 'проспект Вернадского',\n",
       " 'проспект Вернадского',\n",
       " 'проспект Вернадского',\n",
       " 'проспект Вернадского',\n",
       " 'проспект Вернадского',\n",
       " 'Верхняя улица',\n",
       " 'Весковский переулок',\n",
       " 'Глазовский переулок',\n",
       " 'улица Вешних Вод',\n",
       " 'улица Вешних Вод',\n",
       " 'Вешняковская улица',\n",
       " 'Вешняковская улица',\n",
       " 'улица Вилиса Лациса',\n",
       " 'улица Вилиса Лациса',\n",
       " '1-я Владимирская улица',\n",
       " '1-я Владимирская улица',\n",
       " '1-я Владимирская улица',\n",
       " '1-я Владимирская улица',\n",
       " '2-я Владимирская улица',\n",
       " '2-я Владимирская улица',\n",
       " '2-я Владимирская улица',\n",
       " '2-я Владимирская улица',\n",
       " '2-я Владимирская улица',\n",
       " '3-я Владимирская улица',\n",
       " '3-я Владимирская улица',\n",
       " '3-я Владимирская улица',\n",
       " 'улица Архитектора Власова',\n",
       " 'улица Архитектора Власова',\n",
       " 'улица Академика Волгина',\n",
       " 'улица Академика Волгина',\n",
       " 'Волгоградский проспект',\n",
       " 'Волгоградский проспект',\n",
       " 'Волгоградский проспект',\n",
       " 'Волгоградский проспект',\n",
       " 'Волгоградский проспект',\n",
       " 'Волгоградский проспект',\n",
       " 'Волгоградский проспект',\n",
       " 'Волгоградский проспект',\n",
       " 'Волгоградский проспект',\n",
       " 'Ферганская улица',\n",
       " 'Волоколамское шоссе',\n",
       " 'Волоколамское шоссе',\n",
       " 'Волоколамское шоссе',\n",
       " 'Волоколамское шоссе',\n",
       " 'Волоколамское шоссе',\n",
       " 'Волоколамское шоссе',\n",
       " 'улица Волхонка',\n",
       " 'улица Волхонка',\n",
       " 'Воронежская улица',\n",
       " 'Воронцовская улица',\n",
       " 'Воронцовская улица',\n",
       " 'Воронцовская улица',\n",
       " 'Воронцовская улица',\n",
       " 'Воронцовская улица',\n",
       " 'Воротниковский переулок',\n",
       " 'Кудринская площадь',\n",
       " 'Кудринская площадь',\n",
       " 'Кудринская площадь',\n",
       " 'Кудринская площадь',\n",
       " 'Кудринская площадь',\n",
       " 'улица 8 Марта',\n",
       " '2-й Вышеславцев переулок',\n",
       " 'улица Бориса Галушкина',\n",
       " 'улица Бориса Галушкина',\n",
       " 'улица Бориса Галушкина',\n",
       " 'улица Гастелло',\n",
       " 'улица Гастелло',\n",
       " 'Гвардейская улица',\n",
       " 'улица Героев Панфиловцев',\n",
       " 'улица Героев Панфиловцев',\n",
       " 'улица Героев Панфиловцев',\n",
       " 'улица Героев Панфиловцев',\n",
       " 'Большая Никитская улица',\n",
       " 'Большая Никитская улица',\n",
       " 'Большая Никитская улица',\n",
       " 'улица Гиляровского',\n",
       " 'улица Гиляровского',\n",
       " 'Глебовская улица',\n",
       " 'Большой Гнездниковский переулок',\n",
       " 'Малый Гнездниковский переулок',\n",
       " 'Малый Гнездниковский переулок',\n",
       " 'Малый Гнездниковский переулок',\n",
       " 'Гоголевский бульвар',\n",
       " 'Гоголевский бульвар',\n",
       " 'Гоголевский бульвар',\n",
       " 'Гоголевский бульвар',\n",
       " 'улица Маршала Голованова',\n",
       " 'Городецкая улица',\n",
       " 'Тверская улица',\n",
       " 'Тверская улица',\n",
       " 'Тверская улица',\n",
       " 'Тверская улица',\n",
       " 'Тверская улица',\n",
       " 'Тверская улица',\n",
       " 'Тверская улица',\n",
       " 'Тверская улица',\n",
       " 'Тверская улица',\n",
       " 'Тверская улица',\n",
       " 'Тверская улица',\n",
       " 'Тверская улица',\n",
       " 'Тверская улица',\n",
       " 'Тверская улица',\n",
       " 'Тверская улица',\n",
       " 'Тверская улица',\n",
       " 'Тверская улица',\n",
       " 'Тверская улица',\n",
       " 'Тверская улица',\n",
       " 'Тверская улица',\n",
       " 'Тверская улица',\n",
       " '1-я Тверская-Ямская улица',\n",
       " '1-я Тверская-Ямская улица',\n",
       " '1-я Тверская-Ямская улица',\n",
       " '1-я Тверская-Ямская улица',\n",
       " '1-я Тверская-Ямская улица',\n",
       " '1-я Тверская-Ямская улица',\n",
       " '1-я Тверская-Ямская улица',\n",
       " '1-я Тверская-Ямская улица',\n",
       " '1-я Тверская-Ямская улица',\n",
       " '1-я Тверская-Ямская улица',\n",
       " 'улица Госпитальный Вал',\n",
       " 'улица Чаянова',\n",
       " 'Кутузовский проспект',\n",
       " 'Большая Грузинская улица',\n",
       " 'Большая Грузинская улица',\n",
       " 'улица Грузинский Вал',\n",
       " 'улица Грузинский Вал',\n",
       " 'улица Грузинский Вал',\n",
       " 'улица Грузинский Вал',\n",
       " 'Грузинский переулок',\n",
       " 'Грузинский переулок',\n",
       " 'Гурьевский проезд',\n",
       " 'Гурьевский проезд',\n",
       " 'Даев переулок',\n",
       " 'улица 26-ти Бакинских Комиссаров',\n",
       " 'улица Девятая Рота',\n",
       " 'проезд Дежнёва',\n",
       " 'улица Мусы Джалиля',\n",
       " 'улица Большая Лубянка',\n",
       " 'улица Большая Якиманка',\n",
       " 'улица Большая Якиманка',\n",
       " 'улица Большая Якиманка',\n",
       " 'улица Большая Якиманка',\n",
       " 'улица Большая Якиманка',\n",
       " 'улица Большая Якиманка',\n",
       " 'улица Большая Якиманка',\n",
       " 'улица Большая Якиманка',\n",
       " 'улица Большая Якиманка',\n",
       " 'Дмитровское шоссе',\n",
       " 'Дмитровское шоссе',\n",
       " 'Дмитровское шоссе',\n",
       " 'Дмитровское шоссе',\n",
       " 'Дмитровское шоссе',\n",
       " 'Дмитровское шоссе',\n",
       " 'Дмитровское шоссе',\n",
       " 'Дмитровское шоссе',\n",
       " 'Дмитровское шоссе',\n",
       " 'Днепропетровская улица',\n",
       " 'улица Коровий Вал',\n",
       " 'улица Доватора',\n",
       " 'улица Доватора',\n",
       " 'улица Докукина',\n",
       " 'Домодедовская улица',\n",
       " 'Большая Дорогомиловская улица',\n",
       " 'Дубнинская улица',\n",
       " 'Дубнинская улица',\n",
       " 'Дубнинская улица',\n",
       " 'Дубосековская улица',\n",
       " 'Дубосековская улица',\n",
       " 'Дубосековская улица',\n",
       " '1-я Дубровская улица',\n",
       " '1-я Дубровская улица',\n",
       " 'улица Дудинка',\n",
       " 'улица Дурова',\n",
       " 'улица Дыбенко',\n",
       " 'Енисейская улица',\n",
       " 'Енисейская улица',\n",
       " 'улица Генерала Ермолова',\n",
       " 'Большой Каретный переулок',\n",
       " 'улица Жебрунова',\n",
       " 'бульвар Матроса Железняка',\n",
       " 'улица Бориса Жигулёнкова',\n",
       " 'Житная улица',\n",
       " 'проспект Маршала Жукова',\n",
       " 'проспект Маршала Жукова',\n",
       " 'проспект Маршала Жукова',\n",
       " 'улица Жуковского',\n",
       " 'Заревый проезд',\n",
       " 'Заревый проезд',\n",
       " 'Заревый проезд',\n",
       " 'улица Зацепский Вал',\n",
       " 'Зеленодольская улица',\n",
       " 'Зелёный проспект',\n",
       " '1-я Владимирская улица',\n",
       " '1-я Владимирская улица',\n",
       " 'Зелёный проспект',\n",
       " 'Зелёный проспект',\n",
       " 'Зубовский бульвар',\n",
       " 'Зубовский бульвар',\n",
       " 'Зубовский бульвар',\n",
       " 'улица Ибрагимова',\n",
       " 'Измайловский бульвар',\n",
       " 'Измайловский бульвар',\n",
       " 'Измайловский бульвар',\n",
       " 'Изумрудная улица',\n",
       " 'улица Исаковского',\n",
       " 'улица Исаковского',\n",
       " 'улица Исаковского',\n",
       " '2-я Кабельная улица',\n",
       " 'Кавказский бульвар',\n",
       " 'улица Казакова',\n",
       " 'улица Казакова',\n",
       " 'улица Новый Арбат',\n",
       " 'улица Новый Арбат',\n",
       " 'улица Новый Арбат',\n",
       " 'Долгоруковская улица',\n",
       " 'Долгоруковская улица',\n",
       " 'Долгоруковская улица',\n",
       " 'улица Большие Каменщики',\n",
       " 'Пролетарский проспект',\n",
       " 'Кантемировская улица',\n",
       " '2-й квартал Капотня',\n",
       " 'Старая Басманная улица',\n",
       " 'Старая Басманная улица',\n",
       " 'Кастанаевская улица',\n",
       " 'Кастанаевская улица',\n",
       " 'улица Каховка',\n",
       " 'улица Каховка',\n",
       " 'Малая Никитская улица',\n",
       " 'Малая Никитская улица',\n",
       " 'Малая Никитская улица',\n",
       " 'Малая Никитская улица',\n",
       " 'Каширское шоссе',\n",
       " 'Каширское шоссе',\n",
       " 'Каширское шоссе',\n",
       " 'Каширское шоссе',\n",
       " 'Каширское шоссе',\n",
       " 'Керченская улица',\n",
       " 'Керченская улица',\n",
       " 'улица Кибальчича',\n",
       " 'Киевская улица',\n",
       " 'Киевская улица',\n",
       " 'Мясницкая улица',\n",
       " 'Мясницкая улица',\n",
       " 'Мясницкая улица',\n",
       " 'Мясницкая улица',\n",
       " 'Мясницкая улица',\n",
       " 'Мясницкая улица',\n",
       " 'Мясницкая улица',\n",
       " 'Мясницкая улица',\n",
       " 'Мясницкая улица',\n",
       " 'Мясницкая улица',\n",
       " 'Мясницкая улица',\n",
       " 'Мясницкая улица',\n",
       " 'Мясницкая улица',\n",
       " 'Мясницкая улица',\n",
       " 'Кировоградская улица',\n",
       " 'Кировоградская улица',\n",
       " 'Кировоградская улица',\n",
       " 'Рождественский бульвар',\n",
       " 'Кожевническая улица',\n",
       " '5-я Кожуховская улица',\n",
       " 'Малый Козихинский переулок',\n",
       " 'Большой Козловский переулок',\n",
       " '2-й Колобовский переулок',\n",
       " 'Коломенская улица',\n",
       " 'Большая Сухаревская площадь',\n",
       " 'Большая Сухаревская площадь',\n",
       " 'Малая Сухаревская площадь',\n",
       " 'улица Коминтерна',\n",
       " 'Большой Златоустинский переулок',\n",
       " 'Фрунзенская набережная',\n",
       " 'Комсомольский проспект',\n",
       " 'Комсомольский проспект',\n",
       " 'Комсомольский проспект',\n",
       " 'Комсомольский проспект',\n",
       " 'Комсомольский проспект',\n",
       " 'Комсомольский проспект',\n",
       " 'Комсомольский проспект',\n",
       " 'Комсомольский проспект',\n",
       " 'Комсомольский проспект',\n",
       " 'Комсомольский проспект',\n",
       " 'Комсомольский проспект',\n",
       " 'Комсомольский проспект',\n",
       " 'Комсомольский проспект',\n",
       " '3-я Фрунзенская улица',\n",
       " 'Комсомольский проспект',\n",
       " 'улица Конёнкова',\n",
       " 'улица Коновалова',\n",
       " 'Конюшковская улица',\n",
       " 'Кооперативная улица',\n",
       " 'Коптевская улица',\n",
       " 'улица Корнейчука',\n",
       " 'улица Академика Королёва',\n",
       " 'улица Академика Королёва',\n",
       " 'улица Павла Корчагина',\n",
       " 'Большая Косинская улица',\n",
       " 'улица Космонавтов',\n",
       " 'улица Космонавтов',\n",
       " 'улица Космонавтов',\n",
       " 'улица Космонавтов',\n",
       " 'улица Барклая',\n",
       " 'улица Костякова',\n",
       " 'улица Косыгина',\n",
       " 'Кочновский проезд',\n",
       " 'улица Коштоянца',\n",
       " 'улица Коштоянца',\n",
       " 'улица Кравченко',\n",
       " 'улица Красина',\n",
       " 'улица Красина',\n",
       " 'улица Красная Пресня',\n",
       " 'улица Красная Пресня',\n",
       " 'улица Красная Пресня',\n",
       " 'улица Красная Пресня',\n",
       " 'Красноармейская улица',\n",
       " 'Краснобогатырская улица',\n",
       " 'Краснодарская улица',\n",
       " 'Краснодарская улица',\n",
       " 'Краснодонская улица',\n",
       " 'Красноказарменная улица',\n",
       " 'Краснопрудная улица',\n",
       " 'Краснопрудная улица',\n",
       " 'Краснопрудная улица',\n",
       " 'Краснопрудная улица',\n",
       " 'Краснопрудная улица',\n",
       " 'Краснопрудная улица',\n",
       " 'Краснопрудная улица',\n",
       " 'Верхняя Красносельская улица',\n",
       " 'Верхняя Красносельская улица',\n",
       " 'Малая Красносельская улица',\n",
       " 'Краснохолмская набережная',\n",
       " 'Краснохолмская набережная',\n",
       " 'улица Красный Казанец',\n",
       " 'улица Красного Маяка',\n",
       " 'улица Красного Маяка',\n",
       " 'улица Кржижановского',\n",
       " 'улица Кржижановского',\n",
       " 'улица Кржижановского',\n",
       " 'улица Кржижановского',\n",
       " 'улица Кржижановского',\n",
       " 'улица Кржижановского',\n",
       " 'Кривоколенный переулок',\n",
       " 'Кронштадтский бульвар',\n",
       " 'Гоголевский бульвар',\n",
       " 'Гоголевский бульвар',\n",
       " 'улица Пречистенка',\n",
       " '3-й Крутицкий переулок',\n",
       " '1-й Обыденский переулок',\n",
       " 'улица Кулакова',\n",
       " 'Кунцевская улица',\n",
       " 'Кусковская улица',\n",
       " 'Кусковская улица',\n",
       " 'Кутузовский проспект',\n",
       " 'Кутузовский проспект',\n",
       " 'Кутузовский проспект',\n",
       " 'Кутузовский проспект',\n",
       " 'Кутузовский проспект',\n",
       " 'Кутузовский проспект',\n",
       " 'Кутузовский проспект',\n",
       " 'Кутузовский проспект',\n",
       " 'Кутузовский проспект',\n",
       " 'Кутузовский проспект',\n",
       " 'Ладожская улица',\n",
       " 'Лазаревский переулок',\n",
       " 'Лазаревский переулок',\n",
       " 'улица Лапина',\n",
       " 'Лебедянская улица',\n",
       " 'Малый Лёвшинский переулок',\n",
       " 'Ленинградский проспект',\n",
       " 'Ленинградский проспект',\n",
       " 'Ленинградский проспект',\n",
       " 'Ленинградский проспект',\n",
       " 'Ленинградский проспект',\n",
       " 'Ленинградский проспект',\n",
       " 'Ленинградский проспект',\n",
       " 'Ленинградский проспект',\n",
       " 'Ленинградский проспект',\n",
       " 'Ленинградский проспект',\n",
       " 'Ленинградский проспект',\n",
       " 'Ленинградский проспект',\n",
       " 'Ленинградский проспект',\n",
       " 'Ленинградский проспект',\n",
       " 'Ленинградский проспект',\n",
       " 'Ленинградский проспект',\n",
       " 'Ленинградский проспект',\n",
       " 'Ленинградский проспект',\n",
       " 'Ленинградский проспект',\n",
       " 'Ленинградский проспект',\n",
       " 'Ленинградский проспект',\n",
       " 'Ленинградский проспект',\n",
       " 'Ленинградский проспект',\n",
       " 'Ленинградский проспект',\n",
       " 'Ленинградский проспект',\n",
       " 'Ленинградский проспект',\n",
       " 'Ленинградский проспект',\n",
       " 'Ленинградское шоссе',\n",
       " 'Ленинградское шоссе',\n",
       " 'Ленинградское шоссе',\n",
       " 'Ленинградское шоссе',\n",
       " 'улица Зацепский Вал',\n",
       " 'Павелецкая площадь',\n",
       " 'Павелецкая площадь',\n",
       " 'Павелецкая площадь',\n",
       " 'Павелецкая площадь',\n",
       " 'Павелецкая площадь',\n",
       " 'Павелецкая площадь',\n",
       " 'Павелецкая площадь',\n",
       " 'Павелецкая площадь',\n",
       " 'Павелецкая площадь',\n",
       " 'Ленинский проспект',\n",
       " 'Ленинский проспект',\n",
       " 'Ленинский проспект',\n",
       " 'Ленинский проспект',\n",
       " 'Ленинский проспект',\n",
       " 'Ленинский проспект',\n",
       " 'Ленинский проспект',\n",
       " 'Ленинский проспект',\n",
       " 'Ленинский проспект',\n",
       " 'Ленинский проспект',\n",
       " 'Ленинский проспект',\n",
       " 'Ленинский проспект',\n",
       " 'Ленинский проспект',\n",
       " 'Ленинский проспект',\n",
       " 'Ленинский проспект',\n",
       " 'Ленинский проспект',\n",
       " 'Ленинский проспект',\n",
       " 'Ленинский проспект',\n",
       " 'Ленинский проспект',\n",
       " 'Ленинский проспект',\n",
       " 'Ленинский проспект',\n",
       " 'Ленинский проспект',\n",
       " 'Ленинский проспект',\n",
       " 'Ленинский проспект',\n",
       " 'Ленинский проспект',\n",
       " 'Ленинский проспект',\n",
       " 'Ленинский проспект',\n",
       " 'улица Лескова',\n",
       " 'улица Лескова',\n",
       " 'улица Лескова',\n",
       " 'Лесная улица',\n",
       " 'Лесная улица',\n",
       " 'Лесная улица',\n",
       " 'Лесная улица',\n",
       " 'улица Лестева',\n",
       " 'Лиственничная аллея',\n",
       " 'Лиственничная аллея',\n",
       " 'Лиственничная аллея',\n",
       " 'Лиственничная аллея',\n",
       " '3-й Нижнелихоборский проезд',\n",
       " 'Ломоносовский проспект',\n",
       " 'Ломоносовский проспект',\n",
       " 'Ломоносовский проспект',\n",
       " 'Лосиноостровская улица',\n",
       " 'улица Малая Лубянка',\n",
       " 'Лужнецкий проезд',\n",
       " 'Люсиновская улица',\n",
       " 'Люсиновская улица',\n",
       " 'Люсиновская улица',\n",
       " 'Люсиновская улица',\n",
       " 'Лялин переулок',\n",
       " 'Магнитогорская улица',\n",
       " 'Магнитогорская улица',\n",
       " 'улица Макаренко',\n",
       " 'улица Макаренко',\n",
       " 'Космодамианская набережная',\n",
       " 'Мантулинская улица',\n",
       " 'Мантулинская улица',\n",
       " 'Мантулинская улица',\n",
       " 'Люблинская улица',\n",
       " 'Малый Знаменский переулок',\n",
       " 'Марксистская улица',\n",
       " 'Марксистская улица',\n",
       " 'Марксистская улица',\n",
       " 'Мартеновская улица',\n",
       " 'Милютинский переулок',\n",
       " 'Милютинский переулок',\n",
       " 'улица Верхняя Масловка',\n",
       " 'улица Верхняя Масловка',\n",
       " 'улица Нижняя Масловка',\n",
       " 'улица Нижняя Масловка',\n",
       " 'улица Нижняя Масловка',\n",
       " 'улица Нижняя Масловка',\n",
       " 'улица Мастеркова',\n",
       " 'Матвеевская улица',\n",
       " 'улица Матросская Тишина',\n",
       " 'улица Покровка',\n",
       " 'улица Машкова',\n",
       " 'Медынская улица',\n",
       " 'улица Менжинского',\n",
       " 'улица Металлургов',\n",
       " 'улица Металлургов',\n",
       " 'Мещанская улица',\n",
       " 'улица Миклухо-Маклая',\n",
       " 'улица Миклухо-Маклая',\n",
       " 'улица Миклухо-Маклая',\n",
       " 'улица Миклухо-Маклая',\n",
       " 'улица Миклухо-Маклая',\n",
       " 'улица Миклухо-Маклая',\n",
       " 'улица Миклухо-Маклая',\n",
       " 'улица Миклухо-Маклая',\n",
       " 'улица Миклухо-Маклая',\n",
       " 'улица Миклухо-Маклая',\n",
       " 'улица Миклухо-Маклая',\n",
       " 'улица Миклухо-Маклая',\n",
       " 'улица Миклухо-Маклая',\n",
       " 'улица Миклухо-Маклая',\n",
       " 'улица Милашенкова',\n",
       " 'улица Академика Миллионщикова',\n",
       " 'проспект Мира',\n",
       " 'проспект Мира',\n",
       " 'проспект Мира',\n",
       " 'проспект Мира',\n",
       " 'проспект Мира',\n",
       " 'проспект Мира',\n",
       " 'проспект Мира',\n",
       " 'проспект Мира',\n",
       " 'проспект Мира',\n",
       " 'проспект Мира',\n",
       " 'проспект Мира',\n",
       " 'проспект Мира',\n",
       " 'проспект Мира',\n",
       " 'проспект Мира',\n",
       " 'проспект Мира',\n",
       " 'проспект Мира',\n",
       " 'проспект Мира',\n",
       " 'проспект Мира',\n",
       " 'проспект Мира',\n",
       " 'проспект Мира',\n",
       " 'проспект Мира',\n",
       " 'проспект Мира',\n",
       " 'проспект Мира',\n",
       " 'проспект Мира',\n",
       " 'проспект Мира',\n",
       " 'проспект Мира',\n",
       " 'проспект Мира',\n",
       " 'проспект Мира',\n",
       " 'проспект Мира',\n",
       " 'проспект Мира',\n",
       " 'Мирской переулок',\n",
       " 'улица Михайлова',\n",
       " '2-й Верхний Михайловский проезд',\n",
       " 'Михалковская улица',\n",
       " 'Михалковская улица',\n",
       " 'Михалковская улица',\n",
       " 'Михалковская улица',\n",
       " 'Большой Патриарший переулок',\n",
       " 'Большой Патриарший переулок',\n",
       " 'Большой Патриарший переулок',\n",
       " 'Большой Патриарший переулок',\n",
       " 'улица Мнёвники',\n",
       " 'Можайское шоссе',\n",
       " 'Можайское шоссе',\n",
       " 'Можайское шоссе',\n",
       " 'Можайское шоссе',\n",
       " 'Можайское шоссе',\n",
       " 'Молодогвардейская улица',\n",
       " 'Молодогвардейская улица',\n",
       " 'улица Большая Молчановка',\n",
       " 'Мосфильмовская улица',\n",
       " 'Мосфильмовская улица',\n",
       " 'Мосфильмовская улица',\n",
       " 'Мурановская улица',\n",
       " 'улица Мусоргского',\n",
       " 'Мытная улица',\n",
       " 'Большой Афанасьевский переулок',\n",
       " 'Нагатинская набережная',\n",
       " 'Нагатинская улица',\n",
       " 'Нагатинская улица',\n",
       " 'Нагорная улица',\n",
       " 'Нагорный бульвар',\n",
       " 'улица Народного Ополчения',\n",
       " 'улица Народного Ополчения',\n",
       " 'улица Народного Ополчения',\n",
       " 'улица Народного Ополчения',\n",
       " 'улица Народного Ополчения',\n",
       " 'улица Народного Ополчения',\n",
       " 'улица Народного Ополчения',\n",
       " 'улица Народного Ополчения',\n",
       " 'Нахимовский проспект',\n",
       " 'Нахимовский проспект',\n",
       " 'Неглинная улица',\n",
       " 'Неглинная улица',\n",
       " 'Неглинная улица',\n",
       " 'Звонарский переулок',\n",
       " 'Нижний Кисельный переулок',\n",
       " 'Брюсов переулок',\n",
       " 'Брюсов переулок',\n",
       " 'Брюсов переулок',\n",
       " 'Брюсов переулок',\n",
       " 'Нежинская улица',\n",
       " 'Нижегородская улица',\n",
       " 'Нижегородская улица',\n",
       " 'Нижегородская улица',\n",
       " 'Нижегородская улица',\n",
       " 'Новгородская улица',\n",
       " 'Новгородская улица',\n",
       " 'улица Новинки',\n",
       " '1-я Новокузьминская улица',\n",
       " 'Новогиреевская улица',\n",
       " 'Новогиреевская улица',\n",
       " 'Новогиреевская улица',\n",
       " 'Новодевичий проезд',\n",
       " 'Новодевичий проезд',\n",
       " 'Новозаводская улица',\n",
       " 'Новокузнецкая улица',\n",
       " 'Новокузнецкая улица',\n",
       " '1-й Новокузнецкий переулок',\n",
       " 'Новопетровская улица',\n",
       " 'Новорязанская улица',\n",
       " 'Новорязанская улица',\n",
       " 'Новосибирская улица',\n",
       " 'Новослободская улица',\n",
       " 'Новослободская улица',\n",
       " 'Новослободская улица',\n",
       " 'Сущёвская улица',\n",
       " 'Сущёвская улица',\n",
       " 'Новослободская улица',\n",
       " 'Новослободская улица',\n",
       " 'Новослободская улица',\n",
       " 'Новослободская улица',\n",
       " 'Новослободская улица',\n",
       " 'Новослободская улица',\n",
       " 'Новослободская улица',\n",
       " 'Новослободская улица',\n",
       " 'Новослободская улица',\n",
       " 'Новослободская улица',\n",
       " 'Новослободская улица',\n",
       " 'улица Образцова',\n",
       " 'улица Воронцово Поле',\n",
       " 'Овчинниковская набережная',\n",
       " 'Окружной проезд',\n",
       " 'Окская улица',\n",
       " 'Октябрьская улица',\n",
       " 'Октябрьская улица',\n",
       " 'Октябрьская улица',\n",
       " 'Октябрьская улица',\n",
       " 'Октябрьская улица',\n",
       " 'Октябрьская улица',\n",
       " 'Октябрьский переулок',\n",
       " 'Олимпийский проспект',\n",
       " 'улица Орджоникидзе',\n",
       " 'улица Большая Ордынка',\n",
       " 'улица Большая Ордынка',\n",
       " 'Ореховый бульвар',\n",
       " 'Орликов переулок',\n",
       " 'Оружейный переулок',\n",
       " 'Садовническая улица',\n",
       " 'Садовническая улица',\n",
       " 'Садовническая улица',\n",
       " 'Осташковская улица',\n",
       " 'улица Остоженка',\n",
       " 'улица Остоженка',\n",
       " 'улица Остоженка',\n",
       " 'улица Остоженка',\n",
       " 'улица Остоженка',\n",
       " 'улица Остоженка',\n",
       " 'улица Остоженка',\n",
       " 'улица Остоженка',\n",
       " 'улица Островитянова',\n",
       " 'Большой Козихинский переулок',\n",
       " 'Большой Козихинский переулок',\n",
       " 'Большой Козихинский переулок',\n",
       " 'Малый Козихинский переулок',\n",
       " 'Открытое шоссе',\n",
       " 'Открытое шоссе',\n",
       " 'Открытое шоссе',\n",
       " 'Открытое шоссе',\n",
       " 'Открытое шоссе',\n",
       " 'Отрадная улица',\n",
       " 'Отрадная улица',\n",
       " 'Рябиновая улица',\n",
       " 'улица Панфилова',\n",
       " 'улица Панфилова',\n",
       " 'улица Панфилова',\n",
       " 'улица Панфилова',\n",
       " '3-я Парковая улица',\n",
       " '5-я Парковая улица',\n",
       " '7-я Парковая улица',\n",
       " '7-я Парковая улица',\n",
       " '7-я Парковая улица',\n",
       " '9-я Парковая улица',\n",
       " '9-я Парковая улица',\n",
       " '9-я Парковая улица',\n",
       " '9-я Парковая улица',\n",
       " '16-я Парковая улица',\n",
       " '16-я Парковая улица',\n",
       " 'дом 30',\n",
       " 'дом 30',\n",
       " 'Первомайская улица',\n",
       " 'Первомайская улица',\n",
       " 'Первомайская улица',\n",
       " 'Первомайская улица',\n",
       " 'Первомайская улица',\n",
       " 'Первомайская улица',\n",
       " 'Первомайская улица',\n",
       " 'Первомайская улица',\n",
       " 'Первомайская улица',\n",
       " 'Первомайская улица',\n",
       " 'Первомайская улица',\n",
       " 'Средняя Первомайская улица',\n",
       " 'Большая Переяславская улица',\n",
       " 'Большая Переяславская улица',\n",
       " 'Перовская улица',\n",
       " 'Перовская улица',\n",
       " 'улица Петровка',\n",
       " 'улица Петровка',\n",
       " 'улица Петровка',\n",
       " 'улица Петровка',\n",
       " 'улица Петровка',\n",
       " 'улица Петровка',\n",
       " 'улица Петровка',\n",
       " 'улица Петровка',\n",
       " 'улица Петровка',\n",
       " 'улица Шаболовка',\n",
       " 'улица Шаболовка',\n",
       " 'Петровский бульвар',\n",
       " 'Петровско-Разумовский проезд',\n",
       " 'Петровско-Разумовский проезд',\n",
       " 'Петровско-Разумовский проезд',\n",
       " 'Старый Петровско-Разумовский проезд',\n",
       " 'Петрозаводская улица',\n",
       " 'Петрозаводская улица',\n",
       " 'улица Пивченкова',\n",
       " 'Большая Пироговская улица',\n",
       " 'Большая Пироговская улица',\n",
       " 'Большая Пироговская улица',\n",
       " 'Платовская улица',\n",
       " 'улица Плеханова',\n",
       " 'улица Плющиха',\n",
       " 'улица Плющиха',\n",
       " 'улица Плющиха',\n",
       " 'площадь Победы',\n",
       " 'Погонный проезд',\n",
       " 'Ивантеевская улица',\n",
       " 'Ивантеевская улица',\n",
       " '3-й проезд Подбельского',\n",
       " 'улица Пресненский Вал',\n",
       " 'Подсосенский переулок',\n",
       " 'Поклонная улица',\n",
       " 'Покровский бульвар',\n",
       " 'улица Фёдора Полетаева',\n",
       " 'улица Большая Полянка',\n",
       " 'улица Большая Полянка',\n",
       " 'улица Большая Полянка',\n",
       " 'улица Большая Полянка',\n",
       " 'улица Большая Полянка',\n",
       " 'улица Большая Полянка',\n",
       " 'улица Большая Полянка',\n",
       " 'Полярная улица',\n",
       " 'Попутная улица',\n",
       " 'улица Маши Порываевой',\n",
       " 'улица Правды',\n",
       " 'Преображенская улица',\n",
       " 'Преображенская улица',\n",
       " 'Преображенская улица',\n",
       " 'улица Преображенский Вал',\n",
       " 'улица Пресненский Вал',\n",
       " 'улица Пресненский Вал',\n",
       " 'улица Пришвина',\n",
       " 'улица Пришвина',\n",
       " 'улица Пришвина',\n",
       " 'улица Пришвина',\n",
       " 'Пролетарский проспект',\n",
       " 'Пролетарский проспект',\n",
       " 'Просторная улица',\n",
       " 'Профсоюзная улица',\n",
       " 'Профсоюзная улица',\n",
       " 'Профсоюзная улица',\n",
       " 'Профсоюзная улица',\n",
       " 'Профсоюзная улица',\n",
       " 'Профсоюзная улица',\n",
       " 'Профсоюзная улица',\n",
       " 'Профсоюзная улица',\n",
       " 'Профсоюзная улица',\n",
       " 'Профсоюзная улица',\n",
       " 'Профсоюзная улица',\n",
       " 'Профсоюзная улица',\n",
       " 'Профсоюзная улица',\n",
       " 'Профсоюзная улица',\n",
       " 'Профсоюзная улица',\n",
       " 'улица Проходчиков',\n",
       " 'улица Пудовкина',\n",
       " 'улица Большая Дмитровка',\n",
       " 'улица Большая Дмитровка',\n",
       " 'улица Большая Дмитровка',\n",
       " 'улица Большая Дмитровка',\n",
       " 'улица Большая Дмитровка',\n",
       " 'улица Большая Дмитровка',\n",
       " 'улица Большая Дмитровка',\n",
       " 'улица Большая Дмитровка',\n",
       " 'улица Большая Дмитровка',\n",
       " 'Петровский переулок',\n",
       " 'Петровский переулок',\n",
       " 'улица Пырьева',\n",
       " 'Пятницкая улица',\n",
       " 'Пятницкая улица',\n",
       " 'Пятницкая улица',\n",
       " 'Пятницкая улица',\n",
       " 'Пятницкая улица',\n",
       " 'Пятницкая улица',\n",
       " 'Пятницкая улица',\n",
       " 'Пятницкая улица',\n",
       " 'Пятницкая улица',\n",
       " 'Пятницкая улица',\n",
       " 'Пятницкая улица',\n",
       " 'Пятницкая улица',\n",
       " 'Пятницкая улица',\n",
       " 'Пятницкая улица',\n",
       " 'Пятницкая улица',\n",
       " 'Пятницкая улица',\n",
       " 'Пятницкий переулок',\n",
       " 'бульвар Яна Райниса',\n",
       " 'улица Расковой',\n",
       " 'улица Расковой',\n",
       " 'Реутовская улица',\n",
       " 'улица Речников',\n",
       " 'площадь Рогожская Застава',\n",
       " 'дом 3',\n",
       " 'Рождественский бульвар',\n",
       " 'Рождественский бульвар',\n",
       " 'улица Петра Романова',\n",
       " 'Рочдельская улица',\n",
       " 'Рублёвское шоссе',\n",
       " 'Рублёвское шоссе',\n",
       " 'Смоленская-Сенная площадь',\n",
       " 'Русаковская улица',\n",
       " 'Русаковская улица',\n",
       " 'Русаковская улица',\n",
       " 'Русаковская улица',\n",
       " 'Русаковская улица',\n",
       " ...]"
      ]
     },
     "execution_count": 39,
     "metadata": {},
     "output_type": "execute_result"
    }
   ],
   "source": [
    "street"
   ]
  },
  {
   "cell_type": "code",
   "execution_count": 40,
   "metadata": {},
   "outputs": [
    {
     "data": {
      "text/html": [
       "<div>\n",
       "<style scoped>\n",
       "    .dataframe tbody tr th:only-of-type {\n",
       "        vertical-align: middle;\n",
       "    }\n",
       "\n",
       "    .dataframe tbody tr th {\n",
       "        vertical-align: top;\n",
       "    }\n",
       "\n",
       "    .dataframe thead th {\n",
       "        text-align: right;\n",
       "    }\n",
       "</style>\n",
       "<table border=\"1\" class=\"dataframe\">\n",
       "  <thead>\n",
       "    <tr style=\"text-align: right;\">\n",
       "      <th></th>\n",
       "      <th>street</th>\n",
       "      <th>id</th>\n",
       "    </tr>\n",
       "  </thead>\n",
       "  <tbody>\n",
       "    <tr>\n",
       "      <th>0</th>\n",
       "      <td>улица Егора Абакумова</td>\n",
       "      <td>151635</td>\n",
       "    </tr>\n",
       "    <tr>\n",
       "      <th>1</th>\n",
       "      <td>улица Талалихина</td>\n",
       "      <td>77874</td>\n",
       "    </tr>\n",
       "    <tr>\n",
       "      <th>2</th>\n",
       "      <td>Абельмановская улица</td>\n",
       "      <td>24309</td>\n",
       "    </tr>\n",
       "    <tr>\n",
       "      <th>3</th>\n",
       "      <td>Абрамцевская улица</td>\n",
       "      <td>21894</td>\n",
       "    </tr>\n",
       "    <tr>\n",
       "      <th>4</th>\n",
       "      <td>Абрамцевская улица</td>\n",
       "      <td>119365</td>\n",
       "    </tr>\n",
       "    <tr>\n",
       "      <th>...</th>\n",
       "      <td>...</td>\n",
       "      <td>...</td>\n",
       "    </tr>\n",
       "    <tr>\n",
       "      <th>15153</th>\n",
       "      <td>3-й Крутицкий переулок</td>\n",
       "      <td>208537</td>\n",
       "    </tr>\n",
       "    <tr>\n",
       "      <th>15154</th>\n",
       "      <td>улица Земляной Вал</td>\n",
       "      <td>209264</td>\n",
       "    </tr>\n",
       "    <tr>\n",
       "      <th>15155</th>\n",
       "      <td>улица Земляной Вал</td>\n",
       "      <td>209186</td>\n",
       "    </tr>\n",
       "    <tr>\n",
       "      <th>15156</th>\n",
       "      <td>Киевское шоссе</td>\n",
       "      <td>221900</td>\n",
       "    </tr>\n",
       "    <tr>\n",
       "      <th>15157</th>\n",
       "      <td>Ходынский бульвар</td>\n",
       "      <td>222535</td>\n",
       "    </tr>\n",
       "  </tbody>\n",
       "</table>\n",
       "<p>15158 rows × 2 columns</p>\n",
       "</div>"
      ],
      "text/plain": [
       "                       street      id\n",
       "0       улица Егора Абакумова  151635\n",
       "1            улица Талалихина   77874\n",
       "2        Абельмановская улица   24309\n",
       "3          Абрамцевская улица   21894\n",
       "4          Абрамцевская улица  119365\n",
       "...                       ...     ...\n",
       "15153  3-й Крутицкий переулок  208537\n",
       "15154      улица Земляной Вал  209264\n",
       "15155      улица Земляной Вал  209186\n",
       "15156          Киевское шоссе  221900\n",
       "15157       Ходынский бульвар  222535\n",
       "\n",
       "[15158 rows x 2 columns]"
      ]
     },
     "execution_count": 40,
     "metadata": {},
     "output_type": "execute_result"
    }
   ],
   "source": [
    "# список превращаем в датафрейм и присоединяем к нему id ресторанов\n",
    "streets_df = pd.DataFrame(list(zip(street, rest_data['id'])), columns=['street', 'id'])\n",
    "streets_df"
   ]
  },
  {
   "cell_type": "code",
   "execution_count": 41,
   "metadata": {},
   "outputs": [],
   "source": [
    "# присоединяем улицы к нашему основному набору данных по id\n",
    "rest_data = rest_data.merge(streets_df, on='id')"
   ]
  },
  {
   "cell_type": "code",
   "execution_count": 42,
   "metadata": {
    "scrolled": true
   },
   "outputs": [
    {
     "data": {
      "text/html": [
       "<div>\n",
       "<style scoped>\n",
       "    .dataframe tbody tr th:only-of-type {\n",
       "        vertical-align: middle;\n",
       "    }\n",
       "\n",
       "    .dataframe tbody tr th {\n",
       "        vertical-align: top;\n",
       "    }\n",
       "\n",
       "    .dataframe thead th {\n",
       "        text-align: right;\n",
       "    }\n",
       "</style>\n",
       "<table border=\"1\" class=\"dataframe\">\n",
       "  <thead>\n",
       "    <tr style=\"text-align: right;\">\n",
       "      <th></th>\n",
       "      <th>id</th>\n",
       "      <th>object_name</th>\n",
       "      <th>chain</th>\n",
       "      <th>object_type</th>\n",
       "      <th>address</th>\n",
       "      <th>number</th>\n",
       "      <th>street</th>\n",
       "    </tr>\n",
       "  </thead>\n",
       "  <tbody>\n",
       "    <tr>\n",
       "      <th>5860</th>\n",
       "      <td>69777</td>\n",
       "      <td>лепешка</td>\n",
       "      <td>True</td>\n",
       "      <td>ресторан</td>\n",
       "      <td>город Москва, Привольная улица, дом 63</td>\n",
       "      <td>80</td>\n",
       "      <td>Привольная улица</td>\n",
       "    </tr>\n",
       "    <tr>\n",
       "      <th>14720</th>\n",
       "      <td>222959</td>\n",
       "      <td>да, еда</td>\n",
       "      <td>False</td>\n",
       "      <td>кафе</td>\n",
       "      <td>город Москва, Ходынский бульвар, дом 4</td>\n",
       "      <td>0</td>\n",
       "      <td>Ходынский бульвар</td>\n",
       "    </tr>\n",
       "    <tr>\n",
       "      <th>12669</th>\n",
       "      <td>204019</td>\n",
       "      <td>кафе</td>\n",
       "      <td>False</td>\n",
       "      <td>кафе</td>\n",
       "      <td>город Москва, Тихорецкий бульвар, владение 1, ...</td>\n",
       "      <td>78</td>\n",
       "      <td>Тихорецкий бульвар</td>\n",
       "    </tr>\n",
       "    <tr>\n",
       "      <th>9897</th>\n",
       "      <td>171897</td>\n",
       "      <td>royce club</td>\n",
       "      <td>False</td>\n",
       "      <td>бар</td>\n",
       "      <td>город Москва, улица Новый Арбат, дом 21</td>\n",
       "      <td>47</td>\n",
       "      <td>улица Новый Арбат</td>\n",
       "    </tr>\n",
       "    <tr>\n",
       "      <th>2745</th>\n",
       "      <td>27062</td>\n",
       "      <td>мнтк мх глаза кафе</td>\n",
       "      <td>False</td>\n",
       "      <td>ресторан</td>\n",
       "      <td>город Москва, Бескудниковский бульвар, дом 59А</td>\n",
       "      <td>42</td>\n",
       "      <td>Бескудниковский бульвар</td>\n",
       "    </tr>\n",
       "    <tr>\n",
       "      <th>15087</th>\n",
       "      <td>214073</td>\n",
       "      <td>милти</td>\n",
       "      <td>True</td>\n",
       "      <td>магазин (отдел кулинарии)</td>\n",
       "      <td>город Москва, Реутовская улица, дом 10Б, строе...</td>\n",
       "      <td>0</td>\n",
       "      <td>Реутовская улица</td>\n",
       "    </tr>\n",
       "    <tr>\n",
       "      <th>12728</th>\n",
       "      <td>203018</td>\n",
       "      <td>кафе грузинская кухня</td>\n",
       "      <td>False</td>\n",
       "      <td>кафе</td>\n",
       "      <td>город Москва, Большая Черёмушкинская улица, дом 1</td>\n",
       "      <td>20</td>\n",
       "      <td>Большая Черёмушкинская улица</td>\n",
       "    </tr>\n",
       "    <tr>\n",
       "      <th>4904</th>\n",
       "      <td>142559</td>\n",
       "      <td>столовая</td>\n",
       "      <td>False</td>\n",
       "      <td>столовая</td>\n",
       "      <td>город Москва, Дербеневская улица, дом 1, строе...</td>\n",
       "      <td>60</td>\n",
       "      <td>Дербеневская улица</td>\n",
       "    </tr>\n",
       "    <tr>\n",
       "      <th>8403</th>\n",
       "      <td>77627</td>\n",
       "      <td>кафе амиго</td>\n",
       "      <td>False</td>\n",
       "      <td>кафе</td>\n",
       "      <td>город Москва, поселение Вороновское, посёлок Л...</td>\n",
       "      <td>35</td>\n",
       "      <td>посёлок ЛМС</td>\n",
       "    </tr>\n",
       "    <tr>\n",
       "      <th>13491</th>\n",
       "      <td>219215</td>\n",
       "      <td>ресторан алазанская долина</td>\n",
       "      <td>False</td>\n",
       "      <td>ресторан</td>\n",
       "      <td>город Москва, Шенкурский проезд, дом 14</td>\n",
       "      <td>50</td>\n",
       "      <td>Шенкурский проезд</td>\n",
       "    </tr>\n",
       "    <tr>\n",
       "      <th>8267</th>\n",
       "      <td>157439</td>\n",
       "      <td>ресторан фьюжен плаза</td>\n",
       "      <td>False</td>\n",
       "      <td>ресторан</td>\n",
       "      <td>город Москва, Краснопресненская набережная, до...</td>\n",
       "      <td>120</td>\n",
       "      <td>Краснопресненская набережная</td>\n",
       "    </tr>\n",
       "    <tr>\n",
       "      <th>11087</th>\n",
       "      <td>186812</td>\n",
       "      <td>шаурма</td>\n",
       "      <td>False</td>\n",
       "      <td>предприятие быстрого обслуживания</td>\n",
       "      <td>город Москва, Свободный проспект, дом 33А</td>\n",
       "      <td>0</td>\n",
       "      <td>Свободный проспект</td>\n",
       "    </tr>\n",
       "    <tr>\n",
       "      <th>14318</th>\n",
       "      <td>220252</td>\n",
       "      <td>кафе бонархитект</td>\n",
       "      <td>False</td>\n",
       "      <td>кафе</td>\n",
       "      <td>город Москва, Партийный переулок, дом 1, корпус 3</td>\n",
       "      <td>40</td>\n",
       "      <td>Партийный переулок</td>\n",
       "    </tr>\n",
       "    <tr>\n",
       "      <th>14977</th>\n",
       "      <td>220587</td>\n",
       "      <td>пицца паоло</td>\n",
       "      <td>True</td>\n",
       "      <td>кафетерий</td>\n",
       "      <td>город Москва, город Зеленоград, корпус 1627</td>\n",
       "      <td>0</td>\n",
       "      <td>корпус 1627</td>\n",
       "    </tr>\n",
       "    <tr>\n",
       "      <th>6421</th>\n",
       "      <td>19728</td>\n",
       "      <td>кп мгу буфет 145</td>\n",
       "      <td>False</td>\n",
       "      <td>буфет</td>\n",
       "      <td>город Москва, территория Ленинские Горы, дом 1</td>\n",
       "      <td>24</td>\n",
       "      <td>территория Ленинские Горы</td>\n",
       "    </tr>\n",
       "  </tbody>\n",
       "</table>\n",
       "</div>"
      ],
      "text/plain": [
       "           id                 object_name  chain  \\\n",
       "5860    69777                     лепешка   True   \n",
       "14720  222959                     да, еда  False   \n",
       "12669  204019                        кафе  False   \n",
       "9897   171897                  royce club  False   \n",
       "2745    27062          мнтк мх глаза кафе  False   \n",
       "15087  214073                       милти   True   \n",
       "12728  203018       кафе грузинская кухня  False   \n",
       "4904   142559                    столовая  False   \n",
       "8403    77627                  кафе амиго  False   \n",
       "13491  219215  ресторан алазанская долина  False   \n",
       "8267   157439       ресторан фьюжен плаза  False   \n",
       "11087  186812                      шаурма  False   \n",
       "14318  220252            кафе бонархитект  False   \n",
       "14977  220587                 пицца паоло   True   \n",
       "6421    19728            кп мгу буфет 145  False   \n",
       "\n",
       "                             object_type  \\\n",
       "5860                            ресторан   \n",
       "14720                               кафе   \n",
       "12669                               кафе   \n",
       "9897                                 бар   \n",
       "2745                            ресторан   \n",
       "15087          магазин (отдел кулинарии)   \n",
       "12728                               кафе   \n",
       "4904                            столовая   \n",
       "8403                                кафе   \n",
       "13491                           ресторан   \n",
       "8267                            ресторан   \n",
       "11087  предприятие быстрого обслуживания   \n",
       "14318                               кафе   \n",
       "14977                          кафетерий   \n",
       "6421                               буфет   \n",
       "\n",
       "                                                 address  number  \\\n",
       "5860              город Москва, Привольная улица, дом 63      80   \n",
       "14720             город Москва, Ходынский бульвар, дом 4       0   \n",
       "12669  город Москва, Тихорецкий бульвар, владение 1, ...      78   \n",
       "9897             город Москва, улица Новый Арбат, дом 21      47   \n",
       "2745      город Москва, Бескудниковский бульвар, дом 59А      42   \n",
       "15087  город Москва, Реутовская улица, дом 10Б, строе...       0   \n",
       "12728  город Москва, Большая Черёмушкинская улица, дом 1      20   \n",
       "4904   город Москва, Дербеневская улица, дом 1, строе...      60   \n",
       "8403   город Москва, поселение Вороновское, посёлок Л...      35   \n",
       "13491            город Москва, Шенкурский проезд, дом 14      50   \n",
       "8267   город Москва, Краснопресненская набережная, до...     120   \n",
       "11087          город Москва, Свободный проспект, дом 33А       0   \n",
       "14318  город Москва, Партийный переулок, дом 1, корпус 3      40   \n",
       "14977        город Москва, город Зеленоград, корпус 1627       0   \n",
       "6421      город Москва, территория Ленинские Горы, дом 1      24   \n",
       "\n",
       "                             street  \n",
       "5860               Привольная улица  \n",
       "14720             Ходынский бульвар  \n",
       "12669            Тихорецкий бульвар  \n",
       "9897              улица Новый Арбат  \n",
       "2745        Бескудниковский бульвар  \n",
       "15087              Реутовская улица  \n",
       "12728  Большая Черёмушкинская улица  \n",
       "4904             Дербеневская улица  \n",
       "8403                    посёлок ЛМС  \n",
       "13491             Шенкурский проезд  \n",
       "8267   Краснопресненская набережная  \n",
       "11087            Свободный проспект  \n",
       "14318            Партийный переулок  \n",
       "14977                   корпус 1627  \n",
       "6421      территория Ленинские Горы  "
      ]
     },
     "execution_count": 42,
     "metadata": {},
     "output_type": "execute_result"
    }
   ],
   "source": [
    "rest_data.sample(15)"
   ]
  },
  {
   "cell_type": "code",
   "execution_count": 43,
   "metadata": {
    "scrolled": true
   },
   "outputs": [
    {
     "data": {
      "text/html": [
       "<div>\n",
       "<style scoped>\n",
       "    .dataframe tbody tr th:only-of-type {\n",
       "        vertical-align: middle;\n",
       "    }\n",
       "\n",
       "    .dataframe tbody tr th {\n",
       "        vertical-align: top;\n",
       "    }\n",
       "\n",
       "    .dataframe thead th {\n",
       "        text-align: right;\n",
       "    }\n",
       "</style>\n",
       "<table border=\"1\" class=\"dataframe\">\n",
       "  <thead>\n",
       "    <tr style=\"text-align: right;\">\n",
       "      <th></th>\n",
       "      <th>street</th>\n",
       "      <th>rest_count</th>\n",
       "    </tr>\n",
       "  </thead>\n",
       "  <tbody>\n",
       "    <tr>\n",
       "      <th>1647</th>\n",
       "      <td>проспект Мира</td>\n",
       "      <td>202</td>\n",
       "    </tr>\n",
       "    <tr>\n",
       "      <th>1030</th>\n",
       "      <td>Профсоюзная улица</td>\n",
       "      <td>181</td>\n",
       "    </tr>\n",
       "    <tr>\n",
       "      <th>707</th>\n",
       "      <td>Ленинградский проспект</td>\n",
       "      <td>169</td>\n",
       "    </tr>\n",
       "    <tr>\n",
       "      <th>1014</th>\n",
       "      <td>Пресненская набережная</td>\n",
       "      <td>165</td>\n",
       "    </tr>\n",
       "    <tr>\n",
       "      <th>424</th>\n",
       "      <td>Варшавское шоссе</td>\n",
       "      <td>162</td>\n",
       "    </tr>\n",
       "    <tr>\n",
       "      <th>710</th>\n",
       "      <td>Ленинский проспект</td>\n",
       "      <td>146</td>\n",
       "    </tr>\n",
       "    <tr>\n",
       "      <th>1643</th>\n",
       "      <td>проспект Вернадского</td>\n",
       "      <td>126</td>\n",
       "    </tr>\n",
       "    <tr>\n",
       "      <th>698</th>\n",
       "      <td>Кутузовский проспект</td>\n",
       "      <td>112</td>\n",
       "    </tr>\n",
       "    <tr>\n",
       "      <th>621</th>\n",
       "      <td>Каширское шоссе</td>\n",
       "      <td>109</td>\n",
       "    </tr>\n",
       "    <tr>\n",
       "      <th>628</th>\n",
       "      <td>Кировоградская улица</td>\n",
       "      <td>108</td>\n",
       "    </tr>\n",
       "  </tbody>\n",
       "</table>\n",
       "</div>"
      ],
      "text/plain": [
       "                      street  rest_count\n",
       "1647           проспект Мира         202\n",
       "1030       Профсоюзная улица         181\n",
       "707   Ленинградский проспект         169\n",
       "1014  Пресненская набережная         165\n",
       "424         Варшавское шоссе         162\n",
       "710       Ленинский проспект         146\n",
       "1643    проспект Вернадского         126\n",
       "698     Кутузовский проспект         112\n",
       "621          Каширское шоссе         109\n",
       "628     Кировоградская улица         108"
      ]
     },
     "execution_count": 43,
     "metadata": {},
     "output_type": "execute_result"
    }
   ],
   "source": [
    "# считаем, сколько на каждую улицу приходится ресторанов\n",
    "street_data = rest_data.groupby('street', as_index=False).agg({'id':'count'})\n",
    "street_data.columns = ['street', 'rest_count']\n",
    "# формируем таблицу из 10 улиц с наибольшим количеством ресторанов\n",
    "top10_streets = street_data.sort_values(by='rest_count', ascending=False).head(10)\n",
    "top10_streets"
   ]
  },
  {
   "cell_type": "markdown",
   "metadata": {},
   "source": [
    "Действительно, теперь в top-10 вошли только улицы. "
   ]
  },
  {
   "cell_type": "code",
   "execution_count": 44,
   "metadata": {},
   "outputs": [
    {
     "data": {
      "image/png": "[encoded data removed]",
      "text/plain": [
       "<Figure size 576x720 with 1 Axes>"
      ]
     },
     "metadata": {},
     "output_type": "display_data"
    }
   ],
   "source": [
    "plt.figure(figsize=(8, 10))\n",
    "top10_bar = sns.barplot(x='street', y='rest_count', data=top10_streets)\n",
    "top10_bar.set_title('10 улиц с наибольшим количеством объектов общественного питания')\n",
    "top10_bar.set_xlabel('Улица')\n",
    "top10_bar.set_ylabel('Количество объектов общественного питания')\n",
    "plt.xticks(rotation=90)\n",
    "plt.show()"
   ]
  },
  {
   "cell_type": "code",
   "execution_count": 45,
   "metadata": {
    "scrolled": false
   },
   "outputs": [],
   "source": [
    "# формируем таблицу с улицами, где всего один объект общественного питания\n",
    "one_rest_streets = street_data[street_data['rest_count'] == 1]"
   ]
  },
  {
   "cell_type": "markdown",
   "metadata": {},
   "source": [
    "Действительно, в этой выборке мы получили описанные выше ошибки. "
   ]
  },
  {
   "cell_type": "code",
   "execution_count": 46,
   "metadata": {
    "scrolled": true
   },
   "outputs": [
    {
     "data": {
      "text/plain": [
       "array(['1-й Балтийский переулок', '1-й Басманный переулок',\n",
       "       '1-й Ботанический проезд', '1-й Вешняковский проезд',\n",
       "       '1-й Голутвинский переулок', '1-й Заречный переулок',\n",
       "       '1-й Зачатьевский переулок', '1-й Кирпичный переулок',\n",
       "       '1-й Кожевнический переулок', '1-й Кожуховский проезд',\n",
       "       '1-й Коптельский переулок', '1-й Котельнический переулок',\n",
       "       '1-й Краснокурсантский проезд', '1-й Курьяновский проезд',\n",
       "       '1-й Лучевой просек', '1-й Люсиновский переулок',\n",
       "       '1-й Магистральный тупик', '1-й Монетчиковский переулок',\n",
       "       '1-й Николощеповский переулок', '1-й Новокузнецкий переулок',\n",
       "       '1-й Обыденский переулок', '1-й Рижский переулок',\n",
       "       '1-й Саратовский проезд', '1-й Сельскохозяйственный проезд',\n",
       "       '1-й Сетуньский проезд', '1-й Силикатный проезд',\n",
       "       '1-й Спасоналивковский переулок', '1-й Тушинский проезд',\n",
       "       '1-й проезд Марьиной Рощи', '1-я Аэропортовская улица',\n",
       "       '1-я Боевская улица', '1-я Ватутинская улица',\n",
       "       '1-я Гражданская улица', '1-я Карачаровская улица',\n",
       "       '1-я Миусская улица', '1-я Напрудная улица',\n",
       "       '1-я Пугачёвская улица', '1-я Чоботовская аллея',\n",
       "       '1-я линия Хорошёвского Серебряного Бора',\n",
       "       '104-й километр Московской Кольцевой Автодороги',\n",
       "       '11-я Парковая улица', '12-й проезд Марьиной Рощи',\n",
       "       '14-я Парковая улица', '17-й проезд Марьиной Рощи',\n",
       "       '2-й Балтийский переулок', '2-й Боткинский проезд',\n",
       "       '2-й Верхний Михайловский проезд', '2-й Вышеславцев переулок',\n",
       "       '2-й Иртышский проезд', '2-й Кабельный проезд',\n",
       "       '2-й Кадашёвский переулок', '2-й Колобовский переулок',\n",
       "       '2-й Красносельский переулок', '2-й Курьяновский проезд',\n",
       "       '2-й Лучевой просек', '2-й Магистральный тупик',\n",
       "       '2-й Неопалимовский переулок', '2-й Новокузнецкий переулок',\n",
       "       '2-й Новоподмосковный переулок', '2-й Обыденский переулок',\n",
       "       '2-й Полевой переулок', '2-й Рощинский проезд',\n",
       "       '2-й Сельскохозяйственный проезд', '2-й Сетуньский проезд',\n",
       "       '2-й Стрелецкий проезд', '2-й Хуторской переулок',\n",
       "       '2-й Щемиловский переулок', '2-я Барышевская улица',\n",
       "       '2-я Вольская улица', '2-я Гражданская улица',\n",
       "       '2-я Дубровская улица', '2-я Квесисская улица',\n",
       "       '2-я Напрудная улица', '2-я Прядильная улица',\n",
       "       '2-я Сокольническая улица', '2-я Филёвская улица',\n",
       "       '2-я Ямская улица', '2-я улица Бухвостова',\n",
       "       '2-я улица Марьиной Рощи', '2-я улица Энтузиастов',\n",
       "       '26-й километр Московской Кольцевой Автодороги',\n",
       "       '3-й Дорожный проезд', '3-й Кадашёвский переулок',\n",
       "       '3-й Кожуховский проезд', '3-й Лихачёвский переулок',\n",
       "       '3-й Лучевой просек', '3-й Павловский переулок',\n",
       "       '3-й Стрелецкий проезд', '3-й Угрешский проезд',\n",
       "       '3-й проезд Подбельского', '3-я Железногорская улица',\n",
       "       '3-я Новоостанкинская улица', '3-я Песчаная улица',\n",
       "       '3-я Подрезковская улица', '3-я Северная линия',\n",
       "       '3-я Черепковская улица',\n",
       "       '30-й километр Московской Кольцевой Автодороги',\n",
       "       '31-й километр Московской Кольцевой Автодороги',\n",
       "       '34-й километр Московской Кольцевой Автодороги',\n",
       "       '38-й километр Московской Кольцевой Автодороги',\n",
       "       '39-й километр Калужского шоссе', '4-й Вешняковский проезд',\n",
       "       '4-й Вятский переулок', '4-й Кожевнический переулок',\n",
       "       '4-й Рощинский проезд', '4-я Гражданская улица',\n",
       "       '4-я Кабельная улица',\n",
       "       '42-й километр Московской Кольцевой Автодороги',\n",
       "       '43-й километр МКАД', '5-й Котельнический переулок',\n",
       "       '5-й Монетчиковский переулок', '5-й Рощинский проезд',\n",
       "       '5-й проезд Марьиной Рощи', '5-й проезд Подбельского',\n",
       "       '56-й километр Московской Кольцевой Автодороги',\n",
       "       '6-й Лучевой просек', '6-я Кожуховская улица', '6-я улица Лазенки',\n",
       "       '6-я улица Новые Сады',\n",
       "       '65-й километр Московской Кольцевой Автодороги',\n",
       "       '67-й километр Московской Кольцевой Автодороги',\n",
       "       '7-й Ростовский переулок', '7-я Северная линия',\n",
       "       '7-я улица Лазенки',\n",
       "       '78-й километр Московской Кольцевой Автодороги',\n",
       "       '8-й проезд Марьиной Рощи', '8-я улица Соколиной Горы',\n",
       "       '80-й километр Московской Кольцевой Автодороги',\n",
       "       'Авиационный переулок', 'Автомобильный проезд', 'Алымов переулок',\n",
       "       'Андреево-Забелинская улица', 'Андроньевская площадь',\n",
       "       'Анненская улица', 'Анненский проезд', 'Армавирская улица',\n",
       "       'Армейская улица', 'Архангельский переулок', 'Астрадамский проезд',\n",
       "       'Ащеулов переулок', 'Аэрофлотская улица', 'Бабаевская улица',\n",
       "       'Базовая улица', 'Балтийская улица', 'Банный проезд',\n",
       "       'Барабанный переулок', 'Басовская улица',\n",
       "       'Берниковская набережная', 'Бескудниковский переулок',\n",
       "       'Бескудниковский проезд', 'Библиотечная улица',\n",
       "       'Богоявленский переулок', 'Больничный переулок',\n",
       "       'Большая Бутовская улица', 'Большая Внуковская улица',\n",
       "       'Большая Октябрьская улица', 'Большая Ширяевская улица',\n",
       "       'Большая Юшуньская улица', 'Большой Афанасьевский переулок',\n",
       "       'Большой Знаменский переулок', 'Большой Казённый переулок',\n",
       "       'Большой Кисельный переулок', 'Большой Николопесковский переулок',\n",
       "       'Большой Полуярославский переулок',\n",
       "       'Большой Предтеченский переулок', 'Большой Симоновский переулок',\n",
       "       'Большой Строченовский переулок',\n",
       "       'Большой Трёхсвятительский переулок', 'Боровая улица',\n",
       "       'Боровский проезд', 'Ботанический переулок', 'Бродников переулок',\n",
       "       'Брошевский переулок', 'Будайская улица', 'Будайский проезд',\n",
       "       'Бутиковский переулок', 'Вагоноремонтная улица',\n",
       "       'Варсонофьевский переулок', 'Вербная улица',\n",
       "       'Верхний Золоторожский переулок', 'Верхняя улица',\n",
       "       'Винницкая улица', 'Волоцкой переулок', 'Воробьёвское шоссе',\n",
       "       'Воротниковский переулок', 'Врачебный проезд', 'Выползов переулок',\n",
       "       'Высокая улица', 'Вяземская улица', 'Газгольдерная улица',\n",
       "       'Гаражная улица', 'Гвардейская улица', 'Гжатская улица',\n",
       "       'Гжельский переулок', 'Глазовский переулок', 'Глебовская улица',\n",
       "       'Глинистый переулок', 'Глинищевский переулок',\n",
       "       'Гольяновская улица', 'Гончарная набережная',\n",
       "       'Госпитальный переулок', 'Гранатный переулок', 'Гродненская улица',\n",
       "       'Дегтярный переулок', 'Делегатская улица', 'Денежный переулок',\n",
       "       'Дивизионная улица', 'Дмитровский переулок', 'Докучаев переулок',\n",
       "       'Дорогобужская улица', 'Егорьевский проезд', 'Елоховский проезд',\n",
       "       'Есенинский бульвар', 'Живарев переулок', 'Жигулёвская улица',\n",
       "       'Жуков проезд', 'Заводской проезд', 'Зарайская улица',\n",
       "       'Звонарский переулок', 'Зубарев переулок', 'Зубовская улица',\n",
       "       'Зюзинская улица', 'Иваньковское шоссе', 'Ижорский проезд',\n",
       "       'Изваринская улица', 'Известковый переулок',\n",
       "       'Измайловская площадь', 'Икшинская улица', 'Институтский переулок',\n",
       "       'Интернациональная улица', 'Калибровская улица',\n",
       "       'Калошин переулок', 'Канатчиковский проезд', 'Карельский бульвар',\n",
       "       'Каскадная улица', 'Кирпичная улица', 'Кожевнический проезд',\n",
       "       'Козицкий переулок', 'Композиторская улица', 'Конаковский проезд',\n",
       "       'Кондрашёвский тупик', 'Кооперативная улица', 'Коптевский бульвар',\n",
       "       'Костомаровская набережная', 'Красногвардейский бульвар',\n",
       "       'Красноказарменный проезд', 'Кремлёвская набережная',\n",
       "       'Кривоарбатский переулок', 'Кузьминская улица', 'Кулаков переулок',\n",
       "       'Кунцевская улица', 'Курганская улица', 'Кучин переулок',\n",
       "       'Ландышевая улица', 'Лениногорская улица', 'Лефортовский переулок',\n",
       "       'Лечебная улица', 'Линейный проезд', 'Лонгиновская улица',\n",
       "       'Лосевская улица', 'Лужнецкий проезд', 'Лыщиков переулок', 'МКАД',\n",
       "       'Магаданская улица', 'Мажоров переулок',\n",
       "       'Малая Андроньевская улица', 'Малая Переяславская улица',\n",
       "       'Малая Тульская улица', 'Малый Власьевский переулок',\n",
       "       'Малый Златоустинский переулок', 'Малый Знаменский переулок',\n",
       "       'Малый Ивановский переулок', 'Малый Казённый переулок',\n",
       "       'Малый Каретный переулок', 'Малый Конюшковский переулок',\n",
       "       'Малый Коптевский проезд', 'Малый Лёвшинский переулок',\n",
       "       'Малый Николопесковский переулок',\n",
       "       'Малый Полуярославский переулок', 'Малый Путинковский переулок',\n",
       "       'Малый Саввинский переулок', 'Малый Татарский переулок',\n",
       "       'Малый Толмачёвский переулок', 'Мамоновский переулок',\n",
       "       'Мансуровский переулок', 'Мариупольская улица', 'Машкинское шоссе',\n",
       "       'Международная улица', 'Мерзляковский переулок',\n",
       "       'Миллионная улица', 'Минаевский переулок', 'Мирской переулок',\n",
       "       'Миусская площадь', 'Михневский проезд', 'Мишина улица',\n",
       "       'Молодёжная улица', 'Мрузовский переулок', 'Нагорный бульвар',\n",
       "       'Напольный проезд', 'Напрудный переулок', 'Нарвская улица',\n",
       "       'Наро-Фоминская улица', 'Народный проспект',\n",
       "       'Настасьинский переулок', 'Научный проезд', 'Нелидовская улица',\n",
       "       'Неманский проезд', 'Несвижский переулок',\n",
       "       'Нижний Журавлёв переулок', 'Нижний Кисельный переулок',\n",
       "       'Никитский переулок', 'Новобутовский проезд',\n",
       "       'Нововладыкинский проезд', 'Новолучанская улица',\n",
       "       'Новоостаповская улица', 'Новопресненский переулок',\n",
       "       'Новорижское шоссе', 'Новорублёвская улица', 'Новосибирская улица',\n",
       "       'Новохорошёвский проезд', 'Норильская улица', 'Озёрная аллея',\n",
       "       'Олонецкий проезд', 'Оренбургская улица',\n",
       "       'Орехово-Зуевский проезд', 'Отрадный проезд', 'Парусный проезд',\n",
       "       'Педагогическая улица', 'Пенягинская улица', 'Перовский проезд',\n",
       "       'Пестовский переулок', 'Песчаная улица', 'Песчаный переулок',\n",
       "       'Петроверигский переулок', 'Петровско-Разумовская аллея',\n",
       "       'Печорская улица', 'Пионерская улица', 'Платовская улица',\n",
       "       'Плетешковский переулок', 'Подольская улица',\n",
       "       'Подсосенский переулок', 'Пожарский переулок', 'Полтавская улица',\n",
       "       'Попов проезд', 'Посланников переулок', 'Прибрежный проезд',\n",
       "       'Причальный проезд', 'Производственная улица', 'Прокатная улица',\n",
       "       'Проточный переулок', 'Прохладная улица', 'Пуговишников переулок',\n",
       "       'Пулковская улица', 'Пыжёвский переулок', 'Пяловская улица',\n",
       "       'Рижский проезд', 'Рубцов переулок', 'Русаковская набережная',\n",
       "       'Садовая-Сухаревская улица', 'Садовнический проезд',\n",
       "       'Сверчков переулок', 'Северодвинская улица',\n",
       "       'Сеченовский переулок', 'Сибирский проезд', 'Сивашская улица',\n",
       "       'Симферопольский проезд', 'Синельниковская улица',\n",
       "       'Скатертный переулок', 'Скорняжный переулок',\n",
       "       'Соймоновский проезд', 'Солнечная аллея', 'Солнечногорский проезд',\n",
       "       'Сормовский проезд', 'Софийская набережная', 'Союзный проспект',\n",
       "       'Спартаковский переулок', 'Спортивная улица', 'Спортивный проезд',\n",
       "       'Средний Кондратьевский переулок',\n",
       "       'Средний Овчинниковский переулок', 'Средняя Калитниковская улица',\n",
       "       'Сретенский тупик', 'Стандартная улица', 'Староалексеевская улица',\n",
       "       'Старомарьинское шоссе', 'Старомонетный переулок',\n",
       "       'Староникольская улица', 'Старослободская улица',\n",
       "       'Столовый переулок', 'Стрелецкая улица',\n",
       "       'Стрельбищенский переулок', 'Стройковская улица',\n",
       "       'Стромынский переулок', 'Сумская улица', 'Таганрогская улица',\n",
       "       'Таможенный проезд', 'Тарусская улица', 'Тарханская улица',\n",
       "       'Таёжная улица', 'Театральная аллея', 'Тенистый проезд',\n",
       "       'Тессинский переулок', 'Тестовская улица', 'Тетеринский переулок',\n",
       "       'Тимирязевский проезд', 'Тихая улица', 'Тихвинский переулок',\n",
       "       'Тихий тупик', 'Триумфальная площадь', 'Троилинский переулок',\n",
       "       'Троицкий бульвар', 'Тургеневская площадь', 'Уржумская улица',\n",
       "       'Успенский переулок', 'Утренняя улица', 'Учинская улица',\n",
       "       'Фармацевтический проезд', 'Федоскинская улица',\n",
       "       'Феодосийская улица', 'Физическая улица', 'Филипповский переулок',\n",
       "       'Фролов переулок', 'Фруктовая улица', 'Хавская улица',\n",
       "       'Хвалынский бульвар', 'Хилков переулок', 'Хитровский переулок',\n",
       "       'Хлебный переулок', 'Хлыновский тупик', 'Хованская улица',\n",
       "       'Хохловский переулок', 'Центральный проспект',\n",
       "       'Челюскинская улица', 'Чермянская улица', 'Чермянский проезд',\n",
       "       'Черниговский переулок', 'Черницынский проезд',\n",
       "       'Черноморский бульвар', 'Чукотский проезд', 'Чуксин тупик',\n",
       "       'Шепелюгинская улица', 'Штурвальная улица', 'Шубинский переулок',\n",
       "       'Щёлковский проезд', 'Электрический переулок', 'Юрловский проезд',\n",
       "       'Якиманский переулок', 'Ялтинская улица', 'Янтарный проезд',\n",
       "       'Ясногорская улица', 'Яузский бульвар', 'Яхромская улица',\n",
       "       'вблизи деревни Безобразово', 'вблизи деревни Крекшино',\n",
       "       'вблизи деревни Троицкое', 'вблизи пос.Курилово', 'владение 164',\n",
       "       'владение 32Б', 'владение 99А', 'деревня Бабенки',\n",
       "       'деревня Бунчиха', 'деревня Верхнее Валуево', 'деревня Внуково',\n",
       "       'деревня Голохвастово', 'деревня Десна', 'деревня Картмазово',\n",
       "       'деревня Колотилово', 'деревня Крёкшино', 'деревня Ликова',\n",
       "       'деревня Мостовское', 'деревня Николо-Хованское',\n",
       "       'деревня Поповка', 'деревня Пыхтино', 'деревня Рассудово',\n",
       "       'деревня Сенькино-Секерино', 'деревня Столбово',\n",
       "       'деревня Фоминское', 'деревня Шаганино', 'деревня Яковлевское',\n",
       "       'деревня Ясенки', 'дом 1', 'дом 10', 'дом 11', 'дом 118Б',\n",
       "       'дом 14', 'дом 16', 'дом 19', 'дом 19/20', 'дом 2/34', 'дом 20',\n",
       "       'дом 20/1/27', 'дом 23', 'дом 26/1', 'дом 28', 'дом 37',\n",
       "       'дом 38/14/23', 'дом 39', 'дом 4', 'дом 43А', 'дом 46', 'дом 5/14',\n",
       "       'дом 52А', 'дом 58/23', 'дом 6', 'дом 8', 'дом 8А/5', 'дом 9',\n",
       "       'дом 90', 'домовладение 11', 'квартал № 30', 'квартал № 80',\n",
       "       'корпус 1004А', 'корпус 1016', 'корпус 1017', 'корпус 1115',\n",
       "       'корпус 1122', 'корпус 1128', 'корпус 1130', 'корпус 1138',\n",
       "       'корпус 1140', 'корпус 118', 'корпус 1214', 'корпус 123',\n",
       "       'корпус 126', 'корпус 1410', 'корпус 142', 'корпус 1426',\n",
       "       'корпус 1440', 'корпус 1446', 'корпус 1449', 'корпус 1455',\n",
       "       'корпус 1464', 'корпус 1468', 'корпус 1469', 'корпус 1519',\n",
       "       'корпус 1530', 'корпус 1548', 'корпус 1555', 'корпус 1556',\n",
       "       'корпус 1602А', 'корпус 1604', 'корпус 1609', 'корпус 1611',\n",
       "       'корпус 1624Б', 'корпус 1628', 'корпус 163', 'корпус 1632',\n",
       "       'корпус 1634', 'корпус 1637', 'корпус 1641', 'корпус 1642',\n",
       "       'корпус 1650', 'корпус 1651', 'корпус 1816', 'корпус 2011',\n",
       "       'корпус 2014', 'корпус 2031', 'корпус 2045', 'корпус 205А',\n",
       "       'корпус 222А', 'корпус 2312', 'корпус 305', 'корпус 314',\n",
       "       'корпус 315', 'корпус 330', 'корпус 341А', 'корпус 344А',\n",
       "       'корпус 401', 'корпус 403А', 'корпус 421А', 'корпус 425',\n",
       "       'корпус 426А', 'корпус 428А', 'корпус 429', 'корпус 430А',\n",
       "       'корпус 435', 'корпус 435А', 'корпус 436', 'корпус 507',\n",
       "       'корпус 509', 'корпус 514', 'корпус 529', 'корпус 532',\n",
       "       'корпус 607', 'корпус 617А', 'корпус 618', 'корпус 621А',\n",
       "       'корпус 711', 'корпус 817', 'корпус 818', 'корпус 822',\n",
       "       'корпус 826', 'корпус 834А', 'корпус 834В', 'корпус 844',\n",
       "       'корпус 855', 'корпус 864', 'корпус 912', 'корпус 913А',\n",
       "       'корпус 921А', 'корпус 929А', 'переулок Васнецова',\n",
       "       'переулок Красина', 'переулок Маяковского', 'переулок Расковой',\n",
       "       'переулок Хользунова', 'площадь Академика Курчатова',\n",
       "       'площадь Журавлёва', 'посёлок Газопровод',\n",
       "       'посёлок ДСК \"Мичуринец\"', 'посёлок Курилово', 'посёлок Остафьево',\n",
       "       'посёлок Первомайское', 'проезд Добролюбова', 'проезд Донелайтиса',\n",
       "       'проезд Досфлота', 'проезд Нансена', 'проезд Черепановых',\n",
       "       'проезд Якушкина', 'проектируемый проезд № 1980',\n",
       "       'проспект 40 лет Октября', 'село Былово', 'село Остафьево',\n",
       "       'улица 9 Мая', 'улица Авиаконструктора Микояна',\n",
       "       'улица Айвазовского', 'улица Академика Арцимовича',\n",
       "       'улица Академика Комарова', 'улица Академика Опарина',\n",
       "       'улица Академика Павлова', 'улица Академика Петровского',\n",
       "       'улица Академика Понтрягина', 'улица Академика Семёнова',\n",
       "       'улица Алексея Дикого', 'улица Анатолия Живова', 'улица Артюхиной',\n",
       "       'улица Атарбекова', 'улица Благуша', 'улица Богданова',\n",
       "       'улица Богородский Вал', 'улица Бориса Жигулёнкова',\n",
       "       'улица Брусилова', 'улица Васильцовский Стан',\n",
       "       'улица Вторая Пятилетка', 'улица Высоцкого', 'улица Гамалеи',\n",
       "       'улица Генерала Ермолова', 'улица Главмосстроя', 'улица Гончарова',\n",
       "       'улица Девятая Рота', 'улица Демьяна Бедного',\n",
       "       'улица Дмитрия Рябинкина', 'улица Достоевского', 'улица Дубки',\n",
       "       'улица Евгения Родионова', 'улица Екатерины Будановой',\n",
       "       'улица Жебрунова', 'улица Жуковского',\n",
       "       'улица Захарьинские Дворики', 'улица Зенитчиков',\n",
       "       'улица Знаменские Садки', 'улица Инессы Арманд', 'улица Капотня',\n",
       "       'улица Клочкова', 'улица Константина Царёва',\n",
       "       'улица Константинова', 'улица Корнея Чуковского', 'улица Кошкина',\n",
       "       'улица Красных Зорь', 'улица Крутицкий Вал', 'улица Кубинка',\n",
       "       'улица Кутузова', 'улица Кухмистерова', 'улица Лапина',\n",
       "       'улица Лефортовский Вал',\n",
       "       'улица Линии Октябрьской Железной Дороги', 'улица Льва Яшина',\n",
       "       'улица Максимова', 'улица Малая Ордынка', 'улица Малые Каменщики',\n",
       "       'улица Маршала Мерецкова', 'улица Маршала Новикова',\n",
       "       'улица Медведева', 'улица Медиков', 'улица Можайский Вал',\n",
       "       'улица Недорубова', 'улица Немчинова', 'улица Никитина',\n",
       "       'улица Николаева', 'улица Новая Дорога', 'улица Павла Андреева',\n",
       "       'улица Паперника', 'улица Пивченкова', 'улица Подвойского',\n",
       "       'улица Полины Осипенко', 'улица Пржевальского', 'улица Раевского',\n",
       "       'улица Ращупкина', 'улица Ремизова', 'улица Рогова',\n",
       "       'улица Рокотова', 'улица Рословка', 'улица Ротерта',\n",
       "       'улица Рудневой', 'улица Савельева', 'улица Сайкина',\n",
       "       'улица Саляма Адиля', 'улица Советской Армии',\n",
       "       'улица Старые Кузьминки', 'улица Степана Шутова', 'улица Уткина',\n",
       "       'улица Фадеева', 'улица Фонвизина', 'улица Шеногина',\n",
       "       'улица Шумилова', 'улица Шумкина', 'улица Щорса', 'шоссе Фрезер'],\n",
       "      dtype=object)"
      ]
     },
     "execution_count": 46,
     "metadata": {},
     "output_type": "execute_result"
    }
   ],
   "source": [
    "one_rest_streets['street'].unique()"
   ]
  },
  {
   "cell_type": "markdown",
   "metadata": {},
   "source": [
    "Видим, что для некоторых наблюдений названия улиц сохранились некорректно. Кроме записей дома, корпуса, строения, оказались также указания о деревне и близости к ней и другие формулировки, которые не содержат в себе названия улицы. Удалим такие наблюдения с помощью цикла из таблицы one_rest_street, которая содержит данные об улицах, на которых размещен всего один объект общественного питания. "
   ]
  },
  {
   "cell_type": "code",
   "execution_count": 47,
   "metadata": {
    "scrolled": true
   },
   "outputs": [
    {
     "data": {
      "text/plain": [
       "array(['1-й Балтийский переулок', '1-й Басманный переулок',\n",
       "       '1-й Ботанический проезд', '1-й Вешняковский проезд',\n",
       "       '1-й Голутвинский переулок', '1-й Заречный переулок',\n",
       "       '1-й Зачатьевский переулок', '1-й Кирпичный переулок',\n",
       "       '1-й Кожевнический переулок', '1-й Кожуховский проезд',\n",
       "       '1-й Коптельский переулок', '1-й Котельнический переулок',\n",
       "       '1-й Краснокурсантский проезд', '1-й Курьяновский проезд',\n",
       "       '1-й Лучевой просек', '1-й Люсиновский переулок',\n",
       "       '1-й Магистральный тупик', '1-й Монетчиковский переулок',\n",
       "       '1-й Николощеповский переулок', '1-й Новокузнецкий переулок',\n",
       "       '1-й Обыденский переулок', '1-й Рижский переулок',\n",
       "       '1-й Саратовский проезд', '1-й Сельскохозяйственный проезд',\n",
       "       '1-й Сетуньский проезд', '1-й Силикатный проезд',\n",
       "       '1-й Спасоналивковский переулок', '1-й Тушинский проезд',\n",
       "       '1-й проезд Марьиной Рощи', '1-я Аэропортовская улица',\n",
       "       '1-я Боевская улица', '1-я Ватутинская улица',\n",
       "       '1-я Гражданская улица', '1-я Карачаровская улица',\n",
       "       '1-я Миусская улица', '1-я Напрудная улица',\n",
       "       '1-я Пугачёвская улица', '1-я Чоботовская аллея',\n",
       "       '1-я линия Хорошёвского Серебряного Бора', '11-я Парковая улица',\n",
       "       '12-й проезд Марьиной Рощи', '14-я Парковая улица',\n",
       "       '17-й проезд Марьиной Рощи', '2-й Балтийский переулок',\n",
       "       '2-й Боткинский проезд', '2-й Верхний Михайловский проезд',\n",
       "       '2-й Вышеславцев переулок', '2-й Иртышский проезд',\n",
       "       '2-й Кабельный проезд', '2-й Кадашёвский переулок',\n",
       "       '2-й Колобовский переулок', '2-й Красносельский переулок',\n",
       "       '2-й Курьяновский проезд', '2-й Лучевой просек',\n",
       "       '2-й Магистральный тупик', '2-й Неопалимовский переулок',\n",
       "       '2-й Новокузнецкий переулок', '2-й Новоподмосковный переулок',\n",
       "       '2-й Обыденский переулок', '2-й Полевой переулок',\n",
       "       '2-й Рощинский проезд', '2-й Сельскохозяйственный проезд',\n",
       "       '2-й Сетуньский проезд', '2-й Стрелецкий проезд',\n",
       "       '2-й Хуторской переулок', '2-й Щемиловский переулок',\n",
       "       '2-я Барышевская улица', '2-я Вольская улица',\n",
       "       '2-я Гражданская улица', '2-я Дубровская улица',\n",
       "       '2-я Квесисская улица', '2-я Напрудная улица',\n",
       "       '2-я Прядильная улица', '2-я Сокольническая улица',\n",
       "       '2-я Филёвская улица', '2-я Ямская улица', '2-я улица Бухвостова',\n",
       "       '2-я улица Марьиной Рощи', '2-я улица Энтузиастов',\n",
       "       '3-й Дорожный проезд', '3-й Кадашёвский переулок',\n",
       "       '3-й Кожуховский проезд', '3-й Лихачёвский переулок',\n",
       "       '3-й Лучевой просек', '3-й Павловский переулок',\n",
       "       '3-й Стрелецкий проезд', '3-й Угрешский проезд',\n",
       "       '3-й проезд Подбельского', '3-я Железногорская улица',\n",
       "       '3-я Новоостанкинская улица', '3-я Песчаная улица',\n",
       "       '3-я Подрезковская улица', '3-я Северная линия',\n",
       "       '3-я Черепковская улица', '4-й Вешняковский проезд',\n",
       "       '4-й Вятский переулок', '4-й Кожевнический переулок',\n",
       "       '4-й Рощинский проезд', '4-я Гражданская улица',\n",
       "       '4-я Кабельная улица', '5-й Котельнический переулок',\n",
       "       '5-й Монетчиковский переулок', '5-й Рощинский проезд',\n",
       "       '5-й проезд Марьиной Рощи', '5-й проезд Подбельского',\n",
       "       '6-й Лучевой просек', '6-я Кожуховская улица', '6-я улица Лазенки',\n",
       "       '6-я улица Новые Сады', '7-й Ростовский переулок',\n",
       "       '7-я Северная линия', '7-я улица Лазенки',\n",
       "       '8-й проезд Марьиной Рощи', '8-я улица Соколиной Горы',\n",
       "       'Авиационный переулок', 'Автомобильный проезд', 'Алымов переулок',\n",
       "       'Андреево-Забелинская улица', 'Андроньевская площадь',\n",
       "       'Анненская улица', 'Анненский проезд', 'Армавирская улица',\n",
       "       'Армейская улица', 'Архангельский переулок', 'Астрадамский проезд',\n",
       "       'Ащеулов переулок', 'Аэрофлотская улица', 'Бабаевская улица',\n",
       "       'Базовая улица', 'Балтийская улица', 'Банный проезд',\n",
       "       'Барабанный переулок', 'Басовская улица',\n",
       "       'Берниковская набережная', 'Бескудниковский переулок',\n",
       "       'Бескудниковский проезд', 'Библиотечная улица',\n",
       "       'Богоявленский переулок', 'Больничный переулок',\n",
       "       'Большая Бутовская улица', 'Большая Внуковская улица',\n",
       "       'Большая Октябрьская улица', 'Большая Ширяевская улица',\n",
       "       'Большая Юшуньская улица', 'Большой Афанасьевский переулок',\n",
       "       'Большой Знаменский переулок', 'Большой Казённый переулок',\n",
       "       'Большой Кисельный переулок', 'Большой Николопесковский переулок',\n",
       "       'Большой Полуярославский переулок',\n",
       "       'Большой Предтеченский переулок', 'Большой Симоновский переулок',\n",
       "       'Большой Строченовский переулок',\n",
       "       'Большой Трёхсвятительский переулок', 'Боровая улица',\n",
       "       'Боровский проезд', 'Ботанический переулок', 'Бродников переулок',\n",
       "       'Брошевский переулок', 'Будайская улица', 'Будайский проезд',\n",
       "       'Бутиковский переулок', 'Вагоноремонтная улица',\n",
       "       'Варсонофьевский переулок', 'Вербная улица',\n",
       "       'Верхний Золоторожский переулок', 'Верхняя улица',\n",
       "       'Винницкая улица', 'Волоцкой переулок', 'Воробьёвское шоссе',\n",
       "       'Воротниковский переулок', 'Врачебный проезд', 'Выползов переулок',\n",
       "       'Высокая улица', 'Вяземская улица', 'Газгольдерная улица',\n",
       "       'Гаражная улица', 'Гвардейская улица', 'Гжатская улица',\n",
       "       'Гжельский переулок', 'Глазовский переулок', 'Глебовская улица',\n",
       "       'Глинистый переулок', 'Глинищевский переулок',\n",
       "       'Гольяновская улица', 'Гончарная набережная',\n",
       "       'Госпитальный переулок', 'Гранатный переулок', 'Гродненская улица',\n",
       "       'Дегтярный переулок', 'Делегатская улица', 'Денежный переулок',\n",
       "       'Дивизионная улица', 'Дмитровский переулок', 'Докучаев переулок',\n",
       "       'Дорогобужская улица', 'Егорьевский проезд', 'Елоховский проезд',\n",
       "       'Есенинский бульвар', 'Живарев переулок', 'Жигулёвская улица',\n",
       "       'Жуков проезд', 'Заводской проезд', 'Зарайская улица',\n",
       "       'Звонарский переулок', 'Зубарев переулок', 'Зубовская улица',\n",
       "       'Зюзинская улица', 'Иваньковское шоссе', 'Ижорский проезд',\n",
       "       'Изваринская улица', 'Известковый переулок',\n",
       "       'Измайловская площадь', 'Икшинская улица', 'Институтский переулок',\n",
       "       'Интернациональная улица', 'Калибровская улица',\n",
       "       'Калошин переулок', 'Канатчиковский проезд', 'Карельский бульвар',\n",
       "       'Каскадная улица', 'Кирпичная улица', 'Кожевнический проезд',\n",
       "       'Козицкий переулок', 'Композиторская улица', 'Конаковский проезд',\n",
       "       'Кондрашёвский тупик', 'Кооперативная улица', 'Коптевский бульвар',\n",
       "       'Костомаровская набережная', 'Красногвардейский бульвар',\n",
       "       'Красноказарменный проезд', 'Кремлёвская набережная',\n",
       "       'Кривоарбатский переулок', 'Кузьминская улица', 'Кулаков переулок',\n",
       "       'Кунцевская улица', 'Курганская улица', 'Кучин переулок',\n",
       "       'Ландышевая улица', 'Лениногорская улица', 'Лефортовский переулок',\n",
       "       'Лечебная улица', 'Линейный проезд', 'Лонгиновская улица',\n",
       "       'Лосевская улица', 'Лужнецкий проезд', 'Лыщиков переулок',\n",
       "       'Магаданская улица', 'Мажоров переулок',\n",
       "       'Малая Андроньевская улица', 'Малая Переяславская улица',\n",
       "       'Малая Тульская улица', 'Малый Власьевский переулок',\n",
       "       'Малый Златоустинский переулок', 'Малый Знаменский переулок',\n",
       "       'Малый Ивановский переулок', 'Малый Казённый переулок',\n",
       "       'Малый Каретный переулок', 'Малый Конюшковский переулок',\n",
       "       'Малый Коптевский проезд', 'Малый Лёвшинский переулок',\n",
       "       'Малый Николопесковский переулок',\n",
       "       'Малый Полуярославский переулок', 'Малый Путинковский переулок',\n",
       "       'Малый Саввинский переулок', 'Малый Татарский переулок',\n",
       "       'Малый Толмачёвский переулок', 'Мамоновский переулок',\n",
       "       'Мансуровский переулок', 'Мариупольская улица', 'Машкинское шоссе',\n",
       "       'Международная улица', 'Мерзляковский переулок',\n",
       "       'Миллионная улица', 'Минаевский переулок', 'Мирской переулок',\n",
       "       'Миусская площадь', 'Михневский проезд', 'Мишина улица',\n",
       "       'Молодёжная улица', 'Мрузовский переулок', 'Нагорный бульвар',\n",
       "       'Напольный проезд', 'Напрудный переулок', 'Нарвская улица',\n",
       "       'Наро-Фоминская улица', 'Народный проспект',\n",
       "       'Настасьинский переулок', 'Научный проезд', 'Нелидовская улица',\n",
       "       'Неманский проезд', 'Несвижский переулок',\n",
       "       'Нижний Журавлёв переулок', 'Нижний Кисельный переулок',\n",
       "       'Никитский переулок', 'Новобутовский проезд',\n",
       "       'Нововладыкинский проезд', 'Новолучанская улица',\n",
       "       'Новоостаповская улица', 'Новопресненский переулок',\n",
       "       'Новорижское шоссе', 'Новорублёвская улица', 'Новосибирская улица',\n",
       "       'Новохорошёвский проезд', 'Норильская улица', 'Озёрная аллея',\n",
       "       'Олонецкий проезд', 'Оренбургская улица',\n",
       "       'Орехово-Зуевский проезд', 'Отрадный проезд', 'Парусный проезд',\n",
       "       'Педагогическая улица', 'Пенягинская улица', 'Перовский проезд',\n",
       "       'Пестовский переулок', 'Песчаная улица', 'Песчаный переулок',\n",
       "       'Петроверигский переулок', 'Петровско-Разумовская аллея',\n",
       "       'Печорская улица', 'Пионерская улица', 'Платовская улица',\n",
       "       'Плетешковский переулок', 'Подольская улица',\n",
       "       'Подсосенский переулок', 'Пожарский переулок', 'Полтавская улица',\n",
       "       'Попов проезд', 'Посланников переулок', 'Прибрежный проезд',\n",
       "       'Причальный проезд', 'Производственная улица', 'Прокатная улица',\n",
       "       'Проточный переулок', 'Прохладная улица', 'Пуговишников переулок',\n",
       "       'Пулковская улица', 'Пыжёвский переулок', 'Пяловская улица',\n",
       "       'Рижский проезд', 'Рубцов переулок', 'Русаковская набережная',\n",
       "       'Садовая-Сухаревская улица', 'Садовнический проезд',\n",
       "       'Сверчков переулок', 'Северодвинская улица',\n",
       "       'Сеченовский переулок', 'Сибирский проезд', 'Сивашская улица',\n",
       "       'Симферопольский проезд', 'Синельниковская улица',\n",
       "       'Скатертный переулок', 'Скорняжный переулок',\n",
       "       'Соймоновский проезд', 'Солнечная аллея', 'Солнечногорский проезд',\n",
       "       'Сормовский проезд', 'Софийская набережная', 'Союзный проспект',\n",
       "       'Спартаковский переулок', 'Спортивная улица', 'Спортивный проезд',\n",
       "       'Средний Кондратьевский переулок',\n",
       "       'Средний Овчинниковский переулок', 'Средняя Калитниковская улица',\n",
       "       'Сретенский тупик', 'Стандартная улица', 'Староалексеевская улица',\n",
       "       'Старомарьинское шоссе', 'Старомонетный переулок',\n",
       "       'Староникольская улица', 'Старослободская улица',\n",
       "       'Столовый переулок', 'Стрелецкая улица',\n",
       "       'Стрельбищенский переулок', 'Стройковская улица',\n",
       "       'Стромынский переулок', 'Сумская улица', 'Таганрогская улица',\n",
       "       'Таможенный проезд', 'Тарусская улица', 'Тарханская улица',\n",
       "       'Таёжная улица', 'Театральная аллея', 'Тенистый проезд',\n",
       "       'Тессинский переулок', 'Тестовская улица', 'Тетеринский переулок',\n",
       "       'Тимирязевский проезд', 'Тихая улица', 'Тихвинский переулок',\n",
       "       'Тихий тупик', 'Триумфальная площадь', 'Троилинский переулок',\n",
       "       'Троицкий бульвар', 'Тургеневская площадь', 'Уржумская улица',\n",
       "       'Успенский переулок', 'Утренняя улица', 'Учинская улица',\n",
       "       'Фармацевтический проезд', 'Федоскинская улица',\n",
       "       'Феодосийская улица', 'Физическая улица', 'Филипповский переулок',\n",
       "       'Фролов переулок', 'Фруктовая улица', 'Хавская улица',\n",
       "       'Хвалынский бульвар', 'Хилков переулок', 'Хитровский переулок',\n",
       "       'Хлебный переулок', 'Хлыновский тупик', 'Хованская улица',\n",
       "       'Хохловский переулок', 'Центральный проспект',\n",
       "       'Челюскинская улица', 'Чермянская улица', 'Чермянский проезд',\n",
       "       'Черниговский переулок', 'Черницынский проезд',\n",
       "       'Черноморский бульвар', 'Чукотский проезд', 'Чуксин тупик',\n",
       "       'Шепелюгинская улица', 'Штурвальная улица', 'Шубинский переулок',\n",
       "       'Щёлковский проезд', 'Электрический переулок', 'Юрловский проезд',\n",
       "       'Якиманский переулок', 'Ялтинская улица', 'Янтарный проезд',\n",
       "       'Ясногорская улица', 'Яузский бульвар', 'Яхромская улица',\n",
       "       'переулок Васнецова', 'переулок Красина', 'переулок Маяковского',\n",
       "       'переулок Расковой', 'переулок Хользунова',\n",
       "       'площадь Академика Курчатова', 'площадь Журавлёва',\n",
       "       'проезд Добролюбова', 'проезд Донелайтиса', 'проезд Досфлота',\n",
       "       'проезд Нансена', 'проезд Черепановых', 'проезд Якушкина',\n",
       "       'проектируемый проезд № 1980', 'проспект 40 лет Октября',\n",
       "       'улица 9 Мая', 'улица Авиаконструктора Микояна',\n",
       "       'улица Айвазовского', 'улица Академика Арцимовича',\n",
       "       'улица Академика Комарова', 'улица Академика Опарина',\n",
       "       'улица Академика Павлова', 'улица Академика Петровского',\n",
       "       'улица Академика Понтрягина', 'улица Академика Семёнова',\n",
       "       'улица Алексея Дикого', 'улица Анатолия Живова', 'улица Артюхиной',\n",
       "       'улица Атарбекова', 'улица Благуша', 'улица Богданова',\n",
       "       'улица Богородский Вал', 'улица Бориса Жигулёнкова',\n",
       "       'улица Брусилова', 'улица Васильцовский Стан',\n",
       "       'улица Вторая Пятилетка', 'улица Высоцкого', 'улица Гамалеи',\n",
       "       'улица Генерала Ермолова', 'улица Главмосстроя', 'улица Гончарова',\n",
       "       'улица Девятая Рота', 'улица Демьяна Бедного',\n",
       "       'улица Дмитрия Рябинкина', 'улица Достоевского', 'улица Дубки',\n",
       "       'улица Евгения Родионова', 'улица Екатерины Будановой',\n",
       "       'улица Жебрунова', 'улица Жуковского',\n",
       "       'улица Захарьинские Дворики', 'улица Зенитчиков',\n",
       "       'улица Знаменские Садки', 'улица Инессы Арманд', 'улица Капотня',\n",
       "       'улица Клочкова', 'улица Константина Царёва',\n",
       "       'улица Константинова', 'улица Корнея Чуковского', 'улица Кошкина',\n",
       "       'улица Красных Зорь', 'улица Крутицкий Вал', 'улица Кубинка',\n",
       "       'улица Кутузова', 'улица Кухмистерова', 'улица Лапина',\n",
       "       'улица Лефортовский Вал',\n",
       "       'улица Линии Октябрьской Железной Дороги', 'улица Льва Яшина',\n",
       "       'улица Максимова', 'улица Малая Ордынка', 'улица Малые Каменщики',\n",
       "       'улица Маршала Мерецкова', 'улица Маршала Новикова',\n",
       "       'улица Медведева', 'улица Медиков', 'улица Можайский Вал',\n",
       "       'улица Недорубова', 'улица Немчинова', 'улица Никитина',\n",
       "       'улица Николаева', 'улица Новая Дорога', 'улица Павла Андреева',\n",
       "       'улица Паперника', 'улица Пивченкова', 'улица Подвойского',\n",
       "       'улица Полины Осипенко', 'улица Пржевальского', 'улица Раевского',\n",
       "       'улица Ращупкина', 'улица Ремизова', 'улица Рогова',\n",
       "       'улица Рокотова', 'улица Рословка', 'улица Ротерта',\n",
       "       'улица Рудневой', 'улица Савельева', 'улица Сайкина',\n",
       "       'улица Саляма Адиля', 'улица Советской Армии',\n",
       "       'улица Старые Кузьминки', 'улица Степана Шутова', 'улица Уткина',\n",
       "       'улица Фадеева', 'улица Фонвизина', 'улица Шеногина',\n",
       "       'улица Шумилова', 'улица Шумкина', 'улица Щорса', 'шоссе Фрезер'],\n",
       "      dtype=object)"
      ]
     },
     "execution_count": 47,
     "metadata": {},
     "output_type": "execute_result"
    }
   ],
   "source": [
    "# список слов, по нахождению которых в столбце street будем удалять наблюдения\n",
    "checklist = ['дом', 'корпус', 'строение', 'владение', 'домовладение', 'деревня', 'вблизи деревни', 'МКАД', 'квартал', 'километр', 'вблизи пос.', 'село', 'поселок', 'посёлок']\n",
    "\n",
    "# цикл, который проверяет, есть ли в значении столбца слово из списка\n",
    "for el in checklist:\n",
    "    mistake = one_rest_streets['street'].str.contains(el)\n",
    "    mistake = mistake[mistake == True] \n",
    "    index_mistake = mistake.index.values.tolist() # создаем список с индексами наблюдений, которые удалим\n",
    "    one_rest_streets = one_rest_streets.drop(labels=index_mistake, axis=0)\n",
    "    \n",
    "one_rest_streets['street'].unique()"
   ]
  },
  {
   "cell_type": "code",
   "execution_count": 48,
   "metadata": {},
   "outputs": [
    {
     "data": {
      "text/html": [
       "<div>\n",
       "<style scoped>\n",
       "    .dataframe tbody tr th:only-of-type {\n",
       "        vertical-align: middle;\n",
       "    }\n",
       "\n",
       "    .dataframe tbody tr th {\n",
       "        vertical-align: top;\n",
       "    }\n",
       "\n",
       "    .dataframe thead th {\n",
       "        text-align: right;\n",
       "    }\n",
       "</style>\n",
       "<table border=\"1\" class=\"dataframe\">\n",
       "  <thead>\n",
       "    <tr style=\"text-align: right;\">\n",
       "      <th></th>\n",
       "      <th>streetname</th>\n",
       "      <th>areaid</th>\n",
       "      <th>okrug</th>\n",
       "      <th>area</th>\n",
       "    </tr>\n",
       "  </thead>\n",
       "  <tbody>\n",
       "    <tr>\n",
       "      <th>0</th>\n",
       "      <td>Выставочный переулок</td>\n",
       "      <td>17</td>\n",
       "      <td>ЦАО</td>\n",
       "      <td>Пресненский район</td>\n",
       "    </tr>\n",
       "    <tr>\n",
       "      <th>1</th>\n",
       "      <td>улица Гашека</td>\n",
       "      <td>17</td>\n",
       "      <td>ЦАО</td>\n",
       "      <td>Пресненский район</td>\n",
       "    </tr>\n",
       "    <tr>\n",
       "      <th>2</th>\n",
       "      <td>Большая Никитская улица</td>\n",
       "      <td>17</td>\n",
       "      <td>ЦАО</td>\n",
       "      <td>Пресненский район</td>\n",
       "    </tr>\n",
       "    <tr>\n",
       "      <th>3</th>\n",
       "      <td>Глубокий переулок</td>\n",
       "      <td>17</td>\n",
       "      <td>ЦАО</td>\n",
       "      <td>Пресненский район</td>\n",
       "    </tr>\n",
       "    <tr>\n",
       "      <th>4</th>\n",
       "      <td>Большой Гнездниковский переулок</td>\n",
       "      <td>17</td>\n",
       "      <td>ЦАО</td>\n",
       "      <td>Пресненский район</td>\n",
       "    </tr>\n",
       "    <tr>\n",
       "      <th>...</th>\n",
       "      <td>...</td>\n",
       "      <td>...</td>\n",
       "      <td>...</td>\n",
       "      <td>...</td>\n",
       "    </tr>\n",
       "    <tr>\n",
       "      <th>4393</th>\n",
       "      <td>Вознесенский проезд</td>\n",
       "      <td>17</td>\n",
       "      <td>ЦАО</td>\n",
       "      <td>Пресненский район</td>\n",
       "    </tr>\n",
       "    <tr>\n",
       "      <th>4394</th>\n",
       "      <td>Волков переулок</td>\n",
       "      <td>17</td>\n",
       "      <td>ЦАО</td>\n",
       "      <td>Пресненский район</td>\n",
       "    </tr>\n",
       "    <tr>\n",
       "      <th>4395</th>\n",
       "      <td>Поварская улица</td>\n",
       "      <td>17</td>\n",
       "      <td>ЦАО</td>\n",
       "      <td>Пресненский район</td>\n",
       "    </tr>\n",
       "    <tr>\n",
       "      <th>4396</th>\n",
       "      <td>Кудринская площадь</td>\n",
       "      <td>17</td>\n",
       "      <td>ЦАО</td>\n",
       "      <td>Пресненский район</td>\n",
       "    </tr>\n",
       "    <tr>\n",
       "      <th>4397</th>\n",
       "      <td>Вспольный переулок</td>\n",
       "      <td>17</td>\n",
       "      <td>ЦАО</td>\n",
       "      <td>Пресненский район</td>\n",
       "    </tr>\n",
       "  </tbody>\n",
       "</table>\n",
       "<p>4398 rows × 4 columns</p>\n",
       "</div>"
      ],
      "text/plain": [
       "                           streetname  areaid okrug               area\n",
       "0                Выставочный переулок      17   ЦАО  Пресненский район\n",
       "1                        улица Гашека      17   ЦАО  Пресненский район\n",
       "2             Большая Никитская улица      17   ЦАО  Пресненский район\n",
       "3                   Глубокий переулок      17   ЦАО  Пресненский район\n",
       "4     Большой Гнездниковский переулок      17   ЦАО  Пресненский район\n",
       "...                               ...     ...   ...                ...\n",
       "4393              Вознесенский проезд      17   ЦАО  Пресненский район\n",
       "4394                  Волков переулок      17   ЦАО  Пресненский район\n",
       "4395                  Поварская улица      17   ЦАО  Пресненский район\n",
       "4396               Кудринская площадь      17   ЦАО  Пресненский район\n",
       "4397               Вспольный переулок      17   ЦАО  Пресненский район\n",
       "\n",
       "[4398 rows x 4 columns]"
      ]
     },
     "execution_count": 48,
     "metadata": {},
     "output_type": "execute_result"
    }
   ],
   "source": [
    "# загружаем таблицу из внешних открытых данных о принадлежности улиц округам и районам\n",
    "# для этого также импортируем BytesIO и requests \n",
    "from io import BytesIO\n",
    "import requests\n",
    "spreadsheet_id = '17aZoNZhX4xsqS8GZmJ-1L2bDeb_UQiE49FNF_HNqg2I'\n",
    "file_name = 'https://docs.google.com/spreadsheets/d/{}/export?format=csv'.format(spreadsheet_id)\n",
    "r = requests.get(file_name)\n",
    "area = pd.read_csv(BytesIO(r.content))\n",
    "area"
   ]
  },
  {
   "cell_type": "code",
   "execution_count": 49,
   "metadata": {},
   "outputs": [
    {
     "data": {
      "text/html": [
       "<div>\n",
       "<style scoped>\n",
       "    .dataframe tbody tr th:only-of-type {\n",
       "        vertical-align: middle;\n",
       "    }\n",
       "\n",
       "    .dataframe tbody tr th {\n",
       "        vertical-align: top;\n",
       "    }\n",
       "\n",
       "    .dataframe thead th {\n",
       "        text-align: right;\n",
       "    }\n",
       "</style>\n",
       "<table border=\"1\" class=\"dataframe\">\n",
       "  <thead>\n",
       "    <tr style=\"text-align: right;\">\n",
       "      <th></th>\n",
       "      <th>streetname</th>\n",
       "      <th>areaid</th>\n",
       "      <th>okrug</th>\n",
       "      <th>area</th>\n",
       "    </tr>\n",
       "  </thead>\n",
       "  <tbody>\n",
       "    <tr>\n",
       "      <th>3241</th>\n",
       "      <td>Варшавское шоссе</td>\n",
       "      <td>99</td>\n",
       "      <td>ЮАО</td>\n",
       "      <td>Донской район</td>\n",
       "    </tr>\n",
       "    <tr>\n",
       "      <th>4065</th>\n",
       "      <td>Варшавское шоссе</td>\n",
       "      <td>133</td>\n",
       "      <td>ЮЗАО</td>\n",
       "      <td>Район Южное Бутово</td>\n",
       "    </tr>\n",
       "    <tr>\n",
       "      <th>3125</th>\n",
       "      <td>Варшавское шоссе</td>\n",
       "      <td>110</td>\n",
       "      <td>ЮАО</td>\n",
       "      <td>Район Чертаново Южное</td>\n",
       "    </tr>\n",
       "    <tr>\n",
       "      <th>3999</th>\n",
       "      <td>Варшавское шоссе</td>\n",
       "      <td>130</td>\n",
       "      <td>ЮЗАО</td>\n",
       "      <td>Район Северное Бутово</td>\n",
       "    </tr>\n",
       "    <tr>\n",
       "      <th>3117</th>\n",
       "      <td>Варшавское шоссе</td>\n",
       "      <td>108</td>\n",
       "      <td>ЮАО</td>\n",
       "      <td>Район Чертаново Северное</td>\n",
       "    </tr>\n",
       "    <tr>\n",
       "      <th>3105</th>\n",
       "      <td>Варшавское шоссе</td>\n",
       "      <td>109</td>\n",
       "      <td>ЮАО</td>\n",
       "      <td>Район Чертаново Центральное</td>\n",
       "    </tr>\n",
       "    <tr>\n",
       "      <th>3349</th>\n",
       "      <td>Варшавское шоссе</td>\n",
       "      <td>104</td>\n",
       "      <td>ЮАО</td>\n",
       "      <td>Нагорный район</td>\n",
       "    </tr>\n",
       "    <tr>\n",
       "      <th>3305</th>\n",
       "      <td>Варшавское шоссе</td>\n",
       "      <td>102</td>\n",
       "      <td>ЮАО</td>\n",
       "      <td>Район Нагатино-Садовники</td>\n",
       "    </tr>\n",
       "    <tr>\n",
       "      <th>3308</th>\n",
       "      <td>Каширское шоссе</td>\n",
       "      <td>102</td>\n",
       "      <td>ЮАО</td>\n",
       "      <td>Район Нагатино-Садовники</td>\n",
       "    </tr>\n",
       "    <tr>\n",
       "      <th>3292</th>\n",
       "      <td>Каширское шоссе</td>\n",
       "      <td>101</td>\n",
       "      <td>ЮАО</td>\n",
       "      <td>Район Москворечье-Сабурово</td>\n",
       "    </tr>\n",
       "    <tr>\n",
       "      <th>3369</th>\n",
       "      <td>Каширское шоссе</td>\n",
       "      <td>106</td>\n",
       "      <td>ЮАО</td>\n",
       "      <td>Район Орехово-Борисово Южное</td>\n",
       "    </tr>\n",
       "    <tr>\n",
       "      <th>3392</th>\n",
       "      <td>Каширское шоссе</td>\n",
       "      <td>105</td>\n",
       "      <td>ЮАО</td>\n",
       "      <td>Район Орехово-Борисово Северное</td>\n",
       "    </tr>\n",
       "    <tr>\n",
       "      <th>3120</th>\n",
       "      <td>Кировоградская улица</td>\n",
       "      <td>108</td>\n",
       "      <td>ЮАО</td>\n",
       "      <td>Район Чертаново Северное</td>\n",
       "    </tr>\n",
       "    <tr>\n",
       "      <th>3111</th>\n",
       "      <td>Кировоградская улица</td>\n",
       "      <td>109</td>\n",
       "      <td>ЮАО</td>\n",
       "      <td>Район Чертаново Центральное</td>\n",
       "    </tr>\n",
       "    <tr>\n",
       "      <th>3131</th>\n",
       "      <td>Кировоградская улица</td>\n",
       "      <td>110</td>\n",
       "      <td>ЮАО</td>\n",
       "      <td>Район Чертаново Южное</td>\n",
       "    </tr>\n",
       "    <tr>\n",
       "      <th>1280</th>\n",
       "      <td>Кутузовский проспект</td>\n",
       "      <td>49</td>\n",
       "      <td>ЗАО</td>\n",
       "      <td>Район Фили-Давыдково</td>\n",
       "    </tr>\n",
       "    <tr>\n",
       "      <th>1208</th>\n",
       "      <td>Кутузовский проспект</td>\n",
       "      <td>38</td>\n",
       "      <td>ЗАО</td>\n",
       "      <td>Район Дорогомилово</td>\n",
       "    </tr>\n",
       "    <tr>\n",
       "      <th>2150</th>\n",
       "      <td>Ленинградский проспект</td>\n",
       "      <td>66</td>\n",
       "      <td>САО</td>\n",
       "      <td>Район Сокол</td>\n",
       "    </tr>\n",
       "    <tr>\n",
       "      <th>1992</th>\n",
       "      <td>Ленинградский проспект</td>\n",
       "      <td>69</td>\n",
       "      <td>САО</td>\n",
       "      <td>Хорошевский район</td>\n",
       "    </tr>\n",
       "    <tr>\n",
       "      <th>1896</th>\n",
       "      <td>Ленинградский проспект</td>\n",
       "      <td>55</td>\n",
       "      <td>САО</td>\n",
       "      <td>Район Беговой</td>\n",
       "    </tr>\n",
       "    <tr>\n",
       "      <th>1857</th>\n",
       "      <td>Ленинградский проспект</td>\n",
       "      <td>54</td>\n",
       "      <td>САО</td>\n",
       "      <td>Район Аэропорт</td>\n",
       "    </tr>\n",
       "    <tr>\n",
       "      <th>3986</th>\n",
       "      <td>Ленинский проспект</td>\n",
       "      <td>129</td>\n",
       "      <td>ЮЗАО</td>\n",
       "      <td>Обручевский район</td>\n",
       "    </tr>\n",
       "    <tr>\n",
       "      <th>1602</th>\n",
       "      <td>Ленинский проспект</td>\n",
       "      <td>47</td>\n",
       "      <td>ЗАО</td>\n",
       "      <td>Район Тропарево-Никулино</td>\n",
       "    </tr>\n",
       "    <tr>\n",
       "      <th>4021</th>\n",
       "      <td>Ленинский проспект</td>\n",
       "      <td>131</td>\n",
       "      <td>ЮЗАО</td>\n",
       "      <td>Район Теплый Стан</td>\n",
       "    </tr>\n",
       "    <tr>\n",
       "      <th>1504</th>\n",
       "      <td>Ленинский проспект</td>\n",
       "      <td>44</td>\n",
       "      <td>ЗАО</td>\n",
       "      <td>Район Проспект Вернадского</td>\n",
       "    </tr>\n",
       "    <tr>\n",
       "      <th>4163</th>\n",
       "      <td>Ленинский проспект</td>\n",
       "      <td>21</td>\n",
       "      <td>ЦАО</td>\n",
       "      <td>Район Якиманка</td>\n",
       "    </tr>\n",
       "    <tr>\n",
       "      <th>3260</th>\n",
       "      <td>Ленинский проспект</td>\n",
       "      <td>99</td>\n",
       "      <td>ЮАО</td>\n",
       "      <td>Донской район</td>\n",
       "    </tr>\n",
       "    <tr>\n",
       "      <th>3973</th>\n",
       "      <td>Ленинский проспект</td>\n",
       "      <td>128</td>\n",
       "      <td>ЮЗАО</td>\n",
       "      <td>Ломоносовский район</td>\n",
       "    </tr>\n",
       "    <tr>\n",
       "      <th>3886</th>\n",
       "      <td>Ленинский проспект</td>\n",
       "      <td>124</td>\n",
       "      <td>ЮЗАО</td>\n",
       "      <td>Район Гагаринский</td>\n",
       "    </tr>\n",
       "    <tr>\n",
       "      <th>72</th>\n",
       "      <td>Пресненская набережная</td>\n",
       "      <td>17</td>\n",
       "      <td>ЦАО</td>\n",
       "      <td>Пресненский район</td>\n",
       "    </tr>\n",
       "    <tr>\n",
       "      <th>3845</th>\n",
       "      <td>Профсоюзная улица</td>\n",
       "      <td>123</td>\n",
       "      <td>ЮЗАО</td>\n",
       "      <td>Академический район</td>\n",
       "    </tr>\n",
       "    <tr>\n",
       "      <th>3867</th>\n",
       "      <td>Профсоюзная улица</td>\n",
       "      <td>132</td>\n",
       "      <td>ЮЗАО</td>\n",
       "      <td>Район Черемушки</td>\n",
       "    </tr>\n",
       "    <tr>\n",
       "      <th>4024</th>\n",
       "      <td>Профсоюзная улица</td>\n",
       "      <td>131</td>\n",
       "      <td>ЮЗАО</td>\n",
       "      <td>Район Теплый Стан</td>\n",
       "    </tr>\n",
       "    <tr>\n",
       "      <th>3916</th>\n",
       "      <td>Профсоюзная улица</td>\n",
       "      <td>134</td>\n",
       "      <td>ЮЗАО</td>\n",
       "      <td>Район Ясенево</td>\n",
       "    </tr>\n",
       "    <tr>\n",
       "      <th>3948</th>\n",
       "      <td>Профсоюзная улица</td>\n",
       "      <td>126</td>\n",
       "      <td>ЮЗАО</td>\n",
       "      <td>Район Коньково</td>\n",
       "    </tr>\n",
       "    <tr>\n",
       "      <th>3996</th>\n",
       "      <td>Профсоюзная улица</td>\n",
       "      <td>129</td>\n",
       "      <td>ЮЗАО</td>\n",
       "      <td>Обручевский район</td>\n",
       "    </tr>\n",
       "    <tr>\n",
       "      <th>3967</th>\n",
       "      <td>проспект Вернадского</td>\n",
       "      <td>128</td>\n",
       "      <td>ЮЗАО</td>\n",
       "      <td>Ломоносовский район</td>\n",
       "    </tr>\n",
       "    <tr>\n",
       "      <th>1501</th>\n",
       "      <td>проспект Вернадского</td>\n",
       "      <td>44</td>\n",
       "      <td>ЗАО</td>\n",
       "      <td>Район Проспект Вернадского</td>\n",
       "    </tr>\n",
       "    <tr>\n",
       "      <th>3878</th>\n",
       "      <td>проспект Вернадского</td>\n",
       "      <td>124</td>\n",
       "      <td>ЮЗАО</td>\n",
       "      <td>Район Гагаринский</td>\n",
       "    </tr>\n",
       "    <tr>\n",
       "      <th>1510</th>\n",
       "      <td>проспект Вернадского</td>\n",
       "      <td>45</td>\n",
       "      <td>ЗАО</td>\n",
       "      <td>Район Раменки</td>\n",
       "    </tr>\n",
       "    <tr>\n",
       "      <th>1598</th>\n",
       "      <td>проспект Вернадского</td>\n",
       "      <td>47</td>\n",
       "      <td>ЗАО</td>\n",
       "      <td>Район Тропарево-Никулино</td>\n",
       "    </tr>\n",
       "    <tr>\n",
       "      <th>2644</th>\n",
       "      <td>проспект Мира</td>\n",
       "      <td>81</td>\n",
       "      <td>СВАО</td>\n",
       "      <td>Район Ростокино</td>\n",
       "    </tr>\n",
       "    <tr>\n",
       "      <th>2390</th>\n",
       "      <td>проспект Мира</td>\n",
       "      <td>86</td>\n",
       "      <td>СВАО</td>\n",
       "      <td>Ярославский Район</td>\n",
       "    </tr>\n",
       "    <tr>\n",
       "      <th>2712</th>\n",
       "      <td>проспект Мира</td>\n",
       "      <td>82</td>\n",
       "      <td>СВАО</td>\n",
       "      <td>Район Свиблово</td>\n",
       "    </tr>\n",
       "    <tr>\n",
       "      <th>2531</th>\n",
       "      <td>проспект Мира</td>\n",
       "      <td>78</td>\n",
       "      <td>СВАО</td>\n",
       "      <td>Район Марьина роща</td>\n",
       "    </tr>\n",
       "    <tr>\n",
       "      <th>2578</th>\n",
       "      <td>проспект Мира</td>\n",
       "      <td>79</td>\n",
       "      <td>СВАО</td>\n",
       "      <td>Останкинский район</td>\n",
       "    </tr>\n",
       "    <tr>\n",
       "      <th>2293</th>\n",
       "      <td>проспект Мира</td>\n",
       "      <td>70</td>\n",
       "      <td>СВАО</td>\n",
       "      <td>Алексеевский район</td>\n",
       "    </tr>\n",
       "    <tr>\n",
       "      <th>4334</th>\n",
       "      <td>проспект Мира</td>\n",
       "      <td>16</td>\n",
       "      <td>ЦАО</td>\n",
       "      <td>Мещанский район</td>\n",
       "    </tr>\n",
       "  </tbody>\n",
       "</table>\n",
       "</div>"
      ],
      "text/plain": [
       "                  streetname  areaid okrug                             area\n",
       "3241        Варшавское шоссе      99   ЮАО                    Донской район\n",
       "4065        Варшавское шоссе     133  ЮЗАО               Район Южное Бутово\n",
       "3125        Варшавское шоссе     110   ЮАО            Район Чертаново Южное\n",
       "3999        Варшавское шоссе     130  ЮЗАО            Район Северное Бутово\n",
       "3117        Варшавское шоссе     108   ЮАО         Район Чертаново Северное\n",
       "3105        Варшавское шоссе     109   ЮАО      Район Чертаново Центральное\n",
       "3349        Варшавское шоссе     104   ЮАО                   Нагорный район\n",
       "3305        Варшавское шоссе     102   ЮАО         Район Нагатино-Садовники\n",
       "3308         Каширское шоссе     102   ЮАО         Район Нагатино-Садовники\n",
       "3292         Каширское шоссе     101   ЮАО       Район Москворечье-Сабурово\n",
       "3369         Каширское шоссе     106   ЮАО     Район Орехово-Борисово Южное\n",
       "3392         Каширское шоссе     105   ЮАО  Район Орехово-Борисово Северное\n",
       "3120    Кировоградская улица     108   ЮАО         Район Чертаново Северное\n",
       "3111    Кировоградская улица     109   ЮАО      Район Чертаново Центральное\n",
       "3131    Кировоградская улица     110   ЮАО            Район Чертаново Южное\n",
       "1280    Кутузовский проспект      49   ЗАО             Район Фили-Давыдково\n",
       "1208    Кутузовский проспект      38   ЗАО               Район Дорогомилово\n",
       "2150  Ленинградский проспект      66   САО                      Район Сокол\n",
       "1992  Ленинградский проспект      69   САО                Хорошевский район\n",
       "1896  Ленинградский проспект      55   САО                    Район Беговой\n",
       "1857  Ленинградский проспект      54   САО                   Район Аэропорт\n",
       "3986      Ленинский проспект     129  ЮЗАО                Обручевский район\n",
       "1602      Ленинский проспект      47   ЗАО         Район Тропарево-Никулино\n",
       "4021      Ленинский проспект     131  ЮЗАО                Район Теплый Стан\n",
       "1504      Ленинский проспект      44   ЗАО       Район Проспект Вернадского\n",
       "4163      Ленинский проспект      21   ЦАО                   Район Якиманка\n",
       "3260      Ленинский проспект      99   ЮАО                    Донской район\n",
       "3973      Ленинский проспект     128  ЮЗАО              Ломоносовский район\n",
       "3886      Ленинский проспект     124  ЮЗАО                Район Гагаринский\n",
       "72    Пресненская набережная      17   ЦАО                Пресненский район\n",
       "3845       Профсоюзная улица     123  ЮЗАО              Академический район\n",
       "3867       Профсоюзная улица     132  ЮЗАО                  Район Черемушки\n",
       "4024       Профсоюзная улица     131  ЮЗАО                Район Теплый Стан\n",
       "3916       Профсоюзная улица     134  ЮЗАО                    Район Ясенево\n",
       "3948       Профсоюзная улица     126  ЮЗАО                   Район Коньково\n",
       "3996       Профсоюзная улица     129  ЮЗАО                Обручевский район\n",
       "3967    проспект Вернадского     128  ЮЗАО              Ломоносовский район\n",
       "1501    проспект Вернадского      44   ЗАО       Район Проспект Вернадского\n",
       "3878    проспект Вернадского     124  ЮЗАО                Район Гагаринский\n",
       "1510    проспект Вернадского      45   ЗАО                    Район Раменки\n",
       "1598    проспект Вернадского      47   ЗАО         Район Тропарево-Никулино\n",
       "2644           проспект Мира      81  СВАО                  Район Ростокино\n",
       "2390           проспект Мира      86  СВАО                Ярославский Район\n",
       "2712           проспект Мира      82  СВАО                   Район Свиблово\n",
       "2531           проспект Мира      78  СВАО               Район Марьина роща\n",
       "2578           проспект Мира      79  СВАО               Останкинский район\n",
       "2293           проспект Мира      70  СВАО               Алексеевский район\n",
       "4334           проспект Мира      16   ЦАО                  Мещанский район"
      ]
     },
     "execution_count": 49,
     "metadata": {},
     "output_type": "execute_result"
    }
   ],
   "source": [
    "# получаем датафрейм, в котором для улиц из top-10 указаны район и округ\n",
    "top10_streetname = top10_streets['street'].tolist()\n",
    "area_top = area.query('streetname in @top10_streetname').sort_values(by='streetname')\n",
    "area_top"
   ]
  },
  {
   "cell_type": "code",
   "execution_count": 50,
   "metadata": {
    "scrolled": true
   },
   "outputs": [
    {
     "data": {
      "text/html": [
       "<div>\n",
       "<style scoped>\n",
       "    .dataframe tbody tr th:only-of-type {\n",
       "        vertical-align: middle;\n",
       "    }\n",
       "\n",
       "    .dataframe tbody tr th {\n",
       "        vertical-align: top;\n",
       "    }\n",
       "\n",
       "    .dataframe thead th {\n",
       "        text-align: right;\n",
       "    }\n",
       "</style>\n",
       "<table border=\"1\" class=\"dataframe\">\n",
       "  <thead>\n",
       "    <tr style=\"text-align: right;\">\n",
       "      <th></th>\n",
       "      <th>area</th>\n",
       "    </tr>\n",
       "  </thead>\n",
       "  <tbody>\n",
       "    <tr>\n",
       "      <th>count</th>\n",
       "      <td>10.0</td>\n",
       "    </tr>\n",
       "    <tr>\n",
       "      <th>mean</th>\n",
       "      <td>5.0</td>\n",
       "    </tr>\n",
       "    <tr>\n",
       "      <th>std</th>\n",
       "      <td>2.0</td>\n",
       "    </tr>\n",
       "    <tr>\n",
       "      <th>min</th>\n",
       "      <td>1.0</td>\n",
       "    </tr>\n",
       "    <tr>\n",
       "      <th>25%</th>\n",
       "      <td>3.0</td>\n",
       "    </tr>\n",
       "    <tr>\n",
       "      <th>50%</th>\n",
       "      <td>4.0</td>\n",
       "    </tr>\n",
       "    <tr>\n",
       "      <th>75%</th>\n",
       "      <td>7.0</td>\n",
       "    </tr>\n",
       "    <tr>\n",
       "      <th>max</th>\n",
       "      <td>8.0</td>\n",
       "    </tr>\n",
       "  </tbody>\n",
       "</table>\n",
       "</div>"
      ],
      "text/plain": [
       "       area\n",
       "count  10.0\n",
       "mean    5.0\n",
       "std     2.0\n",
       "min     1.0\n",
       "25%     3.0\n",
       "50%     4.0\n",
       "75%     7.0\n",
       "max     8.0"
      ]
     },
     "execution_count": 50,
     "metadata": {},
     "output_type": "execute_result"
    }
   ],
   "source": [
    "# считаем, какое распределение по количеству районов, черех которые проходят улицы\n",
    "area_top_count = area_top.groupby('streetname').agg({'area':'count'})\n",
    "area_top_count.describe().round(0)"
   ]
  },
  {
   "cell_type": "markdown",
   "metadata": {},
   "source": [
    "Мы выделили улицы с наибольшим количеством объектов общественного питания, а также определили, к каким районам они относятся. Несмотря на то, что можно было ожидать, что улицы с наибольшим количеством объектов общественного питания будут находиться в центре, лишь одна из этих улиц полностью расположена в ЦАО - это Пресненская набережная, относящаяся к Пресненскому району. Кроме того, еще две улицы проходят через ЦАО, однако расположены в нем не полностью: проспект Мира и Ленинский проспект; все остальные улицы расположены преимущественно в спальных районах. \n",
    "\n",
    "Количество объектов общественного питания, которое мы обнаружили на этих улицах, как нам кажется, связано в основном с их протяженностью. Действительно, лишь одна их этих улиц проходит только в одном районе. Половина этих улиц проходит более чем в 4 районах, а в среднем улица из top-10 проходит в 5 районах. \n",
    "\n",
    "Планируя размещение объекта на такой улице следует учитывать не только ее саму, но также и специфику района, через который проходит конкретный ее участок, а также округ. Ресторан, который будет уместен в Мещанском районе (ЦАО), может быть неуместен в Свиблово (СВАО). \n",
    "\n",
    "Кроме того, кажется, что не стоит ориентироваться на список таких улиц как на список наиболее удачных улиц для размещения. Несмотря на то, что на них расположено много объектов общественного питания, кажется, что они не являются \"центром\" ресторанной жизни Москвы. Необходимо учитывать характеристики объекта, который вы планируете создать, его особенности и целевую аудиторию."
   ]
  },
  {
   "cell_type": "code",
   "execution_count": 51,
   "metadata": {},
   "outputs": [
    {
     "data": {
      "text/html": [
       "<div>\n",
       "<style scoped>\n",
       "    .dataframe tbody tr th:only-of-type {\n",
       "        vertical-align: middle;\n",
       "    }\n",
       "\n",
       "    .dataframe tbody tr th {\n",
       "        vertical-align: top;\n",
       "    }\n",
       "\n",
       "    .dataframe thead th {\n",
       "        text-align: right;\n",
       "    }\n",
       "</style>\n",
       "<table border=\"1\" class=\"dataframe\">\n",
       "  <thead>\n",
       "    <tr style=\"text-align: right;\">\n",
       "      <th></th>\n",
       "      <th>streetname</th>\n",
       "      <th>areaid</th>\n",
       "      <th>okrug</th>\n",
       "      <th>area</th>\n",
       "    </tr>\n",
       "  </thead>\n",
       "  <tbody>\n",
       "    <tr>\n",
       "      <th>1834</th>\n",
       "      <td>1-й Балтийский переулок</td>\n",
       "      <td>54</td>\n",
       "      <td>САО</td>\n",
       "      <td>Район Аэропорт</td>\n",
       "    </tr>\n",
       "    <tr>\n",
       "      <th>805</th>\n",
       "      <td>1-й Басманный переулок</td>\n",
       "      <td>13</td>\n",
       "      <td>ЦАО</td>\n",
       "      <td>Басманный район</td>\n",
       "    </tr>\n",
       "    <tr>\n",
       "      <th>4213</th>\n",
       "      <td>1-й Басманный переулок</td>\n",
       "      <td>15</td>\n",
       "      <td>ЦАО</td>\n",
       "      <td>Красносельский район</td>\n",
       "    </tr>\n",
       "    <tr>\n",
       "      <th>2702</th>\n",
       "      <td>1-й Ботанический проезд</td>\n",
       "      <td>82</td>\n",
       "      <td>СВАО</td>\n",
       "      <td>Район Свиблово</td>\n",
       "    </tr>\n",
       "    <tr>\n",
       "      <th>3722</th>\n",
       "      <td>1-й Вешняковский проезд</td>\n",
       "      <td>120</td>\n",
       "      <td>ЮВАО</td>\n",
       "      <td>Рязанский район</td>\n",
       "    </tr>\n",
       "    <tr>\n",
       "      <th>...</th>\n",
       "      <td>...</td>\n",
       "      <td>...</td>\n",
       "      <td>...</td>\n",
       "      <td>...</td>\n",
       "    </tr>\n",
       "    <tr>\n",
       "      <th>2764</th>\n",
       "      <td>улица Шеногина</td>\n",
       "      <td>92</td>\n",
       "      <td>СЗАО</td>\n",
       "      <td>Район Хорошево-Мневники</td>\n",
       "    </tr>\n",
       "    <tr>\n",
       "      <th>3481</th>\n",
       "      <td>улица Шумилова</td>\n",
       "      <td>113</td>\n",
       "      <td>ЮВАО</td>\n",
       "      <td>Район Кузьминки</td>\n",
       "    </tr>\n",
       "    <tr>\n",
       "      <th>1182</th>\n",
       "      <td>улица Шумкина</td>\n",
       "      <td>26</td>\n",
       "      <td>ВАО</td>\n",
       "      <td>Район Сокольники</td>\n",
       "    </tr>\n",
       "    <tr>\n",
       "      <th>1592</th>\n",
       "      <td>улица Щорса</td>\n",
       "      <td>46</td>\n",
       "      <td>ЗАО</td>\n",
       "      <td>Район Солнцево</td>\n",
       "    </tr>\n",
       "    <tr>\n",
       "      <th>3675</th>\n",
       "      <td>шоссе Фрезер</td>\n",
       "      <td>117</td>\n",
       "      <td>ЮВАО</td>\n",
       "      <td>Нижегородский район</td>\n",
       "    </tr>\n",
       "  </tbody>\n",
       "</table>\n",
       "<p>568 rows × 4 columns</p>\n",
       "</div>"
      ],
      "text/plain": [
       "                   streetname  areaid okrug                     area\n",
       "1834  1-й Балтийский переулок      54   САО           Район Аэропорт\n",
       "805    1-й Басманный переулок      13   ЦАО          Басманный район\n",
       "4213   1-й Басманный переулок      15   ЦАО     Красносельский район\n",
       "2702  1-й Ботанический проезд      82  СВАО           Район Свиблово\n",
       "3722  1-й Вешняковский проезд     120  ЮВАО          Рязанский район\n",
       "...                       ...     ...   ...                      ...\n",
       "2764           улица Шеногина      92  СЗАО  Район Хорошево-Мневники\n",
       "3481           улица Шумилова     113  ЮВАО          Район Кузьминки\n",
       "1182            улица Шумкина      26   ВАО         Район Сокольники\n",
       "1592              улица Щорса      46   ЗАО           Район Солнцево\n",
       "3675             шоссе Фрезер     117  ЮВАО      Нижегородский район\n",
       "\n",
       "[568 rows x 4 columns]"
      ]
     },
     "execution_count": 51,
     "metadata": {},
     "output_type": "execute_result"
    }
   ],
   "source": [
    "# получаем датафрейм, в котором для каждой улицы с одним объектом общепита указаны район и округ\n",
    "one_rest_streetname = one_rest_streets['street'].tolist()\n",
    "area_one_rest = area.query('streetname in @one_rest_streetname').sort_values(by='streetname')\n",
    "area_one_rest"
   ]
  },
  {
   "cell_type": "markdown",
   "metadata": {},
   "source": [
    "Мы получили данные, в которых 568 наблюдений: уже не получится изучить каждую из улиц детально. Зато можно изучить районы, в которых они расположены."
   ]
  },
  {
   "cell_type": "code",
   "execution_count": 52,
   "metadata": {},
   "outputs": [
    {
     "data": {
      "text/html": [
       "<div>\n",
       "<style scoped>\n",
       "    .dataframe tbody tr th:only-of-type {\n",
       "        vertical-align: middle;\n",
       "    }\n",
       "\n",
       "    .dataframe tbody tr th {\n",
       "        vertical-align: top;\n",
       "    }\n",
       "\n",
       "    .dataframe thead th {\n",
       "        text-align: right;\n",
       "    }\n",
       "</style>\n",
       "<table border=\"1\" class=\"dataframe\">\n",
       "  <thead>\n",
       "    <tr style=\"text-align: right;\">\n",
       "      <th></th>\n",
       "      <th>okrug</th>\n",
       "      <th>area</th>\n",
       "      <th>streetname</th>\n",
       "    </tr>\n",
       "  </thead>\n",
       "  <tbody>\n",
       "    <tr>\n",
       "      <th>0</th>\n",
       "      <td>ВАО</td>\n",
       "      <td>Район Богородское</td>\n",
       "      <td>10</td>\n",
       "    </tr>\n",
       "    <tr>\n",
       "      <th>1</th>\n",
       "      <td>ВАО</td>\n",
       "      <td>Район Восточное Измайлово</td>\n",
       "      <td>2</td>\n",
       "    </tr>\n",
       "    <tr>\n",
       "      <th>2</th>\n",
       "      <td>ВАО</td>\n",
       "      <td>Район Восточный</td>\n",
       "      <td>1</td>\n",
       "    </tr>\n",
       "    <tr>\n",
       "      <th>3</th>\n",
       "      <td>ВАО</td>\n",
       "      <td>Район Гольяново</td>\n",
       "      <td>4</td>\n",
       "    </tr>\n",
       "    <tr>\n",
       "      <th>4</th>\n",
       "      <td>ВАО</td>\n",
       "      <td>Район Ивановское</td>\n",
       "      <td>2</td>\n",
       "    </tr>\n",
       "    <tr>\n",
       "      <th>...</th>\n",
       "      <td>...</td>\n",
       "      <td>...</td>\n",
       "      <td>...</td>\n",
       "    </tr>\n",
       "    <tr>\n",
       "      <th>97</th>\n",
       "      <td>ЮЗАО</td>\n",
       "      <td>Район Котловка</td>\n",
       "      <td>2</td>\n",
       "    </tr>\n",
       "    <tr>\n",
       "      <th>98</th>\n",
       "      <td>ЮЗАО</td>\n",
       "      <td>Район Северное Бутово</td>\n",
       "      <td>2</td>\n",
       "    </tr>\n",
       "    <tr>\n",
       "      <th>99</th>\n",
       "      <td>ЮЗАО</td>\n",
       "      <td>Район Черемушки</td>\n",
       "      <td>2</td>\n",
       "    </tr>\n",
       "    <tr>\n",
       "      <th>100</th>\n",
       "      <td>ЮЗАО</td>\n",
       "      <td>Район Южное Бутово</td>\n",
       "      <td>8</td>\n",
       "    </tr>\n",
       "    <tr>\n",
       "      <th>101</th>\n",
       "      <td>ЮЗАО</td>\n",
       "      <td>Район Ясенево</td>\n",
       "      <td>5</td>\n",
       "    </tr>\n",
       "  </tbody>\n",
       "</table>\n",
       "<p>102 rows × 3 columns</p>\n",
       "</div>"
      ],
      "text/plain": [
       "    okrug                       area  streetname\n",
       "0     ВАО          Район Богородское          10\n",
       "1     ВАО  Район Восточное Измайлово           2\n",
       "2     ВАО            Район Восточный           1\n",
       "3     ВАО            Район Гольяново           4\n",
       "4     ВАО           Район Ивановское           2\n",
       "..    ...                        ...         ...\n",
       "97   ЮЗАО             Район Котловка           2\n",
       "98   ЮЗАО      Район Северное Бутово           2\n",
       "99   ЮЗАО            Район Черемушки           2\n",
       "100  ЮЗАО         Район Южное Бутово           8\n",
       "101  ЮЗАО              Район Ясенево           5\n",
       "\n",
       "[102 rows x 3 columns]"
      ]
     },
     "execution_count": 52,
     "metadata": {},
     "output_type": "execute_result"
    }
   ],
   "source": [
    "# считаем, сколько улиц с одним объектом общепита в районах\n",
    "area_one_rest = area_one_rest.groupby(['okrug','area']).agg({'streetname':'count'}).reset_index()\n",
    "area_one_rest "
   ]
  },
  {
   "cell_type": "markdown",
   "metadata": {},
   "source": [
    "Эти улицы проходят через 102 района. Очевидно, что в каких-то районах проходит несколько таких улиц. Посмотрим, в каких округах они находятся."
   ]
  },
  {
   "cell_type": "code",
   "execution_count": 53,
   "metadata": {
    "scrolled": true
   },
   "outputs": [
    {
     "data": {
      "text/html": [
       "<div>\n",
       "<style scoped>\n",
       "    .dataframe tbody tr th:only-of-type {\n",
       "        vertical-align: middle;\n",
       "    }\n",
       "\n",
       "    .dataframe tbody tr th {\n",
       "        vertical-align: top;\n",
       "    }\n",
       "\n",
       "    .dataframe thead th {\n",
       "        text-align: right;\n",
       "    }\n",
       "</style>\n",
       "<table border=\"1\" class=\"dataframe\">\n",
       "  <thead>\n",
       "    <tr style=\"text-align: right;\">\n",
       "      <th></th>\n",
       "      <th>streetname</th>\n",
       "    </tr>\n",
       "    <tr>\n",
       "      <th>okrug</th>\n",
       "      <th></th>\n",
       "    </tr>\n",
       "  </thead>\n",
       "  <tbody>\n",
       "    <tr>\n",
       "      <th>Зеленоград</th>\n",
       "      <td>5</td>\n",
       "    </tr>\n",
       "    <tr>\n",
       "      <th>СЗАО</th>\n",
       "      <td>27</td>\n",
       "    </tr>\n",
       "    <tr>\n",
       "      <th>ЮЗАО</th>\n",
       "      <td>27</td>\n",
       "    </tr>\n",
       "    <tr>\n",
       "      <th>ЮАО</th>\n",
       "      <td>30</td>\n",
       "    </tr>\n",
       "    <tr>\n",
       "      <th>ЗАО</th>\n",
       "      <td>44</td>\n",
       "    </tr>\n",
       "    <tr>\n",
       "      <th>САО</th>\n",
       "      <td>55</td>\n",
       "    </tr>\n",
       "    <tr>\n",
       "      <th>ЮВАО</th>\n",
       "      <td>55</td>\n",
       "    </tr>\n",
       "    <tr>\n",
       "      <th>СВАО</th>\n",
       "      <td>65</td>\n",
       "    </tr>\n",
       "    <tr>\n",
       "      <th>ВАО</th>\n",
       "      <td>73</td>\n",
       "    </tr>\n",
       "    <tr>\n",
       "      <th>ЦАО</th>\n",
       "      <td>187</td>\n",
       "    </tr>\n",
       "  </tbody>\n",
       "</table>\n",
       "</div>"
      ],
      "text/plain": [
       "            streetname\n",
       "okrug                 \n",
       "Зеленоград           5\n",
       "СЗАО                27\n",
       "ЮЗАО                27\n",
       "ЮАО                 30\n",
       "ЗАО                 44\n",
       "САО                 55\n",
       "ЮВАО                55\n",
       "СВАО                65\n",
       "ВАО                 73\n",
       "ЦАО                187"
      ]
     },
     "execution_count": 53,
     "metadata": {},
     "output_type": "execute_result"
    }
   ],
   "source": [
    "# считаем, сколько улиц с одним объектом общепита в округах\n",
    "okrug_one_rest_street = area_one_rest.groupby(['okrug']).agg({'streetname':'sum'})\n",
    "okrug_one_rest_street = okrug_one_rest_street.sort_values(by='streetname')\n",
    "okrug_one_rest_street"
   ]
  },
  {
   "cell_type": "markdown",
   "metadata": {},
   "source": [
    "Кажется, такие улицы есть в разных округах Москвы, в том числе и в ЦАО. Может показаться удивительным, что таких улиц больше всего именно в ЦАО, причем количество таких улиц в ЦАО более чем в два раза превышает количество в ВАО, которое идет вторым по убыванию. В чем же может быть причина? Предполагаем, что это связано с большим количеством переулков в центре Москвы, в которых действительно не так много объектов общественного питания, как на центральных улицах, бульварах и проспектах. \n",
    "\n",
    "Наверняка есть районы, где таких улиц несколько: кажется, что размещать объект общественного питания может быть не очень хорошим решением, однако это все равно будет зависеть от дополнительных факторов и характеристик самого объекта, а также самого расположения улицы. "
   ]
  },
  {
   "cell_type": "code",
   "execution_count": 54,
   "metadata": {},
   "outputs": [
    {
     "data": {
      "text/plain": [
       "count    102.0\n",
       "mean       6.0\n",
       "std        6.0\n",
       "min        1.0\n",
       "25%        2.0\n",
       "50%        4.0\n",
       "75%        7.0\n",
       "max       27.0\n",
       "Name: streetname, dtype: float64"
      ]
     },
     "execution_count": 54,
     "metadata": {},
     "output_type": "execute_result"
    }
   ],
   "source": [
    "area_one_rest['streetname'].describe().round()"
   ]
  },
  {
   "cell_type": "markdown",
   "metadata": {},
   "source": [
    "Видим, что в половине районов, где есть улицы с 1 объектом общественного питания, таких улиц больше 4, а у 25% - больше 7. Посмотрим, что за районы оказались у нас в 4 квартиле: возможно, их что-то объединяет.  "
   ]
  },
  {
   "cell_type": "code",
   "execution_count": 55,
   "metadata": {
    "scrolled": true
   },
   "outputs": [
    {
     "data": {
      "text/html": [
       "<div>\n",
       "<style scoped>\n",
       "    .dataframe tbody tr th:only-of-type {\n",
       "        vertical-align: middle;\n",
       "    }\n",
       "\n",
       "    .dataframe tbody tr th {\n",
       "        vertical-align: top;\n",
       "    }\n",
       "\n",
       "    .dataframe thead th {\n",
       "        text-align: right;\n",
       "    }\n",
       "</style>\n",
       "<table border=\"1\" class=\"dataframe\">\n",
       "  <thead>\n",
       "    <tr style=\"text-align: right;\">\n",
       "      <th></th>\n",
       "      <th>okrug</th>\n",
       "      <th>area</th>\n",
       "      <th>streetname</th>\n",
       "    </tr>\n",
       "  </thead>\n",
       "  <tbody>\n",
       "    <tr>\n",
       "      <th>0</th>\n",
       "      <td>ВАО</td>\n",
       "      <td>Район Богородское</td>\n",
       "      <td>10</td>\n",
       "    </tr>\n",
       "    <tr>\n",
       "      <th>12</th>\n",
       "      <td>ВАО</td>\n",
       "      <td>Район Соколиная Гора</td>\n",
       "      <td>12</td>\n",
       "    </tr>\n",
       "    <tr>\n",
       "      <th>13</th>\n",
       "      <td>ВАО</td>\n",
       "      <td>Район Сокольники</td>\n",
       "      <td>15</td>\n",
       "    </tr>\n",
       "    <tr>\n",
       "      <th>14</th>\n",
       "      <td>ЗАО</td>\n",
       "      <td>Можайский Район</td>\n",
       "      <td>9</td>\n",
       "    </tr>\n",
       "    <tr>\n",
       "      <th>15</th>\n",
       "      <td>ЗАО</td>\n",
       "      <td>Район Внуково</td>\n",
       "      <td>8</td>\n",
       "    </tr>\n",
       "    <tr>\n",
       "      <th>32</th>\n",
       "      <td>САО</td>\n",
       "      <td>Район Аэропорт</td>\n",
       "      <td>8</td>\n",
       "    </tr>\n",
       "    <tr>\n",
       "      <th>48</th>\n",
       "      <td>СВАО</td>\n",
       "      <td>Район Марьина роща</td>\n",
       "      <td>18</td>\n",
       "    </tr>\n",
       "    <tr>\n",
       "      <th>63</th>\n",
       "      <td>ЦАО</td>\n",
       "      <td>Басманный район</td>\n",
       "      <td>25</td>\n",
       "    </tr>\n",
       "    <tr>\n",
       "      <th>64</th>\n",
       "      <td>ЦАО</td>\n",
       "      <td>Красносельский район</td>\n",
       "      <td>10</td>\n",
       "    </tr>\n",
       "    <tr>\n",
       "      <th>65</th>\n",
       "      <td>ЦАО</td>\n",
       "      <td>Мещанский район</td>\n",
       "      <td>16</td>\n",
       "    </tr>\n",
       "    <tr>\n",
       "      <th>66</th>\n",
       "      <td>ЦАО</td>\n",
       "      <td>Пресненский район</td>\n",
       "      <td>19</td>\n",
       "    </tr>\n",
       "    <tr>\n",
       "      <th>67</th>\n",
       "      <td>ЦАО</td>\n",
       "      <td>Район Арбат</td>\n",
       "      <td>17</td>\n",
       "    </tr>\n",
       "    <tr>\n",
       "      <th>68</th>\n",
       "      <td>ЦАО</td>\n",
       "      <td>Район Замоскворечье</td>\n",
       "      <td>14</td>\n",
       "    </tr>\n",
       "    <tr>\n",
       "      <th>69</th>\n",
       "      <td>ЦАО</td>\n",
       "      <td>Район Хамовники</td>\n",
       "      <td>27</td>\n",
       "    </tr>\n",
       "    <tr>\n",
       "      <th>70</th>\n",
       "      <td>ЦАО</td>\n",
       "      <td>Район Якиманка</td>\n",
       "      <td>11</td>\n",
       "    </tr>\n",
       "    <tr>\n",
       "      <th>71</th>\n",
       "      <td>ЦАО</td>\n",
       "      <td>Таганский район</td>\n",
       "      <td>27</td>\n",
       "    </tr>\n",
       "    <tr>\n",
       "      <th>72</th>\n",
       "      <td>ЦАО</td>\n",
       "      <td>Тверской район</td>\n",
       "      <td>21</td>\n",
       "    </tr>\n",
       "    <tr>\n",
       "      <th>73</th>\n",
       "      <td>ЮАО</td>\n",
       "      <td>Даниловский район</td>\n",
       "      <td>11</td>\n",
       "    </tr>\n",
       "    <tr>\n",
       "      <th>82</th>\n",
       "      <td>ЮВАО</td>\n",
       "      <td>Нижегородский район</td>\n",
       "      <td>8</td>\n",
       "    </tr>\n",
       "    <tr>\n",
       "      <th>85</th>\n",
       "      <td>ЮВАО</td>\n",
       "      <td>Район Лефортово</td>\n",
       "      <td>12</td>\n",
       "    </tr>\n",
       "    <tr>\n",
       "      <th>86</th>\n",
       "      <td>ЮВАО</td>\n",
       "      <td>Район Люблино</td>\n",
       "      <td>8</td>\n",
       "    </tr>\n",
       "    <tr>\n",
       "      <th>100</th>\n",
       "      <td>ЮЗАО</td>\n",
       "      <td>Район Южное Бутово</td>\n",
       "      <td>8</td>\n",
       "    </tr>\n",
       "  </tbody>\n",
       "</table>\n",
       "</div>"
      ],
      "text/plain": [
       "    okrug                  area  streetname\n",
       "0     ВАО     Район Богородское          10\n",
       "12    ВАО  Район Соколиная Гора          12\n",
       "13    ВАО      Район Сокольники          15\n",
       "14    ЗАО       Можайский Район           9\n",
       "15    ЗАО         Район Внуково           8\n",
       "32    САО        Район Аэропорт           8\n",
       "48   СВАО    Район Марьина роща          18\n",
       "63    ЦАО       Басманный район          25\n",
       "64    ЦАО  Красносельский район          10\n",
       "65    ЦАО       Мещанский район          16\n",
       "66    ЦАО     Пресненский район          19\n",
       "67    ЦАО           Район Арбат          17\n",
       "68    ЦАО   Район Замоскворечье          14\n",
       "69    ЦАО       Район Хамовники          27\n",
       "70    ЦАО        Район Якиманка          11\n",
       "71    ЦАО       Таганский район          27\n",
       "72    ЦАО        Тверской район          21\n",
       "73    ЮАО     Даниловский район          11\n",
       "82   ЮВАО   Нижегородский район           8\n",
       "85   ЮВАО       Район Лефортово          12\n",
       "86   ЮВАО         Район Люблино           8\n",
       "100  ЮЗАО    Район Южное Бутово           8"
      ]
     },
     "execution_count": 55,
     "metadata": {},
     "output_type": "execute_result"
    }
   ],
   "source": [
    "area_one_rest[area_one_rest['streetname'] > 7]"
   ]
  },
  {
   "cell_type": "markdown",
   "metadata": {},
   "source": [
    "Видим, что эти районы отличаются друг от друга: есть как спальные районы, так и районы, известные своей активной ночной жизнью. "
   ]
  },
  {
   "cell_type": "markdown",
   "metadata": {},
   "source": [
    "### Итоги раздела"
   ]
  },
  {
   "cell_type": "markdown",
   "metadata": {},
   "source": [
    "Мы выяснили, что **больше всего объектов общественного питания относится к типу \"кафе\"**: таких объектов мы насчитали 6064. Далее - столовые (около 2500), рестораны (более 2000) и предприятия быстрого обслуживания (1824). **Наименее всего представлены в выборке объекты типа \"отдел кулинарии\"**, которых оказалось всего 273. \n",
    "\n",
    "**Наибольшее среднее количество посадочных мест оказалось в столовых** - там оно превышает 120, а меньше всего в отделах кулинарии. Также мы обнаружили, что в заведениях таких типов, как \"отдел кулинарии\" и \"закусочная\" медиана количества посадочных мест равна 0. Мы не считаем, что это является ошибкой: такие объекты общественного питания действительно часто работают только в формате \"на вынос\".\n",
    "\n",
    "Что касается количества сетевых и несетевых объектов, то мы видим, что количество **несетевых объектов превышает количество сетевых более чем в три раза**. Сетевое распространение наиболее характерно для предприятий быстрого обслуживания, а наименее характерно для столовых, доля сетевых среди которых по выборке составила всего 0,1%. Кажется, что для сетевых заведений наиболее характерно большое количество заведений с небольшим количеством посадочных мест, однако общем по всем типам медиана посадочных мест совпадает (40), а среднее количество посадочных мест оказывается выше у несетевых заведений (58 против 51). \n",
    "\n",
    "Также мы выделили две группы улиц: \n",
    "1. 10 улиц с наибольшим количеством объектов общественного питания\n",
    "2. Улицы, на которых размещен всего один объект общественного питания.\n",
    "\n",
    "**9 из 10 улиц с наибольшим количетством объектов общепита проходят более чем в одном районе**. Половина этих улиц проходит более чем в 4 районах, а в среднем улица из top-10 проходит в 5 районах. Эти улицы кажутся достаточно длинными и такое количество объектов общепита можно связать с протяженностью этих улиц. Несмотря на то, что можно было ожидать, что улицы с наибольшим количеством объектов общественного питания будут находиться в центре, лишь она их этих улиц полностью расположена в ЦАО - это Пресненская набережная, относящаяся к Пресненскому району. Кроме того, еще две улицы проходят через ЦАО, однако расположены в нем не полностью: проспект Мира и Ленинский проспект; все остальные улицы **расположены преимущественно в спальных районах**.\n",
    "\n",
    "**Улицы с одним объектом общепита расположены в 102 районах Москвы и в разных округах, при этом больше всего таких улиц расположено в ЦАО**. Это может показаться удивительным, но именно в ЦАО находится большое количество небольших переулков, где действительно мало объектов общепита. В целом же **районы, в которых расположены такие улицы, отличаются друг от друга: есть как спальные районы, так и районы, известные своей активной ночной жизнью и большим количеством заведений**. "
   ]
  },
  {
   "cell_type": "markdown",
   "metadata": {},
   "source": [
    "## Общие выводы и рекомендации"
   ]
  },
  {
   "cell_type": "markdown",
   "metadata": {},
   "source": [
    "Наша бизнес-идея - открыть небольшое кафе в Москве, особенность которого заключается в том, что обслуживание осуществляют роботы. \n",
    "\n",
    "Тип \"кафе\" - самый распространенный среди общепитов в Москве. Среднее количество посадочных мест в заведениях такого типа - 39, при этом у половины заведений такого типа количество посадочных мест превышает 30. *Кажется, что и в нашем случае количество посадочных мест от 30 до 40 будет оптимальным для первого заведения*. \n",
    "\n",
    "Кажется, что при выборе места для размещения кафе *не следует ориентироваться только на улицы*. Мы выяснили, что 9 из 10 улиц с наибольшим количетством объектов общепита проходят более чем в одном районе. Половина этих улиц проходит более чем в 4 районах, а в среднем улица из top-10 проходит в 5 районах. Несмотря на то, что можно было ожидать, что улицы с наибольшим количеством объектов общественного питания будут находиться в центре, лишь она их этих улиц полностью расположена в ЦАО - это Пресненская набережная, относящаяся к Пресненскому району. Кроме того, еще две улицы проходят через ЦАО, однако расположены в нем не полностью: проспект Мира и Ленинский проспект; все остальные улицы расположены преимущественно в спальных районах. Поэтому, *выбирая улицу для размещения, следует определить, в каком районе проходит интересущий вас участок и соотнести это с целевой аудиторией, ценовой политикой и другими особенностями заведения*. ***В нашем случае кажется оптимальным размещаться в районах ЦАО***: так мы сможем охватить как аудиторию из постоянных жителей Москвы, так и туристов, пребывающих в столицу в любое время года (экспериментальный характер заведения будет привлекательным для них). Кроме того, учитывая дороговизну нашего проекта, вероятнее всего ценовая политика заведения будет средней или выше, а клиент, готовый получить обслуживание по такой цене, наиболее вероятно найдется в центре. \n",
    "\n",
    "*Если мы хотим размещаться на улицах с наибольшим количеством ресторанов, то рекомендуем обратить внимание на Пресненскую набережную, а также на участки улиц Ленинский проспект и проспект Мира, проходящие через ЦАО*. \n",
    "\n",
    "Развивать сеть для заведения такого типа и формата кажется возможным: более 20% кафе в Москве являются сетевыми. Однако, если наше предположение о ценовой политике заведения верно, распространение сети мы также рекомендуем начинать с ЦАО. "
   ]
  },
  {
   "cell_type": "code",
   "execution_count": null,
   "metadata": {},
   "outputs": [],
   "source": []
  }
 ],
 "metadata": {
  "ExecuteTimeLog": [
   {
    "duration": 1399,
    "start_time": "2022-08-04T12:09:24.291Z"
   },
   {
    "duration": 258,
    "start_time": "2022-08-04T12:45:48.282Z"
   },
   {
    "duration": 14,
    "start_time": "2022-08-04T12:46:08.169Z"
   },
   {
    "duration": 10,
    "start_time": "2022-08-04T12:46:36.873Z"
   },
   {
    "duration": 21,
    "start_time": "2022-08-04T12:46:48.917Z"
   },
   {
    "duration": 6,
    "start_time": "2022-08-04T12:49:16.495Z"
   },
   {
    "duration": 5,
    "start_time": "2022-08-04T12:51:09.030Z"
   },
   {
    "duration": 7,
    "start_time": "2022-08-04T12:54:36.466Z"
   },
   {
    "duration": 4,
    "start_time": "2022-08-04T12:55:23.915Z"
   },
   {
    "duration": 15,
    "start_time": "2022-08-04T12:55:38.165Z"
   },
   {
    "duration": 9,
    "start_time": "2022-08-04T12:55:56.412Z"
   },
   {
    "duration": 8,
    "start_time": "2022-08-04T12:56:15.353Z"
   },
   {
    "duration": 8,
    "start_time": "2022-08-04T12:56:40.116Z"
   },
   {
    "duration": 9,
    "start_time": "2022-08-04T12:57:12.447Z"
   },
   {
    "duration": 1232,
    "start_time": "2022-08-04T12:57:29.027Z"
   },
   {
    "duration": 69,
    "start_time": "2022-08-04T12:57:30.261Z"
   },
   {
    "duration": 14,
    "start_time": "2022-08-04T12:57:30.332Z"
   },
   {
    "duration": 24,
    "start_time": "2022-08-04T12:57:30.348Z"
   },
   {
    "duration": 7,
    "start_time": "2022-08-04T12:57:30.373Z"
   },
   {
    "duration": 21,
    "start_time": "2022-08-04T12:57:30.382Z"
   },
   {
    "duration": 15,
    "start_time": "2022-08-04T12:57:30.405Z"
   },
   {
    "duration": 21,
    "start_time": "2022-08-04T12:57:30.422Z"
   },
   {
    "duration": 19,
    "start_time": "2022-08-04T12:57:30.445Z"
   },
   {
    "duration": 21,
    "start_time": "2022-08-04T12:58:10.436Z"
   },
   {
    "duration": 12,
    "start_time": "2022-08-04T12:58:24.666Z"
   },
   {
    "duration": 7,
    "start_time": "2022-08-04T12:59:26.768Z"
   },
   {
    "duration": 5,
    "start_time": "2022-08-04T12:59:40.096Z"
   },
   {
    "duration": 15,
    "start_time": "2022-08-04T13:01:21.586Z"
   },
   {
    "duration": 9,
    "start_time": "2022-08-04T13:02:01.892Z"
   },
   {
    "duration": 7,
    "start_time": "2022-08-04T13:02:13.345Z"
   },
   {
    "duration": 17,
    "start_time": "2022-08-04T13:07:42.828Z"
   },
   {
    "duration": 9,
    "start_time": "2022-08-04T13:10:22.638Z"
   },
   {
    "duration": 6,
    "start_time": "2022-08-04T13:31:10.782Z"
   },
   {
    "duration": 10,
    "start_time": "2022-08-04T13:32:22.123Z"
   },
   {
    "duration": 8,
    "start_time": "2022-08-04T13:33:47.134Z"
   },
   {
    "duration": 8,
    "start_time": "2022-08-04T13:33:56.233Z"
   },
   {
    "duration": 33,
    "start_time": "2022-08-04T13:54:50.127Z"
   },
   {
    "duration": 8,
    "start_time": "2022-08-04T13:54:51.537Z"
   },
   {
    "duration": 15,
    "start_time": "2022-08-04T13:55:17.996Z"
   },
   {
    "duration": 9,
    "start_time": "2022-08-04T13:55:45.632Z"
   },
   {
    "duration": 5,
    "start_time": "2022-08-04T13:59:12.677Z"
   },
   {
    "duration": 3,
    "start_time": "2022-08-04T14:05:50.254Z"
   },
   {
    "duration": 6,
    "start_time": "2022-08-04T14:09:28.714Z"
   },
   {
    "duration": 121,
    "start_time": "2022-08-04T14:12:40.339Z"
   },
   {
    "duration": 9,
    "start_time": "2022-08-04T14:17:03.113Z"
   },
   {
    "duration": 7,
    "start_time": "2022-08-04T14:17:12.882Z"
   },
   {
    "duration": 11,
    "start_time": "2022-08-04T14:17:36.432Z"
   },
   {
    "duration": 10,
    "start_time": "2022-08-04T14:22:22.153Z"
   },
   {
    "duration": 4,
    "start_time": "2022-08-04T14:25:27.895Z"
   },
   {
    "duration": 6,
    "start_time": "2022-08-04T14:25:42.066Z"
   },
   {
    "duration": 5,
    "start_time": "2022-08-04T14:25:42.941Z"
   },
   {
    "duration": 5,
    "start_time": "2022-08-04T14:26:08.722Z"
   },
   {
    "duration": 5,
    "start_time": "2022-08-04T14:26:13.564Z"
   },
   {
    "duration": 9,
    "start_time": "2022-08-04T14:26:49.518Z"
   },
   {
    "duration": 12,
    "start_time": "2022-08-04T14:27:04.417Z"
   },
   {
    "duration": 44,
    "start_time": "2022-08-04T21:33:48.916Z"
   },
   {
    "duration": 1292,
    "start_time": "2022-08-04T21:33:55.046Z"
   },
   {
    "duration": 255,
    "start_time": "2022-08-04T21:33:56.340Z"
   },
   {
    "duration": 12,
    "start_time": "2022-08-04T21:33:56.596Z"
   },
   {
    "duration": 13,
    "start_time": "2022-08-04T21:33:56.610Z"
   },
   {
    "duration": 5,
    "start_time": "2022-08-04T21:33:56.624Z"
   },
   {
    "duration": 6,
    "start_time": "2022-08-04T21:33:56.630Z"
   },
   {
    "duration": 6,
    "start_time": "2022-08-04T21:33:56.638Z"
   },
   {
    "duration": 13,
    "start_time": "2022-08-04T21:33:56.645Z"
   },
   {
    "duration": 8,
    "start_time": "2022-08-04T21:33:56.660Z"
   },
   {
    "duration": 6,
    "start_time": "2022-08-04T21:33:56.701Z"
   },
   {
    "duration": 15,
    "start_time": "2022-08-04T21:33:56.709Z"
   },
   {
    "duration": 8,
    "start_time": "2022-08-04T21:33:56.725Z"
   },
   {
    "duration": 10,
    "start_time": "2022-08-04T21:33:56.734Z"
   },
   {
    "duration": 16,
    "start_time": "2022-08-04T21:33:56.745Z"
   },
   {
    "duration": 56,
    "start_time": "2022-08-04T21:33:56.763Z"
   },
   {
    "duration": 8,
    "start_time": "2022-08-04T21:33:56.820Z"
   },
   {
    "duration": 16,
    "start_time": "2022-08-04T21:33:56.830Z"
   },
   {
    "duration": 8,
    "start_time": "2022-08-04T21:33:56.848Z"
   },
   {
    "duration": 3,
    "start_time": "2022-08-04T21:33:56.858Z"
   },
   {
    "duration": 8,
    "start_time": "2022-08-04T21:33:56.863Z"
   },
   {
    "duration": 188,
    "start_time": "2022-08-04T21:33:56.899Z"
   },
   {
    "duration": 100,
    "start_time": "2022-08-04T21:34:07.987Z"
   },
   {
    "duration": 95,
    "start_time": "2022-08-04T21:35:43.070Z"
   },
   {
    "duration": 93,
    "start_time": "2022-08-04T21:36:41.959Z"
   },
   {
    "duration": 95,
    "start_time": "2022-08-04T21:37:47.653Z"
   },
   {
    "duration": 98,
    "start_time": "2022-08-04T21:38:21.190Z"
   },
   {
    "duration": 5,
    "start_time": "2022-08-04T21:44:46.131Z"
   },
   {
    "duration": 5,
    "start_time": "2022-08-04T21:48:36.874Z"
   },
   {
    "duration": 1352,
    "start_time": "2022-08-07T10:02:37.032Z"
   },
   {
    "duration": 223,
    "start_time": "2022-08-07T10:02:38.386Z"
   },
   {
    "duration": 13,
    "start_time": "2022-08-07T10:02:38.610Z"
   },
   {
    "duration": 33,
    "start_time": "2022-08-07T10:02:38.626Z"
   },
   {
    "duration": 16,
    "start_time": "2022-08-07T10:02:38.662Z"
   },
   {
    "duration": 25,
    "start_time": "2022-08-07T10:02:38.680Z"
   },
   {
    "duration": 28,
    "start_time": "2022-08-07T10:02:38.707Z"
   },
   {
    "duration": 37,
    "start_time": "2022-08-07T10:02:38.737Z"
   },
   {
    "duration": 17,
    "start_time": "2022-08-07T10:02:38.775Z"
   },
   {
    "duration": 31,
    "start_time": "2022-08-07T10:02:38.795Z"
   },
   {
    "duration": 62,
    "start_time": "2022-08-07T10:02:38.827Z"
   },
   {
    "duration": 36,
    "start_time": "2022-08-07T10:02:38.891Z"
   },
   {
    "duration": 59,
    "start_time": "2022-08-07T10:02:38.929Z"
   },
   {
    "duration": 49,
    "start_time": "2022-08-07T10:02:38.990Z"
   },
   {
    "duration": 67,
    "start_time": "2022-08-07T10:02:39.041Z"
   },
   {
    "duration": 19,
    "start_time": "2022-08-07T10:02:39.109Z"
   },
   {
    "duration": 30,
    "start_time": "2022-08-07T10:02:39.130Z"
   },
   {
    "duration": 20,
    "start_time": "2022-08-07T10:02:39.161Z"
   },
   {
    "duration": 19,
    "start_time": "2022-08-07T10:02:39.183Z"
   },
   {
    "duration": 12,
    "start_time": "2022-08-07T10:02:39.204Z"
   },
   {
    "duration": 145,
    "start_time": "2022-08-07T10:02:39.218Z"
   },
   {
    "duration": 5,
    "start_time": "2022-08-07T10:02:39.364Z"
   },
   {
    "duration": 8,
    "start_time": "2022-08-07T10:42:52.602Z"
   },
   {
    "duration": 13,
    "start_time": "2022-08-07T10:43:01.821Z"
   },
   {
    "duration": 109,
    "start_time": "2022-08-07T10:52:44.518Z"
   },
   {
    "duration": 21,
    "start_time": "2022-08-07T10:52:49.554Z"
   },
   {
    "duration": 53,
    "start_time": "2022-08-07T10:56:42.677Z"
   },
   {
    "duration": 20,
    "start_time": "2022-08-07T10:57:10.577Z"
   },
   {
    "duration": 223,
    "start_time": "2022-08-07T11:02:39.897Z"
   },
   {
    "duration": 21,
    "start_time": "2022-08-07T11:02:58.871Z"
   },
   {
    "duration": 22,
    "start_time": "2022-08-07T11:03:34.003Z"
   },
   {
    "duration": 16,
    "start_time": "2022-08-07T11:03:45.583Z"
   },
   {
    "duration": 101,
    "start_time": "2022-08-07T11:27:22.570Z"
   },
   {
    "duration": 93,
    "start_time": "2022-08-07T11:29:03.459Z"
   },
   {
    "duration": 95,
    "start_time": "2022-08-07T11:29:18.473Z"
   },
   {
    "duration": 95,
    "start_time": "2022-08-07T11:29:30.234Z"
   },
   {
    "duration": 96,
    "start_time": "2022-08-07T11:30:15.613Z"
   },
   {
    "duration": 93,
    "start_time": "2022-08-07T11:30:23.062Z"
   },
   {
    "duration": 9,
    "start_time": "2022-08-07T11:37:27.267Z"
   },
   {
    "duration": 169,
    "start_time": "2022-08-07T11:38:01.915Z"
   },
   {
    "duration": 308,
    "start_time": "2022-08-07T11:39:58.712Z"
   },
   {
    "duration": 208,
    "start_time": "2022-08-07T11:41:54.213Z"
   },
   {
    "duration": 186,
    "start_time": "2022-08-07T11:47:36.631Z"
   },
   {
    "duration": 113,
    "start_time": "2022-08-07T11:49:56.471Z"
   },
   {
    "duration": 9,
    "start_time": "2022-08-07T11:51:57.807Z"
   },
   {
    "duration": 228,
    "start_time": "2022-08-07T11:52:27.613Z"
   },
   {
    "duration": 204,
    "start_time": "2022-08-07T11:52:40.514Z"
   },
   {
    "duration": 207,
    "start_time": "2022-08-07T11:52:50.949Z"
   },
   {
    "duration": 239,
    "start_time": "2022-08-07T15:03:16.060Z"
   },
   {
    "duration": 232,
    "start_time": "2022-08-07T15:03:31.677Z"
   },
   {
    "duration": 238,
    "start_time": "2022-08-07T15:03:43.776Z"
   },
   {
    "duration": 487,
    "start_time": "2022-08-07T15:10:40.821Z"
   },
   {
    "duration": 25,
    "start_time": "2022-08-07T15:32:40.208Z"
   },
   {
    "duration": 365,
    "start_time": "2022-08-07T15:32:42.322Z"
   },
   {
    "duration": 220,
    "start_time": "2022-08-07T15:32:54.582Z"
   },
   {
    "duration": 514,
    "start_time": "2022-08-07T15:32:57.686Z"
   },
   {
    "duration": 16,
    "start_time": "2022-08-07T15:34:31.451Z"
   },
   {
    "duration": 205,
    "start_time": "2022-08-07T15:36:46.529Z"
   },
   {
    "duration": 27,
    "start_time": "2022-08-07T15:37:02.828Z"
   },
   {
    "duration": 61,
    "start_time": "2022-08-07T16:27:35.481Z"
   },
   {
    "duration": 140,
    "start_time": "2022-08-07T16:27:42.714Z"
   },
   {
    "duration": 132,
    "start_time": "2022-08-07T16:27:58.509Z"
   },
   {
    "duration": 13,
    "start_time": "2022-08-07T16:33:29.756Z"
   },
   {
    "duration": 14,
    "start_time": "2022-08-07T16:54:41.480Z"
   },
   {
    "duration": 20,
    "start_time": "2022-08-07T16:57:42.420Z"
   },
   {
    "duration": 18,
    "start_time": "2022-08-07T16:58:01.971Z"
   },
   {
    "duration": 15,
    "start_time": "2022-08-07T16:59:57.228Z"
   },
   {
    "duration": 37,
    "start_time": "2022-08-07T17:00:52.151Z"
   },
   {
    "duration": 14,
    "start_time": "2022-08-07T17:01:24.109Z"
   },
   {
    "duration": 18,
    "start_time": "2022-08-07T17:03:29.397Z"
   },
   {
    "duration": 16,
    "start_time": "2022-08-07T17:04:13.918Z"
   },
   {
    "duration": 13,
    "start_time": "2022-08-07T17:05:07.637Z"
   },
   {
    "duration": 17,
    "start_time": "2022-08-07T17:05:13.886Z"
   },
   {
    "duration": 21,
    "start_time": "2022-08-07T17:05:41.676Z"
   },
   {
    "duration": 13,
    "start_time": "2022-08-07T17:06:17.877Z"
   },
   {
    "duration": 19,
    "start_time": "2022-08-07T17:06:24.532Z"
   },
   {
    "duration": 205,
    "start_time": "2022-08-07T17:17:34.618Z"
   },
   {
    "duration": 205,
    "start_time": "2022-08-07T17:17:53.485Z"
   },
   {
    "duration": 237,
    "start_time": "2022-08-07T17:18:01.965Z"
   },
   {
    "duration": 22,
    "start_time": "2022-08-07T17:21:51.106Z"
   },
   {
    "duration": 21,
    "start_time": "2022-08-07T17:22:09.677Z"
   },
   {
    "duration": 21,
    "start_time": "2022-08-07T17:22:43.862Z"
   },
   {
    "duration": 8,
    "start_time": "2022-08-07T17:24:33.096Z"
   },
   {
    "duration": 587,
    "start_time": "2022-08-07T17:33:05.922Z"
   },
   {
    "duration": 494,
    "start_time": "2022-08-07T17:33:32.726Z"
   },
   {
    "duration": 414,
    "start_time": "2022-08-07T17:33:39.641Z"
   },
   {
    "duration": 422,
    "start_time": "2022-08-07T17:34:09.597Z"
   },
   {
    "duration": 452,
    "start_time": "2022-08-07T17:34:44.124Z"
   },
   {
    "duration": 430,
    "start_time": "2022-08-07T17:35:27.001Z"
   },
   {
    "duration": 431,
    "start_time": "2022-08-07T17:37:14.486Z"
   },
   {
    "duration": 563,
    "start_time": "2022-08-07T17:37:43.866Z"
   },
   {
    "duration": 484,
    "start_time": "2022-08-07T17:39:12.741Z"
   },
   {
    "duration": 546,
    "start_time": "2022-08-07T17:48:25.398Z"
   },
   {
    "duration": 5,
    "start_time": "2022-08-07T17:51:06.446Z"
   },
   {
    "duration": 608,
    "start_time": "2022-08-07T17:51:12.722Z"
   },
   {
    "duration": 441,
    "start_time": "2022-08-07T17:52:04.438Z"
   },
   {
    "duration": 10,
    "start_time": "2022-08-07T18:06:12.416Z"
   },
   {
    "duration": 14,
    "start_time": "2022-08-07T18:07:59.562Z"
   },
   {
    "duration": 836,
    "start_time": "2022-08-07T18:11:55.318Z"
   },
   {
    "duration": 884,
    "start_time": "2022-08-07T18:14:54.282Z"
   },
   {
    "duration": 45,
    "start_time": "2022-08-07T18:15:07.202Z"
   },
   {
    "duration": 31,
    "start_time": "2022-08-07T18:15:15.016Z"
   },
   {
    "duration": 30,
    "start_time": "2022-08-07T18:16:01.846Z"
   },
   {
    "duration": 31,
    "start_time": "2022-08-07T18:16:23.119Z"
   },
   {
    "duration": 30,
    "start_time": "2022-08-07T18:17:11.527Z"
   },
   {
    "duration": 30,
    "start_time": "2022-08-07T18:17:30.722Z"
   },
   {
    "duration": 20,
    "start_time": "2022-08-07T18:20:11.754Z"
   },
   {
    "duration": 179,
    "start_time": "2022-08-07T18:20:25.048Z"
   },
   {
    "duration": 17,
    "start_time": "2022-08-07T18:20:49.438Z"
   },
   {
    "duration": 3,
    "start_time": "2022-08-07T18:35:34.513Z"
   },
   {
    "duration": 822,
    "start_time": "2022-08-07T18:36:31.053Z"
   },
   {
    "duration": 3,
    "start_time": "2022-08-07T18:38:01.194Z"
   },
   {
    "duration": 804,
    "start_time": "2022-08-07T18:38:05.030Z"
   },
   {
    "duration": 42,
    "start_time": "2022-08-07T18:44:50.636Z"
   },
   {
    "duration": 18,
    "start_time": "2022-08-07T18:49:37.330Z"
   },
   {
    "duration": 15,
    "start_time": "2022-08-07T18:50:03.973Z"
   },
   {
    "duration": 23,
    "start_time": "2022-08-07T18:50:18.957Z"
   },
   {
    "duration": 4,
    "start_time": "2022-08-07T19:00:35.386Z"
   },
   {
    "duration": 300850,
    "start_time": "2022-08-07T19:01:09.726Z"
   },
   {
    "duration": 0,
    "start_time": "2022-08-07T19:06:10.579Z"
   },
   {
    "duration": 16,
    "start_time": "2022-08-07T19:06:12.876Z"
   },
   {
    "duration": 28,
    "start_time": "2022-08-07T19:07:25.300Z"
   },
   {
    "duration": 12,
    "start_time": "2022-08-07T19:07:31.141Z"
   },
   {
    "duration": 160,
    "start_time": "2022-08-07T19:07:46.904Z"
   },
   {
    "duration": 9,
    "start_time": "2022-08-07T19:18:09.783Z"
   },
   {
    "duration": 9,
    "start_time": "2022-08-07T19:18:16.105Z"
   },
   {
    "duration": 8,
    "start_time": "2022-08-07T19:18:46.991Z"
   },
   {
    "duration": 9,
    "start_time": "2022-08-07T19:18:52.291Z"
   },
   {
    "duration": 10,
    "start_time": "2022-08-07T19:19:14.253Z"
   },
   {
    "duration": 10,
    "start_time": "2022-08-07T19:19:15.640Z"
   },
   {
    "duration": 8,
    "start_time": "2022-08-07T19:19:28.826Z"
   },
   {
    "duration": 12,
    "start_time": "2022-08-07T19:19:49.153Z"
   },
   {
    "duration": 11,
    "start_time": "2022-08-07T19:19:51.982Z"
   },
   {
    "duration": 10,
    "start_time": "2022-08-07T19:20:01.342Z"
   },
   {
    "duration": 8,
    "start_time": "2022-08-07T19:21:43.970Z"
   },
   {
    "duration": 16,
    "start_time": "2022-08-07T19:21:50.607Z"
   },
   {
    "duration": 8,
    "start_time": "2022-08-07T19:22:02.206Z"
   },
   {
    "duration": 11,
    "start_time": "2022-08-07T19:22:08.946Z"
   },
   {
    "duration": 13,
    "start_time": "2022-08-07T19:22:16.485Z"
   },
   {
    "duration": 9,
    "start_time": "2022-08-07T19:22:20.738Z"
   },
   {
    "duration": 12,
    "start_time": "2022-08-07T19:22:28.883Z"
   },
   {
    "duration": 3,
    "start_time": "2022-08-07T19:23:00.694Z"
   },
   {
    "duration": 11,
    "start_time": "2022-08-07T19:23:07.588Z"
   },
   {
    "duration": 5,
    "start_time": "2022-08-07T19:23:49.644Z"
   },
   {
    "duration": 13,
    "start_time": "2022-08-07T19:23:56.514Z"
   },
   {
    "duration": 14,
    "start_time": "2022-08-07T20:10:21.493Z"
   },
   {
    "duration": 18,
    "start_time": "2022-08-07T20:10:29.653Z"
   },
   {
    "duration": 16,
    "start_time": "2022-08-07T20:11:09.623Z"
   },
   {
    "duration": 11,
    "start_time": "2022-08-07T20:12:10.456Z"
   },
   {
    "duration": 24,
    "start_time": "2022-08-07T20:12:22.960Z"
   },
   {
    "duration": 25,
    "start_time": "2022-08-07T20:12:52.393Z"
   },
   {
    "duration": 28,
    "start_time": "2022-08-07T20:13:04.565Z"
   },
   {
    "duration": 30,
    "start_time": "2022-08-07T20:13:14.094Z"
   },
   {
    "duration": 1122,
    "start_time": "2022-08-07T20:13:24.780Z"
   },
   {
    "duration": 64,
    "start_time": "2022-08-07T20:13:25.904Z"
   },
   {
    "duration": 13,
    "start_time": "2022-08-07T20:13:25.970Z"
   },
   {
    "duration": 15,
    "start_time": "2022-08-07T20:13:25.985Z"
   },
   {
    "duration": 6,
    "start_time": "2022-08-07T20:13:26.002Z"
   },
   {
    "duration": 6,
    "start_time": "2022-08-07T20:13:26.009Z"
   },
   {
    "duration": 27,
    "start_time": "2022-08-07T20:13:26.016Z"
   },
   {
    "duration": 16,
    "start_time": "2022-08-07T20:13:26.044Z"
   },
   {
    "duration": 11,
    "start_time": "2022-08-07T20:13:26.062Z"
   },
   {
    "duration": 11,
    "start_time": "2022-08-07T20:13:26.076Z"
   },
   {
    "duration": 21,
    "start_time": "2022-08-07T20:13:26.089Z"
   },
   {
    "duration": 16,
    "start_time": "2022-08-07T20:13:26.112Z"
   },
   {
    "duration": 7,
    "start_time": "2022-08-07T20:13:26.138Z"
   },
   {
    "duration": 19,
    "start_time": "2022-08-07T20:13:26.147Z"
   },
   {
    "duration": 37,
    "start_time": "2022-08-07T20:13:26.168Z"
   },
   {
    "duration": 9,
    "start_time": "2022-08-07T20:13:26.207Z"
   },
   {
    "duration": 14,
    "start_time": "2022-08-07T20:13:26.239Z"
   },
   {
    "duration": 8,
    "start_time": "2022-08-07T20:13:26.254Z"
   },
   {
    "duration": 4,
    "start_time": "2022-08-07T20:13:26.264Z"
   },
   {
    "duration": 7,
    "start_time": "2022-08-07T20:13:26.270Z"
   },
   {
    "duration": 143,
    "start_time": "2022-08-07T20:13:26.279Z"
   },
   {
    "duration": 5,
    "start_time": "2022-08-07T20:13:26.424Z"
   },
   {
    "duration": 18,
    "start_time": "2022-08-07T20:13:26.438Z"
   },
   {
    "duration": 222,
    "start_time": "2022-08-07T20:13:26.457Z"
   },
   {
    "duration": 450,
    "start_time": "2022-08-07T20:13:26.681Z"
   },
   {
    "duration": 15,
    "start_time": "2022-08-07T20:13:27.138Z"
   },
   {
    "duration": 141,
    "start_time": "2022-08-07T20:13:27.154Z"
   },
   {
    "duration": 22,
    "start_time": "2022-08-07T20:13:27.298Z"
   },
   {
    "duration": 18,
    "start_time": "2022-08-07T20:13:27.321Z"
   },
   {
    "duration": 229,
    "start_time": "2022-08-07T20:13:27.341Z"
   },
   {
    "duration": 482,
    "start_time": "2022-08-07T20:13:27.571Z"
   },
   {
    "duration": 11,
    "start_time": "2022-08-07T20:13:28.054Z"
   },
   {
    "duration": 97,
    "start_time": "2022-08-07T20:13:28.066Z"
   },
   {
    "duration": 8,
    "start_time": "2022-08-07T20:13:28.165Z"
   },
   {
    "duration": 8,
    "start_time": "2022-08-07T20:13:28.174Z"
   },
   {
    "duration": 26,
    "start_time": "2022-08-07T20:13:28.184Z"
   },
   {
    "duration": 27,
    "start_time": "2022-08-07T20:13:28.212Z"
   },
   {
    "duration": 25,
    "start_time": "2022-08-07T20:13:28.241Z"
   },
   {
    "duration": 11,
    "start_time": "2022-08-07T20:14:19.395Z"
   },
   {
    "duration": 9,
    "start_time": "2022-08-07T20:15:33.444Z"
   },
   {
    "duration": 8,
    "start_time": "2022-08-07T20:15:54.741Z"
   },
   {
    "duration": 8,
    "start_time": "2022-08-07T20:16:15.633Z"
   },
   {
    "duration": 54,
    "start_time": "2022-08-07T20:16:16.936Z"
   },
   {
    "duration": 3,
    "start_time": "2022-08-07T20:16:39.821Z"
   },
   {
    "duration": 10,
    "start_time": "2022-08-07T20:17:20.688Z"
   },
   {
    "duration": 1119,
    "start_time": "2022-08-08T16:54:18.733Z"
   },
   {
    "duration": 65,
    "start_time": "2022-08-08T16:54:19.854Z"
   },
   {
    "duration": 12,
    "start_time": "2022-08-08T16:54:19.921Z"
   },
   {
    "duration": 11,
    "start_time": "2022-08-08T16:54:19.934Z"
   },
   {
    "duration": 3,
    "start_time": "2022-08-08T16:54:19.947Z"
   },
   {
    "duration": 7,
    "start_time": "2022-08-08T16:54:19.951Z"
   },
   {
    "duration": 6,
    "start_time": "2022-08-08T16:54:19.959Z"
   },
   {
    "duration": 12,
    "start_time": "2022-08-08T16:54:19.966Z"
   },
   {
    "duration": 7,
    "start_time": "2022-08-08T16:54:19.980Z"
   },
   {
    "duration": 11,
    "start_time": "2022-08-08T16:54:19.988Z"
   },
   {
    "duration": 15,
    "start_time": "2022-08-08T16:54:20.000Z"
   },
   {
    "duration": 26,
    "start_time": "2022-08-08T16:54:20.016Z"
   },
   {
    "duration": 9,
    "start_time": "2022-08-08T16:54:20.044Z"
   },
   {
    "duration": 16,
    "start_time": "2022-08-08T16:54:20.056Z"
   },
   {
    "duration": 31,
    "start_time": "2022-08-08T16:54:20.073Z"
   },
   {
    "duration": 8,
    "start_time": "2022-08-08T16:54:20.105Z"
   },
   {
    "duration": 35,
    "start_time": "2022-08-08T16:54:20.114Z"
   },
   {
    "duration": 7,
    "start_time": "2022-08-08T16:54:20.151Z"
   },
   {
    "duration": 5,
    "start_time": "2022-08-08T16:54:20.160Z"
   },
   {
    "duration": 12,
    "start_time": "2022-08-08T16:54:20.166Z"
   },
   {
    "duration": 123,
    "start_time": "2022-08-08T16:54:20.179Z"
   },
   {
    "duration": 4,
    "start_time": "2022-08-08T16:54:20.303Z"
   },
   {
    "duration": 18,
    "start_time": "2022-08-08T16:54:20.308Z"
   },
   {
    "duration": 194,
    "start_time": "2022-08-08T16:54:20.327Z"
   },
   {
    "duration": 409,
    "start_time": "2022-08-08T16:54:20.523Z"
   },
   {
    "duration": 15,
    "start_time": "2022-08-08T16:54:20.934Z"
   },
   {
    "duration": 123,
    "start_time": "2022-08-08T16:54:20.950Z"
   },
   {
    "duration": 19,
    "start_time": "2022-08-08T16:54:21.074Z"
   },
   {
    "duration": 6,
    "start_time": "2022-08-08T16:54:21.094Z"
   },
   {
    "duration": 210,
    "start_time": "2022-08-08T16:54:21.101Z"
   },
   {
    "duration": 425,
    "start_time": "2022-08-08T16:54:21.312Z"
   },
   {
    "duration": 10,
    "start_time": "2022-08-08T16:54:21.738Z"
   },
   {
    "duration": 90,
    "start_time": "2022-08-08T16:54:21.749Z"
   },
   {
    "duration": 7,
    "start_time": "2022-08-08T16:54:21.840Z"
   },
   {
    "duration": 9,
    "start_time": "2022-08-08T16:54:21.848Z"
   },
   {
    "duration": 92,
    "start_time": "2022-08-08T16:54:21.859Z"
   },
   {
    "duration": 0,
    "start_time": "2022-08-08T16:54:21.953Z"
   },
   {
    "duration": 0,
    "start_time": "2022-08-08T16:54:21.953Z"
   },
   {
    "duration": 0,
    "start_time": "2022-08-08T16:54:21.955Z"
   },
   {
    "duration": 0,
    "start_time": "2022-08-08T16:54:21.956Z"
   },
   {
    "duration": 0,
    "start_time": "2022-08-08T16:54:21.957Z"
   },
   {
    "duration": 13,
    "start_time": "2022-08-08T16:54:42.735Z"
   },
   {
    "duration": 10,
    "start_time": "2022-08-08T16:57:37.099Z"
   },
   {
    "duration": 9,
    "start_time": "2022-08-08T16:57:44.499Z"
   },
   {
    "duration": 10,
    "start_time": "2022-08-08T16:57:54.613Z"
   },
   {
    "duration": 10,
    "start_time": "2022-08-08T16:58:01.177Z"
   },
   {
    "duration": 9,
    "start_time": "2022-08-08T16:58:09.893Z"
   },
   {
    "duration": 10,
    "start_time": "2022-08-08T16:58:18.739Z"
   },
   {
    "duration": 10,
    "start_time": "2022-08-08T16:58:26.377Z"
   },
   {
    "duration": 10,
    "start_time": "2022-08-08T16:58:33.080Z"
   },
   {
    "duration": 426,
    "start_time": "2022-08-08T16:59:27.513Z"
   },
   {
    "duration": 22,
    "start_time": "2022-08-08T16:59:33.117Z"
   },
   {
    "duration": 10,
    "start_time": "2022-08-08T16:59:44.421Z"
   },
   {
    "duration": 9,
    "start_time": "2022-08-08T16:59:52.614Z"
   },
   {
    "duration": 10,
    "start_time": "2022-08-08T17:00:05.557Z"
   },
   {
    "duration": 15,
    "start_time": "2022-08-08T17:00:40.571Z"
   },
   {
    "duration": 11,
    "start_time": "2022-08-08T17:00:48.567Z"
   },
   {
    "duration": 65,
    "start_time": "2022-08-08T17:01:19.894Z"
   },
   {
    "duration": 10,
    "start_time": "2022-08-08T17:01:32.969Z"
   },
   {
    "duration": 4,
    "start_time": "2022-08-08T17:01:34.825Z"
   },
   {
    "duration": 11,
    "start_time": "2022-08-08T17:01:36.020Z"
   },
   {
    "duration": 17,
    "start_time": "2022-08-08T17:01:39.957Z"
   },
   {
    "duration": 12,
    "start_time": "2022-08-08T17:01:44.228Z"
   },
   {
    "duration": 13,
    "start_time": "2022-08-08T17:01:46.567Z"
   },
   {
    "duration": 11,
    "start_time": "2022-08-08T17:01:51.682Z"
   },
   {
    "duration": 12,
    "start_time": "2022-08-08T17:01:53.525Z"
   },
   {
    "duration": 5,
    "start_time": "2022-08-08T17:02:14.139Z"
   },
   {
    "duration": 1115,
    "start_time": "2022-08-08T17:02:51.550Z"
   },
   {
    "duration": 60,
    "start_time": "2022-08-08T17:02:52.669Z"
   },
   {
    "duration": 12,
    "start_time": "2022-08-08T17:02:52.731Z"
   },
   {
    "duration": 12,
    "start_time": "2022-08-08T17:02:52.745Z"
   },
   {
    "duration": 4,
    "start_time": "2022-08-08T17:02:52.758Z"
   },
   {
    "duration": 8,
    "start_time": "2022-08-08T17:02:52.764Z"
   },
   {
    "duration": 7,
    "start_time": "2022-08-08T17:02:52.773Z"
   },
   {
    "duration": 11,
    "start_time": "2022-08-08T17:02:52.781Z"
   },
   {
    "duration": 7,
    "start_time": "2022-08-08T17:02:52.796Z"
   },
   {
    "duration": 34,
    "start_time": "2022-08-08T17:02:52.805Z"
   },
   {
    "duration": 12,
    "start_time": "2022-08-08T17:02:52.840Z"
   },
   {
    "duration": 7,
    "start_time": "2022-08-08T17:02:52.854Z"
   },
   {
    "duration": 9,
    "start_time": "2022-08-08T17:02:52.862Z"
   },
   {
    "duration": 14,
    "start_time": "2022-08-08T17:02:52.872Z"
   },
   {
    "duration": 53,
    "start_time": "2022-08-08T17:02:52.887Z"
   },
   {
    "duration": 8,
    "start_time": "2022-08-08T17:02:52.941Z"
   },
   {
    "duration": 14,
    "start_time": "2022-08-08T17:02:52.950Z"
   },
   {
    "duration": 7,
    "start_time": "2022-08-08T17:02:52.966Z"
   },
   {
    "duration": 3,
    "start_time": "2022-08-08T17:02:52.974Z"
   },
   {
    "duration": 6,
    "start_time": "2022-08-08T17:02:52.979Z"
   },
   {
    "duration": 131,
    "start_time": "2022-08-08T17:02:52.986Z"
   },
   {
    "duration": 5,
    "start_time": "2022-08-08T17:02:53.119Z"
   },
   {
    "duration": 24,
    "start_time": "2022-08-08T17:02:53.125Z"
   },
   {
    "duration": 196,
    "start_time": "2022-08-08T17:02:53.150Z"
   },
   {
    "duration": 420,
    "start_time": "2022-08-08T17:02:53.347Z"
   },
   {
    "duration": 15,
    "start_time": "2022-08-08T17:02:53.768Z"
   },
   {
    "duration": 125,
    "start_time": "2022-08-08T17:02:53.785Z"
   },
   {
    "duration": 28,
    "start_time": "2022-08-08T17:02:53.911Z"
   },
   {
    "duration": 6,
    "start_time": "2022-08-08T17:02:53.941Z"
   },
   {
    "duration": 202,
    "start_time": "2022-08-08T17:02:53.949Z"
   },
   {
    "duration": 429,
    "start_time": "2022-08-08T17:02:54.152Z"
   },
   {
    "duration": 10,
    "start_time": "2022-08-08T17:02:54.583Z"
   },
   {
    "duration": 85,
    "start_time": "2022-08-08T17:02:54.594Z"
   },
   {
    "duration": 9,
    "start_time": "2022-08-08T17:02:54.681Z"
   },
   {
    "duration": 6,
    "start_time": "2022-08-08T17:02:54.692Z"
   },
   {
    "duration": 18,
    "start_time": "2022-08-08T17:02:54.700Z"
   },
   {
    "duration": 27,
    "start_time": "2022-08-08T17:02:54.720Z"
   },
   {
    "duration": 12,
    "start_time": "2022-08-08T17:02:54.749Z"
   },
   {
    "duration": 12,
    "start_time": "2022-08-08T17:02:54.762Z"
   },
   {
    "duration": 9,
    "start_time": "2022-08-08T17:02:54.775Z"
   },
   {
    "duration": 3,
    "start_time": "2022-08-08T17:02:54.786Z"
   },
   {
    "duration": 7,
    "start_time": "2022-08-08T17:03:13.167Z"
   },
   {
    "duration": 3577,
    "start_time": "2022-08-08T17:07:50.579Z"
   },
   {
    "duration": 5,
    "start_time": "2022-08-08T17:07:56.542Z"
   },
   {
    "duration": 12,
    "start_time": "2022-08-08T17:07:57.384Z"
   },
   {
    "duration": 12,
    "start_time": "2022-08-08T17:08:02.423Z"
   },
   {
    "duration": 19,
    "start_time": "2022-08-08T17:08:04.911Z"
   },
   {
    "duration": 16,
    "start_time": "2022-08-08T17:08:06.782Z"
   },
   {
    "duration": 15,
    "start_time": "2022-08-08T17:08:07.654Z"
   },
   {
    "duration": 98,
    "start_time": "2022-08-08T17:08:09.326Z"
   },
   {
    "duration": 1161,
    "start_time": "2022-08-08T17:08:42.161Z"
   },
   {
    "duration": 62,
    "start_time": "2022-08-08T17:08:43.324Z"
   },
   {
    "duration": 11,
    "start_time": "2022-08-08T17:08:43.388Z"
   },
   {
    "duration": 14,
    "start_time": "2022-08-08T17:08:43.401Z"
   },
   {
    "duration": 6,
    "start_time": "2022-08-08T17:08:43.416Z"
   },
   {
    "duration": 17,
    "start_time": "2022-08-08T17:08:43.424Z"
   },
   {
    "duration": 7,
    "start_time": "2022-08-08T17:08:43.442Z"
   },
   {
    "duration": 15,
    "start_time": "2022-08-08T17:08:43.451Z"
   },
   {
    "duration": 9,
    "start_time": "2022-08-08T17:08:43.468Z"
   },
   {
    "duration": 10,
    "start_time": "2022-08-08T17:08:43.480Z"
   },
   {
    "duration": 15,
    "start_time": "2022-08-08T17:08:43.492Z"
   },
   {
    "duration": 31,
    "start_time": "2022-08-08T17:08:43.509Z"
   },
   {
    "duration": 11,
    "start_time": "2022-08-08T17:08:43.542Z"
   },
   {
    "duration": 16,
    "start_time": "2022-08-08T17:08:43.555Z"
   },
   {
    "duration": 33,
    "start_time": "2022-08-08T17:08:43.573Z"
   },
   {
    "duration": 8,
    "start_time": "2022-08-08T17:08:43.608Z"
   },
   {
    "duration": 16,
    "start_time": "2022-08-08T17:08:43.638Z"
   },
   {
    "duration": 9,
    "start_time": "2022-08-08T17:08:43.656Z"
   },
   {
    "duration": 5,
    "start_time": "2022-08-08T17:08:43.667Z"
   },
   {
    "duration": 7,
    "start_time": "2022-08-08T17:08:43.674Z"
   },
   {
    "duration": 142,
    "start_time": "2022-08-08T17:08:43.683Z"
   },
   {
    "duration": 14,
    "start_time": "2022-08-08T17:08:43.827Z"
   },
   {
    "duration": 19,
    "start_time": "2022-08-08T17:08:43.842Z"
   },
   {
    "duration": 211,
    "start_time": "2022-08-08T17:08:43.862Z"
   },
   {
    "duration": 447,
    "start_time": "2022-08-08T17:08:44.075Z"
   },
   {
    "duration": 21,
    "start_time": "2022-08-08T17:08:44.524Z"
   },
   {
    "duration": 127,
    "start_time": "2022-08-08T17:08:44.546Z"
   },
   {
    "duration": 20,
    "start_time": "2022-08-08T17:08:44.676Z"
   },
   {
    "duration": 7,
    "start_time": "2022-08-08T17:08:44.698Z"
   },
   {
    "duration": 228,
    "start_time": "2022-08-08T17:08:44.706Z"
   },
   {
    "duration": 452,
    "start_time": "2022-08-08T17:08:44.937Z"
   },
   {
    "duration": 10,
    "start_time": "2022-08-08T17:08:45.390Z"
   },
   {
    "duration": 105,
    "start_time": "2022-08-08T17:08:45.402Z"
   },
   {
    "duration": 4085,
    "start_time": "2022-08-08T17:08:45.508Z"
   },
   {
    "duration": 5,
    "start_time": "2022-08-08T17:08:49.595Z"
   },
   {
    "duration": 16,
    "start_time": "2022-08-08T17:08:49.602Z"
   },
   {
    "duration": 35,
    "start_time": "2022-08-08T17:08:49.619Z"
   },
   {
    "duration": 14,
    "start_time": "2022-08-08T17:08:49.656Z"
   },
   {
    "duration": 17,
    "start_time": "2022-08-08T17:08:49.672Z"
   },
   {
    "duration": 11,
    "start_time": "2022-08-08T17:08:49.691Z"
   },
   {
    "duration": 14,
    "start_time": "2022-08-08T17:08:49.703Z"
   },
   {
    "duration": 6,
    "start_time": "2022-08-08T17:08:49.739Z"
   },
   {
    "duration": 3621,
    "start_time": "2022-08-08T17:10:18.769Z"
   },
   {
    "duration": 1145,
    "start_time": "2022-08-08T17:10:36.516Z"
   },
   {
    "duration": 61,
    "start_time": "2022-08-08T17:10:37.663Z"
   },
   {
    "duration": 11,
    "start_time": "2022-08-08T17:10:37.725Z"
   },
   {
    "duration": 12,
    "start_time": "2022-08-08T17:10:37.737Z"
   },
   {
    "duration": 6,
    "start_time": "2022-08-08T17:10:37.750Z"
   },
   {
    "duration": 5,
    "start_time": "2022-08-08T17:10:37.758Z"
   },
   {
    "duration": 6,
    "start_time": "2022-08-08T17:10:37.765Z"
   },
   {
    "duration": 13,
    "start_time": "2022-08-08T17:10:37.772Z"
   },
   {
    "duration": 14,
    "start_time": "2022-08-08T17:10:37.787Z"
   },
   {
    "duration": 7,
    "start_time": "2022-08-08T17:10:37.803Z"
   },
   {
    "duration": 26,
    "start_time": "2022-08-08T17:10:37.812Z"
   },
   {
    "duration": 8,
    "start_time": "2022-08-08T17:10:37.840Z"
   },
   {
    "duration": 12,
    "start_time": "2022-08-08T17:10:37.849Z"
   },
   {
    "duration": 14,
    "start_time": "2022-08-08T17:10:37.863Z"
   },
   {
    "duration": 29,
    "start_time": "2022-08-08T17:10:37.879Z"
   },
   {
    "duration": 8,
    "start_time": "2022-08-08T17:10:37.909Z"
   },
   {
    "duration": 28,
    "start_time": "2022-08-08T17:10:37.919Z"
   },
   {
    "duration": 7,
    "start_time": "2022-08-08T17:10:37.948Z"
   },
   {
    "duration": 3,
    "start_time": "2022-08-08T17:10:37.956Z"
   },
   {
    "duration": 6,
    "start_time": "2022-08-08T17:10:37.961Z"
   },
   {
    "duration": 126,
    "start_time": "2022-08-08T17:10:37.968Z"
   },
   {
    "duration": 4,
    "start_time": "2022-08-08T17:10:38.095Z"
   },
   {
    "duration": 18,
    "start_time": "2022-08-08T17:10:38.100Z"
   },
   {
    "duration": 202,
    "start_time": "2022-08-08T17:10:38.119Z"
   },
   {
    "duration": 407,
    "start_time": "2022-08-08T17:10:38.323Z"
   },
   {
    "duration": 18,
    "start_time": "2022-08-08T17:10:38.731Z"
   },
   {
    "duration": 131,
    "start_time": "2022-08-08T17:10:38.751Z"
   },
   {
    "duration": 32,
    "start_time": "2022-08-08T17:10:38.887Z"
   },
   {
    "duration": 26,
    "start_time": "2022-08-08T17:10:38.921Z"
   },
   {
    "duration": 256,
    "start_time": "2022-08-08T17:10:38.949Z"
   },
   {
    "duration": 435,
    "start_time": "2022-08-08T17:10:39.206Z"
   },
   {
    "duration": 10,
    "start_time": "2022-08-08T17:10:39.642Z"
   },
   {
    "duration": 95,
    "start_time": "2022-08-08T17:10:39.654Z"
   },
   {
    "duration": 3756,
    "start_time": "2022-08-08T17:10:39.750Z"
   },
   {
    "duration": 5,
    "start_time": "2022-08-08T17:10:43.508Z"
   },
   {
    "duration": 31,
    "start_time": "2022-08-08T17:10:43.515Z"
   },
   {
    "duration": 20,
    "start_time": "2022-08-08T17:10:43.548Z"
   },
   {
    "duration": 12,
    "start_time": "2022-08-08T17:10:43.569Z"
   },
   {
    "duration": 11,
    "start_time": "2022-08-08T17:10:43.583Z"
   },
   {
    "duration": 10,
    "start_time": "2022-08-08T17:10:43.596Z"
   },
   {
    "duration": 31,
    "start_time": "2022-08-08T17:10:43.607Z"
   },
   {
    "duration": 5,
    "start_time": "2022-08-08T17:10:43.640Z"
   },
   {
    "duration": 27,
    "start_time": "2022-08-08T17:17:45.929Z"
   },
   {
    "duration": 34,
    "start_time": "2022-08-08T17:17:51.447Z"
   },
   {
    "duration": 120,
    "start_time": "2022-08-08T17:20:28.937Z"
   },
   {
    "duration": 76,
    "start_time": "2022-08-08T17:20:40.551Z"
   },
   {
    "duration": 6,
    "start_time": "2022-08-09T09:41:47.886Z"
   },
   {
    "duration": 4,
    "start_time": "2022-08-09T09:41:52.515Z"
   },
   {
    "duration": 10,
    "start_time": "2022-08-09T09:41:53.249Z"
   },
   {
    "duration": 10,
    "start_time": "2022-08-09T09:42:02.015Z"
   },
   {
    "duration": 1140,
    "start_time": "2022-08-09T09:43:55.093Z"
   },
   {
    "duration": 65,
    "start_time": "2022-08-09T09:43:56.235Z"
   },
   {
    "duration": 11,
    "start_time": "2022-08-09T09:43:56.302Z"
   },
   {
    "duration": 19,
    "start_time": "2022-08-09T09:43:56.314Z"
   },
   {
    "duration": 21,
    "start_time": "2022-08-09T09:43:56.334Z"
   },
   {
    "duration": 23,
    "start_time": "2022-08-09T09:43:56.357Z"
   },
   {
    "duration": 16,
    "start_time": "2022-08-09T09:43:56.382Z"
   },
   {
    "duration": 36,
    "start_time": "2022-08-09T09:43:56.399Z"
   },
   {
    "duration": 25,
    "start_time": "2022-08-09T09:43:56.437Z"
   },
   {
    "duration": 27,
    "start_time": "2022-08-09T09:43:56.465Z"
   },
   {
    "duration": 23,
    "start_time": "2022-08-09T09:43:56.493Z"
   },
   {
    "duration": 32,
    "start_time": "2022-08-09T09:43:56.518Z"
   },
   {
    "duration": 17,
    "start_time": "2022-08-09T09:43:56.552Z"
   },
   {
    "duration": 29,
    "start_time": "2022-08-09T09:43:56.570Z"
   },
   {
    "duration": 55,
    "start_time": "2022-08-09T09:43:56.601Z"
   },
   {
    "duration": 10,
    "start_time": "2022-08-09T09:43:56.657Z"
   },
   {
    "duration": 39,
    "start_time": "2022-08-09T09:43:56.668Z"
   },
   {
    "duration": 7,
    "start_time": "2022-08-09T09:43:56.709Z"
   },
   {
    "duration": 8,
    "start_time": "2022-08-09T09:43:56.717Z"
   },
   {
    "duration": 34,
    "start_time": "2022-08-09T09:43:56.726Z"
   },
   {
    "duration": 115,
    "start_time": "2022-08-09T09:43:56.761Z"
   },
   {
    "duration": 4,
    "start_time": "2022-08-09T09:43:56.878Z"
   },
   {
    "duration": 24,
    "start_time": "2022-08-09T09:43:56.884Z"
   },
   {
    "duration": 204,
    "start_time": "2022-08-09T09:43:56.910Z"
   },
   {
    "duration": 458,
    "start_time": "2022-08-09T09:43:57.116Z"
   },
   {
    "duration": 14,
    "start_time": "2022-08-09T09:43:57.575Z"
   },
   {
    "duration": 139,
    "start_time": "2022-08-09T09:43:57.591Z"
   },
   {
    "duration": 28,
    "start_time": "2022-08-09T09:43:57.733Z"
   },
   {
    "duration": 7,
    "start_time": "2022-08-09T09:43:57.763Z"
   },
   {
    "duration": 220,
    "start_time": "2022-08-09T09:43:57.771Z"
   },
   {
    "duration": 468,
    "start_time": "2022-08-09T09:43:57.993Z"
   },
   {
    "duration": 11,
    "start_time": "2022-08-09T09:43:58.462Z"
   },
   {
    "duration": 87,
    "start_time": "2022-08-09T09:43:58.475Z"
   },
   {
    "duration": 3893,
    "start_time": "2022-08-09T09:43:58.563Z"
   },
   {
    "duration": 7,
    "start_time": "2022-08-09T09:44:02.458Z"
   },
   {
    "duration": 24,
    "start_time": "2022-08-09T09:44:02.466Z"
   },
   {
    "duration": 23,
    "start_time": "2022-08-09T09:44:02.491Z"
   },
   {
    "duration": 33,
    "start_time": "2022-08-09T09:44:02.516Z"
   },
   {
    "duration": 17,
    "start_time": "2022-08-09T09:44:02.552Z"
   },
   {
    "duration": 12,
    "start_time": "2022-08-09T09:44:02.571Z"
   },
   {
    "duration": 10,
    "start_time": "2022-08-09T09:44:02.585Z"
   },
   {
    "duration": 11,
    "start_time": "2022-08-09T09:44:02.597Z"
   },
   {
    "duration": 1359,
    "start_time": "2022-08-09T10:34:26.835Z"
   },
   {
    "duration": 10,
    "start_time": "2022-08-09T10:34:47.969Z"
   },
   {
    "duration": 12,
    "start_time": "2022-08-09T10:35:03.030Z"
   },
   {
    "duration": 6,
    "start_time": "2022-08-09T10:38:56.213Z"
   },
   {
    "duration": 30,
    "start_time": "2022-08-09T10:48:05.353Z"
   },
   {
    "duration": 3,
    "start_time": "2022-08-09T10:48:27.125Z"
   },
   {
    "duration": 11,
    "start_time": "2022-08-09T10:48:28.892Z"
   },
   {
    "duration": 11,
    "start_time": "2022-08-09T10:48:29.658Z"
   },
   {
    "duration": 9,
    "start_time": "2022-08-09T10:48:30.297Z"
   },
   {
    "duration": 10,
    "start_time": "2022-08-09T10:48:30.999Z"
   },
   {
    "duration": 1271,
    "start_time": "2022-08-09T10:48:38.155Z"
   },
   {
    "duration": 78,
    "start_time": "2022-08-09T10:48:39.427Z"
   },
   {
    "duration": 11,
    "start_time": "2022-08-09T10:48:39.507Z"
   },
   {
    "duration": 13,
    "start_time": "2022-08-09T10:48:39.519Z"
   },
   {
    "duration": 4,
    "start_time": "2022-08-09T10:48:39.534Z"
   },
   {
    "duration": 27,
    "start_time": "2022-08-09T10:48:39.545Z"
   },
   {
    "duration": 7,
    "start_time": "2022-08-09T10:48:39.573Z"
   },
   {
    "duration": 16,
    "start_time": "2022-08-09T10:48:39.581Z"
   },
   {
    "duration": 7,
    "start_time": "2022-08-09T10:48:39.599Z"
   },
   {
    "duration": 10,
    "start_time": "2022-08-09T10:48:39.608Z"
   },
   {
    "duration": 19,
    "start_time": "2022-08-09T10:48:39.619Z"
   },
   {
    "duration": 34,
    "start_time": "2022-08-09T10:48:39.641Z"
   },
   {
    "duration": 13,
    "start_time": "2022-08-09T10:48:39.676Z"
   },
   {
    "duration": 15,
    "start_time": "2022-08-09T10:48:39.693Z"
   },
   {
    "duration": 36,
    "start_time": "2022-08-09T10:48:39.709Z"
   },
   {
    "duration": 15,
    "start_time": "2022-08-09T10:48:39.747Z"
   },
   {
    "duration": 21,
    "start_time": "2022-08-09T10:48:39.764Z"
   },
   {
    "duration": 8,
    "start_time": "2022-08-09T10:48:39.786Z"
   },
   {
    "duration": 4,
    "start_time": "2022-08-09T10:48:39.795Z"
   },
   {
    "duration": 8,
    "start_time": "2022-08-09T10:48:39.800Z"
   },
   {
    "duration": 127,
    "start_time": "2022-08-09T10:48:39.809Z"
   },
   {
    "duration": 6,
    "start_time": "2022-08-09T10:48:39.938Z"
   },
   {
    "duration": 37,
    "start_time": "2022-08-09T10:48:39.946Z"
   },
   {
    "duration": 221,
    "start_time": "2022-08-09T10:48:39.985Z"
   },
   {
    "duration": 497,
    "start_time": "2022-08-09T10:48:40.207Z"
   },
   {
    "duration": 13,
    "start_time": "2022-08-09T10:48:40.706Z"
   },
   {
    "duration": 137,
    "start_time": "2022-08-09T10:48:40.721Z"
   },
   {
    "duration": 23,
    "start_time": "2022-08-09T10:48:40.861Z"
   },
   {
    "duration": 6,
    "start_time": "2022-08-09T10:48:40.886Z"
   },
   {
    "duration": 258,
    "start_time": "2022-08-09T10:48:40.894Z"
   },
   {
    "duration": 583,
    "start_time": "2022-08-09T10:48:41.154Z"
   },
   {
    "duration": 22,
    "start_time": "2022-08-09T10:48:41.739Z"
   },
   {
    "duration": 93,
    "start_time": "2022-08-09T10:48:41.767Z"
   },
   {
    "duration": 114,
    "start_time": "2022-08-09T10:48:41.864Z"
   },
   {
    "duration": 0,
    "start_time": "2022-08-09T10:48:41.980Z"
   },
   {
    "duration": 0,
    "start_time": "2022-08-09T10:48:41.981Z"
   },
   {
    "duration": 0,
    "start_time": "2022-08-09T10:48:41.982Z"
   },
   {
    "duration": 0,
    "start_time": "2022-08-09T10:48:41.983Z"
   },
   {
    "duration": 0,
    "start_time": "2022-08-09T10:48:41.984Z"
   },
   {
    "duration": 0,
    "start_time": "2022-08-09T10:48:41.985Z"
   },
   {
    "duration": 0,
    "start_time": "2022-08-09T10:48:41.988Z"
   },
   {
    "duration": 0,
    "start_time": "2022-08-09T10:48:41.989Z"
   },
   {
    "duration": 0,
    "start_time": "2022-08-09T10:48:41.990Z"
   },
   {
    "duration": 2490,
    "start_time": "2022-08-09T10:49:40.253Z"
   },
   {
    "duration": 5,
    "start_time": "2022-08-09T10:51:00.612Z"
   },
   {
    "duration": 12,
    "start_time": "2022-08-09T10:51:01.897Z"
   },
   {
    "duration": 19,
    "start_time": "2022-08-09T10:51:04.881Z"
   },
   {
    "duration": 18,
    "start_time": "2022-08-09T10:51:29.052Z"
   },
   {
    "duration": 18,
    "start_time": "2022-08-09T10:51:30.155Z"
   },
   {
    "duration": 13,
    "start_time": "2022-08-09T10:51:34.228Z"
   },
   {
    "duration": 6,
    "start_time": "2022-08-09T10:51:35.261Z"
   },
   {
    "duration": 12,
    "start_time": "2022-08-09T10:51:36.354Z"
   },
   {
    "duration": 6,
    "start_time": "2022-08-09T10:51:38.423Z"
   },
   {
    "duration": 30,
    "start_time": "2022-08-09T10:58:24.714Z"
   },
   {
    "duration": 25,
    "start_time": "2022-08-09T10:58:40.264Z"
   },
   {
    "duration": 38,
    "start_time": "2022-08-09T10:58:50.034Z"
   },
   {
    "duration": 26,
    "start_time": "2022-08-09T10:59:19.696Z"
   },
   {
    "duration": 2414,
    "start_time": "2022-08-09T10:59:42.855Z"
   },
   {
    "duration": 6,
    "start_time": "2022-08-09T10:59:48.980Z"
   },
   {
    "duration": 15,
    "start_time": "2022-08-09T10:59:49.627Z"
   },
   {
    "duration": 111,
    "start_time": "2022-08-09T10:59:52.109Z"
   },
   {
    "duration": 14,
    "start_time": "2022-08-09T10:59:53.861Z"
   },
   {
    "duration": 14,
    "start_time": "2022-08-09T10:59:54.599Z"
   },
   {
    "duration": 1197,
    "start_time": "2022-08-09T11:00:00.005Z"
   },
   {
    "duration": 74,
    "start_time": "2022-08-09T11:00:01.204Z"
   },
   {
    "duration": 11,
    "start_time": "2022-08-09T11:00:01.280Z"
   },
   {
    "duration": 94,
    "start_time": "2022-08-09T11:00:01.293Z"
   },
   {
    "duration": 41,
    "start_time": "2022-08-09T11:00:01.389Z"
   },
   {
    "duration": 49,
    "start_time": "2022-08-09T11:00:01.432Z"
   },
   {
    "duration": 83,
    "start_time": "2022-08-09T11:00:01.482Z"
   },
   {
    "duration": 35,
    "start_time": "2022-08-09T11:00:01.566Z"
   },
   {
    "duration": 67,
    "start_time": "2022-08-09T11:00:01.603Z"
   },
   {
    "duration": 28,
    "start_time": "2022-08-09T11:00:01.673Z"
   },
   {
    "duration": 42,
    "start_time": "2022-08-09T11:00:01.703Z"
   },
   {
    "duration": 132,
    "start_time": "2022-08-09T11:00:01.748Z"
   },
   {
    "duration": 20,
    "start_time": "2022-08-09T11:00:01.882Z"
   },
   {
    "duration": 75,
    "start_time": "2022-08-09T11:00:01.903Z"
   },
   {
    "duration": 33,
    "start_time": "2022-08-09T11:00:01.980Z"
   },
   {
    "duration": 10,
    "start_time": "2022-08-09T11:00:02.015Z"
   },
   {
    "duration": 52,
    "start_time": "2022-08-09T11:00:02.026Z"
   },
   {
    "duration": 16,
    "start_time": "2022-08-09T11:00:02.080Z"
   },
   {
    "duration": 37,
    "start_time": "2022-08-09T11:00:02.098Z"
   },
   {
    "duration": 94,
    "start_time": "2022-08-09T11:00:02.136Z"
   },
   {
    "duration": 171,
    "start_time": "2022-08-09T11:00:02.232Z"
   },
   {
    "duration": 4,
    "start_time": "2022-08-09T11:00:02.405Z"
   },
   {
    "duration": 34,
    "start_time": "2022-08-09T11:00:02.410Z"
   },
   {
    "duration": 233,
    "start_time": "2022-08-09T11:00:02.458Z"
   },
   {
    "duration": 494,
    "start_time": "2022-08-09T11:00:02.693Z"
   },
   {
    "duration": 14,
    "start_time": "2022-08-09T11:00:03.188Z"
   },
   {
    "duration": 139,
    "start_time": "2022-08-09T11:00:03.203Z"
   },
   {
    "duration": 28,
    "start_time": "2022-08-09T11:00:03.347Z"
   },
   {
    "duration": 12,
    "start_time": "2022-08-09T11:00:03.376Z"
   },
   {
    "duration": 228,
    "start_time": "2022-08-09T11:00:03.389Z"
   },
   {
    "duration": 482,
    "start_time": "2022-08-09T11:00:03.619Z"
   },
   {
    "duration": 10,
    "start_time": "2022-08-09T11:00:04.103Z"
   },
   {
    "duration": 116,
    "start_time": "2022-08-09T11:00:04.114Z"
   },
   {
    "duration": 2367,
    "start_time": "2022-08-09T11:00:04.232Z"
   },
   {
    "duration": 6,
    "start_time": "2022-08-09T11:00:06.601Z"
   },
   {
    "duration": 18,
    "start_time": "2022-08-09T11:00:06.608Z"
   },
   {
    "duration": 39,
    "start_time": "2022-08-09T11:00:06.628Z"
   },
   {
    "duration": 17,
    "start_time": "2022-08-09T11:00:06.669Z"
   },
   {
    "duration": 11,
    "start_time": "2022-08-09T11:00:06.688Z"
   },
   {
    "duration": 14,
    "start_time": "2022-08-09T11:00:06.700Z"
   },
   {
    "duration": 4,
    "start_time": "2022-08-09T11:00:06.715Z"
   },
   {
    "duration": 28,
    "start_time": "2022-08-09T11:00:06.720Z"
   },
   {
    "duration": 19,
    "start_time": "2022-08-09T11:00:06.755Z"
   },
   {
    "duration": 8,
    "start_time": "2022-08-09T12:16:24.741Z"
   },
   {
    "duration": 14,
    "start_time": "2022-08-09T12:16:38.875Z"
   },
   {
    "duration": 7,
    "start_time": "2022-08-09T12:16:50.557Z"
   },
   {
    "duration": 6,
    "start_time": "2022-08-09T12:17:07.859Z"
   },
   {
    "duration": 6,
    "start_time": "2022-08-09T12:17:35.550Z"
   },
   {
    "duration": 7,
    "start_time": "2022-08-09T12:17:46.221Z"
   },
   {
    "duration": 6,
    "start_time": "2022-08-09T12:18:07.620Z"
   },
   {
    "duration": 15,
    "start_time": "2022-08-09T12:33:29.444Z"
   },
   {
    "duration": 11,
    "start_time": "2022-08-09T12:33:56.921Z"
   },
   {
    "duration": 105,
    "start_time": "2022-08-09T13:37:38.251Z"
   },
   {
    "duration": 11,
    "start_time": "2022-08-09T13:38:03.331Z"
   },
   {
    "duration": 8,
    "start_time": "2022-08-09T13:39:06.254Z"
   },
   {
    "duration": 11,
    "start_time": "2022-08-09T13:39:17.431Z"
   },
   {
    "duration": 13,
    "start_time": "2022-08-09T13:43:07.710Z"
   },
   {
    "duration": 3,
    "start_time": "2022-08-09T13:43:18.585Z"
   },
   {
    "duration": 9,
    "start_time": "2022-08-09T13:43:38.925Z"
   },
   {
    "duration": 21,
    "start_time": "2022-08-09T13:44:20.313Z"
   },
   {
    "duration": 11,
    "start_time": "2022-08-09T13:46:40.978Z"
   },
   {
    "duration": 11,
    "start_time": "2022-08-09T13:49:34.906Z"
   },
   {
    "duration": 1124,
    "start_time": "2022-08-09T13:50:20.311Z"
   },
   {
    "duration": 82,
    "start_time": "2022-08-09T13:50:21.437Z"
   },
   {
    "duration": 11,
    "start_time": "2022-08-09T13:50:21.520Z"
   },
   {
    "duration": 13,
    "start_time": "2022-08-09T13:50:21.533Z"
   },
   {
    "duration": 24,
    "start_time": "2022-08-09T13:50:21.548Z"
   },
   {
    "duration": 5,
    "start_time": "2022-08-09T13:50:21.573Z"
   },
   {
    "duration": 6,
    "start_time": "2022-08-09T13:50:21.580Z"
   },
   {
    "duration": 15,
    "start_time": "2022-08-09T13:50:21.588Z"
   },
   {
    "duration": 7,
    "start_time": "2022-08-09T13:50:21.605Z"
   },
   {
    "duration": 8,
    "start_time": "2022-08-09T13:50:21.614Z"
   },
   {
    "duration": 15,
    "start_time": "2022-08-09T13:50:21.623Z"
   },
   {
    "duration": 13,
    "start_time": "2022-08-09T13:50:21.639Z"
   },
   {
    "duration": 21,
    "start_time": "2022-08-09T13:50:21.654Z"
   },
   {
    "duration": 22,
    "start_time": "2022-08-09T13:50:21.677Z"
   },
   {
    "duration": 32,
    "start_time": "2022-08-09T13:50:21.700Z"
   },
   {
    "duration": 27,
    "start_time": "2022-08-09T13:50:21.739Z"
   },
   {
    "duration": 14,
    "start_time": "2022-08-09T13:50:21.767Z"
   },
   {
    "duration": 8,
    "start_time": "2022-08-09T13:50:21.782Z"
   },
   {
    "duration": 4,
    "start_time": "2022-08-09T13:50:21.791Z"
   },
   {
    "duration": 6,
    "start_time": "2022-08-09T13:50:21.797Z"
   },
   {
    "duration": 124,
    "start_time": "2022-08-09T13:50:21.805Z"
   },
   {
    "duration": 13,
    "start_time": "2022-08-09T13:50:21.931Z"
   },
   {
    "duration": 43,
    "start_time": "2022-08-09T13:50:21.945Z"
   },
   {
    "duration": 220,
    "start_time": "2022-08-09T13:50:21.989Z"
   },
   {
    "duration": 463,
    "start_time": "2022-08-09T13:50:22.211Z"
   },
   {
    "duration": 14,
    "start_time": "2022-08-09T13:50:22.675Z"
   },
   {
    "duration": 132,
    "start_time": "2022-08-09T13:50:22.691Z"
   },
   {
    "duration": 33,
    "start_time": "2022-08-09T13:50:22.826Z"
   },
   {
    "duration": 9,
    "start_time": "2022-08-09T13:50:22.863Z"
   },
   {
    "duration": 234,
    "start_time": "2022-08-09T13:50:22.874Z"
   },
   {
    "duration": 487,
    "start_time": "2022-08-09T13:50:23.110Z"
   },
   {
    "duration": 10,
    "start_time": "2022-08-09T13:50:23.598Z"
   },
   {
    "duration": 101,
    "start_time": "2022-08-09T13:50:23.610Z"
   },
   {
    "duration": 2396,
    "start_time": "2022-08-09T13:50:23.713Z"
   },
   {
    "duration": 6,
    "start_time": "2022-08-09T13:50:26.111Z"
   },
   {
    "duration": 35,
    "start_time": "2022-08-09T13:50:26.118Z"
   },
   {
    "duration": 37,
    "start_time": "2022-08-09T13:50:26.154Z"
   },
   {
    "duration": 17,
    "start_time": "2022-08-09T13:50:26.192Z"
   },
   {
    "duration": 13,
    "start_time": "2022-08-09T13:50:26.210Z"
   },
   {
    "duration": 19,
    "start_time": "2022-08-09T13:50:26.224Z"
   },
   {
    "duration": 19,
    "start_time": "2022-08-09T13:50:26.245Z"
   },
   {
    "duration": 12,
    "start_time": "2022-08-09T13:50:26.266Z"
   },
   {
    "duration": 11,
    "start_time": "2022-08-09T13:50:26.279Z"
   },
   {
    "duration": 9,
    "start_time": "2022-08-09T13:50:26.292Z"
   },
   {
    "duration": 115,
    "start_time": "2022-08-09T13:50:26.302Z"
   },
   {
    "duration": 0,
    "start_time": "2022-08-09T13:50:26.419Z"
   },
   {
    "duration": 11,
    "start_time": "2022-08-09T13:51:28.008Z"
   },
   {
    "duration": 11,
    "start_time": "2022-08-09T13:58:33.780Z"
   },
   {
    "duration": 17,
    "start_time": "2022-08-09T13:58:51.128Z"
   },
   {
    "duration": 6,
    "start_time": "2022-08-09T15:02:02.475Z"
   },
   {
    "duration": 2310,
    "start_time": "2022-08-09T15:02:53.950Z"
   },
   {
    "duration": 6,
    "start_time": "2022-08-09T15:02:58.793Z"
   },
   {
    "duration": 15,
    "start_time": "2022-08-09T15:03:00.127Z"
   },
   {
    "duration": 28,
    "start_time": "2022-08-09T15:03:02.107Z"
   },
   {
    "duration": 15,
    "start_time": "2022-08-09T15:03:04.207Z"
   },
   {
    "duration": 21,
    "start_time": "2022-08-09T15:03:04.938Z"
   },
   {
    "duration": 22,
    "start_time": "2022-08-09T15:03:07.448Z"
   },
   {
    "duration": 1244,
    "start_time": "2022-08-09T15:03:25.318Z"
   },
   {
    "duration": 62,
    "start_time": "2022-08-09T15:03:26.564Z"
   },
   {
    "duration": 20,
    "start_time": "2022-08-09T15:03:26.628Z"
   },
   {
    "duration": 17,
    "start_time": "2022-08-09T15:03:26.655Z"
   },
   {
    "duration": 5,
    "start_time": "2022-08-09T15:03:26.673Z"
   },
   {
    "duration": 8,
    "start_time": "2022-08-09T15:03:26.679Z"
   },
   {
    "duration": 7,
    "start_time": "2022-08-09T15:03:26.688Z"
   },
   {
    "duration": 14,
    "start_time": "2022-08-09T15:03:26.697Z"
   },
   {
    "duration": 8,
    "start_time": "2022-08-09T15:03:26.712Z"
   },
   {
    "duration": 23,
    "start_time": "2022-08-09T15:03:26.722Z"
   },
   {
    "duration": 16,
    "start_time": "2022-08-09T15:03:26.746Z"
   },
   {
    "duration": 14,
    "start_time": "2022-08-09T15:03:26.763Z"
   },
   {
    "duration": 9,
    "start_time": "2022-08-09T15:03:26.779Z"
   },
   {
    "duration": 21,
    "start_time": "2022-08-09T15:03:26.790Z"
   },
   {
    "duration": 62,
    "start_time": "2022-08-09T15:03:26.813Z"
   },
   {
    "duration": 9,
    "start_time": "2022-08-09T15:03:26.876Z"
   },
   {
    "duration": 14,
    "start_time": "2022-08-09T15:03:26.886Z"
   },
   {
    "duration": 8,
    "start_time": "2022-08-09T15:03:26.901Z"
   },
   {
    "duration": 4,
    "start_time": "2022-08-09T15:03:26.910Z"
   },
   {
    "duration": 38,
    "start_time": "2022-08-09T15:03:26.915Z"
   },
   {
    "duration": 113,
    "start_time": "2022-08-09T15:03:26.954Z"
   },
   {
    "duration": 5,
    "start_time": "2022-08-09T15:03:27.069Z"
   },
   {
    "duration": 25,
    "start_time": "2022-08-09T15:03:27.076Z"
   },
   {
    "duration": 221,
    "start_time": "2022-08-09T15:03:27.103Z"
   },
   {
    "duration": 485,
    "start_time": "2022-08-09T15:03:27.327Z"
   },
   {
    "duration": 27,
    "start_time": "2022-08-09T15:03:27.814Z"
   },
   {
    "duration": 159,
    "start_time": "2022-08-09T15:03:27.843Z"
   },
   {
    "duration": 23,
    "start_time": "2022-08-09T15:03:28.005Z"
   },
   {
    "duration": 19,
    "start_time": "2022-08-09T15:03:28.030Z"
   },
   {
    "duration": 231,
    "start_time": "2022-08-09T15:03:28.050Z"
   },
   {
    "duration": 470,
    "start_time": "2022-08-09T15:03:28.282Z"
   },
   {
    "duration": 10,
    "start_time": "2022-08-09T15:03:28.754Z"
   },
   {
    "duration": 102,
    "start_time": "2022-08-09T15:03:28.766Z"
   },
   {
    "duration": 2419,
    "start_time": "2022-08-09T15:03:28.870Z"
   },
   {
    "duration": 5,
    "start_time": "2022-08-09T15:03:31.291Z"
   },
   {
    "duration": 56,
    "start_time": "2022-08-09T15:03:31.297Z"
   },
   {
    "duration": 35,
    "start_time": "2022-08-09T15:03:31.356Z"
   },
   {
    "duration": 23,
    "start_time": "2022-08-09T15:03:31.393Z"
   },
   {
    "duration": 15,
    "start_time": "2022-08-09T15:03:31.418Z"
   },
   {
    "duration": 13,
    "start_time": "2022-08-09T15:03:31.434Z"
   },
   {
    "duration": 15,
    "start_time": "2022-08-09T15:03:31.449Z"
   },
   {
    "duration": 14,
    "start_time": "2022-08-09T15:03:31.466Z"
   },
   {
    "duration": 12,
    "start_time": "2022-08-09T15:03:31.482Z"
   },
   {
    "duration": 14,
    "start_time": "2022-08-09T15:03:31.496Z"
   },
   {
    "duration": 137,
    "start_time": "2022-08-09T15:03:31.512Z"
   },
   {
    "duration": 1,
    "start_time": "2022-08-09T15:03:31.654Z"
   },
   {
    "duration": 2468,
    "start_time": "2022-08-09T15:04:12.817Z"
   },
   {
    "duration": 1254,
    "start_time": "2022-08-09T15:04:26.005Z"
   },
   {
    "duration": 64,
    "start_time": "2022-08-09T15:04:27.260Z"
   },
   {
    "duration": 12,
    "start_time": "2022-08-09T15:04:27.326Z"
   },
   {
    "duration": 27,
    "start_time": "2022-08-09T15:04:27.341Z"
   },
   {
    "duration": 3,
    "start_time": "2022-08-09T15:04:27.370Z"
   },
   {
    "duration": 6,
    "start_time": "2022-08-09T15:04:27.375Z"
   },
   {
    "duration": 6,
    "start_time": "2022-08-09T15:04:27.383Z"
   },
   {
    "duration": 15,
    "start_time": "2022-08-09T15:04:27.390Z"
   },
   {
    "duration": 8,
    "start_time": "2022-08-09T15:04:27.407Z"
   },
   {
    "duration": 21,
    "start_time": "2022-08-09T15:04:27.419Z"
   },
   {
    "duration": 17,
    "start_time": "2022-08-09T15:04:27.445Z"
   },
   {
    "duration": 13,
    "start_time": "2022-08-09T15:04:27.464Z"
   },
   {
    "duration": 11,
    "start_time": "2022-08-09T15:04:27.478Z"
   },
   {
    "duration": 21,
    "start_time": "2022-08-09T15:04:27.491Z"
   },
   {
    "duration": 77,
    "start_time": "2022-08-09T15:04:27.513Z"
   },
   {
    "duration": 9,
    "start_time": "2022-08-09T15:04:27.591Z"
   },
   {
    "duration": 27,
    "start_time": "2022-08-09T15:04:27.601Z"
   },
   {
    "duration": 11,
    "start_time": "2022-08-09T15:04:27.629Z"
   },
   {
    "duration": 7,
    "start_time": "2022-08-09T15:04:27.646Z"
   },
   {
    "duration": 10,
    "start_time": "2022-08-09T15:04:27.656Z"
   },
   {
    "duration": 128,
    "start_time": "2022-08-09T15:04:27.668Z"
   },
   {
    "duration": 6,
    "start_time": "2022-08-09T15:04:27.798Z"
   },
   {
    "duration": 19,
    "start_time": "2022-08-09T15:04:27.806Z"
   },
   {
    "duration": 240,
    "start_time": "2022-08-09T15:04:27.827Z"
   },
   {
    "duration": 451,
    "start_time": "2022-08-09T15:04:28.068Z"
   },
   {
    "duration": 34,
    "start_time": "2022-08-09T15:04:28.521Z"
   },
   {
    "duration": 121,
    "start_time": "2022-08-09T15:04:28.557Z"
   },
   {
    "duration": 22,
    "start_time": "2022-08-09T15:04:28.681Z"
   },
   {
    "duration": 8,
    "start_time": "2022-08-09T15:04:28.704Z"
   },
   {
    "duration": 250,
    "start_time": "2022-08-09T15:04:28.713Z"
   },
   {
    "duration": 537,
    "start_time": "2022-08-09T15:04:28.965Z"
   },
   {
    "duration": 10,
    "start_time": "2022-08-09T15:04:29.504Z"
   },
   {
    "duration": 98,
    "start_time": "2022-08-09T15:04:29.515Z"
   },
   {
    "duration": 2358,
    "start_time": "2022-08-09T15:04:29.614Z"
   },
   {
    "duration": 5,
    "start_time": "2022-08-09T15:04:31.974Z"
   },
   {
    "duration": 19,
    "start_time": "2022-08-09T15:04:31.981Z"
   },
   {
    "duration": 22,
    "start_time": "2022-08-09T15:04:32.002Z"
   },
   {
    "duration": 25,
    "start_time": "2022-08-09T15:04:32.026Z"
   },
   {
    "duration": 27,
    "start_time": "2022-08-09T15:04:32.053Z"
   },
   {
    "duration": 9,
    "start_time": "2022-08-09T15:04:32.082Z"
   },
   {
    "duration": 3,
    "start_time": "2022-08-09T15:04:32.093Z"
   },
   {
    "duration": 10,
    "start_time": "2022-08-09T15:04:32.097Z"
   },
   {
    "duration": 8,
    "start_time": "2022-08-09T15:04:32.109Z"
   },
   {
    "duration": 12,
    "start_time": "2022-08-09T15:04:32.118Z"
   },
   {
    "duration": 114,
    "start_time": "2022-08-09T15:04:32.131Z"
   },
   {
    "duration": 0,
    "start_time": "2022-08-09T15:04:32.247Z"
   },
   {
    "duration": 4745,
    "start_time": "2022-08-09T15:06:07.274Z"
   },
   {
    "duration": 1171,
    "start_time": "2022-08-09T15:06:16.709Z"
   },
   {
    "duration": 73,
    "start_time": "2022-08-09T15:06:17.882Z"
   },
   {
    "duration": 12,
    "start_time": "2022-08-09T15:06:17.956Z"
   },
   {
    "duration": 12,
    "start_time": "2022-08-09T15:06:17.969Z"
   },
   {
    "duration": 4,
    "start_time": "2022-08-09T15:06:17.982Z"
   },
   {
    "duration": 10,
    "start_time": "2022-08-09T15:06:17.987Z"
   },
   {
    "duration": 11,
    "start_time": "2022-08-09T15:06:17.999Z"
   },
   {
    "duration": 47,
    "start_time": "2022-08-09T15:06:18.012Z"
   },
   {
    "duration": 15,
    "start_time": "2022-08-09T15:06:18.061Z"
   },
   {
    "duration": 7,
    "start_time": "2022-08-09T15:06:18.079Z"
   },
   {
    "duration": 15,
    "start_time": "2022-08-09T15:06:18.087Z"
   },
   {
    "duration": 12,
    "start_time": "2022-08-09T15:06:18.106Z"
   },
   {
    "duration": 51,
    "start_time": "2022-08-09T15:06:18.119Z"
   },
   {
    "duration": 24,
    "start_time": "2022-08-09T15:06:18.172Z"
   },
   {
    "duration": 48,
    "start_time": "2022-08-09T15:06:18.198Z"
   },
   {
    "duration": 10,
    "start_time": "2022-08-09T15:06:18.250Z"
   },
   {
    "duration": 25,
    "start_time": "2022-08-09T15:06:18.262Z"
   },
   {
    "duration": 9,
    "start_time": "2022-08-09T15:06:18.288Z"
   },
   {
    "duration": 16,
    "start_time": "2022-08-09T15:06:18.299Z"
   },
   {
    "duration": 11,
    "start_time": "2022-08-09T15:06:18.317Z"
   },
   {
    "duration": 131,
    "start_time": "2022-08-09T15:06:18.330Z"
   },
   {
    "duration": 6,
    "start_time": "2022-08-09T15:06:18.463Z"
   },
   {
    "duration": 21,
    "start_time": "2022-08-09T15:06:18.471Z"
   },
   {
    "duration": 240,
    "start_time": "2022-08-09T15:06:18.493Z"
   },
   {
    "duration": 533,
    "start_time": "2022-08-09T15:06:18.734Z"
   },
   {
    "duration": 15,
    "start_time": "2022-08-09T15:06:19.269Z"
   },
   {
    "duration": 130,
    "start_time": "2022-08-09T15:06:19.286Z"
   },
   {
    "duration": 32,
    "start_time": "2022-08-09T15:06:19.420Z"
   },
   {
    "duration": 9,
    "start_time": "2022-08-09T15:06:19.453Z"
   },
   {
    "duration": 232,
    "start_time": "2022-08-09T15:06:19.464Z"
   },
   {
    "duration": 475,
    "start_time": "2022-08-09T15:06:19.698Z"
   },
   {
    "duration": 12,
    "start_time": "2022-08-09T15:06:20.174Z"
   },
   {
    "duration": 126,
    "start_time": "2022-08-09T15:06:20.188Z"
   },
   {
    "duration": 4390,
    "start_time": "2022-08-09T15:06:20.316Z"
   },
   {
    "duration": 6,
    "start_time": "2022-08-09T15:06:24.707Z"
   },
   {
    "duration": 37,
    "start_time": "2022-08-09T15:06:24.715Z"
   },
   {
    "duration": 28,
    "start_time": "2022-08-09T15:06:24.754Z"
   },
   {
    "duration": 19,
    "start_time": "2022-08-09T15:06:24.784Z"
   },
   {
    "duration": 12,
    "start_time": "2022-08-09T15:06:24.804Z"
   },
   {
    "duration": 9,
    "start_time": "2022-08-09T15:06:24.817Z"
   },
   {
    "duration": 4,
    "start_time": "2022-08-09T15:06:24.828Z"
   },
   {
    "duration": 17,
    "start_time": "2022-08-09T15:06:24.840Z"
   },
   {
    "duration": 5,
    "start_time": "2022-08-09T15:06:24.859Z"
   },
   {
    "duration": 11,
    "start_time": "2022-08-09T15:06:24.866Z"
   },
   {
    "duration": 108,
    "start_time": "2022-08-09T15:06:24.879Z"
   },
   {
    "duration": 0,
    "start_time": "2022-08-09T15:06:24.988Z"
   },
   {
    "duration": 3795,
    "start_time": "2022-08-09T15:06:49.505Z"
   },
   {
    "duration": 1182,
    "start_time": "2022-08-09T15:07:02.117Z"
   },
   {
    "duration": 66,
    "start_time": "2022-08-09T15:07:03.301Z"
   },
   {
    "duration": 11,
    "start_time": "2022-08-09T15:07:03.369Z"
   },
   {
    "duration": 13,
    "start_time": "2022-08-09T15:07:03.381Z"
   },
   {
    "duration": 4,
    "start_time": "2022-08-09T15:07:03.396Z"
   },
   {
    "duration": 8,
    "start_time": "2022-08-09T15:07:03.402Z"
   },
   {
    "duration": 36,
    "start_time": "2022-08-09T15:07:03.412Z"
   },
   {
    "duration": 17,
    "start_time": "2022-08-09T15:07:03.451Z"
   },
   {
    "duration": 11,
    "start_time": "2022-08-09T15:07:03.469Z"
   },
   {
    "duration": 13,
    "start_time": "2022-08-09T15:07:03.482Z"
   },
   {
    "duration": 14,
    "start_time": "2022-08-09T15:07:03.496Z"
   },
   {
    "duration": 8,
    "start_time": "2022-08-09T15:07:03.512Z"
   },
   {
    "duration": 10,
    "start_time": "2022-08-09T15:07:03.522Z"
   },
   {
    "duration": 22,
    "start_time": "2022-08-09T15:07:03.540Z"
   },
   {
    "duration": 32,
    "start_time": "2022-08-09T15:07:03.564Z"
   },
   {
    "duration": 8,
    "start_time": "2022-08-09T15:07:03.597Z"
   },
   {
    "duration": 17,
    "start_time": "2022-08-09T15:07:03.606Z"
   },
   {
    "duration": 32,
    "start_time": "2022-08-09T15:07:03.624Z"
   },
   {
    "duration": 4,
    "start_time": "2022-08-09T15:07:03.657Z"
   },
   {
    "duration": 9,
    "start_time": "2022-08-09T15:07:03.662Z"
   },
   {
    "duration": 120,
    "start_time": "2022-08-09T15:07:03.673Z"
   },
   {
    "duration": 4,
    "start_time": "2022-08-09T15:07:03.795Z"
   },
   {
    "duration": 19,
    "start_time": "2022-08-09T15:07:03.801Z"
   },
   {
    "duration": 225,
    "start_time": "2022-08-09T15:07:03.821Z"
   },
   {
    "duration": 453,
    "start_time": "2022-08-09T15:07:04.047Z"
   },
   {
    "duration": 15,
    "start_time": "2022-08-09T15:07:04.502Z"
   },
   {
    "duration": 138,
    "start_time": "2022-08-09T15:07:04.518Z"
   },
   {
    "duration": 19,
    "start_time": "2022-08-09T15:07:04.658Z"
   },
   {
    "duration": 6,
    "start_time": "2022-08-09T15:07:04.678Z"
   },
   {
    "duration": 227,
    "start_time": "2022-08-09T15:07:04.686Z"
   },
   {
    "duration": 467,
    "start_time": "2022-08-09T15:07:04.914Z"
   },
   {
    "duration": 11,
    "start_time": "2022-08-09T15:07:05.382Z"
   },
   {
    "duration": 116,
    "start_time": "2022-08-09T15:07:05.394Z"
   },
   {
    "duration": 4236,
    "start_time": "2022-08-09T15:07:05.511Z"
   },
   {
    "duration": 7,
    "start_time": "2022-08-09T15:07:09.748Z"
   },
   {
    "duration": 21,
    "start_time": "2022-08-09T15:07:09.756Z"
   },
   {
    "duration": 25,
    "start_time": "2022-08-09T15:07:09.778Z"
   },
   {
    "duration": 14,
    "start_time": "2022-08-09T15:07:09.804Z"
   },
   {
    "duration": 12,
    "start_time": "2022-08-09T15:07:09.820Z"
   },
   {
    "duration": 13,
    "start_time": "2022-08-09T15:07:09.842Z"
   },
   {
    "duration": 20,
    "start_time": "2022-08-09T15:07:09.860Z"
   },
   {
    "duration": 10,
    "start_time": "2022-08-09T15:07:09.881Z"
   },
   {
    "duration": 10,
    "start_time": "2022-08-09T15:07:09.892Z"
   },
   {
    "duration": 13,
    "start_time": "2022-08-09T15:07:09.903Z"
   },
   {
    "duration": 120,
    "start_time": "2022-08-09T15:07:09.917Z"
   },
   {
    "duration": 0,
    "start_time": "2022-08-09T15:07:10.048Z"
   },
   {
    "duration": 8831,
    "start_time": "2022-08-09T15:09:05.929Z"
   },
   {
    "duration": 1145,
    "start_time": "2022-08-09T15:11:43.958Z"
   },
   {
    "duration": 78,
    "start_time": "2022-08-09T15:11:45.105Z"
   },
   {
    "duration": 12,
    "start_time": "2022-08-09T15:11:45.187Z"
   },
   {
    "duration": 13,
    "start_time": "2022-08-09T15:11:45.201Z"
   },
   {
    "duration": 27,
    "start_time": "2022-08-09T15:11:45.216Z"
   },
   {
    "duration": 6,
    "start_time": "2022-08-09T15:11:45.247Z"
   },
   {
    "duration": 24,
    "start_time": "2022-08-09T15:11:45.255Z"
   },
   {
    "duration": 16,
    "start_time": "2022-08-09T15:11:45.281Z"
   },
   {
    "duration": 10,
    "start_time": "2022-08-09T15:11:45.299Z"
   },
   {
    "duration": 18,
    "start_time": "2022-08-09T15:11:45.310Z"
   },
   {
    "duration": 25,
    "start_time": "2022-08-09T15:11:45.330Z"
   },
   {
    "duration": 8,
    "start_time": "2022-08-09T15:11:45.357Z"
   },
   {
    "duration": 10,
    "start_time": "2022-08-09T15:11:45.368Z"
   },
   {
    "duration": 16,
    "start_time": "2022-08-09T15:11:45.379Z"
   },
   {
    "duration": 33,
    "start_time": "2022-08-09T15:11:45.397Z"
   },
   {
    "duration": 15,
    "start_time": "2022-08-09T15:11:45.439Z"
   },
   {
    "duration": 16,
    "start_time": "2022-08-09T15:11:45.456Z"
   },
   {
    "duration": 7,
    "start_time": "2022-08-09T15:11:45.474Z"
   },
   {
    "duration": 5,
    "start_time": "2022-08-09T15:11:45.483Z"
   },
   {
    "duration": 9,
    "start_time": "2022-08-09T15:11:45.489Z"
   },
   {
    "duration": 142,
    "start_time": "2022-08-09T15:11:45.499Z"
   },
   {
    "duration": 5,
    "start_time": "2022-08-09T15:11:45.647Z"
   },
   {
    "duration": 18,
    "start_time": "2022-08-09T15:11:45.656Z"
   },
   {
    "duration": 218,
    "start_time": "2022-08-09T15:11:45.676Z"
   },
   {
    "duration": 451,
    "start_time": "2022-08-09T15:11:45.895Z"
   },
   {
    "duration": 17,
    "start_time": "2022-08-09T15:11:46.348Z"
   },
   {
    "duration": 126,
    "start_time": "2022-08-09T15:11:46.366Z"
   },
   {
    "duration": 20,
    "start_time": "2022-08-09T15:11:46.494Z"
   },
   {
    "duration": 32,
    "start_time": "2022-08-09T15:11:46.515Z"
   },
   {
    "duration": 211,
    "start_time": "2022-08-09T15:11:46.551Z"
   },
   {
    "duration": 448,
    "start_time": "2022-08-09T15:11:46.765Z"
   },
   {
    "duration": 10,
    "start_time": "2022-08-09T15:11:47.214Z"
   },
   {
    "duration": 117,
    "start_time": "2022-08-09T15:11:47.226Z"
   },
   {
    "duration": 8777,
    "start_time": "2022-08-09T15:11:47.345Z"
   },
   {
    "duration": 20,
    "start_time": "2022-08-09T15:11:56.125Z"
   },
   {
    "duration": 27,
    "start_time": "2022-08-09T15:11:56.147Z"
   },
   {
    "duration": 42,
    "start_time": "2022-08-09T15:11:56.176Z"
   },
   {
    "duration": 21,
    "start_time": "2022-08-09T15:11:56.220Z"
   },
   {
    "duration": 26,
    "start_time": "2022-08-09T15:11:56.243Z"
   },
   {
    "duration": 10,
    "start_time": "2022-08-09T15:11:56.273Z"
   },
   {
    "duration": 11,
    "start_time": "2022-08-09T15:11:56.284Z"
   },
   {
    "duration": 16,
    "start_time": "2022-08-09T15:11:56.297Z"
   },
   {
    "duration": 13,
    "start_time": "2022-08-09T15:11:56.315Z"
   },
   {
    "duration": 31,
    "start_time": "2022-08-09T15:11:56.330Z"
   },
   {
    "duration": 115,
    "start_time": "2022-08-09T15:11:56.366Z"
   },
   {
    "duration": 0,
    "start_time": "2022-08-09T15:11:56.483Z"
   },
   {
    "duration": 17,
    "start_time": "2022-08-09T15:18:58.828Z"
   },
   {
    "duration": 20,
    "start_time": "2022-08-09T15:20:57.733Z"
   },
   {
    "duration": 13,
    "start_time": "2022-08-09T15:21:09.089Z"
   },
   {
    "duration": 20,
    "start_time": "2022-08-09T15:21:35.025Z"
   },
   {
    "duration": 10,
    "start_time": "2022-08-09T15:21:35.889Z"
   },
   {
    "duration": 12,
    "start_time": "2022-08-09T15:21:48.769Z"
   },
   {
    "duration": 14,
    "start_time": "2022-08-09T15:21:51.210Z"
   },
   {
    "duration": 7,
    "start_time": "2022-08-09T15:21:52.151Z"
   },
   {
    "duration": 3,
    "start_time": "2022-08-09T15:23:59.184Z"
   },
   {
    "duration": 8,
    "start_time": "2022-08-09T15:24:06.435Z"
   },
   {
    "duration": 6,
    "start_time": "2022-08-09T15:24:22.570Z"
   },
   {
    "duration": 5,
    "start_time": "2022-08-09T15:24:46.280Z"
   },
   {
    "duration": 10,
    "start_time": "2022-08-09T15:24:59.451Z"
   },
   {
    "duration": 9,
    "start_time": "2022-08-09T15:25:27.864Z"
   },
   {
    "duration": 8,
    "start_time": "2022-08-09T15:25:50.280Z"
   },
   {
    "duration": 18,
    "start_time": "2022-08-09T15:25:56.902Z"
   },
   {
    "duration": 4,
    "start_time": "2022-08-09T15:25:57.656Z"
   },
   {
    "duration": 4,
    "start_time": "2022-08-09T15:26:07.010Z"
   },
   {
    "duration": 4,
    "start_time": "2022-08-09T15:26:26.510Z"
   },
   {
    "duration": 6,
    "start_time": "2022-08-09T15:31:59.661Z"
   },
   {
    "duration": 6,
    "start_time": "2022-08-09T15:32:00.965Z"
   },
   {
    "duration": 15,
    "start_time": "2022-08-09T15:32:05.060Z"
   },
   {
    "duration": 15,
    "start_time": "2022-08-09T15:32:10.161Z"
   },
   {
    "duration": 1225,
    "start_time": "2022-08-09T15:32:17.265Z"
   },
   {
    "duration": 75,
    "start_time": "2022-08-09T15:32:18.492Z"
   },
   {
    "duration": 11,
    "start_time": "2022-08-09T15:32:18.569Z"
   },
   {
    "duration": 16,
    "start_time": "2022-08-09T15:32:18.582Z"
   },
   {
    "duration": 8,
    "start_time": "2022-08-09T15:32:18.599Z"
   },
   {
    "duration": 14,
    "start_time": "2022-08-09T15:32:18.608Z"
   },
   {
    "duration": 15,
    "start_time": "2022-08-09T15:32:18.624Z"
   },
   {
    "duration": 47,
    "start_time": "2022-08-09T15:32:18.641Z"
   },
   {
    "duration": 10,
    "start_time": "2022-08-09T15:32:18.690Z"
   },
   {
    "duration": 20,
    "start_time": "2022-08-09T15:32:18.702Z"
   },
   {
    "duration": 11,
    "start_time": "2022-08-09T15:32:18.723Z"
   },
   {
    "duration": 102,
    "start_time": "2022-08-09T15:32:18.736Z"
   },
   {
    "duration": 0,
    "start_time": "2022-08-09T15:32:18.840Z"
   },
   {
    "duration": 0,
    "start_time": "2022-08-09T15:32:18.841Z"
   },
   {
    "duration": 0,
    "start_time": "2022-08-09T15:32:18.842Z"
   },
   {
    "duration": 0,
    "start_time": "2022-08-09T15:32:18.843Z"
   },
   {
    "duration": 0,
    "start_time": "2022-08-09T15:32:18.845Z"
   },
   {
    "duration": 0,
    "start_time": "2022-08-09T15:32:18.846Z"
   },
   {
    "duration": 0,
    "start_time": "2022-08-09T15:32:18.847Z"
   },
   {
    "duration": 0,
    "start_time": "2022-08-09T15:32:18.848Z"
   },
   {
    "duration": 0,
    "start_time": "2022-08-09T15:32:18.849Z"
   },
   {
    "duration": 0,
    "start_time": "2022-08-09T15:32:18.851Z"
   },
   {
    "duration": 0,
    "start_time": "2022-08-09T15:32:18.852Z"
   },
   {
    "duration": 0,
    "start_time": "2022-08-09T15:32:18.853Z"
   },
   {
    "duration": 0,
    "start_time": "2022-08-09T15:32:18.861Z"
   },
   {
    "duration": 0,
    "start_time": "2022-08-09T15:32:18.862Z"
   },
   {
    "duration": 0,
    "start_time": "2022-08-09T15:32:18.870Z"
   },
   {
    "duration": 0,
    "start_time": "2022-08-09T15:32:18.874Z"
   },
   {
    "duration": 0,
    "start_time": "2022-08-09T15:32:18.875Z"
   },
   {
    "duration": 0,
    "start_time": "2022-08-09T15:32:18.876Z"
   },
   {
    "duration": 0,
    "start_time": "2022-08-09T15:32:18.877Z"
   },
   {
    "duration": 0,
    "start_time": "2022-08-09T15:32:18.878Z"
   },
   {
    "duration": 0,
    "start_time": "2022-08-09T15:32:18.879Z"
   },
   {
    "duration": 0,
    "start_time": "2022-08-09T15:32:18.881Z"
   },
   {
    "duration": 0,
    "start_time": "2022-08-09T15:32:18.882Z"
   },
   {
    "duration": 0,
    "start_time": "2022-08-09T15:32:18.883Z"
   },
   {
    "duration": 0,
    "start_time": "2022-08-09T15:32:18.885Z"
   },
   {
    "duration": 0,
    "start_time": "2022-08-09T15:32:18.886Z"
   },
   {
    "duration": 0,
    "start_time": "2022-08-09T15:32:18.887Z"
   },
   {
    "duration": 0,
    "start_time": "2022-08-09T15:32:18.888Z"
   },
   {
    "duration": 0,
    "start_time": "2022-08-09T15:32:18.889Z"
   },
   {
    "duration": 0,
    "start_time": "2022-08-09T15:32:18.890Z"
   },
   {
    "duration": 0,
    "start_time": "2022-08-09T15:32:18.891Z"
   },
   {
    "duration": 0,
    "start_time": "2022-08-09T15:32:18.892Z"
   },
   {
    "duration": 0,
    "start_time": "2022-08-09T15:32:18.892Z"
   },
   {
    "duration": 0,
    "start_time": "2022-08-09T15:32:18.893Z"
   },
   {
    "duration": 0,
    "start_time": "2022-08-09T15:32:18.894Z"
   },
   {
    "duration": 1,
    "start_time": "2022-08-09T15:32:18.894Z"
   },
   {
    "duration": 0,
    "start_time": "2022-08-09T15:32:18.895Z"
   },
   {
    "duration": 1224,
    "start_time": "2022-08-09T15:33:41.495Z"
   },
   {
    "duration": 81,
    "start_time": "2022-08-09T15:33:42.721Z"
   },
   {
    "duration": 11,
    "start_time": "2022-08-09T15:33:42.804Z"
   },
   {
    "duration": 13,
    "start_time": "2022-08-09T15:33:42.817Z"
   },
   {
    "duration": 5,
    "start_time": "2022-08-09T15:33:42.831Z"
   },
   {
    "duration": 33,
    "start_time": "2022-08-09T15:33:42.839Z"
   },
   {
    "duration": 7,
    "start_time": "2022-08-09T15:33:42.873Z"
   },
   {
    "duration": 14,
    "start_time": "2022-08-09T15:33:42.882Z"
   },
   {
    "duration": 8,
    "start_time": "2022-08-09T15:33:42.897Z"
   },
   {
    "duration": 17,
    "start_time": "2022-08-09T15:33:42.908Z"
   },
   {
    "duration": 12,
    "start_time": "2022-08-09T15:33:42.926Z"
   },
   {
    "duration": 27,
    "start_time": "2022-08-09T15:33:42.940Z"
   },
   {
    "duration": 11,
    "start_time": "2022-08-09T15:33:42.969Z"
   },
   {
    "duration": 7,
    "start_time": "2022-08-09T15:33:42.981Z"
   },
   {
    "duration": 9,
    "start_time": "2022-08-09T15:33:42.989Z"
   },
   {
    "duration": 16,
    "start_time": "2022-08-09T15:33:43.000Z"
   },
   {
    "duration": 9,
    "start_time": "2022-08-09T15:33:43.017Z"
   },
   {
    "duration": 8,
    "start_time": "2022-08-09T15:33:43.028Z"
   },
   {
    "duration": 53,
    "start_time": "2022-08-09T15:33:43.043Z"
   },
   {
    "duration": 8,
    "start_time": "2022-08-09T15:33:43.098Z"
   },
   {
    "duration": 20,
    "start_time": "2022-08-09T15:33:43.107Z"
   },
   {
    "duration": 7,
    "start_time": "2022-08-09T15:33:43.128Z"
   },
   {
    "duration": 9,
    "start_time": "2022-08-09T15:33:43.137Z"
   },
   {
    "duration": 24,
    "start_time": "2022-08-09T15:33:43.148Z"
   },
   {
    "duration": 127,
    "start_time": "2022-08-09T15:33:43.174Z"
   },
   {
    "duration": 6,
    "start_time": "2022-08-09T15:33:43.302Z"
   },
   {
    "duration": 21,
    "start_time": "2022-08-09T15:33:43.309Z"
   },
   {
    "duration": 237,
    "start_time": "2022-08-09T15:33:43.341Z"
   },
   {
    "duration": 483,
    "start_time": "2022-08-09T15:33:43.580Z"
   },
   {
    "duration": 16,
    "start_time": "2022-08-09T15:33:44.065Z"
   },
   {
    "duration": 130,
    "start_time": "2022-08-09T15:33:44.082Z"
   },
   {
    "duration": 36,
    "start_time": "2022-08-09T15:33:44.214Z"
   },
   {
    "duration": 10,
    "start_time": "2022-08-09T15:33:44.252Z"
   },
   {
    "duration": 239,
    "start_time": "2022-08-09T15:33:44.266Z"
   },
   {
    "duration": 502,
    "start_time": "2022-08-09T15:33:44.507Z"
   },
   {
    "duration": 11,
    "start_time": "2022-08-09T15:33:45.011Z"
   },
   {
    "duration": 111,
    "start_time": "2022-08-09T15:33:45.024Z"
   },
   {
    "duration": 8166,
    "start_time": "2022-08-09T15:33:45.137Z"
   },
   {
    "duration": 5,
    "start_time": "2022-08-09T15:33:53.305Z"
   },
   {
    "duration": 17,
    "start_time": "2022-08-09T15:33:53.311Z"
   },
   {
    "duration": 34,
    "start_time": "2022-08-09T15:33:53.329Z"
   },
   {
    "duration": 14,
    "start_time": "2022-08-09T15:33:53.365Z"
   },
   {
    "duration": 13,
    "start_time": "2022-08-09T15:33:53.380Z"
   },
   {
    "duration": 11,
    "start_time": "2022-08-09T15:33:53.394Z"
   },
   {
    "duration": 3,
    "start_time": "2022-08-09T15:33:53.406Z"
   },
   {
    "duration": 30,
    "start_time": "2022-08-09T15:33:53.411Z"
   },
   {
    "duration": 23,
    "start_time": "2022-08-09T15:33:53.443Z"
   },
   {
    "duration": 14,
    "start_time": "2022-08-09T15:33:53.468Z"
   },
   {
    "duration": 8,
    "start_time": "2022-08-09T15:33:53.483Z"
   },
   {
    "duration": 125,
    "start_time": "2022-08-09T15:35:07.966Z"
   },
   {
    "duration": 15,
    "start_time": "2022-08-09T15:35:55.901Z"
   },
   {
    "duration": 28,
    "start_time": "2022-08-09T15:36:01.026Z"
   },
   {
    "duration": 8,
    "start_time": "2022-08-09T15:36:03.685Z"
   },
   {
    "duration": 1220,
    "start_time": "2022-08-09T15:36:21.814Z"
   },
   {
    "duration": 84,
    "start_time": "2022-08-09T15:36:23.035Z"
   },
   {
    "duration": 12,
    "start_time": "2022-08-09T15:36:23.120Z"
   },
   {
    "duration": 20,
    "start_time": "2022-08-09T15:36:23.133Z"
   },
   {
    "duration": 20,
    "start_time": "2022-08-09T15:36:23.155Z"
   },
   {
    "duration": 5,
    "start_time": "2022-08-09T15:36:23.177Z"
   },
   {
    "duration": 6,
    "start_time": "2022-08-09T15:36:23.184Z"
   },
   {
    "duration": 13,
    "start_time": "2022-08-09T15:36:23.191Z"
   },
   {
    "duration": 7,
    "start_time": "2022-08-09T15:36:23.206Z"
   },
   {
    "duration": 19,
    "start_time": "2022-08-09T15:36:23.216Z"
   },
   {
    "duration": 10,
    "start_time": "2022-08-09T15:36:23.243Z"
   },
   {
    "duration": 26,
    "start_time": "2022-08-09T15:36:23.254Z"
   },
   {
    "duration": 8,
    "start_time": "2022-08-09T15:36:23.281Z"
   },
   {
    "duration": 8,
    "start_time": "2022-08-09T15:36:23.291Z"
   },
   {
    "duration": 31,
    "start_time": "2022-08-09T15:36:23.300Z"
   },
   {
    "duration": 19,
    "start_time": "2022-08-09T15:36:23.332Z"
   },
   {
    "duration": 29,
    "start_time": "2022-08-09T15:36:23.352Z"
   },
   {
    "duration": 13,
    "start_time": "2022-08-09T15:36:23.382Z"
   },
   {
    "duration": 14,
    "start_time": "2022-08-09T15:36:23.397Z"
   },
   {
    "duration": 7,
    "start_time": "2022-08-09T15:36:23.413Z"
   },
   {
    "duration": 5,
    "start_time": "2022-08-09T15:36:23.422Z"
   },
   {
    "duration": 40,
    "start_time": "2022-08-09T15:36:23.429Z"
   },
   {
    "duration": 123,
    "start_time": "2022-08-09T15:36:23.471Z"
   },
   {
    "duration": 5,
    "start_time": "2022-08-09T15:36:23.595Z"
   },
   {
    "duration": 19,
    "start_time": "2022-08-09T15:36:23.602Z"
   },
   {
    "duration": 242,
    "start_time": "2022-08-09T15:36:23.623Z"
   },
   {
    "duration": 471,
    "start_time": "2022-08-09T15:36:23.867Z"
   },
   {
    "duration": 28,
    "start_time": "2022-08-09T15:36:24.343Z"
   },
   {
    "duration": 135,
    "start_time": "2022-08-09T15:36:24.373Z"
   },
   {
    "duration": 21,
    "start_time": "2022-08-09T15:36:24.510Z"
   },
   {
    "duration": 9,
    "start_time": "2022-08-09T15:36:24.538Z"
   },
   {
    "duration": 251,
    "start_time": "2022-08-09T15:36:24.549Z"
   },
   {
    "duration": 499,
    "start_time": "2022-08-09T15:36:24.802Z"
   },
   {
    "duration": 10,
    "start_time": "2022-08-09T15:36:25.302Z"
   },
   {
    "duration": 105,
    "start_time": "2022-08-09T15:36:25.314Z"
   },
   {
    "duration": 8390,
    "start_time": "2022-08-09T15:36:25.421Z"
   },
   {
    "duration": 5,
    "start_time": "2022-08-09T15:36:33.813Z"
   },
   {
    "duration": 44,
    "start_time": "2022-08-09T15:36:33.819Z"
   },
   {
    "duration": 23,
    "start_time": "2022-08-09T15:36:33.864Z"
   },
   {
    "duration": 14,
    "start_time": "2022-08-09T15:36:33.888Z"
   },
   {
    "duration": 11,
    "start_time": "2022-08-09T15:36:33.904Z"
   },
   {
    "duration": 29,
    "start_time": "2022-08-09T15:36:33.916Z"
   },
   {
    "duration": 6,
    "start_time": "2022-08-09T15:36:33.946Z"
   },
   {
    "duration": 26,
    "start_time": "2022-08-09T15:36:33.954Z"
   },
   {
    "duration": 6,
    "start_time": "2022-08-09T15:36:33.982Z"
   },
   {
    "duration": 15,
    "start_time": "2022-08-09T15:36:33.989Z"
   },
   {
    "duration": 12,
    "start_time": "2022-08-09T15:36:34.005Z"
   },
   {
    "duration": 5,
    "start_time": "2022-08-09T16:13:36.865Z"
   },
   {
    "duration": 6,
    "start_time": "2022-08-09T16:13:49.263Z"
   },
   {
    "duration": 4,
    "start_time": "2022-08-09T16:14:19.614Z"
   },
   {
    "duration": 8,
    "start_time": "2022-08-09T16:14:26.438Z"
   },
   {
    "duration": 7,
    "start_time": "2022-08-09T16:14:33.279Z"
   },
   {
    "duration": 141,
    "start_time": "2022-08-09T16:44:48.340Z"
   },
   {
    "duration": 8,
    "start_time": "2022-08-09T16:50:04.689Z"
   },
   {
    "duration": 9,
    "start_time": "2022-08-09T16:51:19.216Z"
   },
   {
    "duration": 21,
    "start_time": "2022-08-09T16:57:04.561Z"
   },
   {
    "duration": 23,
    "start_time": "2022-08-09T16:57:44.057Z"
   },
   {
    "duration": 1189,
    "start_time": "2022-08-09T16:58:23.929Z"
   },
   {
    "duration": 69,
    "start_time": "2022-08-09T16:58:25.119Z"
   },
   {
    "duration": 11,
    "start_time": "2022-08-09T16:58:25.190Z"
   },
   {
    "duration": 13,
    "start_time": "2022-08-09T16:58:25.203Z"
   },
   {
    "duration": 3,
    "start_time": "2022-08-09T16:58:25.217Z"
   },
   {
    "duration": 6,
    "start_time": "2022-08-09T16:58:25.221Z"
   },
   {
    "duration": 9,
    "start_time": "2022-08-09T16:58:25.237Z"
   },
   {
    "duration": 29,
    "start_time": "2022-08-09T16:58:25.249Z"
   },
   {
    "duration": 30,
    "start_time": "2022-08-09T16:58:25.280Z"
   },
   {
    "duration": 17,
    "start_time": "2022-08-09T16:58:25.313Z"
   },
   {
    "duration": 5,
    "start_time": "2022-08-09T16:58:25.332Z"
   },
   {
    "duration": 25,
    "start_time": "2022-08-09T16:58:25.340Z"
   },
   {
    "duration": 8,
    "start_time": "2022-08-09T16:58:25.367Z"
   },
   {
    "duration": 8,
    "start_time": "2022-08-09T16:58:25.377Z"
   },
   {
    "duration": 34,
    "start_time": "2022-08-09T16:58:25.386Z"
   },
   {
    "duration": 8,
    "start_time": "2022-08-09T16:58:25.421Z"
   },
   {
    "duration": 22,
    "start_time": "2022-08-09T16:58:25.438Z"
   },
   {
    "duration": 12,
    "start_time": "2022-08-09T16:58:25.462Z"
   },
   {
    "duration": 14,
    "start_time": "2022-08-09T16:58:25.476Z"
   },
   {
    "duration": 7,
    "start_time": "2022-08-09T16:58:25.491Z"
   },
   {
    "duration": 4,
    "start_time": "2022-08-09T16:58:25.499Z"
   },
   {
    "duration": 6,
    "start_time": "2022-08-09T16:58:25.504Z"
   },
   {
    "duration": 148,
    "start_time": "2022-08-09T16:58:25.511Z"
   },
   {
    "duration": 6,
    "start_time": "2022-08-09T16:58:25.660Z"
   },
   {
    "duration": 18,
    "start_time": "2022-08-09T16:58:25.667Z"
   },
   {
    "duration": 230,
    "start_time": "2022-08-09T16:58:25.686Z"
   },
   {
    "duration": 462,
    "start_time": "2022-08-09T16:58:25.917Z"
   },
   {
    "duration": 14,
    "start_time": "2022-08-09T16:58:26.383Z"
   },
   {
    "duration": 130,
    "start_time": "2022-08-09T16:58:26.398Z"
   },
   {
    "duration": 30,
    "start_time": "2022-08-09T16:58:26.529Z"
   },
   {
    "duration": 6,
    "start_time": "2022-08-09T16:58:26.561Z"
   },
   {
    "duration": 226,
    "start_time": "2022-08-09T16:58:26.568Z"
   },
   {
    "duration": 484,
    "start_time": "2022-08-09T16:58:26.797Z"
   },
   {
    "duration": 9,
    "start_time": "2022-08-09T16:58:27.282Z"
   },
   {
    "duration": 96,
    "start_time": "2022-08-09T16:58:27.293Z"
   },
   {
    "duration": 8133,
    "start_time": "2022-08-09T16:58:27.391Z"
   },
   {
    "duration": 9,
    "start_time": "2022-08-09T16:58:35.537Z"
   },
   {
    "duration": 30,
    "start_time": "2022-08-09T16:58:35.548Z"
   },
   {
    "duration": 26,
    "start_time": "2022-08-09T16:58:35.579Z"
   },
   {
    "duration": 18,
    "start_time": "2022-08-09T16:58:35.607Z"
   },
   {
    "duration": 16,
    "start_time": "2022-08-09T16:58:35.626Z"
   },
   {
    "duration": 21,
    "start_time": "2022-08-09T16:58:35.644Z"
   },
   {
    "duration": 7,
    "start_time": "2022-08-09T16:58:35.667Z"
   },
   {
    "duration": 14,
    "start_time": "2022-08-09T16:58:35.675Z"
   },
   {
    "duration": 17,
    "start_time": "2022-08-09T16:58:35.690Z"
   },
   {
    "duration": 19,
    "start_time": "2022-08-09T16:58:35.708Z"
   },
   {
    "duration": 8,
    "start_time": "2022-08-09T16:58:35.729Z"
   },
   {
    "duration": 115,
    "start_time": "2022-08-09T16:58:35.738Z"
   },
   {
    "duration": 38,
    "start_time": "2022-08-09T16:58:59.770Z"
   },
   {
    "duration": 34,
    "start_time": "2022-08-09T17:00:03.462Z"
   },
   {
    "duration": 40,
    "start_time": "2022-08-09T17:00:24.965Z"
   },
   {
    "duration": 37,
    "start_time": "2022-08-09T17:00:47.352Z"
   },
   {
    "duration": 10,
    "start_time": "2022-08-09T17:01:32.651Z"
   },
   {
    "duration": 15,
    "start_time": "2022-08-09T17:02:46.750Z"
   },
   {
    "duration": 39,
    "start_time": "2022-08-09T17:03:31.272Z"
   },
   {
    "duration": 21,
    "start_time": "2022-08-09T17:03:52.615Z"
   },
   {
    "duration": 23,
    "start_time": "2022-08-09T17:04:12.136Z"
   },
   {
    "duration": 13,
    "start_time": "2022-08-09T17:04:44.279Z"
   },
   {
    "duration": 17,
    "start_time": "2022-08-09T17:05:01.305Z"
   },
   {
    "duration": 19,
    "start_time": "2022-08-09T17:05:21.952Z"
   },
   {
    "duration": 16,
    "start_time": "2022-08-09T17:05:43.857Z"
   },
   {
    "duration": 17,
    "start_time": "2022-08-09T17:05:44.913Z"
   },
   {
    "duration": 22,
    "start_time": "2022-08-09T17:06:14.673Z"
   },
   {
    "duration": 22,
    "start_time": "2022-08-09T18:32:08.198Z"
   },
   {
    "duration": 31,
    "start_time": "2022-08-09T18:32:27.468Z"
   },
   {
    "duration": 31,
    "start_time": "2022-08-09T18:32:42.317Z"
   },
   {
    "duration": 1427,
    "start_time": "2022-08-09T22:06:13.358Z"
   },
   {
    "duration": 233,
    "start_time": "2022-08-09T22:06:14.787Z"
   },
   {
    "duration": 15,
    "start_time": "2022-08-09T22:06:15.022Z"
   },
   {
    "duration": 31,
    "start_time": "2022-08-09T22:06:15.039Z"
   },
   {
    "duration": 10,
    "start_time": "2022-08-09T22:06:15.071Z"
   },
   {
    "duration": 11,
    "start_time": "2022-08-09T22:06:15.083Z"
   },
   {
    "duration": 10,
    "start_time": "2022-08-09T22:06:15.097Z"
   },
   {
    "duration": 26,
    "start_time": "2022-08-09T22:06:15.110Z"
   },
   {
    "duration": 9,
    "start_time": "2022-08-09T22:06:15.137Z"
   },
   {
    "duration": 24,
    "start_time": "2022-08-09T22:06:15.149Z"
   },
   {
    "duration": 12,
    "start_time": "2022-08-09T22:06:15.175Z"
   },
   {
    "duration": 14,
    "start_time": "2022-08-09T22:06:15.188Z"
   },
   {
    "duration": 9,
    "start_time": "2022-08-09T22:06:15.204Z"
   },
   {
    "duration": 12,
    "start_time": "2022-08-09T22:06:15.214Z"
   },
   {
    "duration": 60,
    "start_time": "2022-08-09T22:06:15.227Z"
   },
   {
    "duration": 9,
    "start_time": "2022-08-09T22:06:15.289Z"
   },
   {
    "duration": 17,
    "start_time": "2022-08-09T22:06:15.299Z"
   },
   {
    "duration": 15,
    "start_time": "2022-08-09T22:06:15.318Z"
   },
   {
    "duration": 17,
    "start_time": "2022-08-09T22:06:15.334Z"
   },
   {
    "duration": 39,
    "start_time": "2022-08-09T22:06:15.352Z"
   },
   {
    "duration": 4,
    "start_time": "2022-08-09T22:06:15.393Z"
   },
   {
    "duration": 10,
    "start_time": "2022-08-09T22:06:15.399Z"
   },
   {
    "duration": 141,
    "start_time": "2022-08-09T22:06:15.410Z"
   },
   {
    "duration": 6,
    "start_time": "2022-08-09T22:06:15.553Z"
   },
   {
    "duration": 31,
    "start_time": "2022-08-09T22:06:15.560Z"
   },
   {
    "duration": 239,
    "start_time": "2022-08-09T22:06:15.593Z"
   },
   {
    "duration": 520,
    "start_time": "2022-08-09T22:06:15.833Z"
   },
   {
    "duration": 20,
    "start_time": "2022-08-09T22:06:16.358Z"
   },
   {
    "duration": 166,
    "start_time": "2022-08-09T22:06:16.386Z"
   },
   {
    "duration": 35,
    "start_time": "2022-08-09T22:06:16.554Z"
   },
   {
    "duration": 9,
    "start_time": "2022-08-09T22:06:16.591Z"
   },
   {
    "duration": 245,
    "start_time": "2022-08-09T22:06:16.602Z"
   },
   {
    "duration": 611,
    "start_time": "2022-08-09T22:06:16.848Z"
   },
   {
    "duration": 11,
    "start_time": "2022-08-09T22:06:17.461Z"
   },
   {
    "duration": 111,
    "start_time": "2022-08-09T22:06:17.473Z"
   },
   {
    "duration": 8947,
    "start_time": "2022-08-09T22:06:17.587Z"
   },
   {
    "duration": 7,
    "start_time": "2022-08-09T22:06:26.537Z"
   },
   {
    "duration": 25,
    "start_time": "2022-08-09T22:06:26.546Z"
   },
   {
    "duration": 41,
    "start_time": "2022-08-09T22:06:26.573Z"
   },
   {
    "duration": 19,
    "start_time": "2022-08-09T22:06:26.616Z"
   },
   {
    "duration": 18,
    "start_time": "2022-08-09T22:06:26.638Z"
   },
   {
    "duration": 33,
    "start_time": "2022-08-09T22:06:26.658Z"
   },
   {
    "duration": 5,
    "start_time": "2022-08-09T22:06:26.693Z"
   },
   {
    "duration": 12,
    "start_time": "2022-08-09T22:06:26.699Z"
   },
   {
    "duration": 7,
    "start_time": "2022-08-09T22:06:26.713Z"
   },
   {
    "duration": 15,
    "start_time": "2022-08-09T22:06:26.722Z"
   },
   {
    "duration": 14,
    "start_time": "2022-08-09T22:06:26.739Z"
   },
   {
    "duration": 45,
    "start_time": "2022-08-09T22:06:26.754Z"
   },
   {
    "duration": 1295,
    "start_time": "2022-08-09T22:06:26.801Z"
   },
   {
    "duration": 810,
    "start_time": "2022-08-09T22:10:55.023Z"
   },
   {
    "duration": 884,
    "start_time": "2022-08-09T22:12:47.183Z"
   },
   {
    "duration": 47,
    "start_time": "2022-08-10T22:22:20.418Z"
   },
   {
    "duration": 6,
    "start_time": "2022-08-10T22:22:34.596Z"
   },
   {
    "duration": 1356,
    "start_time": "2022-08-10T22:22:42.014Z"
   },
   {
    "duration": 276,
    "start_time": "2022-08-10T22:22:43.372Z"
   },
   {
    "duration": 11,
    "start_time": "2022-08-10T22:22:43.649Z"
   },
   {
    "duration": 12,
    "start_time": "2022-08-10T22:22:43.662Z"
   },
   {
    "duration": 5,
    "start_time": "2022-08-10T22:22:43.676Z"
   },
   {
    "duration": 4,
    "start_time": "2022-08-10T22:22:43.682Z"
   },
   {
    "duration": 5,
    "start_time": "2022-08-10T22:22:43.687Z"
   },
   {
    "duration": 18,
    "start_time": "2022-08-10T22:22:43.693Z"
   },
   {
    "duration": 8,
    "start_time": "2022-08-10T22:22:43.712Z"
   },
   {
    "duration": 17,
    "start_time": "2022-08-10T22:22:43.722Z"
   },
   {
    "duration": 4,
    "start_time": "2022-08-10T22:22:43.741Z"
   },
   {
    "duration": 12,
    "start_time": "2022-08-10T22:22:43.747Z"
   },
   {
    "duration": 9,
    "start_time": "2022-08-10T22:22:43.761Z"
   },
   {
    "duration": 9,
    "start_time": "2022-08-10T22:22:43.771Z"
   },
   {
    "duration": 31,
    "start_time": "2022-08-10T22:22:43.811Z"
   },
   {
    "duration": 8,
    "start_time": "2022-08-10T22:22:43.843Z"
   },
   {
    "duration": 14,
    "start_time": "2022-08-10T22:22:43.853Z"
   },
   {
    "duration": 13,
    "start_time": "2022-08-10T22:22:43.868Z"
   },
   {
    "duration": 35,
    "start_time": "2022-08-10T22:22:43.883Z"
   },
   {
    "duration": 7,
    "start_time": "2022-08-10T22:22:43.920Z"
   },
   {
    "duration": 4,
    "start_time": "2022-08-10T22:22:43.929Z"
   },
   {
    "duration": 5,
    "start_time": "2022-08-10T22:22:43.935Z"
   },
   {
    "duration": 136,
    "start_time": "2022-08-10T22:22:43.942Z"
   },
   {
    "duration": 6,
    "start_time": "2022-08-10T22:22:44.079Z"
   },
   {
    "duration": 26,
    "start_time": "2022-08-10T22:22:44.087Z"
   },
   {
    "duration": 213,
    "start_time": "2022-08-10T22:22:44.115Z"
   },
   {
    "duration": 433,
    "start_time": "2022-08-10T22:22:44.329Z"
   },
   {
    "duration": 14,
    "start_time": "2022-08-10T22:22:44.765Z"
   },
   {
    "duration": 133,
    "start_time": "2022-08-10T22:22:44.780Z"
   },
   {
    "duration": 22,
    "start_time": "2022-08-10T22:22:44.914Z"
   },
   {
    "duration": 8,
    "start_time": "2022-08-10T22:22:44.938Z"
   },
   {
    "duration": 227,
    "start_time": "2022-08-10T22:22:44.947Z"
   },
   {
    "duration": 468,
    "start_time": "2022-08-10T22:22:45.175Z"
   },
   {
    "duration": 11,
    "start_time": "2022-08-10T22:22:45.644Z"
   },
   {
    "duration": 91,
    "start_time": "2022-08-10T22:22:45.656Z"
   },
   {
    "duration": 7342,
    "start_time": "2022-08-10T22:22:45.750Z"
   },
   {
    "duration": 18,
    "start_time": "2022-08-10T22:22:53.094Z"
   },
   {
    "duration": 15,
    "start_time": "2022-08-10T22:22:53.113Z"
   },
   {
    "duration": 20,
    "start_time": "2022-08-10T22:22:53.130Z"
   },
   {
    "duration": 12,
    "start_time": "2022-08-10T22:22:53.152Z"
   },
   {
    "duration": 14,
    "start_time": "2022-08-10T22:22:53.165Z"
   },
   {
    "duration": 45,
    "start_time": "2022-08-10T22:22:53.180Z"
   },
   {
    "duration": 4,
    "start_time": "2022-08-10T22:22:53.227Z"
   },
   {
    "duration": 10,
    "start_time": "2022-08-10T22:22:53.232Z"
   },
   {
    "duration": 25,
    "start_time": "2022-08-10T22:22:53.244Z"
   },
   {
    "duration": 1430,
    "start_time": "2022-08-10T22:22:53.271Z"
   },
   {
    "duration": 121,
    "start_time": "2022-08-10T22:22:54.703Z"
   },
   {
    "duration": 12,
    "start_time": "2022-08-10T22:36:17.406Z"
   },
   {
    "duration": 13,
    "start_time": "2022-08-10T22:38:25.212Z"
   },
   {
    "duration": 12,
    "start_time": "2022-08-10T22:41:36.622Z"
   },
   {
    "duration": 11,
    "start_time": "2022-08-10T22:47:50.337Z"
   },
   {
    "duration": 2,
    "start_time": "2022-08-11T12:41:23.651Z"
   },
   {
    "duration": 5,
    "start_time": "2022-08-11T12:41:28.509Z"
   },
   {
    "duration": 1167,
    "start_time": "2022-08-11T12:41:46.013Z"
   },
   {
    "duration": 69,
    "start_time": "2022-08-11T12:41:47.182Z"
   },
   {
    "duration": 11,
    "start_time": "2022-08-11T12:41:47.254Z"
   },
   {
    "duration": 12,
    "start_time": "2022-08-11T12:41:47.266Z"
   },
   {
    "duration": 5,
    "start_time": "2022-08-11T12:41:47.279Z"
   },
   {
    "duration": 7,
    "start_time": "2022-08-11T12:41:47.285Z"
   },
   {
    "duration": 18,
    "start_time": "2022-08-11T12:41:47.293Z"
   },
   {
    "duration": 18,
    "start_time": "2022-08-11T12:41:47.312Z"
   },
   {
    "duration": 8,
    "start_time": "2022-08-11T12:41:47.333Z"
   },
   {
    "duration": 25,
    "start_time": "2022-08-11T12:41:47.342Z"
   },
   {
    "duration": 6,
    "start_time": "2022-08-11T12:41:47.369Z"
   },
   {
    "duration": 35,
    "start_time": "2022-08-11T12:41:47.376Z"
   },
   {
    "duration": 10,
    "start_time": "2022-08-11T12:41:47.412Z"
   },
   {
    "duration": 19,
    "start_time": "2022-08-11T12:41:47.424Z"
   },
   {
    "duration": 38,
    "start_time": "2022-08-11T12:41:47.445Z"
   },
   {
    "duration": 8,
    "start_time": "2022-08-11T12:41:47.485Z"
   },
   {
    "duration": 26,
    "start_time": "2022-08-11T12:41:47.495Z"
   },
   {
    "duration": 21,
    "start_time": "2022-08-11T12:41:47.523Z"
   },
   {
    "duration": 19,
    "start_time": "2022-08-11T12:41:47.546Z"
   },
   {
    "duration": 8,
    "start_time": "2022-08-11T12:41:47.567Z"
   },
   {
    "duration": 38,
    "start_time": "2022-08-11T12:41:47.577Z"
   },
   {
    "duration": 9,
    "start_time": "2022-08-11T12:41:47.616Z"
   },
   {
    "duration": 126,
    "start_time": "2022-08-11T12:41:47.627Z"
   },
   {
    "duration": 4,
    "start_time": "2022-08-11T12:41:47.755Z"
   },
   {
    "duration": 21,
    "start_time": "2022-08-11T12:41:47.761Z"
   },
   {
    "duration": 215,
    "start_time": "2022-08-11T12:41:47.784Z"
   },
   {
    "duration": 435,
    "start_time": "2022-08-11T12:41:48.010Z"
   },
   {
    "duration": 16,
    "start_time": "2022-08-11T12:41:48.447Z"
   },
   {
    "duration": 136,
    "start_time": "2022-08-11T12:41:48.465Z"
   },
   {
    "duration": 26,
    "start_time": "2022-08-11T12:41:48.603Z"
   },
   {
    "duration": 8,
    "start_time": "2022-08-11T12:41:48.631Z"
   },
   {
    "duration": 230,
    "start_time": "2022-08-11T12:41:48.640Z"
   },
   {
    "duration": 464,
    "start_time": "2022-08-11T12:41:48.871Z"
   },
   {
    "duration": 10,
    "start_time": "2022-08-11T12:41:49.337Z"
   },
   {
    "duration": 87,
    "start_time": "2022-08-11T12:41:49.348Z"
   },
   {
    "duration": 8106,
    "start_time": "2022-08-11T12:41:49.437Z"
   },
   {
    "duration": 5,
    "start_time": "2022-08-11T12:41:57.545Z"
   },
   {
    "duration": 24,
    "start_time": "2022-08-11T12:41:57.552Z"
   },
   {
    "duration": 20,
    "start_time": "2022-08-11T12:41:57.578Z"
   },
   {
    "duration": 21,
    "start_time": "2022-08-11T12:41:57.600Z"
   },
   {
    "duration": 19,
    "start_time": "2022-08-11T12:41:57.624Z"
   },
   {
    "duration": 15,
    "start_time": "2022-08-11T12:41:57.644Z"
   },
   {
    "duration": 3,
    "start_time": "2022-08-11T12:41:57.661Z"
   },
   {
    "duration": 11,
    "start_time": "2022-08-11T12:41:57.665Z"
   },
   {
    "duration": 59,
    "start_time": "2022-08-11T12:41:57.677Z"
   },
   {
    "duration": 1076,
    "start_time": "2022-08-11T12:41:57.738Z"
   },
   {
    "duration": 5,
    "start_time": "2022-08-11T12:41:58.817Z"
   },
   {
    "duration": 2,
    "start_time": "2022-08-11T12:46:26.494Z"
   },
   {
    "duration": 4,
    "start_time": "2022-08-11T12:46:31.909Z"
   },
   {
    "duration": 10,
    "start_time": "2022-08-11T12:47:28.866Z"
   },
   {
    "duration": 15,
    "start_time": "2022-08-11T12:47:36.569Z"
   },
   {
    "duration": 4,
    "start_time": "2022-08-11T12:47:57.631Z"
   },
   {
    "duration": 14,
    "start_time": "2022-08-11T12:48:44.979Z"
   },
   {
    "duration": 17,
    "start_time": "2022-08-11T12:52:19.417Z"
   },
   {
    "duration": 2,
    "start_time": "2022-08-11T12:52:27.013Z"
   },
   {
    "duration": 4,
    "start_time": "2022-08-11T12:52:36.069Z"
   },
   {
    "duration": 4,
    "start_time": "2022-08-11T12:54:12.113Z"
   },
   {
    "duration": 368,
    "start_time": "2022-08-11T12:56:52.411Z"
   },
   {
    "duration": 121,
    "start_time": "2022-08-11T13:02:35.952Z"
   },
   {
    "duration": 18,
    "start_time": "2022-08-11T13:18:09.443Z"
   },
   {
    "duration": 12,
    "start_time": "2022-08-11T13:23:05.692Z"
   },
   {
    "duration": 7,
    "start_time": "2022-08-11T13:24:12.788Z"
   },
   {
    "duration": 4,
    "start_time": "2022-08-11T13:24:22.979Z"
   },
   {
    "duration": 6,
    "start_time": "2022-08-11T13:25:12.837Z"
   },
   {
    "duration": 13,
    "start_time": "2022-08-11T13:25:19.360Z"
   },
   {
    "duration": 11,
    "start_time": "2022-08-11T13:25:55.640Z"
   },
   {
    "duration": 6,
    "start_time": "2022-08-11T13:26:08.526Z"
   },
   {
    "duration": 14,
    "start_time": "2022-08-11T13:28:52.412Z"
   },
   {
    "duration": 5,
    "start_time": "2022-08-11T13:51:14.583Z"
   },
   {
    "duration": 11,
    "start_time": "2022-08-11T13:51:21.625Z"
   },
   {
    "duration": 9,
    "start_time": "2022-08-11T13:52:23.609Z"
   },
   {
    "duration": 9,
    "start_time": "2022-08-11T14:12:40.280Z"
   },
   {
    "duration": 13,
    "start_time": "2022-08-11T14:13:05.597Z"
   },
   {
    "duration": 15,
    "start_time": "2022-08-11T14:13:22.511Z"
   },
   {
    "duration": 13,
    "start_time": "2022-08-11T14:13:29.825Z"
   },
   {
    "duration": 11,
    "start_time": "2022-08-11T14:32:48.634Z"
   },
   {
    "duration": 9,
    "start_time": "2022-08-11T14:33:17.572Z"
   },
   {
    "duration": 14,
    "start_time": "2022-08-11T14:33:48.452Z"
   },
   {
    "duration": 7,
    "start_time": "2022-08-11T15:05:59.007Z"
   },
   {
    "duration": 14,
    "start_time": "2022-08-11T15:06:05.063Z"
   },
   {
    "duration": 14,
    "start_time": "2022-08-11T15:06:46.744Z"
   },
   {
    "duration": 1470,
    "start_time": "2022-08-11T15:09:04.631Z"
   },
   {
    "duration": 1071,
    "start_time": "2022-08-11T15:09:28.103Z"
   },
   {
    "duration": 16,
    "start_time": "2022-08-11T15:09:50.807Z"
   },
   {
    "duration": 5,
    "start_time": "2022-08-11T15:09:58.427Z"
   },
   {
    "duration": 8,
    "start_time": "2022-08-11T15:11:39.724Z"
   },
   {
    "duration": 8,
    "start_time": "2022-08-11T15:12:17.150Z"
   },
   {
    "duration": 8,
    "start_time": "2022-08-11T15:13:05.347Z"
   },
   {
    "duration": 8,
    "start_time": "2022-08-11T15:14:44.396Z"
   },
   {
    "duration": 6,
    "start_time": "2022-08-11T16:03:01.761Z"
   },
   {
    "duration": 90,
    "start_time": "2022-08-11T16:03:34.238Z"
   },
   {
    "duration": 11,
    "start_time": "2022-08-11T16:03:39.060Z"
   },
   {
    "duration": 7,
    "start_time": "2022-08-11T16:04:37.679Z"
   },
   {
    "duration": 4,
    "start_time": "2022-08-11T16:04:45.626Z"
   },
   {
    "duration": 3,
    "start_time": "2022-08-11T16:05:05.887Z"
   },
   {
    "duration": 13,
    "start_time": "2022-08-11T16:43:30.740Z"
   },
   {
    "duration": 9,
    "start_time": "2022-08-11T16:43:55.261Z"
   },
   {
    "duration": 12,
    "start_time": "2022-08-11T16:44:06.321Z"
   },
   {
    "duration": 10,
    "start_time": "2022-08-11T16:44:44.209Z"
   },
   {
    "duration": 2,
    "start_time": "2022-08-11T16:46:29.068Z"
   },
   {
    "duration": 10,
    "start_time": "2022-08-11T16:46:34.764Z"
   },
   {
    "duration": 4,
    "start_time": "2022-08-11T16:46:49.108Z"
   },
   {
    "duration": 9,
    "start_time": "2022-08-11T17:00:33.347Z"
   },
   {
    "duration": 5,
    "start_time": "2022-08-11T17:00:51.047Z"
   },
   {
    "duration": 12,
    "start_time": "2022-08-11T17:01:25.021Z"
   },
   {
    "duration": 1150,
    "start_time": "2022-08-11T17:01:46.731Z"
   },
   {
    "duration": 70,
    "start_time": "2022-08-11T17:01:47.883Z"
   },
   {
    "duration": 11,
    "start_time": "2022-08-11T17:01:47.955Z"
   },
   {
    "duration": 11,
    "start_time": "2022-08-11T17:01:47.968Z"
   },
   {
    "duration": 15,
    "start_time": "2022-08-11T17:01:47.981Z"
   },
   {
    "duration": 22,
    "start_time": "2022-08-11T17:01:47.997Z"
   },
   {
    "duration": 13,
    "start_time": "2022-08-11T17:01:48.021Z"
   },
   {
    "duration": 36,
    "start_time": "2022-08-11T17:01:48.036Z"
   },
   {
    "duration": 22,
    "start_time": "2022-08-11T17:01:48.074Z"
   },
   {
    "duration": 23,
    "start_time": "2022-08-11T17:01:48.098Z"
   },
   {
    "duration": 9,
    "start_time": "2022-08-11T17:01:48.123Z"
   },
   {
    "duration": 18,
    "start_time": "2022-08-11T17:01:48.133Z"
   },
   {
    "duration": 13,
    "start_time": "2022-08-11T17:01:48.153Z"
   },
   {
    "duration": 18,
    "start_time": "2022-08-11T17:01:48.167Z"
   },
   {
    "duration": 43,
    "start_time": "2022-08-11T17:01:48.186Z"
   },
   {
    "duration": 9,
    "start_time": "2022-08-11T17:01:48.230Z"
   },
   {
    "duration": 35,
    "start_time": "2022-08-11T17:01:48.240Z"
   },
   {
    "duration": 21,
    "start_time": "2022-08-11T17:01:48.277Z"
   },
   {
    "duration": 15,
    "start_time": "2022-08-11T17:01:48.300Z"
   },
   {
    "duration": 7,
    "start_time": "2022-08-11T17:01:48.316Z"
   },
   {
    "duration": 9,
    "start_time": "2022-08-11T17:01:48.324Z"
   },
   {
    "duration": 34,
    "start_time": "2022-08-11T17:01:48.334Z"
   },
   {
    "duration": 117,
    "start_time": "2022-08-11T17:01:48.370Z"
   },
   {
    "duration": 5,
    "start_time": "2022-08-11T17:01:48.489Z"
   },
   {
    "duration": 36,
    "start_time": "2022-08-11T17:01:48.495Z"
   },
   {
    "duration": 212,
    "start_time": "2022-08-11T17:01:48.533Z"
   },
   {
    "duration": 448,
    "start_time": "2022-08-11T17:01:48.746Z"
   },
   {
    "duration": 23,
    "start_time": "2022-08-11T17:01:49.197Z"
   },
   {
    "duration": 126,
    "start_time": "2022-08-11T17:01:49.222Z"
   },
   {
    "duration": 21,
    "start_time": "2022-08-11T17:01:49.350Z"
   },
   {
    "duration": 7,
    "start_time": "2022-08-11T17:01:49.372Z"
   },
   {
    "duration": 233,
    "start_time": "2022-08-11T17:01:49.380Z"
   },
   {
    "duration": 492,
    "start_time": "2022-08-11T17:01:49.615Z"
   },
   {
    "duration": 11,
    "start_time": "2022-08-11T17:01:50.108Z"
   },
   {
    "duration": 88,
    "start_time": "2022-08-11T17:01:50.120Z"
   },
   {
    "duration": 8207,
    "start_time": "2022-08-11T17:01:50.211Z"
   },
   {
    "duration": 5,
    "start_time": "2022-08-11T17:01:58.420Z"
   },
   {
    "duration": 17,
    "start_time": "2022-08-11T17:01:58.426Z"
   },
   {
    "duration": 20,
    "start_time": "2022-08-11T17:01:58.444Z"
   },
   {
    "duration": 13,
    "start_time": "2022-08-11T17:01:58.465Z"
   },
   {
    "duration": 33,
    "start_time": "2022-08-11T17:01:58.479Z"
   },
   {
    "duration": 16,
    "start_time": "2022-08-11T17:01:58.514Z"
   },
   {
    "duration": 19,
    "start_time": "2022-08-11T17:01:58.532Z"
   },
   {
    "duration": 13,
    "start_time": "2022-08-11T17:01:58.553Z"
   },
   {
    "duration": 25,
    "start_time": "2022-08-11T17:01:58.568Z"
   },
   {
    "duration": 1246,
    "start_time": "2022-08-11T17:01:58.595Z"
   },
   {
    "duration": 14,
    "start_time": "2022-08-11T17:01:59.843Z"
   },
   {
    "duration": 14,
    "start_time": "2022-08-11T17:01:59.859Z"
   },
   {
    "duration": 14,
    "start_time": "2022-08-11T17:01:59.874Z"
   },
   {
    "duration": 28,
    "start_time": "2022-08-11T17:01:59.889Z"
   },
   {
    "duration": 10,
    "start_time": "2022-08-11T17:01:59.919Z"
   },
   {
    "duration": 8,
    "start_time": "2022-08-11T17:01:59.931Z"
   },
   {
    "duration": 9,
    "start_time": "2022-08-11T17:07:28.832Z"
   },
   {
    "duration": 7,
    "start_time": "2022-08-11T17:08:05.245Z"
   },
   {
    "duration": 10,
    "start_time": "2022-08-11T17:08:13.726Z"
   },
   {
    "duration": 9,
    "start_time": "2022-08-11T17:08:21.945Z"
   },
   {
    "duration": 6,
    "start_time": "2022-08-11T17:10:19.595Z"
   },
   {
    "duration": 10,
    "start_time": "2022-08-11T17:10:25.944Z"
   },
   {
    "duration": 10,
    "start_time": "2022-08-11T17:16:48.609Z"
   },
   {
    "duration": 10,
    "start_time": "2022-08-11T17:16:57.528Z"
   },
   {
    "duration": 7,
    "start_time": "2022-08-11T17:17:19.079Z"
   },
   {
    "duration": 8,
    "start_time": "2022-08-11T17:18:44.443Z"
   },
   {
    "duration": 10,
    "start_time": "2022-08-11T17:20:08.628Z"
   },
   {
    "duration": 10,
    "start_time": "2022-08-11T17:20:48.452Z"
   },
   {
    "duration": 13,
    "start_time": "2022-08-11T22:50:52.799Z"
   },
   {
    "duration": 15,
    "start_time": "2022-08-11T22:50:52.814Z"
   },
   {
    "duration": 13,
    "start_time": "2022-08-11T22:50:52.830Z"
   },
   {
    "duration": 8,
    "start_time": "2022-08-11T22:50:52.845Z"
   },
   {
    "duration": 7,
    "start_time": "2022-08-11T22:50:52.929Z"
   },
   {
    "duration": 10,
    "start_time": "2022-08-11T22:50:52.965Z"
   },
   {
    "duration": 42,
    "start_time": "2022-08-12T13:37:09.272Z"
   },
   {
    "duration": 1308,
    "start_time": "2022-08-12T13:37:16.706Z"
   },
   {
    "duration": 113,
    "start_time": "2022-08-12T13:37:18.015Z"
   },
   {
    "duration": 11,
    "start_time": "2022-08-12T13:37:18.129Z"
   },
   {
    "duration": 15,
    "start_time": "2022-08-12T13:37:18.141Z"
   },
   {
    "duration": 4,
    "start_time": "2022-08-12T13:37:18.157Z"
   },
   {
    "duration": 5,
    "start_time": "2022-08-12T13:37:18.162Z"
   },
   {
    "duration": 6,
    "start_time": "2022-08-12T13:37:18.168Z"
   },
   {
    "duration": 12,
    "start_time": "2022-08-12T13:37:18.175Z"
   },
   {
    "duration": 7,
    "start_time": "2022-08-12T13:37:18.189Z"
   },
   {
    "duration": 16,
    "start_time": "2022-08-12T13:37:18.198Z"
   },
   {
    "duration": 4,
    "start_time": "2022-08-12T13:37:18.215Z"
   },
   {
    "duration": 44,
    "start_time": "2022-08-12T13:37:18.220Z"
   },
   {
    "duration": 8,
    "start_time": "2022-08-12T13:37:18.265Z"
   },
   {
    "duration": 8,
    "start_time": "2022-08-12T13:37:18.274Z"
   },
   {
    "duration": 32,
    "start_time": "2022-08-12T13:37:18.283Z"
   },
   {
    "duration": 7,
    "start_time": "2022-08-12T13:37:18.317Z"
   },
   {
    "duration": 29,
    "start_time": "2022-08-12T13:37:18.326Z"
   },
   {
    "duration": 12,
    "start_time": "2022-08-12T13:37:18.356Z"
   },
   {
    "duration": 15,
    "start_time": "2022-08-12T13:37:18.369Z"
   },
   {
    "duration": 8,
    "start_time": "2022-08-12T13:37:18.385Z"
   },
   {
    "duration": 3,
    "start_time": "2022-08-12T13:37:18.394Z"
   },
   {
    "duration": 4,
    "start_time": "2022-08-12T13:37:18.399Z"
   },
   {
    "duration": 130,
    "start_time": "2022-08-12T13:37:18.404Z"
   },
   {
    "duration": 4,
    "start_time": "2022-08-12T13:37:18.536Z"
   },
   {
    "duration": 26,
    "start_time": "2022-08-12T13:37:18.542Z"
   },
   {
    "duration": 204,
    "start_time": "2022-08-12T13:37:18.569Z"
   },
   {
    "duration": 417,
    "start_time": "2022-08-12T13:37:18.775Z"
   },
   {
    "duration": 14,
    "start_time": "2022-08-12T13:37:19.194Z"
   },
   {
    "duration": 118,
    "start_time": "2022-08-12T13:37:19.210Z"
   },
   {
    "duration": 25,
    "start_time": "2022-08-12T13:37:19.330Z"
   },
   {
    "duration": 7,
    "start_time": "2022-08-12T13:37:19.357Z"
   },
   {
    "duration": 205,
    "start_time": "2022-08-12T13:37:19.365Z"
   },
   {
    "duration": 442,
    "start_time": "2022-08-12T13:37:19.571Z"
   },
   {
    "duration": 10,
    "start_time": "2022-08-12T13:37:20.015Z"
   },
   {
    "duration": 89,
    "start_time": "2022-08-12T13:37:20.027Z"
   },
   {
    "duration": 7694,
    "start_time": "2022-08-12T13:37:20.118Z"
   },
   {
    "duration": 5,
    "start_time": "2022-08-12T13:37:27.814Z"
   },
   {
    "duration": 19,
    "start_time": "2022-08-12T13:37:27.821Z"
   },
   {
    "duration": 18,
    "start_time": "2022-08-12T13:37:27.841Z"
   },
   {
    "duration": 11,
    "start_time": "2022-08-12T13:37:27.861Z"
   },
   {
    "duration": 11,
    "start_time": "2022-08-12T13:37:27.874Z"
   },
   {
    "duration": 17,
    "start_time": "2022-08-12T13:37:27.892Z"
   },
   {
    "duration": 229,
    "start_time": "2022-08-12T13:37:27.911Z"
   },
   {
    "duration": 3,
    "start_time": "2022-08-12T13:37:28.142Z"
   },
   {
    "duration": 13,
    "start_time": "2022-08-12T13:37:28.147Z"
   },
   {
    "duration": 25,
    "start_time": "2022-08-12T13:37:28.161Z"
   },
   {
    "duration": 1252,
    "start_time": "2022-08-12T13:37:28.188Z"
   },
   {
    "duration": 13,
    "start_time": "2022-08-12T13:37:29.442Z"
   },
   {
    "duration": 15,
    "start_time": "2022-08-12T13:37:29.456Z"
   },
   {
    "duration": 12,
    "start_time": "2022-08-12T13:37:29.472Z"
   },
   {
    "duration": 14,
    "start_time": "2022-08-12T13:37:29.485Z"
   },
   {
    "duration": 8,
    "start_time": "2022-08-12T13:37:29.500Z"
   },
   {
    "duration": 13,
    "start_time": "2022-08-12T13:37:29.510Z"
   },
   {
    "duration": 33,
    "start_time": "2022-08-12T13:37:29.524Z"
   },
   {
    "duration": 99,
    "start_time": "2022-08-12T13:37:29.559Z"
   },
   {
    "duration": 72,
    "start_time": "2022-08-12T14:45:36.911Z"
   },
   {
    "duration": 200,
    "start_time": "2022-08-12T17:54:02.601Z"
   },
   {
    "duration": 1225,
    "start_time": "2022-08-14T11:14:08.493Z"
   },
   {
    "duration": 69,
    "start_time": "2022-08-14T11:14:09.720Z"
   },
   {
    "duration": 11,
    "start_time": "2022-08-14T11:14:09.791Z"
   },
   {
    "duration": 17,
    "start_time": "2022-08-14T11:14:09.804Z"
   },
   {
    "duration": 4,
    "start_time": "2022-08-14T11:14:09.823Z"
   },
   {
    "duration": 6,
    "start_time": "2022-08-14T11:14:09.829Z"
   },
   {
    "duration": 12,
    "start_time": "2022-08-14T11:14:09.837Z"
   },
   {
    "duration": 19,
    "start_time": "2022-08-14T11:14:09.851Z"
   },
   {
    "duration": 27,
    "start_time": "2022-08-14T11:14:09.872Z"
   },
   {
    "duration": 23,
    "start_time": "2022-08-14T11:14:09.901Z"
   },
   {
    "duration": 4,
    "start_time": "2022-08-14T11:14:09.926Z"
   },
   {
    "duration": 16,
    "start_time": "2022-08-14T11:14:09.932Z"
   },
   {
    "duration": 8,
    "start_time": "2022-08-14T11:14:09.949Z"
   },
   {
    "duration": 16,
    "start_time": "2022-08-14T11:14:09.959Z"
   },
   {
    "duration": 53,
    "start_time": "2022-08-14T11:14:09.977Z"
   },
   {
    "duration": 11,
    "start_time": "2022-08-14T11:14:10.031Z"
   },
   {
    "duration": 26,
    "start_time": "2022-08-14T11:14:10.044Z"
   },
   {
    "duration": 14,
    "start_time": "2022-08-14T11:14:10.071Z"
   },
   {
    "duration": 31,
    "start_time": "2022-08-14T11:14:10.086Z"
   },
   {
    "duration": 7,
    "start_time": "2022-08-14T11:14:10.119Z"
   },
   {
    "duration": 7,
    "start_time": "2022-08-14T11:14:10.127Z"
   },
   {
    "duration": 11,
    "start_time": "2022-08-14T11:14:10.135Z"
   },
   {
    "duration": 122,
    "start_time": "2022-08-14T11:14:10.147Z"
   },
   {
    "duration": 6,
    "start_time": "2022-08-14T11:14:10.271Z"
   },
   {
    "duration": 31,
    "start_time": "2022-08-14T11:14:10.279Z"
   },
   {
    "duration": 225,
    "start_time": "2022-08-14T11:14:10.312Z"
   },
   {
    "duration": 453,
    "start_time": "2022-08-14T11:14:10.538Z"
   },
   {
    "duration": 22,
    "start_time": "2022-08-14T11:14:10.994Z"
   },
   {
    "duration": 122,
    "start_time": "2022-08-14T11:14:11.017Z"
   },
   {
    "duration": 19,
    "start_time": "2022-08-14T11:14:11.141Z"
   },
   {
    "duration": 8,
    "start_time": "2022-08-14T11:14:11.162Z"
   },
   {
    "duration": 224,
    "start_time": "2022-08-14T11:14:11.171Z"
   },
   {
    "duration": 470,
    "start_time": "2022-08-14T11:14:11.396Z"
   },
   {
    "duration": 11,
    "start_time": "2022-08-14T11:14:11.868Z"
   },
   {
    "duration": 115,
    "start_time": "2022-08-14T11:14:11.881Z"
   },
   {
    "duration": 7979,
    "start_time": "2022-08-14T11:14:11.998Z"
   },
   {
    "duration": 5,
    "start_time": "2022-08-14T11:14:19.979Z"
   },
   {
    "duration": 30,
    "start_time": "2022-08-14T11:14:19.985Z"
   },
   {
    "duration": 23,
    "start_time": "2022-08-14T11:14:20.016Z"
   },
   {
    "duration": 16,
    "start_time": "2022-08-14T11:14:20.041Z"
   },
   {
    "duration": 12,
    "start_time": "2022-08-14T11:14:20.058Z"
   },
   {
    "duration": 39,
    "start_time": "2022-08-14T11:14:20.072Z"
   },
   {
    "duration": 224,
    "start_time": "2022-08-14T11:14:20.113Z"
   },
   {
    "duration": 3,
    "start_time": "2022-08-14T11:14:20.339Z"
   },
   {
    "duration": 11,
    "start_time": "2022-08-14T11:14:20.344Z"
   },
   {
    "duration": 27,
    "start_time": "2022-08-14T11:14:20.357Z"
   },
   {
    "duration": 1330,
    "start_time": "2022-08-14T11:14:20.385Z"
   },
   {
    "duration": 15,
    "start_time": "2022-08-14T11:14:21.716Z"
   },
   {
    "duration": 17,
    "start_time": "2022-08-14T11:14:21.733Z"
   },
   {
    "duration": 15,
    "start_time": "2022-08-14T11:14:21.752Z"
   },
   {
    "duration": 14,
    "start_time": "2022-08-14T11:14:21.769Z"
   },
   {
    "duration": 11,
    "start_time": "2022-08-14T11:14:21.809Z"
   },
   {
    "duration": 10,
    "start_time": "2022-08-14T11:14:21.821Z"
   },
   {
    "duration": 11,
    "start_time": "2022-08-14T11:14:21.833Z"
   },
   {
    "duration": 13,
    "start_time": "2022-08-14T13:02:51.355Z"
   },
   {
    "duration": 10,
    "start_time": "2022-08-14T13:03:03.174Z"
   },
   {
    "duration": 71,
    "start_time": "2022-08-14T22:44:52.577Z"
   },
   {
    "duration": 1340,
    "start_time": "2022-08-15T08:33:55.860Z"
   },
   {
    "duration": 267,
    "start_time": "2022-08-15T08:33:57.201Z"
   },
   {
    "duration": 12,
    "start_time": "2022-08-15T08:33:57.470Z"
   },
   {
    "duration": 16,
    "start_time": "2022-08-15T08:33:57.484Z"
   },
   {
    "duration": 11,
    "start_time": "2022-08-15T08:33:57.501Z"
   },
   {
    "duration": 21,
    "start_time": "2022-08-15T08:33:57.513Z"
   },
   {
    "duration": 6,
    "start_time": "2022-08-15T08:33:57.536Z"
   },
   {
    "duration": 17,
    "start_time": "2022-08-15T08:33:57.544Z"
   },
   {
    "duration": 8,
    "start_time": "2022-08-15T08:33:57.563Z"
   },
   {
    "duration": 20,
    "start_time": "2022-08-15T08:33:57.573Z"
   },
   {
    "duration": 6,
    "start_time": "2022-08-15T08:33:57.599Z"
   },
   {
    "duration": 19,
    "start_time": "2022-08-15T08:33:57.607Z"
   },
   {
    "duration": 10,
    "start_time": "2022-08-15T08:33:57.628Z"
   },
   {
    "duration": 12,
    "start_time": "2022-08-15T08:33:57.639Z"
   },
   {
    "duration": 50,
    "start_time": "2022-08-15T08:33:57.653Z"
   },
   {
    "duration": 8,
    "start_time": "2022-08-15T08:33:57.705Z"
   },
   {
    "duration": 22,
    "start_time": "2022-08-15T08:33:57.715Z"
   },
   {
    "duration": 12,
    "start_time": "2022-08-15T08:33:57.739Z"
   },
   {
    "duration": 14,
    "start_time": "2022-08-15T08:33:57.753Z"
   },
   {
    "duration": 7,
    "start_time": "2022-08-15T08:33:57.769Z"
   },
   {
    "duration": 23,
    "start_time": "2022-08-15T08:33:57.779Z"
   },
   {
    "duration": 8,
    "start_time": "2022-08-15T08:33:57.804Z"
   },
   {
    "duration": 117,
    "start_time": "2022-08-15T08:33:57.814Z"
   },
   {
    "duration": 6,
    "start_time": "2022-08-15T08:33:57.932Z"
   },
   {
    "duration": 28,
    "start_time": "2022-08-15T08:33:57.939Z"
   },
   {
    "duration": 200,
    "start_time": "2022-08-15T08:33:57.968Z"
   },
   {
    "duration": 286,
    "start_time": "2022-08-15T08:33:58.170Z"
   },
   {
    "duration": 0,
    "start_time": "2022-08-15T08:33:58.458Z"
   },
   {
    "duration": 0,
    "start_time": "2022-08-15T08:33:58.459Z"
   },
   {
    "duration": 0,
    "start_time": "2022-08-15T08:33:58.460Z"
   },
   {
    "duration": 0,
    "start_time": "2022-08-15T08:33:58.461Z"
   },
   {
    "duration": 0,
    "start_time": "2022-08-15T08:33:58.462Z"
   },
   {
    "duration": 0,
    "start_time": "2022-08-15T08:33:58.463Z"
   },
   {
    "duration": 0,
    "start_time": "2022-08-15T08:33:58.465Z"
   },
   {
    "duration": 0,
    "start_time": "2022-08-15T08:33:58.466Z"
   },
   {
    "duration": 0,
    "start_time": "2022-08-15T08:33:58.467Z"
   },
   {
    "duration": 0,
    "start_time": "2022-08-15T08:33:58.468Z"
   },
   {
    "duration": 0,
    "start_time": "2022-08-15T08:33:58.469Z"
   },
   {
    "duration": 0,
    "start_time": "2022-08-15T08:33:58.470Z"
   },
   {
    "duration": 0,
    "start_time": "2022-08-15T08:33:58.471Z"
   },
   {
    "duration": 0,
    "start_time": "2022-08-15T08:33:58.472Z"
   },
   {
    "duration": 0,
    "start_time": "2022-08-15T08:33:58.473Z"
   },
   {
    "duration": 0,
    "start_time": "2022-08-15T08:33:58.474Z"
   },
   {
    "duration": 0,
    "start_time": "2022-08-15T08:33:58.474Z"
   },
   {
    "duration": 0,
    "start_time": "2022-08-15T08:33:58.475Z"
   },
   {
    "duration": 0,
    "start_time": "2022-08-15T08:33:58.476Z"
   },
   {
    "duration": 0,
    "start_time": "2022-08-15T08:33:58.477Z"
   },
   {
    "duration": 0,
    "start_time": "2022-08-15T08:33:58.478Z"
   },
   {
    "duration": 0,
    "start_time": "2022-08-15T08:33:58.479Z"
   },
   {
    "duration": 0,
    "start_time": "2022-08-15T08:33:58.480Z"
   },
   {
    "duration": 0,
    "start_time": "2022-08-15T08:33:58.481Z"
   },
   {
    "duration": 0,
    "start_time": "2022-08-15T08:33:58.482Z"
   },
   {
    "duration": 0,
    "start_time": "2022-08-15T08:33:58.483Z"
   },
   {
    "duration": 0,
    "start_time": "2022-08-15T08:33:58.484Z"
   },
   {
    "duration": 242,
    "start_time": "2022-08-15T09:54:32.862Z"
   },
   {
    "duration": 194,
    "start_time": "2022-08-15T09:54:52.208Z"
   },
   {
    "duration": 204,
    "start_time": "2022-08-15T11:41:55.873Z"
   },
   {
    "duration": 1208,
    "start_time": "2022-08-15T11:42:20.107Z"
   },
   {
    "duration": 68,
    "start_time": "2022-08-15T11:42:21.317Z"
   },
   {
    "duration": 11,
    "start_time": "2022-08-15T11:42:21.387Z"
   },
   {
    "duration": 13,
    "start_time": "2022-08-15T11:42:21.400Z"
   },
   {
    "duration": 5,
    "start_time": "2022-08-15T11:42:21.415Z"
   },
   {
    "duration": 7,
    "start_time": "2022-08-15T11:42:21.421Z"
   },
   {
    "duration": 11,
    "start_time": "2022-08-15T11:42:21.430Z"
   },
   {
    "duration": 29,
    "start_time": "2022-08-15T11:42:21.443Z"
   },
   {
    "duration": 27,
    "start_time": "2022-08-15T11:42:21.474Z"
   },
   {
    "duration": 27,
    "start_time": "2022-08-15T11:42:21.504Z"
   },
   {
    "duration": 14,
    "start_time": "2022-08-15T11:42:21.533Z"
   },
   {
    "duration": 24,
    "start_time": "2022-08-15T11:42:21.549Z"
   },
   {
    "duration": 32,
    "start_time": "2022-08-15T11:42:21.575Z"
   },
   {
    "duration": 7,
    "start_time": "2022-08-15T11:42:21.609Z"
   },
   {
    "duration": 37,
    "start_time": "2022-08-15T11:42:21.618Z"
   },
   {
    "duration": 10,
    "start_time": "2022-08-15T11:42:21.657Z"
   },
   {
    "duration": 38,
    "start_time": "2022-08-15T11:42:21.670Z"
   },
   {
    "duration": 17,
    "start_time": "2022-08-15T11:42:21.709Z"
   },
   {
    "duration": 19,
    "start_time": "2022-08-15T11:42:21.728Z"
   },
   {
    "duration": 9,
    "start_time": "2022-08-15T11:42:21.749Z"
   },
   {
    "duration": 9,
    "start_time": "2022-08-15T11:42:21.759Z"
   },
   {
    "duration": 33,
    "start_time": "2022-08-15T11:42:21.770Z"
   },
   {
    "duration": 148,
    "start_time": "2022-08-15T11:42:21.805Z"
   },
   {
    "duration": 6,
    "start_time": "2022-08-15T11:42:21.954Z"
   },
   {
    "duration": 30,
    "start_time": "2022-08-15T11:42:21.962Z"
   },
   {
    "duration": 229,
    "start_time": "2022-08-15T11:42:21.993Z"
   },
   {
    "duration": 224,
    "start_time": "2022-08-15T11:42:22.224Z"
   },
   {
    "duration": 16,
    "start_time": "2022-08-15T11:42:22.452Z"
   },
   {
    "duration": 242,
    "start_time": "2022-08-15T11:42:22.469Z"
   },
   {
    "duration": 0,
    "start_time": "2022-08-15T11:42:22.713Z"
   },
   {
    "duration": 0,
    "start_time": "2022-08-15T11:42:22.715Z"
   },
   {
    "duration": 0,
    "start_time": "2022-08-15T11:42:22.716Z"
   },
   {
    "duration": 0,
    "start_time": "2022-08-15T11:42:22.718Z"
   },
   {
    "duration": 0,
    "start_time": "2022-08-15T11:42:22.719Z"
   },
   {
    "duration": 0,
    "start_time": "2022-08-15T11:42:22.720Z"
   },
   {
    "duration": 0,
    "start_time": "2022-08-15T11:42:22.721Z"
   },
   {
    "duration": 0,
    "start_time": "2022-08-15T11:42:22.722Z"
   },
   {
    "duration": 0,
    "start_time": "2022-08-15T11:42:22.724Z"
   },
   {
    "duration": 0,
    "start_time": "2022-08-15T11:42:22.725Z"
   },
   {
    "duration": 0,
    "start_time": "2022-08-15T11:42:22.727Z"
   },
   {
    "duration": 0,
    "start_time": "2022-08-15T11:42:22.728Z"
   },
   {
    "duration": 0,
    "start_time": "2022-08-15T11:42:22.729Z"
   },
   {
    "duration": 0,
    "start_time": "2022-08-15T11:42:22.731Z"
   },
   {
    "duration": 0,
    "start_time": "2022-08-15T11:42:22.732Z"
   },
   {
    "duration": 0,
    "start_time": "2022-08-15T11:42:22.734Z"
   },
   {
    "duration": 0,
    "start_time": "2022-08-15T11:42:22.735Z"
   },
   {
    "duration": 0,
    "start_time": "2022-08-15T11:42:22.736Z"
   },
   {
    "duration": 0,
    "start_time": "2022-08-15T11:42:22.738Z"
   },
   {
    "duration": 0,
    "start_time": "2022-08-15T11:42:22.739Z"
   },
   {
    "duration": 0,
    "start_time": "2022-08-15T11:42:22.740Z"
   },
   {
    "duration": 0,
    "start_time": "2022-08-15T11:42:22.742Z"
   },
   {
    "duration": 0,
    "start_time": "2022-08-15T11:42:22.743Z"
   },
   {
    "duration": 0,
    "start_time": "2022-08-15T11:42:22.744Z"
   },
   {
    "duration": 0,
    "start_time": "2022-08-15T11:42:22.745Z"
   },
   {
    "duration": 132,
    "start_time": "2022-08-15T11:44:00.780Z"
   },
   {
    "duration": 1225,
    "start_time": "2022-08-15T11:44:12.200Z"
   },
   {
    "duration": 77,
    "start_time": "2022-08-15T11:44:13.427Z"
   },
   {
    "duration": 13,
    "start_time": "2022-08-15T11:44:13.505Z"
   },
   {
    "duration": 14,
    "start_time": "2022-08-15T11:44:13.520Z"
   },
   {
    "duration": 5,
    "start_time": "2022-08-15T11:44:13.535Z"
   },
   {
    "duration": 7,
    "start_time": "2022-08-15T11:44:13.541Z"
   },
   {
    "duration": 10,
    "start_time": "2022-08-15T11:44:13.550Z"
   },
   {
    "duration": 46,
    "start_time": "2022-08-15T11:44:13.562Z"
   },
   {
    "duration": 10,
    "start_time": "2022-08-15T11:44:13.609Z"
   },
   {
    "duration": 29,
    "start_time": "2022-08-15T11:44:13.622Z"
   },
   {
    "duration": 6,
    "start_time": "2022-08-15T11:44:13.653Z"
   },
   {
    "duration": 28,
    "start_time": "2022-08-15T11:44:13.660Z"
   },
   {
    "duration": 9,
    "start_time": "2022-08-15T11:44:13.701Z"
   },
   {
    "duration": 26,
    "start_time": "2022-08-15T11:44:13.712Z"
   },
   {
    "duration": 37,
    "start_time": "2022-08-15T11:44:13.740Z"
   },
   {
    "duration": 9,
    "start_time": "2022-08-15T11:44:13.779Z"
   },
   {
    "duration": 26,
    "start_time": "2022-08-15T11:44:13.790Z"
   },
   {
    "duration": 16,
    "start_time": "2022-08-15T11:44:13.818Z"
   },
   {
    "duration": 21,
    "start_time": "2022-08-15T11:44:13.836Z"
   },
   {
    "duration": 42,
    "start_time": "2022-08-15T11:44:13.859Z"
   },
   {
    "duration": 5,
    "start_time": "2022-08-15T11:44:13.903Z"
   },
   {
    "duration": 18,
    "start_time": "2022-08-15T11:44:13.910Z"
   },
   {
    "duration": 148,
    "start_time": "2022-08-15T11:44:13.930Z"
   },
   {
    "duration": 7,
    "start_time": "2022-08-15T11:44:14.080Z"
   },
   {
    "duration": 35,
    "start_time": "2022-08-15T11:44:14.101Z"
   },
   {
    "duration": 229,
    "start_time": "2022-08-15T11:44:14.138Z"
   },
   {
    "duration": 217,
    "start_time": "2022-08-15T11:44:14.369Z"
   },
   {
    "duration": 23,
    "start_time": "2022-08-15T11:44:14.590Z"
   },
   {
    "duration": 139,
    "start_time": "2022-08-15T11:44:14.615Z"
   },
   {
    "duration": 22,
    "start_time": "2022-08-15T11:44:14.756Z"
   },
   {
    "duration": 23,
    "start_time": "2022-08-15T11:44:14.779Z"
   },
   {
    "duration": 245,
    "start_time": "2022-08-15T11:44:14.804Z"
   },
   {
    "duration": 500,
    "start_time": "2022-08-15T11:44:15.050Z"
   },
   {
    "duration": 12,
    "start_time": "2022-08-15T11:44:15.552Z"
   },
   {
    "duration": 147,
    "start_time": "2022-08-15T11:44:15.567Z"
   },
   {
    "duration": 8788,
    "start_time": "2022-08-15T11:44:15.715Z"
   },
   {
    "duration": 16,
    "start_time": "2022-08-15T11:44:24.506Z"
   },
   {
    "duration": 17,
    "start_time": "2022-08-15T11:44:24.525Z"
   },
   {
    "duration": 23,
    "start_time": "2022-08-15T11:44:24.544Z"
   },
   {
    "duration": 14,
    "start_time": "2022-08-15T11:44:24.568Z"
   },
   {
    "duration": 23,
    "start_time": "2022-08-15T11:44:24.584Z"
   },
   {
    "duration": 17,
    "start_time": "2022-08-15T11:44:24.609Z"
   },
   {
    "duration": 246,
    "start_time": "2022-08-15T11:44:24.628Z"
   },
   {
    "duration": 5,
    "start_time": "2022-08-15T11:44:24.876Z"
   },
   {
    "duration": 21,
    "start_time": "2022-08-15T11:44:24.883Z"
   },
   {
    "duration": 27,
    "start_time": "2022-08-15T11:44:24.906Z"
   },
   {
    "duration": 1082,
    "start_time": "2022-08-15T11:44:24.934Z"
   },
   {
    "duration": 15,
    "start_time": "2022-08-15T11:44:26.017Z"
   },
   {
    "duration": 20,
    "start_time": "2022-08-15T11:44:26.033Z"
   },
   {
    "duration": 17,
    "start_time": "2022-08-15T11:44:26.054Z"
   },
   {
    "duration": 13,
    "start_time": "2022-08-15T11:44:26.073Z"
   },
   {
    "duration": 10,
    "start_time": "2022-08-15T11:44:26.099Z"
   },
   {
    "duration": 9,
    "start_time": "2022-08-15T11:44:26.111Z"
   },
   {
    "duration": 11,
    "start_time": "2022-08-15T11:44:26.122Z"
   },
   {
    "duration": 2956,
    "start_time": "2022-08-15T12:42:00.514Z"
   },
   {
    "duration": 2841,
    "start_time": "2022-08-15T12:48:44.246Z"
   },
   {
    "duration": 910,
    "start_time": "2022-08-15T12:52:59.942Z"
   },
   {
    "duration": 340,
    "start_time": "2022-08-15T13:01:45.538Z"
   },
   {
    "duration": 110,
    "start_time": "2022-08-15T13:04:03.312Z"
   },
   {
    "duration": 19,
    "start_time": "2022-08-15T13:04:16.022Z"
   },
   {
    "duration": 230,
    "start_time": "2022-08-15T13:05:13.907Z"
   },
   {
    "duration": 1325,
    "start_time": "2022-08-15T13:07:40.570Z"
   },
   {
    "duration": 2661,
    "start_time": "2022-08-15T13:08:25.931Z"
   },
   {
    "duration": 225,
    "start_time": "2022-08-15T13:09:41.087Z"
   },
   {
    "duration": 261,
    "start_time": "2022-08-15T13:10:10.302Z"
   },
   {
    "duration": 236,
    "start_time": "2022-08-15T13:10:49.650Z"
   },
   {
    "duration": 229,
    "start_time": "2022-08-15T13:11:11.625Z"
   },
   {
    "duration": 11,
    "start_time": "2022-08-15T13:12:17.677Z"
   },
   {
    "duration": 9,
    "start_time": "2022-08-15T13:17:21.898Z"
   },
   {
    "duration": 904,
    "start_time": "2022-08-15T13:17:32.138Z"
   },
   {
    "duration": 1183,
    "start_time": "2022-08-15T13:52:23.295Z"
   },
   {
    "duration": 64,
    "start_time": "2022-08-15T13:52:24.481Z"
   },
   {
    "duration": 12,
    "start_time": "2022-08-15T13:52:24.547Z"
   },
   {
    "duration": 25,
    "start_time": "2022-08-15T13:52:24.562Z"
   },
   {
    "duration": 31,
    "start_time": "2022-08-15T13:52:24.589Z"
   },
   {
    "duration": 20,
    "start_time": "2022-08-15T13:52:24.622Z"
   },
   {
    "duration": 25,
    "start_time": "2022-08-15T13:52:24.644Z"
   },
   {
    "duration": 33,
    "start_time": "2022-08-15T13:52:24.671Z"
   },
   {
    "duration": 30,
    "start_time": "2022-08-15T13:52:24.706Z"
   },
   {
    "duration": 31,
    "start_time": "2022-08-15T13:52:24.738Z"
   },
   {
    "duration": 13,
    "start_time": "2022-08-15T13:52:24.771Z"
   },
   {
    "duration": 37,
    "start_time": "2022-08-15T13:52:24.786Z"
   },
   {
    "duration": 40,
    "start_time": "2022-08-15T13:52:24.825Z"
   },
   {
    "duration": 18,
    "start_time": "2022-08-15T13:52:24.867Z"
   },
   {
    "duration": 48,
    "start_time": "2022-08-15T13:52:24.886Z"
   },
   {
    "duration": 21,
    "start_time": "2022-08-15T13:52:24.936Z"
   },
   {
    "duration": 39,
    "start_time": "2022-08-15T13:52:24.959Z"
   },
   {
    "duration": 37,
    "start_time": "2022-08-15T13:52:25.000Z"
   },
   {
    "duration": 49,
    "start_time": "2022-08-15T13:52:25.040Z"
   },
   {
    "duration": 11,
    "start_time": "2022-08-15T13:52:25.091Z"
   },
   {
    "duration": 16,
    "start_time": "2022-08-15T13:52:25.103Z"
   },
   {
    "duration": 19,
    "start_time": "2022-08-15T13:52:25.121Z"
   },
   {
    "duration": 127,
    "start_time": "2022-08-15T13:52:25.142Z"
   },
   {
    "duration": 7,
    "start_time": "2022-08-15T13:52:25.271Z"
   },
   {
    "duration": 37,
    "start_time": "2022-08-15T13:52:25.279Z"
   },
   {
    "duration": 211,
    "start_time": "2022-08-15T13:52:25.318Z"
   },
   {
    "duration": 16,
    "start_time": "2022-08-15T13:52:25.530Z"
   },
   {
    "duration": 142,
    "start_time": "2022-08-15T13:52:25.550Z"
   },
   {
    "duration": 22,
    "start_time": "2022-08-15T13:52:25.700Z"
   },
   {
    "duration": 219,
    "start_time": "2022-08-15T13:52:25.723Z"
   },
   {
    "duration": 203,
    "start_time": "2022-08-15T13:52:25.944Z"
   },
   {
    "duration": 8,
    "start_time": "2022-08-15T13:52:26.148Z"
   },
   {
    "duration": 253,
    "start_time": "2022-08-15T13:52:26.158Z"
   },
   {
    "duration": 16,
    "start_time": "2022-08-15T13:52:26.413Z"
   },
   {
    "duration": 44,
    "start_time": "2022-08-15T13:52:26.431Z"
   },
   {
    "duration": 9125,
    "start_time": "2022-08-15T13:52:26.477Z"
   },
   {
    "duration": 6,
    "start_time": "2022-08-15T13:52:35.604Z"
   },
   {
    "duration": 18,
    "start_time": "2022-08-15T13:52:35.611Z"
   },
   {
    "duration": 137,
    "start_time": "2022-08-15T13:52:35.631Z"
   },
   {
    "duration": 12,
    "start_time": "2022-08-15T13:52:35.770Z"
   },
   {
    "duration": 23,
    "start_time": "2022-08-15T13:52:35.784Z"
   },
   {
    "duration": 15,
    "start_time": "2022-08-15T13:52:35.809Z"
   },
   {
    "duration": 249,
    "start_time": "2022-08-15T13:52:35.826Z"
   },
   {
    "duration": 4,
    "start_time": "2022-08-15T13:52:36.077Z"
   },
   {
    "duration": 18,
    "start_time": "2022-08-15T13:52:36.083Z"
   },
   {
    "duration": 39,
    "start_time": "2022-08-15T13:52:36.102Z"
   },
   {
    "duration": 1932,
    "start_time": "2022-08-15T13:52:36.144Z"
   },
   {
    "duration": 16,
    "start_time": "2022-08-15T13:52:38.078Z"
   },
   {
    "duration": 21,
    "start_time": "2022-08-15T13:52:38.096Z"
   },
   {
    "duration": 86,
    "start_time": "2022-08-15T13:52:38.119Z"
   },
   {
    "duration": 58,
    "start_time": "2022-08-15T13:52:38.207Z"
   },
   {
    "duration": 30,
    "start_time": "2022-08-15T13:52:38.267Z"
   },
   {
    "duration": 11,
    "start_time": "2022-08-15T13:52:38.299Z"
   },
   {
    "duration": 14,
    "start_time": "2022-08-15T13:52:38.312Z"
   },
   {
    "duration": 1562,
    "start_time": "2022-08-16T11:16:44.336Z"
   },
   {
    "duration": 268,
    "start_time": "2022-08-16T11:16:45.900Z"
   },
   {
    "duration": 14,
    "start_time": "2022-08-16T11:16:46.169Z"
   },
   {
    "duration": 14,
    "start_time": "2022-08-16T11:16:46.185Z"
   },
   {
    "duration": 9,
    "start_time": "2022-08-16T11:16:46.201Z"
   },
   {
    "duration": 18,
    "start_time": "2022-08-16T11:16:46.213Z"
   },
   {
    "duration": 12,
    "start_time": "2022-08-16T11:16:46.232Z"
   },
   {
    "duration": 21,
    "start_time": "2022-08-16T11:16:46.246Z"
   },
   {
    "duration": 10,
    "start_time": "2022-08-16T11:16:46.268Z"
   },
   {
    "duration": 28,
    "start_time": "2022-08-16T11:16:46.279Z"
   },
   {
    "duration": 8,
    "start_time": "2022-08-16T11:16:46.309Z"
   },
   {
    "duration": 31,
    "start_time": "2022-08-16T11:16:46.319Z"
   },
   {
    "duration": 11,
    "start_time": "2022-08-16T11:16:46.352Z"
   },
   {
    "duration": 10,
    "start_time": "2022-08-16T11:16:46.367Z"
   },
   {
    "duration": 66,
    "start_time": "2022-08-16T11:16:46.380Z"
   },
   {
    "duration": 10,
    "start_time": "2022-08-16T11:16:46.449Z"
   },
   {
    "duration": 21,
    "start_time": "2022-08-16T11:16:46.461Z"
   },
   {
    "duration": 23,
    "start_time": "2022-08-16T11:16:46.484Z"
   },
   {
    "duration": 24,
    "start_time": "2022-08-16T11:16:46.509Z"
   },
   {
    "duration": 10,
    "start_time": "2022-08-16T11:16:46.534Z"
   },
   {
    "duration": 10,
    "start_time": "2022-08-16T11:16:46.546Z"
   },
   {
    "duration": 6,
    "start_time": "2022-08-16T11:16:46.558Z"
   },
   {
    "duration": 176,
    "start_time": "2022-08-16T11:16:46.566Z"
   },
   {
    "duration": 6,
    "start_time": "2022-08-16T11:16:46.743Z"
   },
   {
    "duration": 21,
    "start_time": "2022-08-16T11:16:46.750Z"
   },
   {
    "duration": 276,
    "start_time": "2022-08-16T11:16:46.773Z"
   },
   {
    "duration": 17,
    "start_time": "2022-08-16T11:16:47.051Z"
   },
   {
    "duration": 164,
    "start_time": "2022-08-16T11:16:47.069Z"
   },
   {
    "duration": 25,
    "start_time": "2022-08-16T11:16:47.234Z"
   },
   {
    "duration": 285,
    "start_time": "2022-08-16T11:16:47.261Z"
   },
   {
    "duration": 261,
    "start_time": "2022-08-16T11:16:47.548Z"
   },
   {
    "duration": 11,
    "start_time": "2022-08-16T11:16:47.811Z"
   },
   {
    "duration": 334,
    "start_time": "2022-08-16T11:16:47.824Z"
   },
   {
    "duration": 11,
    "start_time": "2022-08-16T11:16:48.160Z"
   },
   {
    "duration": 51,
    "start_time": "2022-08-16T11:16:48.173Z"
   },
   {
    "duration": 9817,
    "start_time": "2022-08-16T11:16:48.227Z"
   },
   {
    "duration": 6,
    "start_time": "2022-08-16T11:16:58.047Z"
   },
   {
    "duration": 18,
    "start_time": "2022-08-16T11:16:58.055Z"
   },
   {
    "duration": 123,
    "start_time": "2022-08-16T11:16:58.075Z"
   },
   {
    "duration": 18,
    "start_time": "2022-08-16T11:16:58.203Z"
   },
   {
    "duration": 21,
    "start_time": "2022-08-16T11:16:58.226Z"
   },
   {
    "duration": 16,
    "start_time": "2022-08-16T11:16:58.249Z"
   },
   {
    "duration": 301,
    "start_time": "2022-08-16T11:16:58.267Z"
   },
   {
    "duration": 4,
    "start_time": "2022-08-16T11:16:58.570Z"
   },
   {
    "duration": 12,
    "start_time": "2022-08-16T11:16:58.576Z"
   },
   {
    "duration": 43,
    "start_time": "2022-08-16T11:16:58.590Z"
   },
   {
    "duration": 1203,
    "start_time": "2022-08-16T11:16:58.636Z"
   },
   {
    "duration": 15,
    "start_time": "2022-08-16T11:16:59.841Z"
   },
   {
    "duration": 20,
    "start_time": "2022-08-16T11:16:59.858Z"
   },
   {
    "duration": 15,
    "start_time": "2022-08-16T11:16:59.880Z"
   },
   {
    "duration": 22,
    "start_time": "2022-08-16T11:16:59.903Z"
   },
   {
    "duration": 14,
    "start_time": "2022-08-16T11:16:59.927Z"
   },
   {
    "duration": 9,
    "start_time": "2022-08-16T11:16:59.943Z"
   },
   {
    "duration": 11,
    "start_time": "2022-08-16T11:16:59.953Z"
   },
   {
    "duration": 14,
    "start_time": "2022-08-16T11:20:37.990Z"
   },
   {
    "duration": 53,
    "start_time": "2022-08-16T16:53:44.496Z"
   },
   {
    "duration": 1649,
    "start_time": "2022-08-16T16:53:50.943Z"
   },
   {
    "duration": 127,
    "start_time": "2022-08-16T16:53:52.595Z"
   },
   {
    "duration": 19,
    "start_time": "2022-08-16T16:53:52.725Z"
   },
   {
    "duration": 23,
    "start_time": "2022-08-16T16:53:52.747Z"
   },
   {
    "duration": 5,
    "start_time": "2022-08-16T16:53:52.773Z"
   },
   {
    "duration": 7,
    "start_time": "2022-08-16T16:53:52.781Z"
   },
   {
    "duration": 9,
    "start_time": "2022-08-16T16:53:52.790Z"
   },
   {
    "duration": 18,
    "start_time": "2022-08-16T16:53:52.801Z"
   },
   {
    "duration": 47,
    "start_time": "2022-08-16T16:53:52.821Z"
   },
   {
    "duration": 23,
    "start_time": "2022-08-16T16:53:52.871Z"
   },
   {
    "duration": 5,
    "start_time": "2022-08-16T16:53:52.897Z"
   },
   {
    "duration": 16,
    "start_time": "2022-08-16T16:53:52.905Z"
   },
   {
    "duration": 17,
    "start_time": "2022-08-16T16:53:52.923Z"
   },
   {
    "duration": 10,
    "start_time": "2022-08-16T16:53:52.967Z"
   },
   {
    "duration": 41,
    "start_time": "2022-08-16T16:53:52.979Z"
   },
   {
    "duration": 12,
    "start_time": "2022-08-16T16:53:53.023Z"
   },
   {
    "duration": 42,
    "start_time": "2022-08-16T16:53:53.037Z"
   },
   {
    "duration": 20,
    "start_time": "2022-08-16T16:53:53.081Z"
   },
   {
    "duration": 32,
    "start_time": "2022-08-16T16:53:53.103Z"
   },
   {
    "duration": 41,
    "start_time": "2022-08-16T16:53:53.137Z"
   },
   {
    "duration": 5,
    "start_time": "2022-08-16T16:53:53.180Z"
   },
   {
    "duration": 9,
    "start_time": "2022-08-16T16:53:53.187Z"
   },
   {
    "duration": 181,
    "start_time": "2022-08-16T16:53:53.198Z"
   },
   {
    "duration": 7,
    "start_time": "2022-08-16T16:53:53.380Z"
   },
   {
    "duration": 23,
    "start_time": "2022-08-16T16:53:53.389Z"
   },
   {
    "duration": 304,
    "start_time": "2022-08-16T16:53:53.414Z"
   },
   {
    "duration": 26,
    "start_time": "2022-08-16T16:53:53.721Z"
   },
   {
    "duration": 165,
    "start_time": "2022-08-16T16:53:53.768Z"
   },
   {
    "duration": 43,
    "start_time": "2022-08-16T16:53:53.936Z"
   },
   {
    "duration": 271,
    "start_time": "2022-08-16T16:53:53.981Z"
   },
   {
    "duration": 271,
    "start_time": "2022-08-16T16:53:54.254Z"
   },
   {
    "duration": 10,
    "start_time": "2022-08-16T16:53:54.527Z"
   },
   {
    "duration": 154,
    "start_time": "2022-08-16T16:53:54.539Z"
   },
   {
    "duration": 0,
    "start_time": "2022-08-16T16:53:54.695Z"
   },
   {
    "duration": 0,
    "start_time": "2022-08-16T16:53:54.697Z"
   },
   {
    "duration": 0,
    "start_time": "2022-08-16T16:53:54.698Z"
   },
   {
    "duration": 0,
    "start_time": "2022-08-16T16:53:54.699Z"
   },
   {
    "duration": 0,
    "start_time": "2022-08-16T16:53:54.700Z"
   },
   {
    "duration": 0,
    "start_time": "2022-08-16T16:53:54.700Z"
   },
   {
    "duration": 0,
    "start_time": "2022-08-16T16:53:54.701Z"
   },
   {
    "duration": 0,
    "start_time": "2022-08-16T16:53:54.702Z"
   },
   {
    "duration": 0,
    "start_time": "2022-08-16T16:53:54.704Z"
   },
   {
    "duration": 0,
    "start_time": "2022-08-16T16:53:54.705Z"
   },
   {
    "duration": 0,
    "start_time": "2022-08-16T16:53:54.706Z"
   },
   {
    "duration": 0,
    "start_time": "2022-08-16T16:53:54.707Z"
   },
   {
    "duration": 0,
    "start_time": "2022-08-16T16:53:54.708Z"
   },
   {
    "duration": 0,
    "start_time": "2022-08-16T16:53:54.709Z"
   },
   {
    "duration": 0,
    "start_time": "2022-08-16T16:53:54.710Z"
   },
   {
    "duration": 0,
    "start_time": "2022-08-16T16:53:54.711Z"
   },
   {
    "duration": 0,
    "start_time": "2022-08-16T16:53:54.712Z"
   },
   {
    "duration": 0,
    "start_time": "2022-08-16T16:53:54.713Z"
   },
   {
    "duration": 0,
    "start_time": "2022-08-16T16:53:54.714Z"
   },
   {
    "duration": 0,
    "start_time": "2022-08-16T16:53:54.715Z"
   },
   {
    "duration": 0,
    "start_time": "2022-08-16T16:53:54.716Z"
   },
   {
    "duration": 26,
    "start_time": "2022-08-16T16:54:42.815Z"
   },
   {
    "duration": 13,
    "start_time": "2022-08-16T16:55:13.128Z"
   },
   {
    "duration": 16,
    "start_time": "2022-08-16T17:03:30.106Z"
   },
   {
    "duration": 212,
    "start_time": "2022-08-16T17:04:07.210Z"
   },
   {
    "duration": 268,
    "start_time": "2022-08-16T17:12:37.745Z"
   },
   {
    "duration": 230,
    "start_time": "2022-08-16T17:12:58.046Z"
   },
   {
    "duration": 214,
    "start_time": "2022-08-16T17:16:30.296Z"
   },
   {
    "duration": 220,
    "start_time": "2022-08-16T17:16:40.353Z"
   },
   {
    "duration": 5,
    "start_time": "2022-08-16T17:20:16.158Z"
   },
   {
    "duration": 229,
    "start_time": "2022-08-16T17:20:32.109Z"
   },
   {
    "duration": 4,
    "start_time": "2022-08-16T17:20:34.511Z"
   },
   {
    "duration": 5,
    "start_time": "2022-08-16T17:21:45.734Z"
   },
   {
    "duration": 4,
    "start_time": "2022-08-16T18:10:15.867Z"
   },
   {
    "duration": 335,
    "start_time": "2022-08-16T18:40:54.727Z"
   },
   {
    "duration": 1229,
    "start_time": "2022-08-16T18:41:44.560Z"
   },
   {
    "duration": 69,
    "start_time": "2022-08-16T18:41:45.791Z"
   },
   {
    "duration": 13,
    "start_time": "2022-08-16T18:41:45.862Z"
   },
   {
    "duration": 12,
    "start_time": "2022-08-16T18:41:45.877Z"
   },
   {
    "duration": 4,
    "start_time": "2022-08-16T18:41:45.890Z"
   },
   {
    "duration": 5,
    "start_time": "2022-08-16T18:41:45.895Z"
   },
   {
    "duration": 5,
    "start_time": "2022-08-16T18:41:45.902Z"
   },
   {
    "duration": 14,
    "start_time": "2022-08-16T18:41:45.909Z"
   },
   {
    "duration": 7,
    "start_time": "2022-08-16T18:41:45.924Z"
   },
   {
    "duration": 47,
    "start_time": "2022-08-16T18:41:45.933Z"
   },
   {
    "duration": 4,
    "start_time": "2022-08-16T18:41:45.982Z"
   },
   {
    "duration": 14,
    "start_time": "2022-08-16T18:41:45.988Z"
   },
   {
    "duration": 11,
    "start_time": "2022-08-16T18:41:46.004Z"
   },
   {
    "duration": 9,
    "start_time": "2022-08-16T18:41:46.017Z"
   },
   {
    "duration": 59,
    "start_time": "2022-08-16T18:41:46.028Z"
   },
   {
    "duration": 9,
    "start_time": "2022-08-16T18:41:46.089Z"
   },
   {
    "duration": 17,
    "start_time": "2022-08-16T18:41:46.100Z"
   },
   {
    "duration": 15,
    "start_time": "2022-08-16T18:41:46.119Z"
   },
   {
    "duration": 46,
    "start_time": "2022-08-16T18:41:46.136Z"
   },
   {
    "duration": 9,
    "start_time": "2022-08-16T18:41:46.183Z"
   },
   {
    "duration": 4,
    "start_time": "2022-08-16T18:41:46.194Z"
   },
   {
    "duration": 6,
    "start_time": "2022-08-16T18:41:46.200Z"
   },
   {
    "duration": 150,
    "start_time": "2022-08-16T18:41:46.207Z"
   },
   {
    "duration": 12,
    "start_time": "2022-08-16T18:41:46.359Z"
   },
   {
    "duration": 19,
    "start_time": "2022-08-16T18:41:46.373Z"
   },
   {
    "duration": 268,
    "start_time": "2022-08-16T18:41:46.393Z"
   },
   {
    "duration": 22,
    "start_time": "2022-08-16T18:41:46.663Z"
   },
   {
    "duration": 160,
    "start_time": "2022-08-16T18:41:46.690Z"
   },
   {
    "duration": 26,
    "start_time": "2022-08-16T18:41:46.852Z"
   },
   {
    "duration": 232,
    "start_time": "2022-08-16T18:41:46.879Z"
   },
   {
    "duration": 216,
    "start_time": "2022-08-16T18:41:47.113Z"
   },
   {
    "duration": 8,
    "start_time": "2022-08-16T18:41:47.331Z"
   },
   {
    "duration": 218,
    "start_time": "2022-08-16T18:41:47.341Z"
   },
   {
    "duration": 4,
    "start_time": "2022-08-16T18:41:47.567Z"
   },
   {
    "duration": 14,
    "start_time": "2022-08-16T18:41:47.572Z"
   },
   {
    "duration": 26,
    "start_time": "2022-08-16T18:41:47.587Z"
   },
   {
    "duration": 8374,
    "start_time": "2022-08-16T18:41:47.614Z"
   },
   {
    "duration": 5,
    "start_time": "2022-08-16T18:41:55.990Z"
   },
   {
    "duration": 16,
    "start_time": "2022-08-16T18:41:55.997Z"
   },
   {
    "duration": 113,
    "start_time": "2022-08-16T18:41:56.015Z"
   },
   {
    "duration": 13,
    "start_time": "2022-08-16T18:41:56.130Z"
   },
   {
    "duration": 31,
    "start_time": "2022-08-16T18:41:56.145Z"
   },
   {
    "duration": 15,
    "start_time": "2022-08-16T18:41:56.178Z"
   },
   {
    "duration": 255,
    "start_time": "2022-08-16T18:41:56.195Z"
   },
   {
    "duration": 4,
    "start_time": "2022-08-16T18:41:56.452Z"
   },
   {
    "duration": 18,
    "start_time": "2022-08-16T18:41:56.457Z"
   },
   {
    "duration": 40,
    "start_time": "2022-08-16T18:41:56.478Z"
   },
   {
    "duration": 1132,
    "start_time": "2022-08-16T18:41:56.521Z"
   },
   {
    "duration": 14,
    "start_time": "2022-08-16T18:41:57.655Z"
   },
   {
    "duration": 15,
    "start_time": "2022-08-16T18:41:57.671Z"
   },
   {
    "duration": 14,
    "start_time": "2022-08-16T18:41:57.688Z"
   },
   {
    "duration": 13,
    "start_time": "2022-08-16T18:41:57.704Z"
   },
   {
    "duration": 9,
    "start_time": "2022-08-16T18:41:57.718Z"
   },
   {
    "duration": 8,
    "start_time": "2022-08-16T18:41:57.728Z"
   },
   {
    "duration": 37,
    "start_time": "2022-08-16T18:41:57.738Z"
   }
  ],
  "kernelspec": {
   "display_name": "Python 3 (ipykernel)",
   "language": "python",
   "name": "python3"
  },
  "language_info": {
   "codemirror_mode": {
    "name": "ipython",
    "version": 3
   },
   "file_extension": ".py",
   "mimetype": "text/x-python",
   "name": "python",
   "nbconvert_exporter": "python",
   "pygments_lexer": "ipython3",
   "version": "3.9.12"
  },
  "toc": {
   "base_numbering": 1,
   "nav_menu": {},
   "number_sections": true,
   "sideBar": true,
   "skip_h1_title": true,
   "title_cell": "Table of Contents",
   "title_sidebar": "Contents",
   "toc_cell": false,
   "toc_position": {},
   "toc_section_display": true,
   "toc_window_display": false
  }
 },
 "nbformat": 4,
 "nbformat_minor": 2
}
